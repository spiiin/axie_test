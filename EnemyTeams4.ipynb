{
 "cells": [
  {
   "cell_type": "code",
   "execution_count": 1,
   "metadata": {
    "scrolled": true
   },
   "outputs": [],
   "source": [
    "import requests, json, time, os\n",
    "from collections import Counter\n",
    "from IPython.core.display import display, HTML"
   ]
  },
  {
   "cell_type": "code",
   "execution_count": 2,
   "metadata": {
    "scrolled": true
   },
   "outputs": [],
   "source": [
    "pathToBattles = r\"~\\AppData\\LocalLow\\Sky Mavis\\Axie Infinity\\production-battleHistoriesState\"\n",
    "pathToBattles = os.path.expanduser(pathToBattles)"
   ]
  },
  {
   "cell_type": "code",
   "execution_count": 3,
   "metadata": {
    "scrolled": true
   },
   "outputs": [],
   "source": [
    "with open(pathToBattles, \"rt\") as f:\n",
    "    data = json.load(f)\n",
    "battles = data[\"battles\"]\n",
    "\n",
    "teams = {}\n",
    "for battle in battles:\n",
    "    if battle[\"battleType\"] == 1:\n",
    "        first = battle[\"firstClientId\"]\n",
    "        second = battle[\"secondClientId\"]\n",
    "        enemyNo = first == my and  1 or 0\n",
    "        enemyId = first == my and second or first\n",
    "        team = []\n",
    "        for fighter in battle[\"fighters\"]:\n",
    "            if fighter[\"teamIndex\"] == enemyNo:\n",
    "                team.append(fighter[\"id\"])\n",
    "        teams[enemyId] = team"
   ]
  },
  {
   "cell_type": "code",
   "execution_count": 4,
   "metadata": {
    "scrolled": true
   },
   "outputs": [],
   "source": [
    "#for enemy, team in teams.items():\n",
    "#    print(enemy, team)"
   ]
  },
  {
   "cell_type": "code",
   "execution_count": 5,
   "metadata": {
    "scrolled": true
   },
   "outputs": [],
   "source": [
    "from python_graphql_client import GraphqlClient\n",
    "client = GraphqlClient(endpoint=\"https://graphql-gateway.axieinfinity.com/graphql\")"
   ]
  },
  {
   "cell_type": "code",
   "execution_count": 6,
   "metadata": {
    "scrolled": true
   },
   "outputs": [],
   "source": [
    "def getProfileData(address):\n",
    "    query = \"\"\"query GetProfileByRoninAddress($roninAddress: String!) {\\n  publicProfileWithRoninAddress(roninAddress: $roninAddress) {\\n    ...Profile\\n    __typename\\n  }\\n}\\n\\nfragment Profile on PublicProfile {\\n  accountId\\n  name\\n  addresses {\\n    ...Addresses\\n    __typename\\n  }\\n  __typename\\n}\\n\\nfragment Addresses on NetAddresses {\\n  ethereum\\n  tomo\\n  loom\\n  ronin\\n  __typename\\n}\\n\"\"\"\n",
    "    variables = {\"roninAddress\": address}\n",
    "    data = client.execute(query=query, variables=variables)\n",
    "    return data"
   ]
  },
  {
   "cell_type": "code",
   "execution_count": null,
   "metadata": {
    "scrolled": true
   },
   "outputs": [
    {
     "name": "stdout",
     "output_type": "stream",
     "text": [
      "97\n"
     ]
    }
   ],
   "source": [
    "mmr_addr = \"https://game-api.axie.technology/mmr/\"\n",
    "addresses = list(teams.keys())\n",
    "print(len(addresses))\n",
    "answer = []\n",
    "for i in range(len(addresses)//10+1):\n",
    "    mmr_addrs = addresses[i*10:i*10+10]\n",
    "    if len(mmr_addrs) > 0:\n",
    "        mmr_req = mmr_addr + \",\".join(mmr_addrs)\n",
    "        #print(mmr_req)\n",
    "        #try:\n",
    "        data = requests.get(mmr_req).json()\n",
    "        for result in data:\n",
    "            if \"items\" in result:\n",
    "                for item in result[\"items\"]:\n",
    "                    if item[\"client_id\"] in mmr_addrs:\n",
    "                        client_id = item[\"client_id\"]\n",
    "                        elo = item[\"elo\"]\n",
    "                        rank = item[\"rank\"]\n",
    "                        name = item[\"name\"]\n",
    "                        answer.append([client_id, elo, rank, name])\n",
    "    time.sleep(3.0)"
   ]
  },
  {
   "cell_type": "code",
   "execution_count": 8,
   "metadata": {
    "scrolled": true
   },
   "outputs": [],
   "source": [
    "answer.sort(key = lambda x: -x[1])"
   ]
  },
  {
   "cell_type": "code",
   "execution_count": 9,
   "metadata": {
    "scrolled": true
   },
   "outputs": [],
   "source": [
    "example_link = \"https://marketplace.axieinfinity.com/axie/\"\n",
    "def displayAxies(axieList, axieImages, displayLink):\n",
    "    lines = []\n",
    "    for axie, img in zip(axieList, axieImages):\n",
    "        link = example_link + str(axie)\n",
    "        if displayLink:\n",
    "            print(link)\n",
    "        lines.append('<a href=\"%s\" target=\"_blank\" rel=\"noopener noreferrer\"><img src=\"%s\" width=128 height=128 style=\"display:inline; margin:1px\"/></a>'%(link,img))\n",
    "    display(HTML(\"\".join(lines)))"
   ]
  },
  {
   "cell_type": "code",
   "execution_count": 10,
   "metadata": {
    "scrolled": false
   },
   "outputs": [
    {
     "name": "stdout",
     "output_type": "stream",
     "text": [
      "https://marketplace.axieinfinity.com/profile/ronin:2051f4f759a77b29be2cd25c3d143627aaed20b2/axie/ 2631 4988 Ali_aqm\n"
     ]
    },
    {
     "data": {
      "text/html": [
       "<a href=\"https://marketplace.axieinfinity.com/axie/9435888\" target=\"_blank\" rel=\"noopener noreferrer\"><img src=\"https://storage.googleapis.com/assets.axieinfinity.com/axies/9435888/axie/axie-full-transparent.png\" width=128 height=128 style=\"display:inline; margin:1px\"/></a><a href=\"https://marketplace.axieinfinity.com/axie/9776033\" target=\"_blank\" rel=\"noopener noreferrer\"><img src=\"https://storage.googleapis.com/assets.axieinfinity.com/axies/9776033/axie/axie-full-transparent.png\" width=128 height=128 style=\"display:inline; margin:1px\"/></a><a href=\"https://marketplace.axieinfinity.com/axie/9826688\" target=\"_blank\" rel=\"noopener noreferrer\"><img src=\"https://storage.googleapis.com/assets.axieinfinity.com/axies/9826688/axie/axie-full-transparent.png\" width=128 height=128 style=\"display:inline; margin:1px\"/></a>"
      ],
      "text/plain": [
       "<IPython.core.display.HTML object>"
      ]
     },
     "metadata": {},
     "output_type": "display_data"
    },
    {
     "name": "stdout",
     "output_type": "stream",
     "text": [
      "https://marketplace.axieinfinity.com/profile/ronin:14a3d719bffd544560f68c25b5b76056bebac43c/axie/ 2630 5016 Kevdog20\n"
     ]
    },
    {
     "data": {
      "text/html": [
       "<a href=\"https://marketplace.axieinfinity.com/axie/6178126\" target=\"_blank\" rel=\"noopener noreferrer\"><img src=\"https://storage.googleapis.com/assets.axieinfinity.com/axies/6178126/axie/axie-full-transparent.png\" width=128 height=128 style=\"display:inline; margin:1px\"/></a><a href=\"https://marketplace.axieinfinity.com/axie/9749839\" target=\"_blank\" rel=\"noopener noreferrer\"><img src=\"https://storage.googleapis.com/assets.axieinfinity.com/axies/9749839/axie/axie-full-transparent.png\" width=128 height=128 style=\"display:inline; margin:1px\"/></a><a href=\"https://marketplace.axieinfinity.com/axie/10056302\" target=\"_blank\" rel=\"noopener noreferrer\"><img src=\"https://storage.googleapis.com/assets.axieinfinity.com/axies/10056302/axie/axie-full-transparent.png\" width=128 height=128 style=\"display:inline; margin:1px\"/></a>"
      ],
      "text/plain": [
       "<IPython.core.display.HTML object>"
      ]
     },
     "metadata": {},
     "output_type": "display_data"
    },
    {
     "name": "stdout",
     "output_type": "stream",
     "text": [
      "https://marketplace.axieinfinity.com/profile/ronin:128427e1efd4ddd82ae9fb2213e6f9ef4adea1de/axie/ 2616 5341 Nestor | GeForce\n"
     ]
    },
    {
     "data": {
      "text/html": [
       "<a href=\"https://marketplace.axieinfinity.com/axie/4007126\" target=\"_blank\" rel=\"noopener noreferrer\"><img src=\"https://storage.googleapis.com/assets.axieinfinity.com/axies/4007126/axie/axie-full-transparent.png\" width=128 height=128 style=\"display:inline; margin:1px\"/></a><a href=\"https://marketplace.axieinfinity.com/axie/4622280\" target=\"_blank\" rel=\"noopener noreferrer\"><img src=\"https://storage.googleapis.com/assets.axieinfinity.com/axies/4622280/axie/axie-full-transparent.png\" width=128 height=128 style=\"display:inline; margin:1px\"/></a><a href=\"https://marketplace.axieinfinity.com/axie/5965644\" target=\"_blank\" rel=\"noopener noreferrer\"><img src=\"https://storage.googleapis.com/assets.axieinfinity.com/axies/5965644/axie/axie-full-transparent.png\" width=128 height=128 style=\"display:inline; margin:1px\"/></a>"
      ],
      "text/plain": [
       "<IPython.core.display.HTML object>"
      ]
     },
     "metadata": {},
     "output_type": "display_data"
    },
    {
     "name": "stdout",
     "output_type": "stream",
     "text": [
      "https://marketplace.axieinfinity.com/profile/ronin:8b49bb66a68bd4cb0532745775effa6fef2852fc/axie/ 2601 5744 Davsp\n"
     ]
    },
    {
     "data": {
      "text/html": [
       "<a href=\"https://marketplace.axieinfinity.com/axie/7059407\" target=\"_blank\" rel=\"noopener noreferrer\"><img src=\"https://storage.googleapis.com/assets.axieinfinity.com/axies/7059407/axie/axie-full-transparent.png\" width=128 height=128 style=\"display:inline; margin:1px\"/></a><a href=\"https://marketplace.axieinfinity.com/axie/7496725\" target=\"_blank\" rel=\"noopener noreferrer\"><img src=\"https://storage.googleapis.com/assets.axieinfinity.com/axies/7496725/axie/axie-full-transparent.png\" width=128 height=128 style=\"display:inline; margin:1px\"/></a><a href=\"https://marketplace.axieinfinity.com/axie/8734532\" target=\"_blank\" rel=\"noopener noreferrer\"><img src=\"https://storage.googleapis.com/assets.axieinfinity.com/axies/8734532/axie/axie-full-transparent.png\" width=128 height=128 style=\"display:inline; margin:1px\"/></a>"
      ],
      "text/plain": [
       "<IPython.core.display.HTML object>"
      ]
     },
     "metadata": {},
     "output_type": "display_data"
    },
    {
     "name": "stdout",
     "output_type": "stream",
     "text": [
      "https://marketplace.axieinfinity.com/profile/ronin:762a029044e7880b4b6021a69a33bac56729fa5c/axie/ 2579 6403 Lunacian #19687758 B Beldad\n"
     ]
    },
    {
     "data": {
      "text/html": [
       "<a href=\"https://marketplace.axieinfinity.com/axie/9250986\" target=\"_blank\" rel=\"noopener noreferrer\"><img src=\"https://storage.googleapis.com/assets.axieinfinity.com/axies/9250986/axie/axie-full-transparent.png\" width=128 height=128 style=\"display:inline; margin:1px\"/></a><a href=\"https://marketplace.axieinfinity.com/axie/9392088\" target=\"_blank\" rel=\"noopener noreferrer\"><img src=\"https://storage.googleapis.com/assets.axieinfinity.com/axies/9392088/axie/axie-full-transparent.png\" width=128 height=128 style=\"display:inline; margin:1px\"/></a><a href=\"https://marketplace.axieinfinity.com/axie/9438914\" target=\"_blank\" rel=\"noopener noreferrer\"><img src=\"https://storage.googleapis.com/assets.axieinfinity.com/axies/9438914/axie/axie-full-transparent.png\" width=128 height=128 style=\"display:inline; margin:1px\"/></a>"
      ],
      "text/plain": [
       "<IPython.core.display.HTML object>"
      ]
     },
     "metadata": {},
     "output_type": "display_data"
    },
    {
     "name": "stdout",
     "output_type": "stream",
     "text": [
      "https://marketplace.axieinfinity.com/profile/ronin:fe6e109e718763970f216e68e2e82a62ce2abe4d/axie/ 2553 7236 Yuki | DBAA\n"
     ]
    },
    {
     "data": {
      "text/html": [
       "<a href=\"https://marketplace.axieinfinity.com/axie/8991439\" target=\"_blank\" rel=\"noopener noreferrer\"><img src=\"https://storage.googleapis.com/assets.axieinfinity.com/axies/8991439/axie/axie-full-transparent.png\" width=128 height=128 style=\"display:inline; margin:1px\"/></a><a href=\"https://marketplace.axieinfinity.com/axie/9789392\" target=\"_blank\" rel=\"noopener noreferrer\"><img src=\"https://storage.googleapis.com/assets.axieinfinity.com/axies/9789392/axie/axie-full-transparent.png\" width=128 height=128 style=\"display:inline; margin:1px\"/></a><a href=\"https://marketplace.axieinfinity.com/axie/9901314\" target=\"_blank\" rel=\"noopener noreferrer\"><img src=\"https://storage.googleapis.com/assets.axieinfinity.com/axies/9901314/axie/axie-full-transparent.png\" width=128 height=128 style=\"display:inline; margin:1px\"/></a>"
      ],
      "text/plain": [
       "<IPython.core.display.HTML object>"
      ]
     },
     "metadata": {},
     "output_type": "display_data"
    },
    {
     "name": "stdout",
     "output_type": "stream",
     "text": [
      "https://marketplace.axieinfinity.com/profile/ronin:3b3cfa4887ac2154355f378efb96fe42193a1bc8/axie/ 2546 7493 Tavares | MET #1\n"
     ]
    },
    {
     "data": {
      "text/html": [
       "<a href=\"https://marketplace.axieinfinity.com/axie/9298693\" target=\"_blank\" rel=\"noopener noreferrer\"><img src=\"https://storage.googleapis.com/assets.axieinfinity.com/axies/9298693/axie/axie-full-transparent.png\" width=128 height=128 style=\"display:inline; margin:1px\"/></a><a href=\"https://marketplace.axieinfinity.com/axie/9375359\" target=\"_blank\" rel=\"noopener noreferrer\"><img src=\"https://storage.googleapis.com/assets.axieinfinity.com/axies/9375359/axie/axie-full-transparent.png\" width=128 height=128 style=\"display:inline; margin:1px\"/></a><a href=\"https://marketplace.axieinfinity.com/axie/9463798\" target=\"_blank\" rel=\"noopener noreferrer\"><img src=\"https://storage.googleapis.com/assets.axieinfinity.com/axies/9463798/axie/axie-full-transparent.png\" width=128 height=128 style=\"display:inline; margin:1px\"/></a>"
      ],
      "text/plain": [
       "<IPython.core.display.HTML object>"
      ]
     },
     "metadata": {},
     "output_type": "display_data"
    },
    {
     "name": "stdout",
     "output_type": "stream",
     "text": [
      "https://marketplace.axieinfinity.com/profile/ronin:946bbf70c305b195127079fe550ce5a2e82f635d/axie/ 2545 7539 Daniel Axie\n"
     ]
    },
    {
     "data": {
      "text/html": [
       "<a href=\"https://marketplace.axieinfinity.com/axie/8439593\" target=\"_blank\" rel=\"noopener noreferrer\"><img src=\"https://storage.googleapis.com/assets.axieinfinity.com/axies/8439593/axie/axie-full-transparent.png\" width=128 height=128 style=\"display:inline; margin:1px\"/></a><a href=\"https://marketplace.axieinfinity.com/axie/8525536\" target=\"_blank\" rel=\"noopener noreferrer\"><img src=\"https://storage.googleapis.com/assets.axieinfinity.com/axies/8525536/axie/axie-full-transparent.png\" width=128 height=128 style=\"display:inline; margin:1px\"/></a><a href=\"https://marketplace.axieinfinity.com/axie/8527472\" target=\"_blank\" rel=\"noopener noreferrer\"><img src=\"https://storage.googleapis.com/assets.axieinfinity.com/axies/8527472/axie/axie-full-transparent.png\" width=128 height=128 style=\"display:inline; margin:1px\"/></a>"
      ],
      "text/plain": [
       "<IPython.core.display.HTML object>"
      ]
     },
     "metadata": {},
     "output_type": "display_data"
    },
    {
     "name": "stdout",
     "output_type": "stream",
     "text": [
      "https://marketplace.axieinfinity.com/profile/ronin:c51837ab36ce457f82749a92ca48a3424f6652a7/axie/ 2543 7583 MattNava\n"
     ]
    },
    {
     "data": {
      "text/html": [
       "<a href=\"https://marketplace.axieinfinity.com/axie/4042680\" target=\"_blank\" rel=\"noopener noreferrer\"><img src=\"https://storage.googleapis.com/assets.axieinfinity.com/axies/4042680/axie/axie-full-transparent.png\" width=128 height=128 style=\"display:inline; margin:1px\"/></a><a href=\"https://marketplace.axieinfinity.com/axie/9769416\" target=\"_blank\" rel=\"noopener noreferrer\"><img src=\"https://storage.googleapis.com/assets.axieinfinity.com/axies/9769416/axie/axie-full-transparent.png\" width=128 height=128 style=\"display:inline; margin:1px\"/></a><a href=\"https://marketplace.axieinfinity.com/axie/9781724\" target=\"_blank\" rel=\"noopener noreferrer\"><img src=\"https://storage.googleapis.com/assets.axieinfinity.com/axies/9781724/axie/axie-full-transparent.png\" width=128 height=128 style=\"display:inline; margin:1px\"/></a>"
      ],
      "text/plain": [
       "<IPython.core.display.HTML object>"
      ]
     },
     "metadata": {},
     "output_type": "display_data"
    },
    {
     "name": "stdout",
     "output_type": "stream",
     "text": [
      "https://marketplace.axieinfinity.com/profile/ronin:8ac097379adab1b73b7271f926530444fcd50aa9/axie/ 2542 7637 M1rakulos\n"
     ]
    },
    {
     "data": {
      "text/html": [
       "<a href=\"https://marketplace.axieinfinity.com/axie/9387799\" target=\"_blank\" rel=\"noopener noreferrer\"><img src=\"https://storage.googleapis.com/assets.axieinfinity.com/axies/9387799/axie/axie-full-transparent.png\" width=128 height=128 style=\"display:inline; margin:1px\"/></a><a href=\"https://marketplace.axieinfinity.com/axie/9722360\" target=\"_blank\" rel=\"noopener noreferrer\"><img src=\"https://storage.googleapis.com/assets.axieinfinity.com/axies/9722360/axie/axie-full-transparent.png\" width=128 height=128 style=\"display:inline; margin:1px\"/></a><a href=\"https://marketplace.axieinfinity.com/axie/9897757\" target=\"_blank\" rel=\"noopener noreferrer\"><img src=\"https://storage.googleapis.com/assets.axieinfinity.com/axies/9897757/axie/axie-full-transparent.png\" width=128 height=128 style=\"display:inline; margin:1px\"/></a>"
      ],
      "text/plain": [
       "<IPython.core.display.HTML object>"
      ]
     },
     "metadata": {},
     "output_type": "display_data"
    },
    {
     "name": "stdout",
     "output_type": "stream",
     "text": [
      "https://marketplace.axieinfinity.com/profile/ronin:6f7431ed3eb5ba33ac197738f61ada9cce01c77e/axie/ 2533 7962 Manta | HT3 | 3\n"
     ]
    },
    {
     "data": {
      "text/html": [
       "<a href=\"https://marketplace.axieinfinity.com/axie/1686284\" target=\"_blank\" rel=\"noopener noreferrer\"><img src=\"https://storage.googleapis.com/assets.axieinfinity.com/axies/1686284/axie/axie-full-transparent.png\" width=128 height=128 style=\"display:inline; margin:1px\"/></a><a href=\"https://marketplace.axieinfinity.com/axie/2590978\" target=\"_blank\" rel=\"noopener noreferrer\"><img src=\"https://storage.googleapis.com/assets.axieinfinity.com/axies/2590978/axie/axie-full-transparent.png\" width=128 height=128 style=\"display:inline; margin:1px\"/></a><a href=\"https://marketplace.axieinfinity.com/axie/7320580\" target=\"_blank\" rel=\"noopener noreferrer\"><img src=\"https://storage.googleapis.com/assets.axieinfinity.com/axies/7320580/axie/axie-full-transparent.png\" width=128 height=128 style=\"display:inline; margin:1px\"/></a>"
      ],
      "text/plain": [
       "<IPython.core.display.HTML object>"
      ]
     },
     "metadata": {},
     "output_type": "display_data"
    },
    {
     "name": "stdout",
     "output_type": "stream",
     "text": [
      "https://marketplace.axieinfinity.com/profile/ronin:094951c95827aa40a40045ae033dfef31c7e6524/axie/ 2525 8236 Scorpio\n"
     ]
    },
    {
     "data": {
      "text/html": [
       "<a href=\"https://marketplace.axieinfinity.com/axie/9221930\" target=\"_blank\" rel=\"noopener noreferrer\"><img src=\"https://storage.googleapis.com/assets.axieinfinity.com/axies/9221930/axie/axie-full-transparent.png\" width=128 height=128 style=\"display:inline; margin:1px\"/></a><a href=\"https://marketplace.axieinfinity.com/axie/9670474\" target=\"_blank\" rel=\"noopener noreferrer\"><img src=\"https://storage.googleapis.com/assets.axieinfinity.com/axies/9670474/axie/axie-full-transparent.png\" width=128 height=128 style=\"display:inline; margin:1px\"/></a><a href=\"https://marketplace.axieinfinity.com/axie/9806379\" target=\"_blank\" rel=\"noopener noreferrer\"><img src=\"https://storage.googleapis.com/assets.axieinfinity.com/axies/9806379/axie/axie-full-transparent.png\" width=128 height=128 style=\"display:inline; margin:1px\"/></a>"
      ],
      "text/plain": [
       "<IPython.core.display.HTML object>"
      ]
     },
     "metadata": {},
     "output_type": "display_data"
    },
    {
     "name": "stdout",
     "output_type": "stream",
     "text": [
      "https://marketplace.axieinfinity.com/profile/ronin:507d1c9d421a08645c2953f0c1cf79fb88441b8a/axie/ 2524 8281 Lunacian #TeamLucK\n"
     ]
    },
    {
     "data": {
      "text/html": [
       "<a href=\"https://marketplace.axieinfinity.com/axie/8098695\" target=\"_blank\" rel=\"noopener noreferrer\"><img src=\"https://storage.googleapis.com/assets.axieinfinity.com/axies/8098695/axie/axie-full-transparent.png\" width=128 height=128 style=\"display:inline; margin:1px\"/></a><a href=\"https://marketplace.axieinfinity.com/axie/9818411\" target=\"_blank\" rel=\"noopener noreferrer\"><img src=\"https://storage.googleapis.com/assets.axieinfinity.com/axies/9818411/axie/axie-full-transparent.png\" width=128 height=128 style=\"display:inline; margin:1px\"/></a><a href=\"https://marketplace.axieinfinity.com/axie/9819969\" target=\"_blank\" rel=\"noopener noreferrer\"><img src=\"https://storage.googleapis.com/assets.axieinfinity.com/axies/9819969/axie/axie-full-transparent.png\" width=128 height=128 style=\"display:inline; margin:1px\"/></a>"
      ],
      "text/plain": [
       "<IPython.core.display.HTML object>"
      ]
     },
     "metadata": {},
     "output_type": "display_data"
    },
    {
     "name": "stdout",
     "output_type": "stream",
     "text": [
      "https://marketplace.axieinfinity.com/profile/ronin:8ee824bbe7bf8ce6533fedb763e87ff510f0ba14/axie/ 2517 8578 Turbocidal_CTG\n"
     ]
    },
    {
     "data": {
      "text/html": [
       "<a href=\"https://marketplace.axieinfinity.com/axie/7269039\" target=\"_blank\" rel=\"noopener noreferrer\"><img src=\"https://storage.googleapis.com/assets.axieinfinity.com/axies/7269039/axie/axie-full-transparent.png\" width=128 height=128 style=\"display:inline; margin:1px\"/></a><a href=\"https://marketplace.axieinfinity.com/axie/7847871\" target=\"_blank\" rel=\"noopener noreferrer\"><img src=\"https://storage.googleapis.com/assets.axieinfinity.com/axies/7847871/axie/axie-full-transparent.png\" width=128 height=128 style=\"display:inline; margin:1px\"/></a><a href=\"https://marketplace.axieinfinity.com/axie/10091523\" target=\"_blank\" rel=\"noopener noreferrer\"><img src=\"https://storage.googleapis.com/assets.axieinfinity.com/axies/10091523/axie/axie-full-transparent.png\" width=128 height=128 style=\"display:inline; margin:1px\"/></a>"
      ],
      "text/plain": [
       "<IPython.core.display.HTML object>"
      ]
     },
     "metadata": {},
     "output_type": "display_data"
    },
    {
     "name": "stdout",
     "output_type": "stream",
     "text": [
      "https://marketplace.axieinfinity.com/profile/ronin:fbe867eafe2234f936ec50a45bf1e8004aa125e4/axie/ 2516 8610 Lunacian #15702683\n"
     ]
    },
    {
     "data": {
      "text/html": [
       "<a href=\"https://marketplace.axieinfinity.com/axie/8659414\" target=\"_blank\" rel=\"noopener noreferrer\"><img src=\"https://storage.googleapis.com/assets.axieinfinity.com/axies/8659414/axie/axie-full-transparent.png\" width=128 height=128 style=\"display:inline; margin:1px\"/></a><a href=\"https://marketplace.axieinfinity.com/axie/8784557\" target=\"_blank\" rel=\"noopener noreferrer\"><img src=\"https://storage.googleapis.com/assets.axieinfinity.com/axies/8784557/axie/axie-full-transparent.png\" width=128 height=128 style=\"display:inline; margin:1px\"/></a><a href=\"https://marketplace.axieinfinity.com/axie/8826289\" target=\"_blank\" rel=\"noopener noreferrer\"><img src=\"https://storage.googleapis.com/assets.axieinfinity.com/axies/8826289/axie/axie-full-transparent.png\" width=128 height=128 style=\"display:inline; margin:1px\"/></a>"
      ],
      "text/plain": [
       "<IPython.core.display.HTML object>"
      ]
     },
     "metadata": {},
     "output_type": "display_data"
    },
    {
     "name": "stdout",
     "output_type": "stream",
     "text": [
      "https://marketplace.axieinfinity.com/profile/ronin:899b084f58ef8fab6d9278a0400f4477c0c96860/axie/ 2512 8788 E.GAB062521\n"
     ]
    },
    {
     "data": {
      "text/html": [
       "<a href=\"https://marketplace.axieinfinity.com/axie/255474\" target=\"_blank\" rel=\"noopener noreferrer\"><img src=\"https://storage.googleapis.com/assets.axieinfinity.com/axies/255474/axie/axie-full-transparent.png\" width=128 height=128 style=\"display:inline; margin:1px\"/></a><a href=\"https://marketplace.axieinfinity.com/axie/255480\" target=\"_blank\" rel=\"noopener noreferrer\"><img src=\"https://storage.googleapis.com/assets.axieinfinity.com/axies/255480/axie/axie-full-transparent.png\" width=128 height=128 style=\"display:inline; margin:1px\"/></a><a href=\"https://marketplace.axieinfinity.com/axie/255639\" target=\"_blank\" rel=\"noopener noreferrer\"><img src=\"https://storage.googleapis.com/assets.axieinfinity.com/axies/255639/axie/axie-full-transparent.png\" width=128 height=128 style=\"display:inline; margin:1px\"/></a>"
      ],
      "text/plain": [
       "<IPython.core.display.HTML object>"
      ]
     },
     "metadata": {},
     "output_type": "display_data"
    },
    {
     "name": "stdout",
     "output_type": "stream",
     "text": [
      "https://marketplace.axieinfinity.com/profile/ronin:933b1486bc33a710f58cb281ce3574affdc595f3/axie/ 2511 8822 AIB Benhur 8888\n"
     ]
    },
    {
     "data": {
      "text/html": [
       "<a href=\"https://marketplace.axieinfinity.com/axie/758026\" target=\"_blank\" rel=\"noopener noreferrer\"><img src=\"https://storage.googleapis.com/assets.axieinfinity.com/axies/758026/axie/axie-full-transparent.png\" width=128 height=128 style=\"display:inline; margin:1px\"/></a><a href=\"https://marketplace.axieinfinity.com/axie/6757580\" target=\"_blank\" rel=\"noopener noreferrer\"><img src=\"https://storage.googleapis.com/assets.axieinfinity.com/axies/6757580/axie/axie-full-transparent.png\" width=128 height=128 style=\"display:inline; margin:1px\"/></a><a href=\"https://marketplace.axieinfinity.com/axie/6797521\" target=\"_blank\" rel=\"noopener noreferrer\"><img src=\"https://storage.googleapis.com/assets.axieinfinity.com/axies/6797521/axie/axie-full-transparent.png\" width=128 height=128 style=\"display:inline; margin:1px\"/></a>"
      ],
      "text/plain": [
       "<IPython.core.display.HTML object>"
      ]
     },
     "metadata": {},
     "output_type": "display_data"
    },
    {
     "name": "stdout",
     "output_type": "stream",
     "text": [
      "https://marketplace.axieinfinity.com/profile/ronin:963cd98411a8453894f1e4d8654fb427106cdfb5/axie/ 2510 8842 Lunacian #4919047\n"
     ]
    },
    {
     "data": {
      "text/html": [
       "<a href=\"https://marketplace.axieinfinity.com/axie/8871157\" target=\"_blank\" rel=\"noopener noreferrer\"><img src=\"https://storage.googleapis.com/assets.axieinfinity.com/axies/8871157/axie/axie-full-transparent.png\" width=128 height=128 style=\"display:inline; margin:1px\"/></a><a href=\"https://marketplace.axieinfinity.com/axie/9385945\" target=\"_blank\" rel=\"noopener noreferrer\"><img src=\"https://storage.googleapis.com/assets.axieinfinity.com/axies/9385945/axie/axie-full-transparent.png\" width=128 height=128 style=\"display:inline; margin:1px\"/></a><a href=\"https://marketplace.axieinfinity.com/axie/9660226\" target=\"_blank\" rel=\"noopener noreferrer\"><img src=\"https://storage.googleapis.com/assets.axieinfinity.com/axies/9660226/axie/axie-full-transparent.png\" width=128 height=128 style=\"display:inline; margin:1px\"/></a>"
      ],
      "text/plain": [
       "<IPython.core.display.HTML object>"
      ]
     },
     "metadata": {},
     "output_type": "display_data"
    },
    {
     "name": "stdout",
     "output_type": "stream",
     "text": [
      "https://marketplace.axieinfinity.com/profile/ronin:697e182380450253bb0ddecd406f505c46cac03d/axie/ 2500 9331 ThiagoRpz\n"
     ]
    },
    {
     "data": {
      "text/html": [
       "<a href=\"https://marketplace.axieinfinity.com/axie/2789184\" target=\"_blank\" rel=\"noopener noreferrer\"><img src=\"https://storage.googleapis.com/assets.axieinfinity.com/axies/2789184/axie/axie-full-transparent.png\" width=128 height=128 style=\"display:inline; margin:1px\"/></a><a href=\"https://marketplace.axieinfinity.com/axie/9649638\" target=\"_blank\" rel=\"noopener noreferrer\"><img src=\"https://storage.googleapis.com/assets.axieinfinity.com/axies/9649638/axie/axie-full-transparent.png\" width=128 height=128 style=\"display:inline; margin:1px\"/></a><a href=\"https://marketplace.axieinfinity.com/axie/9923045\" target=\"_blank\" rel=\"noopener noreferrer\"><img src=\"https://storage.googleapis.com/assets.axieinfinity.com/axies/9923045/axie/axie-full-transparent.png\" width=128 height=128 style=\"display:inline; margin:1px\"/></a>"
      ],
      "text/plain": [
       "<IPython.core.display.HTML object>"
      ]
     },
     "metadata": {},
     "output_type": "display_data"
    },
    {
     "name": "stdout",
     "output_type": "stream",
     "text": [
      "https://marketplace.axieinfinity.com/profile/ronin:7f9131c94b81d969656b2524b05641575844ef5a/axie/ 2495 9581 jr\n"
     ]
    },
    {
     "data": {
      "text/html": [
       "<a href=\"https://marketplace.axieinfinity.com/axie/8284160\" target=\"_blank\" rel=\"noopener noreferrer\"><img src=\"https://storage.googleapis.com/assets.axieinfinity.com/axies/8284160/axie/axie-full-transparent.png\" width=128 height=128 style=\"display:inline; margin:1px\"/></a><a href=\"https://marketplace.axieinfinity.com/axie/9195384\" target=\"_blank\" rel=\"noopener noreferrer\"><img src=\"https://storage.googleapis.com/assets.axieinfinity.com/axies/9195384/axie/axie-full-transparent.png\" width=128 height=128 style=\"display:inline; margin:1px\"/></a><a href=\"https://marketplace.axieinfinity.com/axie/9212148\" target=\"_blank\" rel=\"noopener noreferrer\"><img src=\"https://storage.googleapis.com/assets.axieinfinity.com/axies/9212148/axie/axie-full-transparent.png\" width=128 height=128 style=\"display:inline; margin:1px\"/></a>"
      ],
      "text/plain": [
       "<IPython.core.display.HTML object>"
      ]
     },
     "metadata": {},
     "output_type": "display_data"
    },
    {
     "name": "stdout",
     "output_type": "stream",
     "text": [
      "https://marketplace.axieinfinity.com/profile/ronin:41f756e7044329fa53759afac1a7b9a256ad77bc/axie/ 2486 9970 Main | TeamBatman\n"
     ]
    },
    {
     "data": {
      "text/html": [
       "<a href=\"https://marketplace.axieinfinity.com/axie/9626827\" target=\"_blank\" rel=\"noopener noreferrer\"><img src=\"https://storage.googleapis.com/assets.axieinfinity.com/axies/9626827/axie/axie-full-transparent.png\" width=128 height=128 style=\"display:inline; margin:1px\"/></a><a href=\"https://marketplace.axieinfinity.com/axie/9663092\" target=\"_blank\" rel=\"noopener noreferrer\"><img src=\"https://storage.googleapis.com/assets.axieinfinity.com/axies/9663092/axie/axie-full-transparent.png\" width=128 height=128 style=\"display:inline; margin:1px\"/></a><a href=\"https://marketplace.axieinfinity.com/axie/9760438\" target=\"_blank\" rel=\"noopener noreferrer\"><img src=\"https://storage.googleapis.com/assets.axieinfinity.com/axies/9760438/axie/axie-full-transparent.png\" width=128 height=128 style=\"display:inline; margin:1px\"/></a>"
      ],
      "text/plain": [
       "<IPython.core.display.HTML object>"
      ]
     },
     "metadata": {},
     "output_type": "display_data"
    },
    {
     "name": "stdout",
     "output_type": "stream",
     "text": [
      "https://marketplace.axieinfinity.com/profile/ronin:b6068ce108295741d14ecd14aca7d90801ce1713/axie/ 2483 10084 NaId\n"
     ]
    },
    {
     "data": {
      "text/html": [
       "<a href=\"https://marketplace.axieinfinity.com/axie/8660161\" target=\"_blank\" rel=\"noopener noreferrer\"><img src=\"https://storage.googleapis.com/assets.axieinfinity.com/axies/8660161/axie/axie-full-transparent.png\" width=128 height=128 style=\"display:inline; margin:1px\"/></a><a href=\"https://marketplace.axieinfinity.com/axie/10003716\" target=\"_blank\" rel=\"noopener noreferrer\"><img src=\"https://storage.googleapis.com/assets.axieinfinity.com/axies/10003716/axie/axie-full-transparent.png\" width=128 height=128 style=\"display:inline; margin:1px\"/></a><a href=\"https://marketplace.axieinfinity.com/axie/10017784\" target=\"_blank\" rel=\"noopener noreferrer\"><img src=\"https://storage.googleapis.com/assets.axieinfinity.com/axies/10017784/axie/axie-full-transparent.png\" width=128 height=128 style=\"display:inline; margin:1px\"/></a>"
      ],
      "text/plain": [
       "<IPython.core.display.HTML object>"
      ]
     },
     "metadata": {},
     "output_type": "display_data"
    },
    {
     "name": "stdout",
     "output_type": "stream",
     "text": [
      "https://marketplace.axieinfinity.com/profile/ronin:2a40fd94a7ce298ed077dca66398a7b3f71d45a5/axie/ 2482 10130 JONGOLS | U7 | GsZ \n"
     ]
    },
    {
     "data": {
      "text/html": [
       "<a href=\"https://marketplace.axieinfinity.com/axie/8343968\" target=\"_blank\" rel=\"noopener noreferrer\"><img src=\"https://storage.googleapis.com/assets.axieinfinity.com/axies/8343968/axie/axie-full-transparent.png\" width=128 height=128 style=\"display:inline; margin:1px\"/></a><a href=\"https://marketplace.axieinfinity.com/axie/9295877\" target=\"_blank\" rel=\"noopener noreferrer\"><img src=\"https://storage.googleapis.com/assets.axieinfinity.com/axies/9295877/axie/axie-full-transparent.png\" width=128 height=128 style=\"display:inline; margin:1px\"/></a><a href=\"https://marketplace.axieinfinity.com/axie/10353481\" target=\"_blank\" rel=\"noopener noreferrer\"><img src=\"https://storage.googleapis.com/assets.axieinfinity.com/axies/10353481/axie/axie-full-transparent.png\" width=128 height=128 style=\"display:inline; margin:1px\"/></a>"
      ],
      "text/plain": [
       "<IPython.core.display.HTML object>"
      ]
     },
     "metadata": {},
     "output_type": "display_data"
    },
    {
     "name": "stdout",
     "output_type": "stream",
     "text": [
      "https://marketplace.axieinfinity.com/profile/ronin:6916ab8fb0859f57d5eb7e4404394f8145885fc3/axie/ 2479 10254 K42-NKT\n"
     ]
    },
    {
     "data": {
      "text/html": [
       "<a href=\"https://marketplace.axieinfinity.com/axie/8743730\" target=\"_blank\" rel=\"noopener noreferrer\"><img src=\"https://storage.googleapis.com/assets.axieinfinity.com/axies/8743730/axie/axie-full-transparent.png\" width=128 height=128 style=\"display:inline; margin:1px\"/></a><a href=\"https://marketplace.axieinfinity.com/axie/9459701\" target=\"_blank\" rel=\"noopener noreferrer\"><img src=\"https://storage.googleapis.com/assets.axieinfinity.com/axies/9459701/axie/axie-full-transparent.png\" width=128 height=128 style=\"display:inline; margin:1px\"/></a><a href=\"https://marketplace.axieinfinity.com/axie/9519528\" target=\"_blank\" rel=\"noopener noreferrer\"><img src=\"https://storage.googleapis.com/assets.axieinfinity.com/axies/9519528/axie/axie-full-transparent.png\" width=128 height=128 style=\"display:inline; margin:1px\"/></a>"
      ],
      "text/plain": [
       "<IPython.core.display.HTML object>"
      ]
     },
     "metadata": {},
     "output_type": "display_data"
    },
    {
     "name": "stdout",
     "output_type": "stream",
     "text": [
      "https://marketplace.axieinfinity.com/profile/ronin:570966c633a111c6edb7b1fd00248449fbefd87d/axie/ 2476 10393 Rodrix 2 | Marssology #57\n"
     ]
    },
    {
     "data": {
      "text/html": [
       "<a href=\"https://marketplace.axieinfinity.com/axie/3328801\" target=\"_blank\" rel=\"noopener noreferrer\"><img src=\"https://storage.googleapis.com/assets.axieinfinity.com/axies/3328801/axie/axie-full-transparent.png\" width=128 height=128 style=\"display:inline; margin:1px\"/></a><a href=\"https://marketplace.axieinfinity.com/axie/9793692\" target=\"_blank\" rel=\"noopener noreferrer\"><img src=\"https://storage.googleapis.com/assets.axieinfinity.com/axies/9793692/axie/axie-full-transparent.png\" width=128 height=128 style=\"display:inline; margin:1px\"/></a><a href=\"https://marketplace.axieinfinity.com/axie/9916308\" target=\"_blank\" rel=\"noopener noreferrer\"><img src=\"https://storage.googleapis.com/assets.axieinfinity.com/axies/9916308/axie/axie-full-transparent.png\" width=128 height=128 style=\"display:inline; margin:1px\"/></a>"
      ],
      "text/plain": [
       "<IPython.core.display.HTML object>"
      ]
     },
     "metadata": {},
     "output_type": "display_data"
    },
    {
     "name": "stdout",
     "output_type": "stream",
     "text": [
      "https://marketplace.axieinfinity.com/profile/ronin:7810dcaf1b031391e4d299573fb1d96210d2fd1d/axie/ 2475 10442 T13-House of Dyosa\n"
     ]
    },
    {
     "data": {
      "text/html": [
       "<a href=\"https://marketplace.axieinfinity.com/axie/9962682\" target=\"_blank\" rel=\"noopener noreferrer\"><img src=\"https://storage.googleapis.com/assets.axieinfinity.com/axies/9962682/axie/axie-full-transparent.png\" width=128 height=128 style=\"display:inline; margin:1px\"/></a><a href=\"https://marketplace.axieinfinity.com/axie/10062606\" target=\"_blank\" rel=\"noopener noreferrer\"><img src=\"https://storage.googleapis.com/assets.axieinfinity.com/axies/10062606/axie/axie-full-transparent.png\" width=128 height=128 style=\"display:inline; margin:1px\"/></a><a href=\"https://marketplace.axieinfinity.com/axie/10084033\" target=\"_blank\" rel=\"noopener noreferrer\"><img src=\"https://storage.googleapis.com/assets.axieinfinity.com/axies/10084033/axie/axie-full-transparent.png\" width=128 height=128 style=\"display:inline; margin:1px\"/></a>"
      ],
      "text/plain": [
       "<IPython.core.display.HTML object>"
      ]
     },
     "metadata": {},
     "output_type": "display_data"
    },
    {
     "name": "stdout",
     "output_type": "stream",
     "text": [
      "https://marketplace.axieinfinity.com/profile/ronin:d17f4f79b233cb21753268f81199f289f4134de6/axie/ 2472 10573 Keio\n"
     ]
    },
    {
     "data": {
      "text/html": [
       "<a href=\"https://marketplace.axieinfinity.com/axie/4797136\" target=\"_blank\" rel=\"noopener noreferrer\"><img src=\"https://storage.googleapis.com/assets.axieinfinity.com/axies/4797136/axie/axie-full-transparent.png\" width=128 height=128 style=\"display:inline; margin:1px\"/></a><a href=\"https://marketplace.axieinfinity.com/axie/6167652\" target=\"_blank\" rel=\"noopener noreferrer\"><img src=\"https://storage.googleapis.com/assets.axieinfinity.com/axies/6167652/axie/axie-full-transparent.png\" width=128 height=128 style=\"display:inline; margin:1px\"/></a><a href=\"https://marketplace.axieinfinity.com/axie/8595950\" target=\"_blank\" rel=\"noopener noreferrer\"><img src=\"https://storage.googleapis.com/assets.axieinfinity.com/axies/8595950/axie/axie-full-transparent.png\" width=128 height=128 style=\"display:inline; margin:1px\"/></a>"
      ],
      "text/plain": [
       "<IPython.core.display.HTML object>"
      ]
     },
     "metadata": {},
     "output_type": "display_data"
    },
    {
     "name": "stdout",
     "output_type": "stream",
     "text": [
      "https://marketplace.axieinfinity.com/profile/ronin:f4be5a43e3f7edd291d3f7469bc5750079784469/axie/ 2471 10635 Hydro | Unrivaled\n"
     ]
    },
    {
     "data": {
      "text/html": [
       "<a href=\"https://marketplace.axieinfinity.com/axie/8434764\" target=\"_blank\" rel=\"noopener noreferrer\"><img src=\"https://storage.googleapis.com/assets.axieinfinity.com/axies/8434764/axie/axie-full-transparent.png\" width=128 height=128 style=\"display:inline; margin:1px\"/></a><a href=\"https://marketplace.axieinfinity.com/axie/9747119\" target=\"_blank\" rel=\"noopener noreferrer\"><img src=\"https://storage.googleapis.com/assets.axieinfinity.com/axies/9747119/axie/axie-full-transparent.png\" width=128 height=128 style=\"display:inline; margin:1px\"/></a><a href=\"https://marketplace.axieinfinity.com/axie/9817128\" target=\"_blank\" rel=\"noopener noreferrer\"><img src=\"https://storage.googleapis.com/assets.axieinfinity.com/axies/9817128/axie/axie-full-transparent.png\" width=128 height=128 style=\"display:inline; margin:1px\"/></a>"
      ],
      "text/plain": [
       "<IPython.core.display.HTML object>"
      ]
     },
     "metadata": {},
     "output_type": "display_data"
    },
    {
     "name": "stdout",
     "output_type": "stream",
     "text": [
      "https://marketplace.axieinfinity.com/profile/ronin:722666b38dabd04062b3d894d62250553bbe6243/axie/ 2468 10789 the 3k club\n"
     ]
    },
    {
     "data": {
      "text/html": [
       "<a href=\"https://marketplace.axieinfinity.com/axie/8277347\" target=\"_blank\" rel=\"noopener noreferrer\"><img src=\"https://storage.googleapis.com/assets.axieinfinity.com/axies/8277347/axie/axie-full-transparent.png\" width=128 height=128 style=\"display:inline; margin:1px\"/></a><a href=\"https://marketplace.axieinfinity.com/axie/9555356\" target=\"_blank\" rel=\"noopener noreferrer\"><img src=\"https://storage.googleapis.com/assets.axieinfinity.com/axies/9555356/axie/axie-full-transparent.png\" width=128 height=128 style=\"display:inline; margin:1px\"/></a><a href=\"https://marketplace.axieinfinity.com/axie/9671411\" target=\"_blank\" rel=\"noopener noreferrer\"><img src=\"https://storage.googleapis.com/assets.axieinfinity.com/axies/9671411/axie/axie-full-transparent.png\" width=128 height=128 style=\"display:inline; margin:1px\"/></a>"
      ],
      "text/plain": [
       "<IPython.core.display.HTML object>"
      ]
     },
     "metadata": {},
     "output_type": "display_data"
    },
    {
     "name": "stdout",
     "output_type": "stream",
     "text": [
      "https://marketplace.axieinfinity.com/profile/ronin:55ae67aa6a6f102375d08c5d89c94ce6e40ce7f3/axie/ 2467 10845 JaMing TV | GsZ.PH\n"
     ]
    },
    {
     "data": {
      "text/html": [
       "<a href=\"https://marketplace.axieinfinity.com/axie/9947770\" target=\"_blank\" rel=\"noopener noreferrer\"><img src=\"https://storage.googleapis.com/assets.axieinfinity.com/axies/9947770/axie/axie-full-transparent.png\" width=128 height=128 style=\"display:inline; margin:1px\"/></a><a href=\"https://marketplace.axieinfinity.com/axie/10027285\" target=\"_blank\" rel=\"noopener noreferrer\"><img src=\"https://storage.googleapis.com/assets.axieinfinity.com/axies/10027285/axie/axie-full-transparent.png\" width=128 height=128 style=\"display:inline; margin:1px\"/></a><a href=\"https://marketplace.axieinfinity.com/axie/10039252\" target=\"_blank\" rel=\"noopener noreferrer\"><img src=\"https://storage.googleapis.com/assets.axieinfinity.com/axies/10039252/axie/axie-full-transparent.png\" width=128 height=128 style=\"display:inline; margin:1px\"/></a>"
      ],
      "text/plain": [
       "<IPython.core.display.HTML object>"
      ]
     },
     "metadata": {},
     "output_type": "display_data"
    },
    {
     "name": "stdout",
     "output_type": "stream",
     "text": [
      "https://marketplace.axieinfinity.com/profile/ronin:95f102ab4d16ab6bbd9812ad3aad06fe27fc4a5c/axie/ 2459 11226 Wadapak\n"
     ]
    },
    {
     "data": {
      "text/html": [
       "<a href=\"https://marketplace.axieinfinity.com/axie/9021698\" target=\"_blank\" rel=\"noopener noreferrer\"><img src=\"https://storage.googleapis.com/assets.axieinfinity.com/axies/9021698/axie/axie-full-transparent.png\" width=128 height=128 style=\"display:inline; margin:1px\"/></a><a href=\"https://marketplace.axieinfinity.com/axie/9048960\" target=\"_blank\" rel=\"noopener noreferrer\"><img src=\"https://storage.googleapis.com/assets.axieinfinity.com/axies/9048960/axie/axie-full-transparent.png\" width=128 height=128 style=\"display:inline; margin:1px\"/></a><a href=\"https://marketplace.axieinfinity.com/axie/9119538\" target=\"_blank\" rel=\"noopener noreferrer\"><img src=\"https://storage.googleapis.com/assets.axieinfinity.com/axies/9119538/axie/axie-full-transparent.png\" width=128 height=128 style=\"display:inline; margin:1px\"/></a>"
      ],
      "text/plain": [
       "<IPython.core.display.HTML object>"
      ]
     },
     "metadata": {},
     "output_type": "display_data"
    },
    {
     "name": "stdout",
     "output_type": "stream",
     "text": [
      "https://marketplace.axieinfinity.com/profile/ronin:f452e2e12fa9b4fbc4070262815e0ce75ad4046a/axie/ 2455 11454 BossV\n"
     ]
    },
    {
     "data": {
      "text/html": [
       "<a href=\"https://marketplace.axieinfinity.com/axie/8018117\" target=\"_blank\" rel=\"noopener noreferrer\"><img src=\"https://storage.googleapis.com/assets.axieinfinity.com/axies/8018117/axie/axie-full-transparent.png\" width=128 height=128 style=\"display:inline; margin:1px\"/></a><a href=\"https://marketplace.axieinfinity.com/axie/9403120\" target=\"_blank\" rel=\"noopener noreferrer\"><img src=\"https://storage.googleapis.com/assets.axieinfinity.com/axies/9403120/axie/axie-full-transparent.png\" width=128 height=128 style=\"display:inline; margin:1px\"/></a><a href=\"https://marketplace.axieinfinity.com/axie/9851516\" target=\"_blank\" rel=\"noopener noreferrer\"><img src=\"https://storage.googleapis.com/assets.axieinfinity.com/axies/9851516/axie/axie-full-transparent.png\" width=128 height=128 style=\"display:inline; margin:1px\"/></a>"
      ],
      "text/plain": [
       "<IPython.core.display.HTML object>"
      ]
     },
     "metadata": {},
     "output_type": "display_data"
    },
    {
     "name": "stdout",
     "output_type": "stream",
     "text": [
      "https://marketplace.axieinfinity.com/profile/ronin:b3d6504270c7a1ea4e3b64a6089f9d52d96b11cb/axie/ 2455 11428 MN l G -  Tynacrox\n"
     ]
    },
    {
     "data": {
      "text/html": [
       "<a href=\"https://marketplace.axieinfinity.com/axie/8469048\" target=\"_blank\" rel=\"noopener noreferrer\"><img src=\"https://storage.googleapis.com/assets.axieinfinity.com/axies/8469048/axie/axie-full-transparent.png\" width=128 height=128 style=\"display:inline; margin:1px\"/></a><a href=\"https://marketplace.axieinfinity.com/axie/8866806\" target=\"_blank\" rel=\"noopener noreferrer\"><img src=\"https://storage.googleapis.com/assets.axieinfinity.com/axies/8866806/axie/axie-full-transparent.png\" width=128 height=128 style=\"display:inline; margin:1px\"/></a><a href=\"https://marketplace.axieinfinity.com/axie/9570872\" target=\"_blank\" rel=\"noopener noreferrer\"><img src=\"https://storage.googleapis.com/assets.axieinfinity.com/axies/9570872/axie/axie-full-transparent.png\" width=128 height=128 style=\"display:inline; margin:1px\"/></a>"
      ],
      "text/plain": [
       "<IPython.core.display.HTML object>"
      ]
     },
     "metadata": {},
     "output_type": "display_data"
    },
    {
     "name": "stdout",
     "output_type": "stream",
     "text": [
      "https://marketplace.axieinfinity.com/profile/ronin:d9a1a94db946bd85d4c2cfdb64ebb3448a2b9225/axie/ 2446 11903 PerfectTeam\n"
     ]
    },
    {
     "data": {
      "text/html": [
       "<a href=\"https://marketplace.axieinfinity.com/axie/6361337\" target=\"_blank\" rel=\"noopener noreferrer\"><img src=\"https://storage.googleapis.com/assets.axieinfinity.com/axies/6361337/axie/axie-full-transparent.png\" width=128 height=128 style=\"display:inline; margin:1px\"/></a><a href=\"https://marketplace.axieinfinity.com/axie/7742103\" target=\"_blank\" rel=\"noopener noreferrer\"><img src=\"https://storage.googleapis.com/assets.axieinfinity.com/axies/7742103/axie/axie-full-transparent.png\" width=128 height=128 style=\"display:inline; margin:1px\"/></a><a href=\"https://marketplace.axieinfinity.com/axie/8160215\" target=\"_blank\" rel=\"noopener noreferrer\"><img src=\"https://storage.googleapis.com/assets.axieinfinity.com/axies/8160215/axie/axie-full-transparent.png\" width=128 height=128 style=\"display:inline; margin:1px\"/></a>"
      ],
      "text/plain": [
       "<IPython.core.display.HTML object>"
      ]
     },
     "metadata": {},
     "output_type": "display_data"
    },
    {
     "name": "stdout",
     "output_type": "stream",
     "text": [
      "https://marketplace.axieinfinity.com/profile/ronin:4600202b5c52f693a637bd7dbd3db9bf454989ba/axie/ 2445 11984 Talula\n"
     ]
    },
    {
     "data": {
      "text/html": [
       "<a href=\"https://marketplace.axieinfinity.com/axie/7859890\" target=\"_blank\" rel=\"noopener noreferrer\"><img src=\"https://storage.googleapis.com/assets.axieinfinity.com/axies/7859890/axie/axie-full-transparent.png\" width=128 height=128 style=\"display:inline; margin:1px\"/></a><a href=\"https://marketplace.axieinfinity.com/axie/9155139\" target=\"_blank\" rel=\"noopener noreferrer\"><img src=\"https://storage.googleapis.com/assets.axieinfinity.com/axies/9155139/axie/axie-full-transparent.png\" width=128 height=128 style=\"display:inline; margin:1px\"/></a><a href=\"https://marketplace.axieinfinity.com/axie/9371705\" target=\"_blank\" rel=\"noopener noreferrer\"><img src=\"https://storage.googleapis.com/assets.axieinfinity.com/axies/9371705/axie/axie-full-transparent.png\" width=128 height=128 style=\"display:inline; margin:1px\"/></a>"
      ],
      "text/plain": [
       "<IPython.core.display.HTML object>"
      ]
     },
     "metadata": {},
     "output_type": "display_data"
    },
    {
     "name": "stdout",
     "output_type": "stream",
     "text": [
      "https://marketplace.axieinfinity.com/profile/ronin:7e383bc510af549cee9d55bd13aa65242ea4f5f5/axie/ 2440 12254 MasterBenla\n"
     ]
    },
    {
     "data": {
      "text/html": [
       "<a href=\"https://marketplace.axieinfinity.com/axie/5045125\" target=\"_blank\" rel=\"noopener noreferrer\"><img src=\"https://storage.googleapis.com/assets.axieinfinity.com/axies/5045125/axie/axie-full-transparent.png\" width=128 height=128 style=\"display:inline; margin:1px\"/></a><a href=\"https://marketplace.axieinfinity.com/axie/7579052\" target=\"_blank\" rel=\"noopener noreferrer\"><img src=\"https://storage.googleapis.com/assets.axieinfinity.com/axies/7579052/axie/axie-full-transparent.png\" width=128 height=128 style=\"display:inline; margin:1px\"/></a><a href=\"https://marketplace.axieinfinity.com/axie/7817898\" target=\"_blank\" rel=\"noopener noreferrer\"><img src=\"https://storage.googleapis.com/assets.axieinfinity.com/axies/7817898/axie/axie-full-transparent.png\" width=128 height=128 style=\"display:inline; margin:1px\"/></a>"
      ],
      "text/plain": [
       "<IPython.core.display.HTML object>"
      ]
     },
     "metadata": {},
     "output_type": "display_data"
    },
    {
     "name": "stdout",
     "output_type": "stream",
     "text": [
      "https://marketplace.axieinfinity.com/profile/ronin:ad706f68c9e5b0e9508e8c2ca9c977da5adda756/axie/ 2428 12950 Venz\n"
     ]
    },
    {
     "data": {
      "text/html": [
       "<a href=\"https://marketplace.axieinfinity.com/axie/1483595\" target=\"_blank\" rel=\"noopener noreferrer\"><img src=\"https://storage.googleapis.com/assets.axieinfinity.com/axies/1483595/axie/axie-full-transparent.png\" width=128 height=128 style=\"display:inline; margin:1px\"/></a><a href=\"https://marketplace.axieinfinity.com/axie/6761660\" target=\"_blank\" rel=\"noopener noreferrer\"><img src=\"https://storage.googleapis.com/assets.axieinfinity.com/axies/6761660/axie/axie-full-transparent.png\" width=128 height=128 style=\"display:inline; margin:1px\"/></a><a href=\"https://marketplace.axieinfinity.com/axie/8464261\" target=\"_blank\" rel=\"noopener noreferrer\"><img src=\"https://storage.googleapis.com/assets.axieinfinity.com/axies/8464261/axie/axie-full-transparent.png\" width=128 height=128 style=\"display:inline; margin:1px\"/></a>"
      ],
      "text/plain": [
       "<IPython.core.display.HTML object>"
      ]
     },
     "metadata": {},
     "output_type": "display_data"
    },
    {
     "name": "stdout",
     "output_type": "stream",
     "text": [
      "https://marketplace.axieinfinity.com/profile/ronin:9d5d04e9a78f86961567211cbf270247e4da05ed/axie/ 2422 13327 Pareng JP | afoolslove\n"
     ]
    },
    {
     "data": {
      "text/html": [
       "<a href=\"https://marketplace.axieinfinity.com/axie/1636690\" target=\"_blank\" rel=\"noopener noreferrer\"><img src=\"https://storage.googleapis.com/assets.axieinfinity.com/axies/1636690/axie/axie-full-transparent.png\" width=128 height=128 style=\"display:inline; margin:1px\"/></a><a href=\"https://marketplace.axieinfinity.com/axie/8182086\" target=\"_blank\" rel=\"noopener noreferrer\"><img src=\"https://storage.googleapis.com/assets.axieinfinity.com/axies/8182086/axie/axie-full-transparent.png\" width=128 height=128 style=\"display:inline; margin:1px\"/></a><a href=\"https://marketplace.axieinfinity.com/axie/8286905\" target=\"_blank\" rel=\"noopener noreferrer\"><img src=\"https://storage.googleapis.com/assets.axieinfinity.com/axies/8286905/axie/axie-full-transparent.png\" width=128 height=128 style=\"display:inline; margin:1px\"/></a>"
      ],
      "text/plain": [
       "<IPython.core.display.HTML object>"
      ]
     },
     "metadata": {},
     "output_type": "display_data"
    },
    {
     "name": "stdout",
     "output_type": "stream",
     "text": [
      "https://marketplace.axieinfinity.com/profile/ronin:b1a9e7269f08b1da23b268e1b78bbb8c98890aa9/axie/ 2417 13612 boytambo09\n"
     ]
    },
    {
     "data": {
      "text/html": [
       "<a href=\"https://marketplace.axieinfinity.com/axie/306935\" target=\"_blank\" rel=\"noopener noreferrer\"><img src=\"https://storage.googleapis.com/assets.axieinfinity.com/axies/306935/axie/axie-full-transparent.png\" width=128 height=128 style=\"display:inline; margin:1px\"/></a><a href=\"https://marketplace.axieinfinity.com/axie/4985304\" target=\"_blank\" rel=\"noopener noreferrer\"><img src=\"https://storage.googleapis.com/assets.axieinfinity.com/axies/4985304/axie/axie-full-transparent.png\" width=128 height=128 style=\"display:inline; margin:1px\"/></a><a href=\"https://marketplace.axieinfinity.com/axie/7208721\" target=\"_blank\" rel=\"noopener noreferrer\"><img src=\"https://storage.googleapis.com/assets.axieinfinity.com/axies/7208721/axie/axie-full-transparent.png\" width=128 height=128 style=\"display:inline; margin:1px\"/></a>"
      ],
      "text/plain": [
       "<IPython.core.display.HTML object>"
      ]
     },
     "metadata": {},
     "output_type": "display_data"
    },
    {
     "name": "stdout",
     "output_type": "stream",
     "text": [
      "https://marketplace.axieinfinity.com/profile/ronin:57d6937ffda5bdf83eb61bd0ebaf418e8e39bb78/axie/ 2412 14036 brikbrikbrik\n"
     ]
    },
    {
     "data": {
      "text/html": [
       "<a href=\"https://marketplace.axieinfinity.com/axie/302486\" target=\"_blank\" rel=\"noopener noreferrer\"><img src=\"https://storage.googleapis.com/assets.axieinfinity.com/axies/302486/axie/axie-full-transparent.png\" width=128 height=128 style=\"display:inline; margin:1px\"/></a><a href=\"https://marketplace.axieinfinity.com/axie/8594534\" target=\"_blank\" rel=\"noopener noreferrer\"><img src=\"https://storage.googleapis.com/assets.axieinfinity.com/axies/8594534/axie/axie-full-transparent.png\" width=128 height=128 style=\"display:inline; margin:1px\"/></a><a href=\"https://marketplace.axieinfinity.com/axie/9238083\" target=\"_blank\" rel=\"noopener noreferrer\"><img src=\"https://storage.googleapis.com/assets.axieinfinity.com/axies/9238083/axie/axie-full-transparent.png\" width=128 height=128 style=\"display:inline; margin:1px\"/></a>"
      ],
      "text/plain": [
       "<IPython.core.display.HTML object>"
      ]
     },
     "metadata": {},
     "output_type": "display_data"
    },
    {
     "name": "stdout",
     "output_type": "stream",
     "text": [
      "https://marketplace.axieinfinity.com/profile/ronin:1ebcad1df35b31e1cd762880d568b0509c8f5864/axie/ 2409 14272 SKYMED#? | Enrico\n"
     ]
    },
    {
     "data": {
      "text/html": [
       "<a href=\"https://marketplace.axieinfinity.com/axie/1258499\" target=\"_blank\" rel=\"noopener noreferrer\"><img src=\"https://storage.googleapis.com/assets.axieinfinity.com/axies/1258499/axie/axie-full-transparent.png\" width=128 height=128 style=\"display:inline; margin:1px\"/></a><a href=\"https://marketplace.axieinfinity.com/axie/1260548\" target=\"_blank\" rel=\"noopener noreferrer\"><img src=\"https://storage.googleapis.com/assets.axieinfinity.com/axies/1260548/axie/axie-full-transparent.png\" width=128 height=128 style=\"display:inline; margin:1px\"/></a><a href=\"https://marketplace.axieinfinity.com/axie/8845177\" target=\"_blank\" rel=\"noopener noreferrer\"><img src=\"https://storage.googleapis.com/assets.axieinfinity.com/axies/8845177/axie/axie-full-transparent.png\" width=128 height=128 style=\"display:inline; margin:1px\"/></a>"
      ],
      "text/plain": [
       "<IPython.core.display.HTML object>"
      ]
     },
     "metadata": {},
     "output_type": "display_data"
    },
    {
     "name": "stdout",
     "output_type": "stream",
     "text": [
      "https://marketplace.axieinfinity.com/profile/ronin:5e92b6f064b96a9f945d86fb8b3ed5a09571c487/axie/ 2405 14601 Jericho | 816 | GsZ.PH\n"
     ]
    },
    {
     "data": {
      "text/html": [
       "<a href=\"https://marketplace.axieinfinity.com/axie/2585281\" target=\"_blank\" rel=\"noopener noreferrer\"><img src=\"https://storage.googleapis.com/assets.axieinfinity.com/axies/2585281/axie/axie-full-transparent.png\" width=128 height=128 style=\"display:inline; margin:1px\"/></a><a href=\"https://marketplace.axieinfinity.com/axie/5009633\" target=\"_blank\" rel=\"noopener noreferrer\"><img src=\"https://storage.googleapis.com/assets.axieinfinity.com/axies/5009633/axie/axie-full-transparent.png\" width=128 height=128 style=\"display:inline; margin:1px\"/></a><a href=\"https://marketplace.axieinfinity.com/axie/5656627\" target=\"_blank\" rel=\"noopener noreferrer\"><img src=\"https://storage.googleapis.com/assets.axieinfinity.com/axies/5656627/axie/axie-full-transparent.png\" width=128 height=128 style=\"display:inline; margin:1px\"/></a>"
      ],
      "text/plain": [
       "<IPython.core.display.HTML object>"
      ]
     },
     "metadata": {},
     "output_type": "display_data"
    },
    {
     "name": "stdout",
     "output_type": "stream",
     "text": [
      "https://marketplace.axieinfinity.com/profile/ronin:e901f672cca56d44ac8ad01b1b07ae9aa4c8c096/axie/ 2405 14593 HisokaSlays\n"
     ]
    },
    {
     "data": {
      "text/html": [
       "<a href=\"https://marketplace.axieinfinity.com/axie/9473890\" target=\"_blank\" rel=\"noopener noreferrer\"><img src=\"https://storage.googleapis.com/assets.axieinfinity.com/axies/9473890/axie/axie-full-transparent.png\" width=128 height=128 style=\"display:inline; margin:1px\"/></a><a href=\"https://marketplace.axieinfinity.com/axie/9663731\" target=\"_blank\" rel=\"noopener noreferrer\"><img src=\"https://storage.googleapis.com/assets.axieinfinity.com/axies/9663731/axie/axie-full-transparent.png\" width=128 height=128 style=\"display:inline; margin:1px\"/></a><a href=\"https://marketplace.axieinfinity.com/axie/9685171\" target=\"_blank\" rel=\"noopener noreferrer\"><img src=\"https://storage.googleapis.com/assets.axieinfinity.com/axies/9685171/axie/axie-full-transparent.png\" width=128 height=128 style=\"display:inline; margin:1px\"/></a>"
      ],
      "text/plain": [
       "<IPython.core.display.HTML object>"
      ]
     },
     "metadata": {},
     "output_type": "display_data"
    },
    {
     "name": "stdout",
     "output_type": "stream",
     "text": [
      "https://marketplace.axieinfinity.com/profile/ronin:5d97b213d82f22d4fe4de59bb0163929b83af557/axie/ 2402 14826 SFG | Yeji\n"
     ]
    },
    {
     "data": {
      "text/html": [
       "<a href=\"https://marketplace.axieinfinity.com/axie/1125771\" target=\"_blank\" rel=\"noopener noreferrer\"><img src=\"https://storage.googleapis.com/assets.axieinfinity.com/axies/1125771/axie/axie-full-transparent.png\" width=128 height=128 style=\"display:inline; margin:1px\"/></a><a href=\"https://marketplace.axieinfinity.com/axie/3718529\" target=\"_blank\" rel=\"noopener noreferrer\"><img src=\"https://storage.googleapis.com/assets.axieinfinity.com/axies/3718529/axie/axie-full-transparent.png\" width=128 height=128 style=\"display:inline; margin:1px\"/></a><a href=\"https://marketplace.axieinfinity.com/axie/8837466\" target=\"_blank\" rel=\"noopener noreferrer\"><img src=\"https://storage.googleapis.com/assets.axieinfinity.com/axies/8837466/axie/axie-full-transparent.png\" width=128 height=128 style=\"display:inline; margin:1px\"/></a>"
      ],
      "text/plain": [
       "<IPython.core.display.HTML object>"
      ]
     },
     "metadata": {},
     "output_type": "display_data"
    },
    {
     "name": "stdout",
     "output_type": "stream",
     "text": [
      "https://marketplace.axieinfinity.com/profile/ronin:2ddcbdf43a855d1d418aca0f7c8adde036d86a65/axie/ 2394 15395 $1@mduNk\n"
     ]
    },
    {
     "data": {
      "text/html": [
       "<a href=\"https://marketplace.axieinfinity.com/axie/9585214\" target=\"_blank\" rel=\"noopener noreferrer\"><img src=\"https://storage.googleapis.com/assets.axieinfinity.com/axies/9585214/axie/axie-full-transparent.png\" width=128 height=128 style=\"display:inline; margin:1px\"/></a><a href=\"https://marketplace.axieinfinity.com/axie/9832368\" target=\"_blank\" rel=\"noopener noreferrer\"><img src=\"https://storage.googleapis.com/assets.axieinfinity.com/axies/9832368/axie/axie-full-transparent.png\" width=128 height=128 style=\"display:inline; margin:1px\"/></a><a href=\"https://marketplace.axieinfinity.com/axie/10010407\" target=\"_blank\" rel=\"noopener noreferrer\"><img src=\"https://storage.googleapis.com/assets.axieinfinity.com/axies/10010407/axie/axie-full-transparent.png\" width=128 height=128 style=\"display:inline; margin:1px\"/></a>"
      ],
      "text/plain": [
       "<IPython.core.display.HTML object>"
      ]
     },
     "metadata": {},
     "output_type": "display_data"
    },
    {
     "name": "stdout",
     "output_type": "stream",
     "text": [
      "https://marketplace.axieinfinity.com/profile/ronin:a61051c35434c123881125422eede3674ef835a2/axie/ 2394 15394 Ron\n"
     ]
    },
    {
     "data": {
      "text/html": [
       "<a href=\"https://marketplace.axieinfinity.com/axie/3178846\" target=\"_blank\" rel=\"noopener noreferrer\"><img src=\"https://storage.googleapis.com/assets.axieinfinity.com/axies/3178846/axie/axie-full-transparent.png\" width=128 height=128 style=\"display:inline; margin:1px\"/></a><a href=\"https://marketplace.axieinfinity.com/axie/8162026\" target=\"_blank\" rel=\"noopener noreferrer\"><img src=\"https://storage.googleapis.com/assets.axieinfinity.com/axies/8162026/axie/axie-full-transparent.png\" width=128 height=128 style=\"display:inline; margin:1px\"/></a><a href=\"https://marketplace.axieinfinity.com/axie/9611309\" target=\"_blank\" rel=\"noopener noreferrer\"><img src=\"https://storage.googleapis.com/assets.axieinfinity.com/axies/9611309/axie/axie-full-transparent.png\" width=128 height=128 style=\"display:inline; margin:1px\"/></a>"
      ],
      "text/plain": [
       "<IPython.core.display.HTML object>"
      ]
     },
     "metadata": {},
     "output_type": "display_data"
    },
    {
     "name": "stdout",
     "output_type": "stream",
     "text": [
      "https://marketplace.axieinfinity.com/profile/ronin:2b4c9e187f02b7ecf4954caebea2d09ac1dc1a00/axie/ 2389 15717 Timmy | Katipunero\n"
     ]
    },
    {
     "data": {
      "text/html": [
       "<a href=\"https://marketplace.axieinfinity.com/axie/9217632\" target=\"_blank\" rel=\"noopener noreferrer\"><img src=\"https://storage.googleapis.com/assets.axieinfinity.com/axies/9217632/axie/axie-full-transparent.png\" width=128 height=128 style=\"display:inline; margin:1px\"/></a><a href=\"https://marketplace.axieinfinity.com/axie/9259577\" target=\"_blank\" rel=\"noopener noreferrer\"><img src=\"https://storage.googleapis.com/assets.axieinfinity.com/axies/9259577/axie/axie-full-transparent.png\" width=128 height=128 style=\"display:inline; margin:1px\"/></a><a href=\"https://marketplace.axieinfinity.com/axie/9342695\" target=\"_blank\" rel=\"noopener noreferrer\"><img src=\"https://storage.googleapis.com/assets.axieinfinity.com/axies/9342695/axie/axie-full-transparent.png\" width=128 height=128 style=\"display:inline; margin:1px\"/></a>"
      ],
      "text/plain": [
       "<IPython.core.display.HTML object>"
      ]
     },
     "metadata": {},
     "output_type": "display_data"
    },
    {
     "name": "stdout",
     "output_type": "stream",
     "text": [
      "https://marketplace.axieinfinity.com/profile/ronin:bf2ad4d185e5e69fe387bbae24bd97edd0eff61e/axie/ 2388 15771 Zzz\n"
     ]
    },
    {
     "data": {
      "text/html": [
       "<a href=\"https://marketplace.axieinfinity.com/axie/9261871\" target=\"_blank\" rel=\"noopener noreferrer\"><img src=\"https://storage.googleapis.com/assets.axieinfinity.com/axies/9261871/axie/axie-full-transparent.png\" width=128 height=128 style=\"display:inline; margin:1px\"/></a><a href=\"https://marketplace.axieinfinity.com/axie/9942457\" target=\"_blank\" rel=\"noopener noreferrer\"><img src=\"https://storage.googleapis.com/assets.axieinfinity.com/axies/9942457/axie/axie-full-transparent.png\" width=128 height=128 style=\"display:inline; margin:1px\"/></a><a href=\"https://marketplace.axieinfinity.com/axie/9956125\" target=\"_blank\" rel=\"noopener noreferrer\"><img src=\"https://storage.googleapis.com/assets.axieinfinity.com/axies/9956125/axie/axie-full-transparent.png\" width=128 height=128 style=\"display:inline; margin:1px\"/></a>"
      ],
      "text/plain": [
       "<IPython.core.display.HTML object>"
      ]
     },
     "metadata": {},
     "output_type": "display_data"
    },
    {
     "name": "stdout",
     "output_type": "stream",
     "text": [
      "https://marketplace.axieinfinity.com/profile/ronin:5abf49dbb643f9ec88f183a313c5181a375e1625/axie/ 2386 15985 Marc | XAVs #39\n"
     ]
    },
    {
     "data": {
      "text/html": [
       "<a href=\"https://marketplace.axieinfinity.com/axie/839818\" target=\"_blank\" rel=\"noopener noreferrer\"><img src=\"https://storage.googleapis.com/assets.axieinfinity.com/axies/839818/axie/axie-full-transparent.png\" width=128 height=128 style=\"display:inline; margin:1px\"/></a><a href=\"https://marketplace.axieinfinity.com/axie/3247583\" target=\"_blank\" rel=\"noopener noreferrer\"><img src=\"https://storage.googleapis.com/assets.axieinfinity.com/axies/3247583/axie/axie-full-transparent.png\" width=128 height=128 style=\"display:inline; margin:1px\"/></a><a href=\"https://marketplace.axieinfinity.com/axie/6843280\" target=\"_blank\" rel=\"noopener noreferrer\"><img src=\"https://storage.googleapis.com/assets.axieinfinity.com/axies/6843280/axie/axie-full-transparent.png\" width=128 height=128 style=\"display:inline; margin:1px\"/></a>"
      ],
      "text/plain": [
       "<IPython.core.display.HTML object>"
      ]
     },
     "metadata": {},
     "output_type": "display_data"
    },
    {
     "name": "stdout",
     "output_type": "stream",
     "text": [
      "https://marketplace.axieinfinity.com/profile/ronin:f9af62192528dfb934803011526ac24debd0680e/axie/ 2384 16126 TheChakasxD\n"
     ]
    },
    {
     "data": {
      "text/html": [
       "<a href=\"https://marketplace.axieinfinity.com/axie/809398\" target=\"_blank\" rel=\"noopener noreferrer\"><img src=\"https://storage.googleapis.com/assets.axieinfinity.com/axies/809398/axie/axie-full-transparent.png\" width=128 height=128 style=\"display:inline; margin:1px\"/></a><a href=\"https://marketplace.axieinfinity.com/axie/4318844\" target=\"_blank\" rel=\"noopener noreferrer\"><img src=\"https://storage.googleapis.com/assets.axieinfinity.com/axies/4318844/axie/axie-full-transparent.png\" width=128 height=128 style=\"display:inline; margin:1px\"/></a><a href=\"https://marketplace.axieinfinity.com/axie/5669132\" target=\"_blank\" rel=\"noopener noreferrer\"><img src=\"https://storage.googleapis.com/assets.axieinfinity.com/axies/5669132/axie/axie-full-transparent.png\" width=128 height=128 style=\"display:inline; margin:1px\"/></a>"
      ],
      "text/plain": [
       "<IPython.core.display.HTML object>"
      ]
     },
     "metadata": {},
     "output_type": "display_data"
    },
    {
     "name": "stdout",
     "output_type": "stream",
     "text": [
      "https://marketplace.axieinfinity.com/profile/ronin:b94fe2980233fba0385bd832b445118c54b56652/axie/ 2382 16321 YG3 I Myline\n"
     ]
    },
    {
     "data": {
      "text/html": [
       "<a href=\"https://marketplace.axieinfinity.com/axie/1402651\" target=\"_blank\" rel=\"noopener noreferrer\"><img src=\"https://storage.googleapis.com/assets.axieinfinity.com/axies/1402651/axie/axie-full-transparent.png\" width=128 height=128 style=\"display:inline; margin:1px\"/></a><a href=\"https://marketplace.axieinfinity.com/axie/1410398\" target=\"_blank\" rel=\"noopener noreferrer\"><img src=\"https://storage.googleapis.com/assets.axieinfinity.com/axies/1410398/axie/axie-full-transparent.png\" width=128 height=128 style=\"display:inline; margin:1px\"/></a><a href=\"https://marketplace.axieinfinity.com/axie/5008410\" target=\"_blank\" rel=\"noopener noreferrer\"><img src=\"https://storage.googleapis.com/assets.axieinfinity.com/axies/5008410/axie/axie-full-transparent.png\" width=128 height=128 style=\"display:inline; margin:1px\"/></a>"
      ],
      "text/plain": [
       "<IPython.core.display.HTML object>"
      ]
     },
     "metadata": {},
     "output_type": "display_data"
    },
    {
     "name": "stdout",
     "output_type": "stream",
     "text": [
      "https://marketplace.axieinfinity.com/profile/ronin:ce29cec7552ab3c9cf5264ed96081c2804c3ef07/axie/ 2373 16937 BlitzAcez\n"
     ]
    },
    {
     "data": {
      "text/html": [
       "<a href=\"https://marketplace.axieinfinity.com/axie/6028943\" target=\"_blank\" rel=\"noopener noreferrer\"><img src=\"https://storage.googleapis.com/assets.axieinfinity.com/axies/6028943/axie/axie-full-transparent.png\" width=128 height=128 style=\"display:inline; margin:1px\"/></a><a href=\"https://marketplace.axieinfinity.com/axie/8654422\" target=\"_blank\" rel=\"noopener noreferrer\"><img src=\"https://storage.googleapis.com/assets.axieinfinity.com/axies/8654422/axie/axie-full-transparent.png\" width=128 height=128 style=\"display:inline; margin:1px\"/></a><a href=\"https://marketplace.axieinfinity.com/axie/9500308\" target=\"_blank\" rel=\"noopener noreferrer\"><img src=\"https://storage.googleapis.com/assets.axieinfinity.com/axies/9500308/axie/axie-full-transparent.png\" width=128 height=128 style=\"display:inline; margin:1px\"/></a>"
      ],
      "text/plain": [
       "<IPython.core.display.HTML object>"
      ]
     },
     "metadata": {},
     "output_type": "display_data"
    },
    {
     "name": "stdout",
     "output_type": "stream",
     "text": [
      "https://marketplace.axieinfinity.com/profile/ronin:9ed2ae82b193ec4c739fec19e71940c0362d2b21/axie/ 2370 17194 FB.GG/LANWICKED\n"
     ]
    },
    {
     "data": {
      "text/html": [
       "<a href=\"https://marketplace.axieinfinity.com/axie/2371663\" target=\"_blank\" rel=\"noopener noreferrer\"><img src=\"https://storage.googleapis.com/assets.axieinfinity.com/axies/2371663/axie/axie-full-transparent.png\" width=128 height=128 style=\"display:inline; margin:1px\"/></a><a href=\"https://marketplace.axieinfinity.com/axie/3068050\" target=\"_blank\" rel=\"noopener noreferrer\"><img src=\"https://storage.googleapis.com/assets.axieinfinity.com/axies/3068050/axie/axie-full-transparent.png\" width=128 height=128 style=\"display:inline; margin:1px\"/></a><a href=\"https://marketplace.axieinfinity.com/axie/8220211\" target=\"_blank\" rel=\"noopener noreferrer\"><img src=\"https://storage.googleapis.com/assets.axieinfinity.com/axies/8220211/axie/axie-full-transparent.png\" width=128 height=128 style=\"display:inline; margin:1px\"/></a>"
      ],
      "text/plain": [
       "<IPython.core.display.HTML object>"
      ]
     },
     "metadata": {},
     "output_type": "display_data"
    },
    {
     "name": "stdout",
     "output_type": "stream",
     "text": [
      "https://marketplace.axieinfinity.com/profile/ronin:cc7788ed26ede1dc5cc28bb27d2c4a838a3ff97f/axie/ 2369 17219 ExE | Joseph\n"
     ]
    },
    {
     "data": {
      "text/html": [
       "<a href=\"https://marketplace.axieinfinity.com/axie/8689298\" target=\"_blank\" rel=\"noopener noreferrer\"><img src=\"https://storage.googleapis.com/assets.axieinfinity.com/axies/8689298/axie/axie-full-transparent.png\" width=128 height=128 style=\"display:inline; margin:1px\"/></a><a href=\"https://marketplace.axieinfinity.com/axie/8689399\" target=\"_blank\" rel=\"noopener noreferrer\"><img src=\"https://storage.googleapis.com/assets.axieinfinity.com/axies/8689399/axie/axie-full-transparent.png\" width=128 height=128 style=\"display:inline; margin:1px\"/></a><a href=\"https://marketplace.axieinfinity.com/axie/8689761\" target=\"_blank\" rel=\"noopener noreferrer\"><img src=\"https://storage.googleapis.com/assets.axieinfinity.com/axies/8689761/axie/axie-full-transparent.png\" width=128 height=128 style=\"display:inline; margin:1px\"/></a>"
      ],
      "text/plain": [
       "<IPython.core.display.HTML object>"
      ]
     },
     "metadata": {},
     "output_type": "display_data"
    },
    {
     "name": "stdout",
     "output_type": "stream",
     "text": [
      "https://marketplace.axieinfinity.com/profile/ronin:659af18c04c388820b758c6cce995abaf1963a5d/axie/ 2359 18088 Beca 2\n"
     ]
    },
    {
     "data": {
      "text/html": [
       "<a href=\"https://marketplace.axieinfinity.com/axie/9563688\" target=\"_blank\" rel=\"noopener noreferrer\"><img src=\"https://storage.googleapis.com/assets.axieinfinity.com/axies/9563688/axie/axie-full-transparent.png\" width=128 height=128 style=\"display:inline; margin:1px\"/></a><a href=\"https://marketplace.axieinfinity.com/axie/9616651\" target=\"_blank\" rel=\"noopener noreferrer\"><img src=\"https://storage.googleapis.com/assets.axieinfinity.com/axies/9616651/axie/axie-full-transparent.png\" width=128 height=128 style=\"display:inline; margin:1px\"/></a><a href=\"https://marketplace.axieinfinity.com/axie/9665907\" target=\"_blank\" rel=\"noopener noreferrer\"><img src=\"https://storage.googleapis.com/assets.axieinfinity.com/axies/9665907/axie/axie-full-transparent.png\" width=128 height=128 style=\"display:inline; margin:1px\"/></a>"
      ],
      "text/plain": [
       "<IPython.core.display.HTML object>"
      ]
     },
     "metadata": {},
     "output_type": "display_data"
    },
    {
     "name": "stdout",
     "output_type": "stream",
     "text": [
      "https://marketplace.axieinfinity.com/profile/ronin:e6e2a814a28fd584579744830436ab589cc689be/axie/ 2358 18165 Lion\n"
     ]
    },
    {
     "data": {
      "text/html": [
       "<a href=\"https://marketplace.axieinfinity.com/axie/1254644\" target=\"_blank\" rel=\"noopener noreferrer\"><img src=\"https://storage.googleapis.com/assets.axieinfinity.com/axies/1254644/axie/axie-full-transparent.png\" width=128 height=128 style=\"display:inline; margin:1px\"/></a><a href=\"https://marketplace.axieinfinity.com/axie/6726649\" target=\"_blank\" rel=\"noopener noreferrer\"><img src=\"https://storage.googleapis.com/assets.axieinfinity.com/axies/6726649/axie/axie-full-transparent.png\" width=128 height=128 style=\"display:inline; margin:1px\"/></a><a href=\"https://marketplace.axieinfinity.com/axie/6968972\" target=\"_blank\" rel=\"noopener noreferrer\"><img src=\"https://storage.googleapis.com/assets.axieinfinity.com/axies/6968972/axie/axie-full-transparent.png\" width=128 height=128 style=\"display:inline; margin:1px\"/></a>"
      ],
      "text/plain": [
       "<IPython.core.display.HTML object>"
      ]
     },
     "metadata": {},
     "output_type": "display_data"
    },
    {
     "name": "stdout",
     "output_type": "stream",
     "text": [
      "https://marketplace.axieinfinity.com/profile/ronin:614bd625c6094ef5125f39dba0c2f7ff715d4778/axie/ 2357 18250 Fahhsaii \n"
     ]
    },
    {
     "data": {
      "text/html": [
       "<a href=\"https://marketplace.axieinfinity.com/axie/9083993\" target=\"_blank\" rel=\"noopener noreferrer\"><img src=\"https://storage.googleapis.com/assets.axieinfinity.com/axies/9083993/axie/axie-full-transparent.png\" width=128 height=128 style=\"display:inline; margin:1px\"/></a><a href=\"https://marketplace.axieinfinity.com/axie/10263590\" target=\"_blank\" rel=\"noopener noreferrer\"><img src=\"https://storage.googleapis.com/assets.axieinfinity.com/axies/10263590/axie/axie-full-transparent.png\" width=128 height=128 style=\"display:inline; margin:1px\"/></a><a href=\"https://marketplace.axieinfinity.com/axie/10271464\" target=\"_blank\" rel=\"noopener noreferrer\"><img src=\"https://storage.googleapis.com/assets.axieinfinity.com/axies/10271464/axie/axie-full-transparent.png\" width=128 height=128 style=\"display:inline; margin:1px\"/></a>"
      ],
      "text/plain": [
       "<IPython.core.display.HTML object>"
      ]
     },
     "metadata": {},
     "output_type": "display_data"
    },
    {
     "name": "stdout",
     "output_type": "stream",
     "text": [
      "https://marketplace.axieinfinity.com/profile/ronin:9ee325fb0149a018b7ee97db9669f6b33871f136/axie/ 2356 18320 LikeMike\n"
     ]
    },
    {
     "data": {
      "text/html": [
       "<a href=\"https://marketplace.axieinfinity.com/axie/3535081\" target=\"_blank\" rel=\"noopener noreferrer\"><img src=\"https://storage.googleapis.com/assets.axieinfinity.com/axies/3535081/axie/axie-full-transparent.png\" width=128 height=128 style=\"display:inline; margin:1px\"/></a><a href=\"https://marketplace.axieinfinity.com/axie/9978714\" target=\"_blank\" rel=\"noopener noreferrer\"><img src=\"https://storage.googleapis.com/assets.axieinfinity.com/axies/9978714/axie/axie-full-transparent.png\" width=128 height=128 style=\"display:inline; margin:1px\"/></a><a href=\"https://marketplace.axieinfinity.com/axie/10082683\" target=\"_blank\" rel=\"noopener noreferrer\"><img src=\"https://storage.googleapis.com/assets.axieinfinity.com/axies/10082683/axie/axie-full-transparent.png\" width=128 height=128 style=\"display:inline; margin:1px\"/></a>"
      ],
      "text/plain": [
       "<IPython.core.display.HTML object>"
      ]
     },
     "metadata": {},
     "output_type": "display_data"
    },
    {
     "name": "stdout",
     "output_type": "stream",
     "text": [
      "https://marketplace.axieinfinity.com/profile/ronin:3d4855415303bc8af9e57f1fce249bb98671ff62/axie/ 2353 18538 Radiantdanielle\n"
     ]
    },
    {
     "data": {
      "text/html": [
       "<a href=\"https://marketplace.axieinfinity.com/axie/9367652\" target=\"_blank\" rel=\"noopener noreferrer\"><img src=\"https://storage.googleapis.com/assets.axieinfinity.com/axies/9367652/axie/axie-full-transparent.png\" width=128 height=128 style=\"display:inline; margin:1px\"/></a><a href=\"https://marketplace.axieinfinity.com/axie/9411435\" target=\"_blank\" rel=\"noopener noreferrer\"><img src=\"https://storage.googleapis.com/assets.axieinfinity.com/axies/9411435/axie/axie-full-transparent.png\" width=128 height=128 style=\"display:inline; margin:1px\"/></a><a href=\"https://marketplace.axieinfinity.com/axie/9421702\" target=\"_blank\" rel=\"noopener noreferrer\"><img src=\"https://storage.googleapis.com/assets.axieinfinity.com/axies/9421702/axie/axie-full-transparent.png\" width=128 height=128 style=\"display:inline; margin:1px\"/></a>"
      ],
      "text/plain": [
       "<IPython.core.display.HTML object>"
      ]
     },
     "metadata": {},
     "output_type": "display_data"
    },
    {
     "name": "stdout",
     "output_type": "stream",
     "text": [
      "https://marketplace.axieinfinity.com/profile/ronin:c340e9ca86db2c61c761adcbd372d86902d9bf02/axie/ 2348 18952 ChuDau95\n"
     ]
    },
    {
     "data": {
      "text/html": [
       "<a href=\"https://marketplace.axieinfinity.com/axie/9701588\" target=\"_blank\" rel=\"noopener noreferrer\"><img src=\"https://storage.googleapis.com/assets.axieinfinity.com/axies/9701588/axie/axie-full-transparent.png\" width=128 height=128 style=\"display:inline; margin:1px\"/></a><a href=\"https://marketplace.axieinfinity.com/axie/9831483\" target=\"_blank\" rel=\"noopener noreferrer\"><img src=\"https://storage.googleapis.com/assets.axieinfinity.com/axies/9831483/axie/axie-full-transparent.png\" width=128 height=128 style=\"display:inline; margin:1px\"/></a><a href=\"https://marketplace.axieinfinity.com/axie/9852823\" target=\"_blank\" rel=\"noopener noreferrer\"><img src=\"https://storage.googleapis.com/assets.axieinfinity.com/axies/9852823/axie/axie-full-transparent.png\" width=128 height=128 style=\"display:inline; margin:1px\"/></a>"
      ],
      "text/plain": [
       "<IPython.core.display.HTML object>"
      ]
     },
     "metadata": {},
     "output_type": "display_data"
    },
    {
     "name": "stdout",
     "output_type": "stream",
     "text": [
      "https://marketplace.axieinfinity.com/profile/ronin:5c1c20735a182f25c1cf07dffed3993b9a491b0d/axie/ 2346 19163 ELO | 946 | GsZ\n"
     ]
    },
    {
     "data": {
      "text/html": [
       "<a href=\"https://marketplace.axieinfinity.com/axie/7469292\" target=\"_blank\" rel=\"noopener noreferrer\"><img src=\"https://storage.googleapis.com/assets.axieinfinity.com/axies/7469292/axie/axie-full-transparent.png\" width=128 height=128 style=\"display:inline; margin:1px\"/></a><a href=\"https://marketplace.axieinfinity.com/axie/8937639\" target=\"_blank\" rel=\"noopener noreferrer\"><img src=\"https://storage.googleapis.com/assets.axieinfinity.com/axies/8937639/axie/axie-full-transparent.png\" width=128 height=128 style=\"display:inline; margin:1px\"/></a><a href=\"https://marketplace.axieinfinity.com/axie/8985376\" target=\"_blank\" rel=\"noopener noreferrer\"><img src=\"https://storage.googleapis.com/assets.axieinfinity.com/axies/8985376/axie/axie-full-transparent.png\" width=128 height=128 style=\"display:inline; margin:1px\"/></a>"
      ],
      "text/plain": [
       "<IPython.core.display.HTML object>"
      ]
     },
     "metadata": {},
     "output_type": "display_data"
    },
    {
     "name": "stdout",
     "output_type": "stream",
     "text": [
      "https://marketplace.axieinfinity.com/profile/ronin:b3edb551e8dfdf584e7f8b4fcd520c8e9374c5fb/axie/ 2338 19828 Isha-chan | QTPIE\n"
     ]
    },
    {
     "data": {
      "text/html": [
       "<a href=\"https://marketplace.axieinfinity.com/axie/8284650\" target=\"_blank\" rel=\"noopener noreferrer\"><img src=\"https://storage.googleapis.com/assets.axieinfinity.com/axies/8284650/axie/axie-full-transparent.png\" width=128 height=128 style=\"display:inline; margin:1px\"/></a><a href=\"https://marketplace.axieinfinity.com/axie/8473376\" target=\"_blank\" rel=\"noopener noreferrer\"><img src=\"https://storage.googleapis.com/assets.axieinfinity.com/axies/8473376/axie/axie-full-transparent.png\" width=128 height=128 style=\"display:inline; margin:1px\"/></a><a href=\"https://marketplace.axieinfinity.com/axie/9489219\" target=\"_blank\" rel=\"noopener noreferrer\"><img src=\"https://storage.googleapis.com/assets.axieinfinity.com/axies/9489219/axie/axie-full-transparent.png\" width=128 height=128 style=\"display:inline; margin:1px\"/></a>"
      ],
      "text/plain": [
       "<IPython.core.display.HTML object>"
      ]
     },
     "metadata": {},
     "output_type": "display_data"
    },
    {
     "name": "stdout",
     "output_type": "stream",
     "text": [
      "https://marketplace.axieinfinity.com/profile/ronin:d620576b801f69ca901d2bc8689e0263a5d4a29e/axie/ 2321 21544 PTV | Jonas #14\n"
     ]
    },
    {
     "data": {
      "text/html": [
       "<a href=\"https://marketplace.axieinfinity.com/axie/5058078\" target=\"_blank\" rel=\"noopener noreferrer\"><img src=\"https://storage.googleapis.com/assets.axieinfinity.com/axies/5058078/axie/axie-full-transparent.png\" width=128 height=128 style=\"display:inline; margin:1px\"/></a><a href=\"https://marketplace.axieinfinity.com/axie/8574218\" target=\"_blank\" rel=\"noopener noreferrer\"><img src=\"https://storage.googleapis.com/assets.axieinfinity.com/axies/8574218/axie/axie-full-transparent.png\" width=128 height=128 style=\"display:inline; margin:1px\"/></a><a href=\"https://marketplace.axieinfinity.com/axie/8580236\" target=\"_blank\" rel=\"noopener noreferrer\"><img src=\"https://storage.googleapis.com/assets.axieinfinity.com/axies/8580236/axie/axie-full-transparent.png\" width=128 height=128 style=\"display:inline; margin:1px\"/></a>"
      ],
      "text/plain": [
       "<IPython.core.display.HTML object>"
      ]
     },
     "metadata": {},
     "output_type": "display_data"
    },
    {
     "name": "stdout",
     "output_type": "stream",
     "text": [
      "https://marketplace.axieinfinity.com/profile/ronin:16159b62873f68f01269e3caaba5a15f4ff865dd/axie/ 2315 22214 Owlford | GenXies 42\n"
     ]
    },
    {
     "data": {
      "text/html": [
       "<a href=\"https://marketplace.axieinfinity.com/axie/6157047\" target=\"_blank\" rel=\"noopener noreferrer\"><img src=\"https://storage.googleapis.com/assets.axieinfinity.com/axies/6157047/axie/axie-full-transparent.png\" width=128 height=128 style=\"display:inline; margin:1px\"/></a><a href=\"https://marketplace.axieinfinity.com/axie/9894303\" target=\"_blank\" rel=\"noopener noreferrer\"><img src=\"https://storage.googleapis.com/assets.axieinfinity.com/axies/9894303/axie/axie-full-transparent.png\" width=128 height=128 style=\"display:inline; margin:1px\"/></a><a href=\"https://marketplace.axieinfinity.com/axie/9917245\" target=\"_blank\" rel=\"noopener noreferrer\"><img src=\"https://storage.googleapis.com/assets.axieinfinity.com/axies/9917245/axie/axie-full-transparent.png\" width=128 height=128 style=\"display:inline; margin:1px\"/></a>"
      ],
      "text/plain": [
       "<IPython.core.display.HTML object>"
      ]
     },
     "metadata": {},
     "output_type": "display_data"
    },
    {
     "name": "stdout",
     "output_type": "stream",
     "text": [
      "https://marketplace.axieinfinity.com/profile/ronin:0878cecad629a2b1355404d6a115b809f1ead23e/axie/ 2312 22526 Ryujin\n"
     ]
    },
    {
     "data": {
      "text/html": [
       "<a href=\"https://marketplace.axieinfinity.com/axie/1070015\" target=\"_blank\" rel=\"noopener noreferrer\"><img src=\"https://storage.googleapis.com/assets.axieinfinity.com/axies/1070015/axie/axie-full-transparent.png\" width=128 height=128 style=\"display:inline; margin:1px\"/></a><a href=\"https://marketplace.axieinfinity.com/axie/6667467\" target=\"_blank\" rel=\"noopener noreferrer\"><img src=\"https://storage.googleapis.com/assets.axieinfinity.com/axies/6667467/axie/axie-full-transparent.png\" width=128 height=128 style=\"display:inline; margin:1px\"/></a><a href=\"https://marketplace.axieinfinity.com/axie/9241779\" target=\"_blank\" rel=\"noopener noreferrer\"><img src=\"https://storage.googleapis.com/assets.axieinfinity.com/axies/9241779/axie/axie-full-transparent.png\" width=128 height=128 style=\"display:inline; margin:1px\"/></a>"
      ],
      "text/plain": [
       "<IPython.core.display.HTML object>"
      ]
     },
     "metadata": {},
     "output_type": "display_data"
    },
    {
     "name": "stdout",
     "output_type": "stream",
     "text": [
      "https://marketplace.axieinfinity.com/profile/ronin:bee76caafc1714df486eb21e16efcf7fe3834681/axie/ 2301 23916 Xav HZA.GG\n"
     ]
    },
    {
     "data": {
      "text/html": [
       "<a href=\"https://marketplace.axieinfinity.com/axie/4250737\" target=\"_blank\" rel=\"noopener noreferrer\"><img src=\"https://storage.googleapis.com/assets.axieinfinity.com/axies/4250737/axie/axie-full-transparent.png\" width=128 height=128 style=\"display:inline; margin:1px\"/></a><a href=\"https://marketplace.axieinfinity.com/axie/5701293\" target=\"_blank\" rel=\"noopener noreferrer\"><img src=\"https://storage.googleapis.com/assets.axieinfinity.com/axies/5701293/axie/axie-full-transparent.png\" width=128 height=128 style=\"display:inline; margin:1px\"/></a><a href=\"https://marketplace.axieinfinity.com/axie/8491593\" target=\"_blank\" rel=\"noopener noreferrer\"><img src=\"https://storage.googleapis.com/assets.axieinfinity.com/axies/8491593/axie/axie-full-transparent.png\" width=128 height=128 style=\"display:inline; margin:1px\"/></a>"
      ],
      "text/plain": [
       "<IPython.core.display.HTML object>"
      ]
     },
     "metadata": {},
     "output_type": "display_data"
    },
    {
     "name": "stdout",
     "output_type": "stream",
     "text": [
      "https://marketplace.axieinfinity.com/profile/ronin:dca618b60844396131af76e0990db70ab054fa4b/axie/ 2293 24726 048 Help with Heart\n"
     ]
    },
    {
     "data": {
      "text/html": [
       "<a href=\"https://marketplace.axieinfinity.com/axie/4129915\" target=\"_blank\" rel=\"noopener noreferrer\"><img src=\"https://storage.googleapis.com/assets.axieinfinity.com/axies/4129915/axie/axie-full-transparent.png\" width=128 height=128 style=\"display:inline; margin:1px\"/></a><a href=\"https://marketplace.axieinfinity.com/axie/4424598\" target=\"_blank\" rel=\"noopener noreferrer\"><img src=\"https://storage.googleapis.com/assets.axieinfinity.com/axies/4424598/axie/axie-full-transparent.png\" width=128 height=128 style=\"display:inline; margin:1px\"/></a><a href=\"https://marketplace.axieinfinity.com/axie/5104257\" target=\"_blank\" rel=\"noopener noreferrer\"><img src=\"https://storage.googleapis.com/assets.axieinfinity.com/axies/5104257/axie/axie-full-transparent.png\" width=128 height=128 style=\"display:inline; margin:1px\"/></a>"
      ],
      "text/plain": [
       "<IPython.core.display.HTML object>"
      ]
     },
     "metadata": {},
     "output_type": "display_data"
    },
    {
     "name": "stdout",
     "output_type": "stream",
     "text": [
      "https://marketplace.axieinfinity.com/profile/ronin:9f31b4c975a3bd8a3c62dac0fa0a911aa56890f0/axie/ 2291 24945 Hultech\n"
     ]
    },
    {
     "data": {
      "text/html": [
       "<a href=\"https://marketplace.axieinfinity.com/axie/7692203\" target=\"_blank\" rel=\"noopener noreferrer\"><img src=\"https://storage.googleapis.com/assets.axieinfinity.com/axies/7692203/axie/axie-full-transparent.png\" width=128 height=128 style=\"display:inline; margin:1px\"/></a><a href=\"https://marketplace.axieinfinity.com/axie/9235161\" target=\"_blank\" rel=\"noopener noreferrer\"><img src=\"https://storage.googleapis.com/assets.axieinfinity.com/axies/9235161/axie/axie-full-transparent.png\" width=128 height=128 style=\"display:inline; margin:1px\"/></a><a href=\"https://marketplace.axieinfinity.com/axie/9526309\" target=\"_blank\" rel=\"noopener noreferrer\"><img src=\"https://storage.googleapis.com/assets.axieinfinity.com/axies/9526309/axie/axie-full-transparent.png\" width=128 height=128 style=\"display:inline; margin:1px\"/></a>"
      ],
      "text/plain": [
       "<IPython.core.display.HTML object>"
      ]
     },
     "metadata": {},
     "output_type": "display_data"
    },
    {
     "name": "stdout",
     "output_type": "stream",
     "text": [
      "https://marketplace.axieinfinity.com/profile/ronin:fdf59f7777c015d41ec9c1a73af14867412de320/axie/ 2291 25027 JGX Main\n"
     ]
    },
    {
     "data": {
      "text/html": [
       "<a href=\"https://marketplace.axieinfinity.com/axie/375885\" target=\"_blank\" rel=\"noopener noreferrer\"><img src=\"https://storage.googleapis.com/assets.axieinfinity.com/axies/375885/axie/axie-full-transparent.png\" width=128 height=128 style=\"display:inline; margin:1px\"/></a><a href=\"https://marketplace.axieinfinity.com/axie/1164189\" target=\"_blank\" rel=\"noopener noreferrer\"><img src=\"https://storage.googleapis.com/assets.axieinfinity.com/axies/1164189/axie/axie-full-transparent.png\" width=128 height=128 style=\"display:inline; margin:1px\"/></a><a href=\"https://marketplace.axieinfinity.com/axie/1185684\" target=\"_blank\" rel=\"noopener noreferrer\"><img src=\"https://storage.googleapis.com/assets.axieinfinity.com/axies/1185684/axie/axie-full-transparent.png\" width=128 height=128 style=\"display:inline; margin:1px\"/></a>"
      ],
      "text/plain": [
       "<IPython.core.display.HTML object>"
      ]
     },
     "metadata": {},
     "output_type": "display_data"
    },
    {
     "name": "stdout",
     "output_type": "stream",
     "text": [
      "https://marketplace.axieinfinity.com/profile/ronin:9176d2790109849bc12bcdd87d03ae5884091ffb/axie/ 2279 26331 LighTaker\n"
     ]
    },
    {
     "data": {
      "text/html": [
       "<a href=\"https://marketplace.axieinfinity.com/axie/9696938\" target=\"_blank\" rel=\"noopener noreferrer\"><img src=\"https://storage.googleapis.com/assets.axieinfinity.com/axies/9696938/axie/axie-full-transparent.png\" width=128 height=128 style=\"display:inline; margin:1px\"/></a><a href=\"https://marketplace.axieinfinity.com/axie/9926121\" target=\"_blank\" rel=\"noopener noreferrer\"><img src=\"https://storage.googleapis.com/assets.axieinfinity.com/axies/9926121/axie/axie-full-transparent.png\" width=128 height=128 style=\"display:inline; margin:1px\"/></a><a href=\"https://marketplace.axieinfinity.com/axie/9981103\" target=\"_blank\" rel=\"noopener noreferrer\"><img src=\"https://storage.googleapis.com/assets.axieinfinity.com/axies/9981103/axie/axie-full-transparent.png\" width=128 height=128 style=\"display:inline; margin:1px\"/></a>"
      ],
      "text/plain": [
       "<IPython.core.display.HTML object>"
      ]
     },
     "metadata": {},
     "output_type": "display_data"
    },
    {
     "name": "stdout",
     "output_type": "stream",
     "text": [
      "https://marketplace.axieinfinity.com/profile/ronin:a528600b375161c51bb85217901630295d51bc59/axie/ 2277 26574 Joegeek | Krypton Legion\n"
     ]
    },
    {
     "data": {
      "text/html": [
       "<a href=\"https://marketplace.axieinfinity.com/axie/2203321\" target=\"_blank\" rel=\"noopener noreferrer\"><img src=\"https://storage.googleapis.com/assets.axieinfinity.com/axies/2203321/axie/axie-full-transparent.png\" width=128 height=128 style=\"display:inline; margin:1px\"/></a><a href=\"https://marketplace.axieinfinity.com/axie/10001802\" target=\"_blank\" rel=\"noopener noreferrer\"><img src=\"https://storage.googleapis.com/assets.axieinfinity.com/axies/10001802/axie/axie-full-transparent.png\" width=128 height=128 style=\"display:inline; margin:1px\"/></a><a href=\"https://marketplace.axieinfinity.com/axie/10124971\" target=\"_blank\" rel=\"noopener noreferrer\"><img src=\"https://storage.googleapis.com/assets.axieinfinity.com/axies/10124971/axie/axie-full-transparent.png\" width=128 height=128 style=\"display:inline; margin:1px\"/></a>"
      ],
      "text/plain": [
       "<IPython.core.display.HTML object>"
      ]
     },
     "metadata": {},
     "output_type": "display_data"
    },
    {
     "name": "stdout",
     "output_type": "stream",
     "text": [
      "https://marketplace.axieinfinity.com/profile/ronin:844536a2918fd035d878d513d189ab3d11bef560/axie/ 2275 26744 DAX | Kime\n"
     ]
    },
    {
     "data": {
      "text/html": [
       "<a href=\"https://marketplace.axieinfinity.com/axie/1983165\" target=\"_blank\" rel=\"noopener noreferrer\"><img src=\"https://storage.googleapis.com/assets.axieinfinity.com/axies/1983165/axie/axie-full-transparent.png\" width=128 height=128 style=\"display:inline; margin:1px\"/></a><a href=\"https://marketplace.axieinfinity.com/axie/9267579\" target=\"_blank\" rel=\"noopener noreferrer\"><img src=\"https://storage.googleapis.com/assets.axieinfinity.com/axies/9267579/axie/axie-full-transparent.png\" width=128 height=128 style=\"display:inline; margin:1px\"/></a><a href=\"https://marketplace.axieinfinity.com/axie/10139107\" target=\"_blank\" rel=\"noopener noreferrer\"><img src=\"https://storage.googleapis.com/assets.axieinfinity.com/axies/10139107/axie/axie-full-transparent.png\" width=128 height=128 style=\"display:inline; margin:1px\"/></a>"
      ],
      "text/plain": [
       "<IPython.core.display.HTML object>"
      ]
     },
     "metadata": {},
     "output_type": "display_data"
    },
    {
     "name": "stdout",
     "output_type": "stream",
     "text": [
      "https://marketplace.axieinfinity.com/profile/ronin:1ed0b1c0b838c3aeb08304a6e9b190e38fb2a7f9/axie/ 2273 26979 The Third Party 😄😄\n"
     ]
    },
    {
     "data": {
      "text/html": [
       "<a href=\"https://marketplace.axieinfinity.com/axie/3524693\" target=\"_blank\" rel=\"noopener noreferrer\"><img src=\"https://storage.googleapis.com/assets.axieinfinity.com/axies/3524693/axie/axie-full-transparent.png\" width=128 height=128 style=\"display:inline; margin:1px\"/></a><a href=\"https://marketplace.axieinfinity.com/axie/4984996\" target=\"_blank\" rel=\"noopener noreferrer\"><img src=\"https://storage.googleapis.com/assets.axieinfinity.com/axies/4984996/axie/axie-full-transparent.png\" width=128 height=128 style=\"display:inline; margin:1px\"/></a><a href=\"https://marketplace.axieinfinity.com/axie/5042571\" target=\"_blank\" rel=\"noopener noreferrer\"><img src=\"https://storage.googleapis.com/assets.axieinfinity.com/axies/5042571/axie/axie-full-transparent.png\" width=128 height=128 style=\"display:inline; margin:1px\"/></a>"
      ],
      "text/plain": [
       "<IPython.core.display.HTML object>"
      ]
     },
     "metadata": {},
     "output_type": "display_data"
    },
    {
     "name": "stdout",
     "output_type": "stream",
     "text": [
      "https://marketplace.axieinfinity.com/profile/ronin:7158e73e232188bca31f405090d5dc91bdadbafa/axie/ 2267 27703 LuxTenebræ.butete.esport\n"
     ]
    },
    {
     "data": {
      "text/html": [
       "<a href=\"https://marketplace.axieinfinity.com/axie/5220714\" target=\"_blank\" rel=\"noopener noreferrer\"><img src=\"https://storage.googleapis.com/assets.axieinfinity.com/axies/5220714/axie/axie-full-transparent.png\" width=128 height=128 style=\"display:inline; margin:1px\"/></a><a href=\"https://marketplace.axieinfinity.com/axie/5382983\" target=\"_blank\" rel=\"noopener noreferrer\"><img src=\"https://storage.googleapis.com/assets.axieinfinity.com/axies/5382983/axie/axie-full-transparent.png\" width=128 height=128 style=\"display:inline; margin:1px\"/></a><a href=\"https://marketplace.axieinfinity.com/axie/5496660\" target=\"_blank\" rel=\"noopener noreferrer\"><img src=\"https://storage.googleapis.com/assets.axieinfinity.com/axies/5496660/axie/axie-full-transparent.png\" width=128 height=128 style=\"display:inline; margin:1px\"/></a>"
      ],
      "text/plain": [
       "<IPython.core.display.HTML object>"
      ]
     },
     "metadata": {},
     "output_type": "display_data"
    },
    {
     "name": "stdout",
     "output_type": "stream",
     "text": [
      "https://marketplace.axieinfinity.com/profile/ronin:80bbb20206276be9ef5ee5158452b95ef13fbac0/axie/ 2265 28026 xFUZZYx\n"
     ]
    },
    {
     "data": {
      "text/html": [
       "<a href=\"https://marketplace.axieinfinity.com/axie/7067571\" target=\"_blank\" rel=\"noopener noreferrer\"><img src=\"https://storage.googleapis.com/assets.axieinfinity.com/axies/7067571/axie/axie-full-transparent.png\" width=128 height=128 style=\"display:inline; margin:1px\"/></a><a href=\"https://marketplace.axieinfinity.com/axie/8942372\" target=\"_blank\" rel=\"noopener noreferrer\"><img src=\"https://storage.googleapis.com/assets.axieinfinity.com/axies/8942372/axie/axie-full-transparent.png\" width=128 height=128 style=\"display:inline; margin:1px\"/></a><a href=\"https://marketplace.axieinfinity.com/axie/10331088\" target=\"_blank\" rel=\"noopener noreferrer\"><img src=\"https://storage.googleapis.com/assets.axieinfinity.com/axies/10331088/axie/axie-full-transparent.png\" width=128 height=128 style=\"display:inline; margin:1px\"/></a>"
      ],
      "text/plain": [
       "<IPython.core.display.HTML object>"
      ]
     },
     "metadata": {},
     "output_type": "display_data"
    },
    {
     "name": "stdout",
     "output_type": "stream",
     "text": [
      "https://marketplace.axieinfinity.com/profile/ronin:600b65829be9ec4024da0172a94650f39f8af45b/axie/ 2253 29555 Pirata_03 #Boknoy\n"
     ]
    },
    {
     "data": {
      "text/html": [
       "<a href=\"https://marketplace.axieinfinity.com/axie/388184\" target=\"_blank\" rel=\"noopener noreferrer\"><img src=\"https://storage.googleapis.com/assets.axieinfinity.com/axies/388184/axie/axie-full-transparent.png\" width=128 height=128 style=\"display:inline; margin:1px\"/></a><a href=\"https://marketplace.axieinfinity.com/axie/395014\" target=\"_blank\" rel=\"noopener noreferrer\"><img src=\"https://storage.googleapis.com/assets.axieinfinity.com/axies/395014/axie/axie-full-transparent.png\" width=128 height=128 style=\"display:inline; margin:1px\"/></a><a href=\"https://marketplace.axieinfinity.com/axie/1004961\" target=\"_blank\" rel=\"noopener noreferrer\"><img src=\"https://storage.googleapis.com/assets.axieinfinity.com/axies/1004961/axie/axie-full-transparent.png\" width=128 height=128 style=\"display:inline; margin:1px\"/></a>"
      ],
      "text/plain": [
       "<IPython.core.display.HTML object>"
      ]
     },
     "metadata": {},
     "output_type": "display_data"
    },
    {
     "name": "stdout",
     "output_type": "stream",
     "text": [
      "https://marketplace.axieinfinity.com/profile/ronin:99c23a43905e28033cb7bd05e320b36991cbb1fb/axie/ 2231 32759 Eleven\n"
     ]
    },
    {
     "data": {
      "text/html": [
       "<a href=\"https://marketplace.axieinfinity.com/axie/4247354\" target=\"_blank\" rel=\"noopener noreferrer\"><img src=\"https://storage.googleapis.com/assets.axieinfinity.com/axies/4247354/axie/axie-full-transparent.png\" width=128 height=128 style=\"display:inline; margin:1px\"/></a><a href=\"https://marketplace.axieinfinity.com/axie/5522037\" target=\"_blank\" rel=\"noopener noreferrer\"><img src=\"https://storage.googleapis.com/assets.axieinfinity.com/axies/5522037/axie/axie-full-transparent.png\" width=128 height=128 style=\"display:inline; margin:1px\"/></a><a href=\"https://marketplace.axieinfinity.com/axie/5602795\" target=\"_blank\" rel=\"noopener noreferrer\"><img src=\"https://storage.googleapis.com/assets.axieinfinity.com/axies/5602795/axie/axie-full-transparent.png\" width=128 height=128 style=\"display:inline; margin:1px\"/></a>"
      ],
      "text/plain": [
       "<IPython.core.display.HTML object>"
      ]
     },
     "metadata": {},
     "output_type": "display_data"
    },
    {
     "name": "stdout",
     "output_type": "stream",
     "text": [
      "https://marketplace.axieinfinity.com/profile/ronin:b67f80f39025875ee8c0975b6333aa40d3ae34c7/axie/ 2223 33940 KW-Heigor\n"
     ]
    },
    {
     "data": {
      "text/html": [
       "<a href=\"https://marketplace.axieinfinity.com/axie/1317760\" target=\"_blank\" rel=\"noopener noreferrer\"><img src=\"https://storage.googleapis.com/assets.axieinfinity.com/axies/1317760/axie/axie-full-transparent.png\" width=128 height=128 style=\"display:inline; margin:1px\"/></a><a href=\"https://marketplace.axieinfinity.com/axie/6918012\" target=\"_blank\" rel=\"noopener noreferrer\"><img src=\"https://storage.googleapis.com/assets.axieinfinity.com/axies/6918012/axie/axie-full-transparent.png\" width=128 height=128 style=\"display:inline; margin:1px\"/></a><a href=\"https://marketplace.axieinfinity.com/axie/7035059\" target=\"_blank\" rel=\"noopener noreferrer\"><img src=\"https://storage.googleapis.com/assets.axieinfinity.com/axies/7035059/axie/axie-full-transparent.png\" width=128 height=128 style=\"display:inline; margin:1px\"/></a>"
      ],
      "text/plain": [
       "<IPython.core.display.HTML object>"
      ]
     },
     "metadata": {},
     "output_type": "display_data"
    },
    {
     "name": "stdout",
     "output_type": "stream",
     "text": [
      "https://marketplace.axieinfinity.com/profile/ronin:7addbd6ea37822bee404240d9de2923ce1163b0e/axie/ 2208 36413 P3P3L4ND | PapiChuloVel\n"
     ]
    },
    {
     "data": {
      "text/html": [
       "<a href=\"https://marketplace.axieinfinity.com/axie/9460287\" target=\"_blank\" rel=\"noopener noreferrer\"><img src=\"https://storage.googleapis.com/assets.axieinfinity.com/axies/9460287/axie/axie-full-transparent.png\" width=128 height=128 style=\"display:inline; margin:1px\"/></a><a href=\"https://marketplace.axieinfinity.com/axie/9874456\" target=\"_blank\" rel=\"noopener noreferrer\"><img src=\"https://storage.googleapis.com/assets.axieinfinity.com/axies/9874456/axie/axie-full-transparent.png\" width=128 height=128 style=\"display:inline; margin:1px\"/></a><a href=\"https://marketplace.axieinfinity.com/axie/9923411\" target=\"_blank\" rel=\"noopener noreferrer\"><img src=\"https://storage.googleapis.com/assets.axieinfinity.com/axies/9923411/axie/axie-full-transparent.png\" width=128 height=128 style=\"display:inline; margin:1px\"/></a>"
      ],
      "text/plain": [
       "<IPython.core.display.HTML object>"
      ]
     },
     "metadata": {},
     "output_type": "display_data"
    },
    {
     "name": "stdout",
     "output_type": "stream",
     "text": [
      "https://marketplace.axieinfinity.com/profile/ronin:c2a21e0e540be2111b24942315825b083f83706a/axie/ 2201 37603 FerranMaster\n"
     ]
    },
    {
     "data": {
      "text/html": [
       "<a href=\"https://marketplace.axieinfinity.com/axie/2475738\" target=\"_blank\" rel=\"noopener noreferrer\"><img src=\"https://storage.googleapis.com/assets.axieinfinity.com/axies/2475738/axie/axie-full-transparent.png\" width=128 height=128 style=\"display:inline; margin:1px\"/></a><a href=\"https://marketplace.axieinfinity.com/axie/7520247\" target=\"_blank\" rel=\"noopener noreferrer\"><img src=\"https://storage.googleapis.com/assets.axieinfinity.com/axies/7520247/axie/axie-full-transparent.png\" width=128 height=128 style=\"display:inline; margin:1px\"/></a><a href=\"https://marketplace.axieinfinity.com/axie/9509960\" target=\"_blank\" rel=\"noopener noreferrer\"><img src=\"https://storage.googleapis.com/assets.axieinfinity.com/axies/9509960/axie/axie-full-transparent.png\" width=128 height=128 style=\"display:inline; margin:1px\"/></a>"
      ],
      "text/plain": [
       "<IPython.core.display.HTML object>"
      ]
     },
     "metadata": {},
     "output_type": "display_data"
    },
    {
     "name": "stdout",
     "output_type": "stream",
     "text": [
      "https://marketplace.axieinfinity.com/profile/ronin:9425daf3ce200c23e5120ccd88ee0c14d572c7bf/axie/ 2196 38431 Taluwt | GGH\n"
     ]
    },
    {
     "data": {
      "text/html": [
       "<a href=\"https://marketplace.axieinfinity.com/axie/6527114\" target=\"_blank\" rel=\"noopener noreferrer\"><img src=\"https://storage.googleapis.com/assets.axieinfinity.com/axies/6527114/axie/axie-full-transparent.png\" width=128 height=128 style=\"display:inline; margin:1px\"/></a><a href=\"https://marketplace.axieinfinity.com/axie/8146389\" target=\"_blank\" rel=\"noopener noreferrer\"><img src=\"https://storage.googleapis.com/assets.axieinfinity.com/axies/8146389/axie/axie-full-transparent.png\" width=128 height=128 style=\"display:inline; margin:1px\"/></a><a href=\"https://marketplace.axieinfinity.com/axie/9626727\" target=\"_blank\" rel=\"noopener noreferrer\"><img src=\"https://storage.googleapis.com/assets.axieinfinity.com/axies/9626727/axie/axie-full-transparent.png\" width=128 height=128 style=\"display:inline; margin:1px\"/></a>"
      ],
      "text/plain": [
       "<IPython.core.display.HTML object>"
      ]
     },
     "metadata": {},
     "output_type": "display_data"
    },
    {
     "name": "stdout",
     "output_type": "stream",
     "text": [
      "https://marketplace.axieinfinity.com/profile/ronin:128cf295922133bde0f36eaf87c2bab5aa3ccf73/axie/ 2185 40295 bncmnt\n"
     ]
    },
    {
     "data": {
      "text/html": [
       "<a href=\"https://marketplace.axieinfinity.com/axie/9932785\" target=\"_blank\" rel=\"noopener noreferrer\"><img src=\"https://storage.googleapis.com/assets.axieinfinity.com/axies/9932785/axie/axie-full-transparent.png\" width=128 height=128 style=\"display:inline; margin:1px\"/></a><a href=\"https://marketplace.axieinfinity.com/axie/10057468\" target=\"_blank\" rel=\"noopener noreferrer\"><img src=\"https://storage.googleapis.com/assets.axieinfinity.com/axies/10057468/axie/axie-full-transparent.png\" width=128 height=128 style=\"display:inline; margin:1px\"/></a><a href=\"https://marketplace.axieinfinity.com/axie/10095971\" target=\"_blank\" rel=\"noopener noreferrer\"><img src=\"https://storage.googleapis.com/assets.axieinfinity.com/axies/10095971/axie/axie-full-transparent.png\" width=128 height=128 style=\"display:inline; margin:1px\"/></a>"
      ],
      "text/plain": [
       "<IPython.core.display.HTML object>"
      ]
     },
     "metadata": {},
     "output_type": "display_data"
    },
    {
     "name": "stdout",
     "output_type": "stream",
     "text": [
      "https://marketplace.axieinfinity.com/profile/ronin:d1f6dfe65cf04fa0347aee2a479b9dd5e3ceb24d/axie/ 2184 40577 Danking23\n"
     ]
    },
    {
     "data": {
      "text/html": [
       "<a href=\"https://marketplace.axieinfinity.com/axie/4260583\" target=\"_blank\" rel=\"noopener noreferrer\"><img src=\"https://storage.googleapis.com/assets.axieinfinity.com/axies/4260583/axie/axie-full-transparent.png\" width=128 height=128 style=\"display:inline; margin:1px\"/></a><a href=\"https://marketplace.axieinfinity.com/axie/4374271\" target=\"_blank\" rel=\"noopener noreferrer\"><img src=\"https://storage.googleapis.com/assets.axieinfinity.com/axies/4374271/axie/axie-full-transparent.png\" width=128 height=128 style=\"display:inline; margin:1px\"/></a><a href=\"https://marketplace.axieinfinity.com/axie/5910789\" target=\"_blank\" rel=\"noopener noreferrer\"><img src=\"https://storage.googleapis.com/assets.axieinfinity.com/axies/5910789/axie/axie-full-transparent.png\" width=128 height=128 style=\"display:inline; margin:1px\"/></a>"
      ],
      "text/plain": [
       "<IPython.core.display.HTML object>"
      ]
     },
     "metadata": {},
     "output_type": "display_data"
    },
    {
     "name": "stdout",
     "output_type": "stream",
     "text": [
      "https://marketplace.axieinfinity.com/profile/ronin:2320a62869de63448de0ffd3231fc6deeaf45713/axie/ 2162 44671 DARN\n"
     ]
    },
    {
     "data": {
      "text/html": [
       "<a href=\"https://marketplace.axieinfinity.com/axie/8846950\" target=\"_blank\" rel=\"noopener noreferrer\"><img src=\"https://storage.googleapis.com/assets.axieinfinity.com/axies/8846950/axie/axie-full-transparent.png\" width=128 height=128 style=\"display:inline; margin:1px\"/></a><a href=\"https://marketplace.axieinfinity.com/axie/9907654\" target=\"_blank\" rel=\"noopener noreferrer\"><img src=\"https://storage.googleapis.com/assets.axieinfinity.com/axies/9907654/axie/axie-full-transparent.png\" width=128 height=128 style=\"display:inline; margin:1px\"/></a><a href=\"https://marketplace.axieinfinity.com/axie/9910809\" target=\"_blank\" rel=\"noopener noreferrer\"><img src=\"https://storage.googleapis.com/assets.axieinfinity.com/axies/9910809/axie/axie-full-transparent.png\" width=128 height=128 style=\"display:inline; margin:1px\"/></a>"
      ],
      "text/plain": [
       "<IPython.core.display.HTML object>"
      ]
     },
     "metadata": {},
     "output_type": "display_data"
    },
    {
     "name": "stdout",
     "output_type": "stream",
     "text": [
      "https://marketplace.axieinfinity.com/profile/ronin:5df582cbd1787cb5fdc69ef72f8764b6212ab769/axie/ 2159 45305 chuchay\n"
     ]
    },
    {
     "data": {
      "text/html": [
       "<a href=\"https://marketplace.axieinfinity.com/axie/6485157\" target=\"_blank\" rel=\"noopener noreferrer\"><img src=\"https://storage.googleapis.com/assets.axieinfinity.com/axies/6485157/axie/axie-full-transparent.png\" width=128 height=128 style=\"display:inline; margin:1px\"/></a><a href=\"https://marketplace.axieinfinity.com/axie/8249637\" target=\"_blank\" rel=\"noopener noreferrer\"><img src=\"https://storage.googleapis.com/assets.axieinfinity.com/axies/8249637/axie/axie-full-transparent.png\" width=128 height=128 style=\"display:inline; margin:1px\"/></a><a href=\"https://marketplace.axieinfinity.com/axie/9937391\" target=\"_blank\" rel=\"noopener noreferrer\"><img src=\"https://storage.googleapis.com/assets.axieinfinity.com/axies/9937391/axie/axie-full-transparent.png\" width=128 height=128 style=\"display:inline; margin:1px\"/></a>"
      ],
      "text/plain": [
       "<IPython.core.display.HTML object>"
      ]
     },
     "metadata": {},
     "output_type": "display_data"
    },
    {
     "name": "stdout",
     "output_type": "stream",
     "text": [
      "https://marketplace.axieinfinity.com/profile/ronin:1dc1c5470aaf37504855ada87e3c87aba8a966b7/axie/ 2152 46717 FJGuild™ Baldo\n"
     ]
    },
    {
     "data": {
      "text/html": [
       "<a href=\"https://marketplace.axieinfinity.com/axie/7591045\" target=\"_blank\" rel=\"noopener noreferrer\"><img src=\"https://storage.googleapis.com/assets.axieinfinity.com/axies/7591045/axie/axie-full-transparent.png\" width=128 height=128 style=\"display:inline; margin:1px\"/></a><a href=\"https://marketplace.axieinfinity.com/axie/7612245\" target=\"_blank\" rel=\"noopener noreferrer\"><img src=\"https://storage.googleapis.com/assets.axieinfinity.com/axies/7612245/axie/axie-full-transparent.png\" width=128 height=128 style=\"display:inline; margin:1px\"/></a><a href=\"https://marketplace.axieinfinity.com/axie/7850428\" target=\"_blank\" rel=\"noopener noreferrer\"><img src=\"https://storage.googleapis.com/assets.axieinfinity.com/axies/7850428/axie/axie-full-transparent.png\" width=128 height=128 style=\"display:inline; margin:1px\"/></a>"
      ],
      "text/plain": [
       "<IPython.core.display.HTML object>"
      ]
     },
     "metadata": {},
     "output_type": "display_data"
    },
    {
     "name": "stdout",
     "output_type": "stream",
     "text": [
      "https://marketplace.axieinfinity.com/profile/ronin:a8dda8bc45cc1e3a848f5e10f7313787d4e00afb/axie/ 2129 51650 Lunacian #2085767\n"
     ]
    },
    {
     "data": {
      "text/html": [
       "<a href=\"https://marketplace.axieinfinity.com/axie/3513483\" target=\"_blank\" rel=\"noopener noreferrer\"><img src=\"https://storage.googleapis.com/assets.axieinfinity.com/axies/3513483/axie/axie-full-transparent.png\" width=128 height=128 style=\"display:inline; margin:1px\"/></a><a href=\"https://marketplace.axieinfinity.com/axie/3630818\" target=\"_blank\" rel=\"noopener noreferrer\"><img src=\"https://storage.googleapis.com/assets.axieinfinity.com/axies/3630818/axie/axie-full-transparent.png\" width=128 height=128 style=\"display:inline; margin:1px\"/></a><a href=\"https://marketplace.axieinfinity.com/axie/4680007\" target=\"_blank\" rel=\"noopener noreferrer\"><img src=\"https://storage.googleapis.com/assets.axieinfinity.com/axies/4680007/axie/axie-full-transparent.png\" width=128 height=128 style=\"display:inline; margin:1px\"/></a>"
      ],
      "text/plain": [
       "<IPython.core.display.HTML object>"
      ]
     },
     "metadata": {},
     "output_type": "display_data"
    },
    {
     "name": "stdout",
     "output_type": "stream",
     "text": [
      "https://marketplace.axieinfinity.com/profile/ronin:f9819b18a84cdccde596c4c34ae9d80d3b6d72cc/axie/ 2123 53222 Main Account\n"
     ]
    },
    {
     "data": {
      "text/html": [
       "<a href=\"https://marketplace.axieinfinity.com/axie/2349841\" target=\"_blank\" rel=\"noopener noreferrer\"><img src=\"https://storage.googleapis.com/assets.axieinfinity.com/axies/2349841/axie/axie-full-transparent.png\" width=128 height=128 style=\"display:inline; margin:1px\"/></a><a href=\"https://marketplace.axieinfinity.com/axie/5440011\" target=\"_blank\" rel=\"noopener noreferrer\"><img src=\"https://storage.googleapis.com/assets.axieinfinity.com/axies/5440011/axie/axie-full-transparent.png\" width=128 height=128 style=\"display:inline; margin:1px\"/></a><a href=\"https://marketplace.axieinfinity.com/axie/9484745\" target=\"_blank\" rel=\"noopener noreferrer\"><img src=\"https://storage.googleapis.com/assets.axieinfinity.com/axies/9484745/axie/axie-full-transparent.png\" width=128 height=128 style=\"display:inline; margin:1px\"/></a>"
      ],
      "text/plain": [
       "<IPython.core.display.HTML object>"
      ]
     },
     "metadata": {},
     "output_type": "display_data"
    },
    {
     "name": "stdout",
     "output_type": "stream",
     "text": [
      "https://marketplace.axieinfinity.com/profile/ronin:2c4ae90a32523801fabc7f0727679bfc6c01d539/axie/ 2122 53263 PUNYAWA MAN JUD UY\n"
     ]
    },
    {
     "data": {
      "text/html": [
       "<a href=\"https://marketplace.axieinfinity.com/axie/6072719\" target=\"_blank\" rel=\"noopener noreferrer\"><img src=\"https://storage.googleapis.com/assets.axieinfinity.com/axies/6072719/axie/axie-full-transparent.png\" width=128 height=128 style=\"display:inline; margin:1px\"/></a><a href=\"https://marketplace.axieinfinity.com/axie/6399081\" target=\"_blank\" rel=\"noopener noreferrer\"><img src=\"https://storage.googleapis.com/assets.axieinfinity.com/axies/6399081/axie/axie-full-transparent.png\" width=128 height=128 style=\"display:inline; margin:1px\"/></a><a href=\"https://marketplace.axieinfinity.com/axie/6430230\" target=\"_blank\" rel=\"noopener noreferrer\"><img src=\"https://storage.googleapis.com/assets.axieinfinity.com/axies/6430230/axie/axie-full-transparent.png\" width=128 height=128 style=\"display:inline; margin:1px\"/></a>"
      ],
      "text/plain": [
       "<IPython.core.display.HTML object>"
      ]
     },
     "metadata": {},
     "output_type": "display_data"
    },
    {
     "name": "stdout",
     "output_type": "stream",
     "text": [
      "https://marketplace.axieinfinity.com/profile/ronin:e68aee30233ba3331e309eca280605c45b0c1d07/axie/ 2114 55246 OPG - Egi\n"
     ]
    },
    {
     "data": {
      "text/html": [
       "<a href=\"https://marketplace.axieinfinity.com/axie/2934936\" target=\"_blank\" rel=\"noopener noreferrer\"><img src=\"https://storage.googleapis.com/assets.axieinfinity.com/axies/2934936/axie/axie-full-transparent.png\" width=128 height=128 style=\"display:inline; margin:1px\"/></a><a href=\"https://marketplace.axieinfinity.com/axie/4443814\" target=\"_blank\" rel=\"noopener noreferrer\"><img src=\"https://storage.googleapis.com/assets.axieinfinity.com/axies/4443814/axie/axie-full-transparent.png\" width=128 height=128 style=\"display:inline; margin:1px\"/></a><a href=\"https://marketplace.axieinfinity.com/axie/4944052\" target=\"_blank\" rel=\"noopener noreferrer\"><img src=\"https://storage.googleapis.com/assets.axieinfinity.com/axies/4944052/axie/axie-full-transparent.png\" width=128 height=128 style=\"display:inline; margin:1px\"/></a>"
      ],
      "text/plain": [
       "<IPython.core.display.HTML object>"
      ]
     },
     "metadata": {},
     "output_type": "display_data"
    },
    {
     "name": "stdout",
     "output_type": "stream",
     "text": [
      "https://marketplace.axieinfinity.com/profile/ronin:353bc2e88cea36c94002dff1a48f2d93243a258e/axie/ 2100 59191 Will1\n"
     ]
    },
    {
     "data": {
      "text/html": [
       "<a href=\"https://marketplace.axieinfinity.com/axie/5568529\" target=\"_blank\" rel=\"noopener noreferrer\"><img src=\"https://storage.googleapis.com/assets.axieinfinity.com/axies/5568529/axie/axie-full-transparent.png\" width=128 height=128 style=\"display:inline; margin:1px\"/></a><a href=\"https://marketplace.axieinfinity.com/axie/9127599\" target=\"_blank\" rel=\"noopener noreferrer\"><img src=\"https://storage.googleapis.com/assets.axieinfinity.com/axies/9127599/axie/axie-full-transparent.png\" width=128 height=128 style=\"display:inline; margin:1px\"/></a><a href=\"https://marketplace.axieinfinity.com/axie/9235753\" target=\"_blank\" rel=\"noopener noreferrer\"><img src=\"https://storage.googleapis.com/assets.axieinfinity.com/axies/9235753/axie/axie-full-transparent.png\" width=128 height=128 style=\"display:inline; margin:1px\"/></a>"
      ],
      "text/plain": [
       "<IPython.core.display.HTML object>"
      ]
     },
     "metadata": {},
     "output_type": "display_data"
    },
    {
     "name": "stdout",
     "output_type": "stream",
     "text": [
      "https://marketplace.axieinfinity.com/profile/ronin:0e61eaec00db962c88b34fb3a37f78118515b961/axie/ 2095 60366 L1oyd | RDC Scholar\n"
     ]
    },
    {
     "data": {
      "text/html": [
       "<a href=\"https://marketplace.axieinfinity.com/axie/2971610\" target=\"_blank\" rel=\"noopener noreferrer\"><img src=\"https://storage.googleapis.com/assets.axieinfinity.com/axies/2971610/axie/axie-full-transparent.png\" width=128 height=128 style=\"display:inline; margin:1px\"/></a><a href=\"https://marketplace.axieinfinity.com/axie/6102098\" target=\"_blank\" rel=\"noopener noreferrer\"><img src=\"https://storage.googleapis.com/assets.axieinfinity.com/axies/6102098/axie/axie-full-transparent.png\" width=128 height=128 style=\"display:inline; margin:1px\"/></a><a href=\"https://marketplace.axieinfinity.com/axie/8277499\" target=\"_blank\" rel=\"noopener noreferrer\"><img src=\"https://storage.googleapis.com/assets.axieinfinity.com/axies/8277499/axie/axie-full-transparent.png\" width=128 height=128 style=\"display:inline; margin:1px\"/></a>"
      ],
      "text/plain": [
       "<IPython.core.display.HTML object>"
      ]
     },
     "metadata": {},
     "output_type": "display_data"
    },
    {
     "name": "stdout",
     "output_type": "stream",
     "text": [
      "https://marketplace.axieinfinity.com/profile/ronin:70424eab262c4800091af603d6582cc59a025d2c/axie/ 2090 61556 Cuenta #2\n"
     ]
    },
    {
     "data": {
      "text/html": [
       "<a href=\"https://marketplace.axieinfinity.com/axie/3533595\" target=\"_blank\" rel=\"noopener noreferrer\"><img src=\"https://storage.googleapis.com/assets.axieinfinity.com/axies/3533595/axie/axie-full-transparent.png\" width=128 height=128 style=\"display:inline; margin:1px\"/></a><a href=\"https://marketplace.axieinfinity.com/axie/9092080\" target=\"_blank\" rel=\"noopener noreferrer\"><img src=\"https://storage.googleapis.com/assets.axieinfinity.com/axies/9092080/axie/axie-full-transparent.png\" width=128 height=128 style=\"display:inline; margin:1px\"/></a><a href=\"https://marketplace.axieinfinity.com/axie/9212257\" target=\"_blank\" rel=\"noopener noreferrer\"><img src=\"https://storage.googleapis.com/assets.axieinfinity.com/axies/9212257/axie/axie-full-transparent.png\" width=128 height=128 style=\"display:inline; margin:1px\"/></a>"
      ],
      "text/plain": [
       "<IPython.core.display.HTML object>"
      ]
     },
     "metadata": {},
     "output_type": "display_data"
    },
    {
     "name": "stdout",
     "output_type": "stream",
     "text": [
      "https://marketplace.axieinfinity.com/profile/ronin:1bdc18a704da68547b53dee33f9c1239ccfe5266/axie/ 2064 68855 Akuma || DanAkiss22\n"
     ]
    },
    {
     "data": {
      "text/html": [
       "<a href=\"https://marketplace.axieinfinity.com/axie/7484836\" target=\"_blank\" rel=\"noopener noreferrer\"><img src=\"https://storage.googleapis.com/assets.axieinfinity.com/axies/7484836/axie/axie-full-transparent.png\" width=128 height=128 style=\"display:inline; margin:1px\"/></a><a href=\"https://marketplace.axieinfinity.com/axie/7733764\" target=\"_blank\" rel=\"noopener noreferrer\"><img src=\"https://storage.googleapis.com/assets.axieinfinity.com/axies/7733764/axie/axie-full-transparent.png\" width=128 height=128 style=\"display:inline; margin:1px\"/></a><a href=\"https://marketplace.axieinfinity.com/axie/10077767\" target=\"_blank\" rel=\"noopener noreferrer\"><img src=\"https://storage.googleapis.com/assets.axieinfinity.com/axies/10077767/axie/axie-full-transparent.png\" width=128 height=128 style=\"display:inline; margin:1px\"/></a>"
      ],
      "text/plain": [
       "<IPython.core.display.HTML object>"
      ]
     },
     "metadata": {},
     "output_type": "display_data"
    },
    {
     "name": "stdout",
     "output_type": "stream",
     "text": [
      "https://marketplace.axieinfinity.com/profile/ronin:671bd0450d425bbfe67acca2b23fa5ae675f1562/axie/ 2002 91393 scholarship01\n"
     ]
    },
    {
     "data": {
      "text/html": [
       "<a href=\"https://marketplace.axieinfinity.com/axie/7801651\" target=\"_blank\" rel=\"noopener noreferrer\"><img src=\"https://storage.googleapis.com/assets.axieinfinity.com/axies/7801651/axie/axie-full-transparent.png\" width=128 height=128 style=\"display:inline; margin:1px\"/></a><a href=\"https://marketplace.axieinfinity.com/axie/7987122\" target=\"_blank\" rel=\"noopener noreferrer\"><img src=\"https://storage.googleapis.com/assets.axieinfinity.com/axies/7987122/axie/axie-full-transparent.png\" width=128 height=128 style=\"display:inline; margin:1px\"/></a><a href=\"https://marketplace.axieinfinity.com/axie/8068833\" target=\"_blank\" rel=\"noopener noreferrer\"><img src=\"https://storage.googleapis.com/assets.axieinfinity.com/axies/8068833/axie/axie-full-transparent.png\" width=128 height=128 style=\"display:inline; margin:1px\"/></a>"
      ],
      "text/plain": [
       "<IPython.core.display.HTML object>"
      ]
     },
     "metadata": {},
     "output_type": "display_data"
    },
    {
     "name": "stdout",
     "output_type": "stream",
     "text": [
      "https://marketplace.axieinfinity.com/profile/ronin:5a656452bc59a1ae7af83224c5b6eab88c6f18aa/axie/ 1963 106738 Riley l HitmakersAxie\n"
     ]
    },
    {
     "data": {
      "text/html": [
       "<a href=\"https://marketplace.axieinfinity.com/axie/9099576\" target=\"_blank\" rel=\"noopener noreferrer\"><img src=\"https://storage.googleapis.com/assets.axieinfinity.com/axies/9099576/axie/axie-full-transparent.png\" width=128 height=128 style=\"display:inline; margin:1px\"/></a><a href=\"https://marketplace.axieinfinity.com/axie/9834263\" target=\"_blank\" rel=\"noopener noreferrer\"><img src=\"https://storage.googleapis.com/assets.axieinfinity.com/axies/9834263/axie/axie-full-transparent.png\" width=128 height=128 style=\"display:inline; margin:1px\"/></a><a href=\"https://marketplace.axieinfinity.com/axie/10130440\" target=\"_blank\" rel=\"noopener noreferrer\"><img src=\"https://storage.googleapis.com/assets.axieinfinity.com/axies/10130440/axie/axie-full-transparent.png\" width=128 height=128 style=\"display:inline; margin:1px\"/></a>"
      ],
      "text/plain": [
       "<IPython.core.display.HTML object>"
      ]
     },
     "metadata": {},
     "output_type": "display_data"
    },
    {
     "name": "stdout",
     "output_type": "stream",
     "text": [
      "https://marketplace.axieinfinity.com/profile/ronin:e1af343bd7042608b8a2386d15f8716713668a07/axie/ 1874 153217 52 | Nardski | R2\n"
     ]
    },
    {
     "data": {
      "text/html": [
       "<a href=\"https://marketplace.axieinfinity.com/axie/6530087\" target=\"_blank\" rel=\"noopener noreferrer\"><img src=\"https://storage.googleapis.com/assets.axieinfinity.com/axies/6530087/axie/axie-full-transparent.png\" width=128 height=128 style=\"display:inline; margin:1px\"/></a><a href=\"https://marketplace.axieinfinity.com/axie/8844841\" target=\"_blank\" rel=\"noopener noreferrer\"><img src=\"https://storage.googleapis.com/assets.axieinfinity.com/axies/8844841/axie/axie-full-transparent.png\" width=128 height=128 style=\"display:inline; margin:1px\"/></a><a href=\"https://marketplace.axieinfinity.com/axie/9161042\" target=\"_blank\" rel=\"noopener noreferrer\"><img src=\"https://storage.googleapis.com/assets.axieinfinity.com/axies/9161042/axie/axie-full-transparent.png\" width=128 height=128 style=\"display:inline; margin:1px\"/></a>"
      ],
      "text/plain": [
       "<IPython.core.display.HTML object>"
      ]
     },
     "metadata": {},
     "output_type": "display_data"
    }
   ],
   "source": [
    "link_templ = \"https://marketplace.axieinfinity.com/profile/ronin:%s/axie/\"\n",
    "for client_id, elo, rank, name in answer:\n",
    "    link_id = link_templ%client_id[2:]\n",
    "    print(link_id, elo, rank, name)\n",
    "    axieList = teams[client_id]\n",
    "    axieImages = [\"https://storage.googleapis.com/assets.axieinfinity.com/axies/%s/axie/axie-full-transparent.png\"%x for x in axieList]\n",
    "    displayAxies(axieList, axieImages, False)"
   ]
  },
  {
   "cell_type": "code",
   "execution_count": null,
   "metadata": {
    "scrolled": true
   },
   "outputs": [],
   "source": []
  },
  {
   "cell_type": "code",
   "execution_count": null,
   "metadata": {
    "scrolled": true
   },
   "outputs": [],
   "source": []
  }
 ],
 "metadata": {
  "kernelspec": {
   "display_name": "Python 3",
   "language": "python",
   "name": "python3"
  },
  "language_info": {
   "codemirror_mode": {
    "name": "ipython",
    "version": 3
   },
   "file_extension": ".py",
   "mimetype": "text/x-python",
   "name": "python",
   "nbconvert_exporter": "python",
   "pygments_lexer": "ipython3",
   "version": "3.8.5"
  }
 },
 "nbformat": 4,
 "nbformat_minor": 4
}

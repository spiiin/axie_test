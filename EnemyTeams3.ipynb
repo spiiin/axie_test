{
 "cells": [
  {
   "cell_type": "code",
   "execution_count": 3,
   "metadata": {
    "scrolled": true
   },
   "outputs": [],
   "source": [
    "import requests, json, time, os\n",
    "from collections import Counter\n",
    "from IPython.core.display import display, HTML"
   ]
  },
  {
   "cell_type": "code",
   "execution_count": 4,
   "metadata": {
    "scrolled": true
   },
   "outputs": [],
   "source": [
    "pathToBattles = r\"~\\AppData\\LocalLow\\Sky Mavis\\Axie Infinity\\production-battleHistoriesState\"\n",
    "pathToBattles = os.path.expanduser(pathToBattles)"
   ]
  },
  {
   "cell_type": "code",
   "execution_count": 13,
   "metadata": {
    "scrolled": true
   },
   "outputs": [],
   "source": [
    "with open(pathToBattles, \"rt\") as f:\n",
    "    data = json.load(f)\n",
    "battles = data[\"battles\"]\n",
    "\n",
    "teams = {}\n",
    "for battle in battles:\n",
    "    if battle[\"battleType\"] == 1:\n",
    "        first = battle[\"firstClientId\"]\n",
    "        second = battle[\"secondClientId\"]\n",
    "        enemyNo = first == my and  1 or 0\n",
    "        enemyId = first == my and second or first\n",
    "        team = []\n",
    "        for fighter in battle[\"fighters\"]:\n",
    "            if fighter[\"teamIndex\"] == enemyNo:\n",
    "                team.append(fighter[\"id\"])\n",
    "        teams[enemyId] = team"
   ]
  },
  {
   "cell_type": "code",
   "execution_count": 14,
   "metadata": {
    "scrolled": true
   },
   "outputs": [],
   "source": [
    "#for enemy, team in teams.items():\n",
    "#    print(enemy, team)"
   ]
  },
  {
   "cell_type": "code",
   "execution_count": 7,
   "metadata": {
    "scrolled": true
   },
   "outputs": [],
   "source": [
    "from python_graphql_client import GraphqlClient\n",
    "client = GraphqlClient(endpoint=\"https://graphql-gateway.axieinfinity.com/graphql\")"
   ]
  },
  {
   "cell_type": "code",
   "execution_count": 8,
   "metadata": {
    "scrolled": true
   },
   "outputs": [],
   "source": [
    "def getProfileData(address):\n",
    "    query = \"\"\"query GetProfileByRoninAddress($roninAddress: String!) {\\n  publicProfileWithRoninAddress(roninAddress: $roninAddress) {\\n    ...Profile\\n    __typename\\n  }\\n}\\n\\nfragment Profile on PublicProfile {\\n  accountId\\n  name\\n  addresses {\\n    ...Addresses\\n    __typename\\n  }\\n  __typename\\n}\\n\\nfragment Addresses on NetAddresses {\\n  ethereum\\n  tomo\\n  loom\\n  ronin\\n  __typename\\n}\\n\"\"\"\n",
    "    variables = {\"roninAddress\": address}\n",
    "    data = client.execute(query=query, variables=variables)\n",
    "    return data"
   ]
  },
  {
   "cell_type": "code",
   "execution_count": 9,
   "metadata": {
    "scrolled": true
   },
   "outputs": [
    {
     "name": "stdout",
     "output_type": "stream",
     "text": [
      "59\n",
      "https://game-api.axie.technology/mmr/0x8d7bd51955aefbd827f056080867e7c9e4c38d96,0xef66fa999f752954a1be77e3f0e606fae8a52be0,0xd2c80a65addcb36780d430308b85dd150bbdec4e,0x636605669aed5ba0038b945531cb7fbde6548139,0x144ec2596f7f721b295b07a1941cbb9f3902dcc5,0x99b6bbbdabad08a7632ad0f8bc8cac343c45362a,0x1603e5e3406854849ddbb6157a80cc5abf5cfeb4,0x641b5881f2fc2594270b0e94ff1d2c60e6ac2d2b,0x00e5196ee32ae3e68a618fa8e2f89f3b71fb46ad,0xd224a41143cb7ef4d5f5c68baa205bdd908d8d83\n",
      "https://game-api.axie.technology/mmr/0x3f33415fc0f800d5643016bddd56e415458fc5af,0xa03a27dba8ee39b651fcd8757bb0025796cde17f,0xdce43a58047d16db5f5bed1c37d03d3d91adf6c0,0x0fa3f1e6e76c1f14a6c3445d46f290c7e4517464,0x669e1df219b7f97119f27cbebc73f30536b7e595,0x3611b49725ae3c4683ac46bceb44cf2941d5051b,0x287be77d593a9f49efc8ac0bb77143585c6b8c02,0x8166b9a7368dd3fa25b077d8253b11d733e5d46a,0x820903d5a4b3b157f656604988a85956272033e1,0x0adb19e7c2b22c3c388f6eb1bd388cee8a4c277d\n",
      "https://game-api.axie.technology/mmr/0x04eadbc95b778c8e909838ba16a892e79fc1d027,0x9214822862a9feef960c66e03613c673978df70b,0xe3f41e3d2ea8696eb0bd3c98509d86078fc1a7ef,0x1e41128983c046d0f4145ece9ba74a4afaf3f87d,0x9d940036aa3f7bbf6cb8dd139ad4acf872b7dd6e,0x0f235b7b19b08a9eb70c99c53ad452a24f475d53,0x269001c95646163bb7c4870577b5c8b68bd8acfb,0x09d2dba74cdb8edf37258325cb114946139d4c54,0x917418cd9233c5dd2d38379e112b8c1e8cf27a94,0xd49b261144408721bafd6646070cd0bdb0c69e04\n",
      "https://game-api.axie.technology/mmr/0x9c465bbf76dfe5c71c9990ab6955e5da0041a624,0x95ae378990f9b3f9f2f59769ae07d0a560b90cc0,0x0ca1fc95346f0716f6c116ebb4fa17fb7dd0137f,0x138fefdb5117d6f37aeb39959e9a6fc516bfb834,0x2dbe6df547cb433c9ed9f32cdff83ed98d997233,0x64783f18f76bb4befaedf0a6fca086000bb8356d,0xeb1565efb1c2229155575131c9178998bf4bad21,0xe15ff91aef8d953b6263993b12290439acd4dc09,0x182a169d70b3a0b9f8771e8c7eef2827361d47ad,0xca2a63bbf62eca17e4bdbe3d284e40f9aa77f3a8\n",
      "https://game-api.axie.technology/mmr/0xc02d9481111d6c73cb56bbf58f07dd133a6c23aa,0x770e25315247f84c83c621e21a4c48d0099575b5,0xef1cafe7b3f552284dcb868b6ab9597f684fa461,0x3faf9e5fb731a5832c1edd21332c7ca34f5b9252,0xcb1506b8bf44fa225979dd1daf9dc6a9c7c0584b,0x97f300359b1bd5cb7e177c37e59498e091c23e5b,0xea7ca5327a7fbb197cea304b4c9b533696e07bfc,0x158d7e9b392bab03647c84ef9277f984a318a265,0xe2afa02487e005dce38a917ec382f6b247500fef,0xbddd45875e2e54386bf3a90d0196e0daec1ae0bf\n",
      "https://game-api.axie.technology/mmr/0x29ef522776b688bcd7dfb5eafd92950cb9960ef2,0x694c993d2f71f2e4cd3c0edca4c7db915bf113d2,0x686a9dc15eb518c65893dcf871576c3ca5c0220a,0x040858117dd37c9f1128874b58e9b5d7027ceb7a,0x3b67f5769bb34b8169190b9986d3ac97c012dd0a,0xfe56200186c21fed576a0c79461184f4becdb533,0x00cc805ad4b7d574c448bbf3d8db6ccfeb7b00b9,0x7b04b8453d397a46af31b9e8c801a70af39d0ab4,0xf7c3e0ed4896850062e7b7bd71f520d0edc19899\n"
     ]
    }
   ],
   "source": [
    "mmr_addr = \"https://game-api.axie.technology/mmr/\"\n",
    "addresses = list(teams.keys())\n",
    "print(len(addresses))\n",
    "answer = []\n",
    "for i in range(len(addresses)//10+1):\n",
    "    mmr_addrs = addresses[i*10:i*10+10]\n",
    "    if len(mmr_addrs) > 0:\n",
    "        mmr_req = mmr_addr + \",\".join(mmr_addrs)\n",
    "        print(mmr_req)\n",
    "        #try:\n",
    "        data = requests.get(mmr_req).json()\n",
    "        for result in data:\n",
    "            if \"items\" in result:\n",
    "                for item in result[\"items\"]:\n",
    "                    if item[\"client_id\"] in mmr_addrs:\n",
    "                        client_id = item[\"client_id\"]\n",
    "                        elo = item[\"elo\"]\n",
    "                        rank = item[\"rank\"]\n",
    "                        name = item[\"name\"]\n",
    "                        answer.append([client_id, elo, rank, name])\n",
    "    time.sleep(3.0)"
   ]
  },
  {
   "cell_type": "code",
   "execution_count": 10,
   "metadata": {
    "scrolled": true
   },
   "outputs": [],
   "source": [
    "answer.sort(key = lambda x: -x[1])"
   ]
  },
  {
   "cell_type": "code",
   "execution_count": 11,
   "metadata": {
    "scrolled": true
   },
   "outputs": [],
   "source": [
    "example_link = \"https://marketplace.axieinfinity.com/axie/\"\n",
    "def displayAxies(axieList, axieImages, displayLink):\n",
    "    lines = []\n",
    "    for axie, img in zip(axieList, axieImages):\n",
    "        link = example_link + str(axie)\n",
    "        if displayLink:\n",
    "            print(link)\n",
    "        lines.append('<a href=\"%s\" target=\"_blank\" rel=\"noopener noreferrer\"><img src=\"%s\" width=128 height=128 style=\"display:inline; margin:1px\"/></a>'%(link,img))\n",
    "    display(HTML(\"\".join(lines)))"
   ]
  },
  {
   "cell_type": "code",
   "execution_count": 12,
   "metadata": {
    "scrolled": false
   },
   "outputs": [
    {
     "name": "stdout",
     "output_type": "stream",
     "text": [
      "https://marketplace.axieinfinity.com/profile/ronin:e15ff91aef8d953b6263993b12290439acd4dc09/axie/ 2899 77 Vergil | SW 🐳\n"
     ]
    },
    {
     "data": {
      "text/html": [
       "<a href=\"https://marketplace.axieinfinity.com/axie/6373431\" target=\"_blank\" rel=\"noopener noreferrer\"><img src=\"https://storage.googleapis.com/assets.axieinfinity.com/axies/6373431/axie/axie-full-transparent.png\" width=128 height=128 style=\"display:inline; margin:1px\"/></a><a href=\"https://marketplace.axieinfinity.com/axie/8222027\" target=\"_blank\" rel=\"noopener noreferrer\"><img src=\"https://storage.googleapis.com/assets.axieinfinity.com/axies/8222027/axie/axie-full-transparent.png\" width=128 height=128 style=\"display:inline; margin:1px\"/></a><a href=\"https://marketplace.axieinfinity.com/axie/8279568\" target=\"_blank\" rel=\"noopener noreferrer\"><img src=\"https://storage.googleapis.com/assets.axieinfinity.com/axies/8279568/axie/axie-full-transparent.png\" width=128 height=128 style=\"display:inline; margin:1px\"/></a>"
      ],
      "text/plain": [
       "<IPython.core.display.HTML object>"
      ]
     },
     "metadata": {},
     "output_type": "display_data"
    },
    {
     "name": "stdout",
     "output_type": "stream",
     "text": [
      "https://marketplace.axieinfinity.com/profile/ronin:a03a27dba8ee39b651fcd8757bb0025796cde17f/axie/ 2713 323 Godzilla\n"
     ]
    },
    {
     "data": {
      "text/html": [
       "<a href=\"https://marketplace.axieinfinity.com/axie/8892253\" target=\"_blank\" rel=\"noopener noreferrer\"><img src=\"https://storage.googleapis.com/assets.axieinfinity.com/axies/8892253/axie/axie-full-transparent.png\" width=128 height=128 style=\"display:inline; margin:1px\"/></a><a href=\"https://marketplace.axieinfinity.com/axie/9075015\" target=\"_blank\" rel=\"noopener noreferrer\"><img src=\"https://storage.googleapis.com/assets.axieinfinity.com/axies/9075015/axie/axie-full-transparent.png\" width=128 height=128 style=\"display:inline; margin:1px\"/></a><a href=\"https://marketplace.axieinfinity.com/axie/9424313\" target=\"_blank\" rel=\"noopener noreferrer\"><img src=\"https://storage.googleapis.com/assets.axieinfinity.com/axies/9424313/axie/axie-full-transparent.png\" width=128 height=128 style=\"display:inline; margin:1px\"/></a>"
      ],
      "text/plain": [
       "<IPython.core.display.HTML object>"
      ]
     },
     "metadata": {},
     "output_type": "display_data"
    },
    {
     "name": "stdout",
     "output_type": "stream",
     "text": [
      "https://marketplace.axieinfinity.com/profile/ronin:cb1506b8bf44fa225979dd1daf9dc6a9c7c0584b/axie/ 2713 347 Click | CNG\n"
     ]
    },
    {
     "data": {
      "text/html": [
       "<a href=\"https://marketplace.axieinfinity.com/axie/8606297\" target=\"_blank\" rel=\"noopener noreferrer\"><img src=\"https://storage.googleapis.com/assets.axieinfinity.com/axies/8606297/axie/axie-full-transparent.png\" width=128 height=128 style=\"display:inline; margin:1px\"/></a><a href=\"https://marketplace.axieinfinity.com/axie/8734803\" target=\"_blank\" rel=\"noopener noreferrer\"><img src=\"https://storage.googleapis.com/assets.axieinfinity.com/axies/8734803/axie/axie-full-transparent.png\" width=128 height=128 style=\"display:inline; margin:1px\"/></a><a href=\"https://marketplace.axieinfinity.com/axie/8981870\" target=\"_blank\" rel=\"noopener noreferrer\"><img src=\"https://storage.googleapis.com/assets.axieinfinity.com/axies/8981870/axie/axie-full-transparent.png\" width=128 height=128 style=\"display:inline; margin:1px\"/></a>"
      ],
      "text/plain": [
       "<IPython.core.display.HTML object>"
      ]
     },
     "metadata": {},
     "output_type": "display_data"
    },
    {
     "name": "stdout",
     "output_type": "stream",
     "text": [
      "https://marketplace.axieinfinity.com/profile/ronin:8166b9a7368dd3fa25b077d8253b11d733e5d46a/axie/ 2711 357 youtube.com/Jenshin Ph\n"
     ]
    },
    {
     "data": {
      "text/html": [
       "<a href=\"https://marketplace.axieinfinity.com/axie/9179959\" target=\"_blank\" rel=\"noopener noreferrer\"><img src=\"https://storage.googleapis.com/assets.axieinfinity.com/axies/9179959/axie/axie-full-transparent.png\" width=128 height=128 style=\"display:inline; margin:1px\"/></a><a href=\"https://marketplace.axieinfinity.com/axie/9222709\" target=\"_blank\" rel=\"noopener noreferrer\"><img src=\"https://storage.googleapis.com/assets.axieinfinity.com/axies/9222709/axie/axie-full-transparent.png\" width=128 height=128 style=\"display:inline; margin:1px\"/></a><a href=\"https://marketplace.axieinfinity.com/axie/9572237\" target=\"_blank\" rel=\"noopener noreferrer\"><img src=\"https://storage.googleapis.com/assets.axieinfinity.com/axies/9572237/axie/axie-full-transparent.png\" width=128 height=128 style=\"display:inline; margin:1px\"/></a>"
      ],
      "text/plain": [
       "<IPython.core.display.HTML object>"
      ]
     },
     "metadata": {},
     "output_type": "display_data"
    },
    {
     "name": "stdout",
     "output_type": "stream",
     "text": [
      "https://marketplace.axieinfinity.com/profile/ronin:138fefdb5117d6f37aeb39959e9a6fc516bfb834/axie/ 2704 388 Sushinobi | YGG | SAA\n"
     ]
    },
    {
     "data": {
      "text/html": [
       "<a href=\"https://marketplace.axieinfinity.com/axie/9456507\" target=\"_blank\" rel=\"noopener noreferrer\"><img src=\"https://storage.googleapis.com/assets.axieinfinity.com/axies/9456507/axie/axie-full-transparent.png\" width=128 height=128 style=\"display:inline; margin:1px\"/></a><a href=\"https://marketplace.axieinfinity.com/axie/9579786\" target=\"_blank\" rel=\"noopener noreferrer\"><img src=\"https://storage.googleapis.com/assets.axieinfinity.com/axies/9579786/axie/axie-full-transparent.png\" width=128 height=128 style=\"display:inline; margin:1px\"/></a><a href=\"https://marketplace.axieinfinity.com/axie/9613534\" target=\"_blank\" rel=\"noopener noreferrer\"><img src=\"https://storage.googleapis.com/assets.axieinfinity.com/axies/9613534/axie/axie-full-transparent.png\" width=128 height=128 style=\"display:inline; margin:1px\"/></a>"
      ],
      "text/plain": [
       "<IPython.core.display.HTML object>"
      ]
     },
     "metadata": {},
     "output_type": "display_data"
    },
    {
     "name": "stdout",
     "output_type": "stream",
     "text": [
      "https://marketplace.axieinfinity.com/profile/ronin:3611b49725ae3c4683ac46bceb44cf2941d5051b/axie/ 2681 444 Doffy | bz.gg\n"
     ]
    },
    {
     "data": {
      "text/html": [
       "<a href=\"https://marketplace.axieinfinity.com/axie/1512591\" target=\"_blank\" rel=\"noopener noreferrer\"><img src=\"https://storage.googleapis.com/assets.axieinfinity.com/axies/1512591/axie/axie-full-transparent.png\" width=128 height=128 style=\"display:inline; margin:1px\"/></a><a href=\"https://marketplace.axieinfinity.com/axie/6571533\" target=\"_blank\" rel=\"noopener noreferrer\"><img src=\"https://storage.googleapis.com/assets.axieinfinity.com/axies/6571533/axie/axie-full-transparent.png\" width=128 height=128 style=\"display:inline; margin:1px\"/></a><a href=\"https://marketplace.axieinfinity.com/axie/8604886\" target=\"_blank\" rel=\"noopener noreferrer\"><img src=\"https://storage.googleapis.com/assets.axieinfinity.com/axies/8604886/axie/axie-full-transparent.png\" width=128 height=128 style=\"display:inline; margin:1px\"/></a>"
      ],
      "text/plain": [
       "<IPython.core.display.HTML object>"
      ]
     },
     "metadata": {},
     "output_type": "display_data"
    },
    {
     "name": "stdout",
     "output_type": "stream",
     "text": [
      "https://marketplace.axieinfinity.com/profile/ronin:770e25315247f84c83c621e21a4c48d0099575b5/axie/ 2671 474 rierierie\n"
     ]
    },
    {
     "data": {
      "text/html": [
       "<a href=\"https://marketplace.axieinfinity.com/axie/3929205\" target=\"_blank\" rel=\"noopener noreferrer\"><img src=\"https://storage.googleapis.com/assets.axieinfinity.com/axies/3929205/axie/axie-full-transparent.png\" width=128 height=128 style=\"display:inline; margin:1px\"/></a><a href=\"https://marketplace.axieinfinity.com/axie/8922040\" target=\"_blank\" rel=\"noopener noreferrer\"><img src=\"https://storage.googleapis.com/assets.axieinfinity.com/axies/8922040/axie/axie-full-transparent.png\" width=128 height=128 style=\"display:inline; margin:1px\"/></a><a href=\"https://marketplace.axieinfinity.com/axie/9634856\" target=\"_blank\" rel=\"noopener noreferrer\"><img src=\"https://storage.googleapis.com/assets.axieinfinity.com/axies/9634856/axie/axie-full-transparent.png\" width=128 height=128 style=\"display:inline; margin:1px\"/></a>"
      ],
      "text/plain": [
       "<IPython.core.display.HTML object>"
      ]
     },
     "metadata": {},
     "output_type": "display_data"
    },
    {
     "name": "stdout",
     "output_type": "stream",
     "text": [
      "https://marketplace.axieinfinity.com/profile/ronin:641b5881f2fc2594270b0e94ff1d2c60e6ac2d2b/axie/ 2649 575 JMHL || Perion\n"
     ]
    },
    {
     "data": {
      "text/html": [
       "<a href=\"https://marketplace.axieinfinity.com/axie/2978579\" target=\"_blank\" rel=\"noopener noreferrer\"><img src=\"https://storage.googleapis.com/assets.axieinfinity.com/axies/2978579/axie/axie-full-transparent.png\" width=128 height=128 style=\"display:inline; margin:1px\"/></a><a href=\"https://marketplace.axieinfinity.com/axie/8614783\" target=\"_blank\" rel=\"noopener noreferrer\"><img src=\"https://storage.googleapis.com/assets.axieinfinity.com/axies/8614783/axie/axie-full-transparent.png\" width=128 height=128 style=\"display:inline; margin:1px\"/></a><a href=\"https://marketplace.axieinfinity.com/axie/9176001\" target=\"_blank\" rel=\"noopener noreferrer\"><img src=\"https://storage.googleapis.com/assets.axieinfinity.com/axies/9176001/axie/axie-full-transparent.png\" width=128 height=128 style=\"display:inline; margin:1px\"/></a>"
      ],
      "text/plain": [
       "<IPython.core.display.HTML object>"
      ]
     },
     "metadata": {},
     "output_type": "display_data"
    },
    {
     "name": "stdout",
     "output_type": "stream",
     "text": [
      "https://marketplace.axieinfinity.com/profile/ronin:d2c80a65addcb36780d430308b85dd150bbdec4e/axie/ 2639 608 TorrasqueCR| Twins Academy Block\n"
     ]
    },
    {
     "data": {
      "text/html": [
       "<a href=\"https://marketplace.axieinfinity.com/axie/5329652\" target=\"_blank\" rel=\"noopener noreferrer\"><img src=\"https://storage.googleapis.com/assets.axieinfinity.com/axies/5329652/axie/axie-full-transparent.png\" width=128 height=128 style=\"display:inline; margin:1px\"/></a><a href=\"https://marketplace.axieinfinity.com/axie/5383550\" target=\"_blank\" rel=\"noopener noreferrer\"><img src=\"https://storage.googleapis.com/assets.axieinfinity.com/axies/5383550/axie/axie-full-transparent.png\" width=128 height=128 style=\"display:inline; margin:1px\"/></a><a href=\"https://marketplace.axieinfinity.com/axie/5464866\" target=\"_blank\" rel=\"noopener noreferrer\"><img src=\"https://storage.googleapis.com/assets.axieinfinity.com/axies/5464866/axie/axie-full-transparent.png\" width=128 height=128 style=\"display:inline; margin:1px\"/></a>"
      ],
      "text/plain": [
       "<IPython.core.display.HTML object>"
      ]
     },
     "metadata": {},
     "output_type": "display_data"
    },
    {
     "name": "stdout",
     "output_type": "stream",
     "text": [
      "https://marketplace.axieinfinity.com/profile/ronin:9d940036aa3f7bbf6cb8dd139ad4acf872b7dd6e/axie/ 2639 606 BIG CHIEF | USA + PH | illi\n"
     ]
    },
    {
     "data": {
      "text/html": [
       "<a href=\"https://marketplace.axieinfinity.com/axie/7777013\" target=\"_blank\" rel=\"noopener noreferrer\"><img src=\"https://storage.googleapis.com/assets.axieinfinity.com/axies/7777013/axie/axie-full-transparent.png\" width=128 height=128 style=\"display:inline; margin:1px\"/></a><a href=\"https://marketplace.axieinfinity.com/axie/8714604\" target=\"_blank\" rel=\"noopener noreferrer\"><img src=\"https://storage.googleapis.com/assets.axieinfinity.com/axies/8714604/axie/axie-full-transparent.png\" width=128 height=128 style=\"display:inline; margin:1px\"/></a><a href=\"https://marketplace.axieinfinity.com/axie/9176325\" target=\"_blank\" rel=\"noopener noreferrer\"><img src=\"https://storage.googleapis.com/assets.axieinfinity.com/axies/9176325/axie/axie-full-transparent.png\" width=128 height=128 style=\"display:inline; margin:1px\"/></a>"
      ],
      "text/plain": [
       "<IPython.core.display.HTML object>"
      ]
     },
     "metadata": {},
     "output_type": "display_data"
    },
    {
     "name": "stdout",
     "output_type": "stream",
     "text": [
      "https://marketplace.axieinfinity.com/profile/ronin:09d2dba74cdb8edf37258325cb114946139d4c54/axie/ 2623 662 BLanK \n"
     ]
    },
    {
     "data": {
      "text/html": [
       "<a href=\"https://marketplace.axieinfinity.com/axie/1393602\" target=\"_blank\" rel=\"noopener noreferrer\"><img src=\"https://storage.googleapis.com/assets.axieinfinity.com/axies/1393602/axie/axie-full-transparent.png\" width=128 height=128 style=\"display:inline; margin:1px\"/></a><a href=\"https://marketplace.axieinfinity.com/axie/7669887\" target=\"_blank\" rel=\"noopener noreferrer\"><img src=\"https://storage.googleapis.com/assets.axieinfinity.com/axies/7669887/axie/axie-full-transparent.png\" width=128 height=128 style=\"display:inline; margin:1px\"/></a><a href=\"https://marketplace.axieinfinity.com/axie/8992967\" target=\"_blank\" rel=\"noopener noreferrer\"><img src=\"https://storage.googleapis.com/assets.axieinfinity.com/axies/8992967/axie/axie-full-transparent.png\" width=128 height=128 style=\"display:inline; margin:1px\"/></a>"
      ],
      "text/plain": [
       "<IPython.core.display.HTML object>"
      ]
     },
     "metadata": {},
     "output_type": "display_data"
    },
    {
     "name": "stdout",
     "output_type": "stream",
     "text": [
      "https://marketplace.axieinfinity.com/profile/ronin:669e1df219b7f97119f27cbebc73f30536b7e595/axie/ 2607 743 JOTKIE | Metana\n"
     ]
    },
    {
     "data": {
      "text/html": [
       "<a href=\"https://marketplace.axieinfinity.com/axie/3859818\" target=\"_blank\" rel=\"noopener noreferrer\"><img src=\"https://storage.googleapis.com/assets.axieinfinity.com/axies/3859818/axie/axie-full-transparent.png\" width=128 height=128 style=\"display:inline; margin:1px\"/></a><a href=\"https://marketplace.axieinfinity.com/axie/5167698\" target=\"_blank\" rel=\"noopener noreferrer\"><img src=\"https://storage.googleapis.com/assets.axieinfinity.com/axies/5167698/axie/axie-full-transparent.png\" width=128 height=128 style=\"display:inline; margin:1px\"/></a><a href=\"https://marketplace.axieinfinity.com/axie/5266812\" target=\"_blank\" rel=\"noopener noreferrer\"><img src=\"https://storage.googleapis.com/assets.axieinfinity.com/axies/5266812/axie/axie-full-transparent.png\" width=128 height=128 style=\"display:inline; margin:1px\"/></a>"
      ],
      "text/plain": [
       "<IPython.core.display.HTML object>"
      ]
     },
     "metadata": {},
     "output_type": "display_data"
    },
    {
     "name": "stdout",
     "output_type": "stream",
     "text": [
      "https://marketplace.axieinfinity.com/profile/ronin:287be77d593a9f49efc8ac0bb77143585c6b8c02/axie/ 2603 787 Mary | SGScholar\n"
     ]
    },
    {
     "data": {
      "text/html": [
       "<a href=\"https://marketplace.axieinfinity.com/axie/7280899\" target=\"_blank\" rel=\"noopener noreferrer\"><img src=\"https://storage.googleapis.com/assets.axieinfinity.com/axies/7280899/axie/axie-full-transparent.png\" width=128 height=128 style=\"display:inline; margin:1px\"/></a><a href=\"https://marketplace.axieinfinity.com/axie/7563206\" target=\"_blank\" rel=\"noopener noreferrer\"><img src=\"https://storage.googleapis.com/assets.axieinfinity.com/axies/7563206/axie/axie-full-transparent.png\" width=128 height=128 style=\"display:inline; margin:1px\"/></a><a href=\"https://marketplace.axieinfinity.com/axie/7808146\" target=\"_blank\" rel=\"noopener noreferrer\"><img src=\"https://storage.googleapis.com/assets.axieinfinity.com/axies/7808146/axie/axie-full-transparent.png\" width=128 height=128 style=\"display:inline; margin:1px\"/></a>"
      ],
      "text/plain": [
       "<IPython.core.display.HTML object>"
      ]
     },
     "metadata": {},
     "output_type": "display_data"
    },
    {
     "name": "stdout",
     "output_type": "stream",
     "text": [
      "https://marketplace.axieinfinity.com/profile/ronin:0fa3f1e6e76c1f14a6c3445d46f290c7e4517464/axie/ 2599 809 SF\n"
     ]
    },
    {
     "data": {
      "text/html": [
       "<a href=\"https://marketplace.axieinfinity.com/axie/5917536\" target=\"_blank\" rel=\"noopener noreferrer\"><img src=\"https://storage.googleapis.com/assets.axieinfinity.com/axies/5917536/axie/axie-full-transparent.png\" width=128 height=128 style=\"display:inline; margin:1px\"/></a><a href=\"https://marketplace.axieinfinity.com/axie/5923936\" target=\"_blank\" rel=\"noopener noreferrer\"><img src=\"https://storage.googleapis.com/assets.axieinfinity.com/axies/5923936/axie/axie-full-transparent.png\" width=128 height=128 style=\"display:inline; margin:1px\"/></a><a href=\"https://marketplace.axieinfinity.com/axie/7286478\" target=\"_blank\" rel=\"noopener noreferrer\"><img src=\"https://storage.googleapis.com/assets.axieinfinity.com/axies/7286478/axie/axie-full-transparent.png\" width=128 height=128 style=\"display:inline; margin:1px\"/></a>"
      ],
      "text/plain": [
       "<IPython.core.display.HTML object>"
      ]
     },
     "metadata": {},
     "output_type": "display_data"
    },
    {
     "name": "stdout",
     "output_type": "stream",
     "text": [
      "https://marketplace.axieinfinity.com/profile/ronin:ef66fa999f752954a1be77e3f0e606fae8a52be0/axie/ 2589 865 DM || d'B't ||\n"
     ]
    },
    {
     "data": {
      "text/html": [
       "<a href=\"https://marketplace.axieinfinity.com/axie/8923450\" target=\"_blank\" rel=\"noopener noreferrer\"><img src=\"https://storage.googleapis.com/assets.axieinfinity.com/axies/8923450/axie/axie-full-transparent.png\" width=128 height=128 style=\"display:inline; margin:1px\"/></a><a href=\"https://marketplace.axieinfinity.com/axie/9181727\" target=\"_blank\" rel=\"noopener noreferrer\"><img src=\"https://storage.googleapis.com/assets.axieinfinity.com/axies/9181727/axie/axie-full-transparent.png\" width=128 height=128 style=\"display:inline; margin:1px\"/></a><a href=\"https://marketplace.axieinfinity.com/axie/9353300\" target=\"_blank\" rel=\"noopener noreferrer\"><img src=\"https://storage.googleapis.com/assets.axieinfinity.com/axies/9353300/axie/axie-full-transparent.png\" width=128 height=128 style=\"display:inline; margin:1px\"/></a>"
      ],
      "text/plain": [
       "<IPython.core.display.HTML object>"
      ]
     },
     "metadata": {},
     "output_type": "display_data"
    },
    {
     "name": "stdout",
     "output_type": "stream",
     "text": [
      "https://marketplace.axieinfinity.com/profile/ronin:917418cd9233c5dd2d38379e112b8c1e8cf27a94/axie/ 2585 889 FTG Guild S0002 Scholar\n"
     ]
    },
    {
     "data": {
      "text/html": [
       "<a href=\"https://marketplace.axieinfinity.com/axie/6853427\" target=\"_blank\" rel=\"noopener noreferrer\"><img src=\"https://storage.googleapis.com/assets.axieinfinity.com/axies/6853427/axie/axie-full-transparent.png\" width=128 height=128 style=\"display:inline; margin:1px\"/></a><a href=\"https://marketplace.axieinfinity.com/axie/6924917\" target=\"_blank\" rel=\"noopener noreferrer\"><img src=\"https://storage.googleapis.com/assets.axieinfinity.com/axies/6924917/axie/axie-full-transparent.png\" width=128 height=128 style=\"display:inline; margin:1px\"/></a><a href=\"https://marketplace.axieinfinity.com/axie/7504410\" target=\"_blank\" rel=\"noopener noreferrer\"><img src=\"https://storage.googleapis.com/assets.axieinfinity.com/axies/7504410/axie/axie-full-transparent.png\" width=128 height=128 style=\"display:inline; margin:1px\"/></a>"
      ],
      "text/plain": [
       "<IPython.core.display.HTML object>"
      ]
     },
     "metadata": {},
     "output_type": "display_data"
    },
    {
     "name": "stdout",
     "output_type": "stream",
     "text": [
      "https://marketplace.axieinfinity.com/profile/ronin:3f33415fc0f800d5643016bddd56e415458fc5af/axie/ 2580 921 ASD.Gaming\n"
     ]
    },
    {
     "data": {
      "text/html": [
       "<a href=\"https://marketplace.axieinfinity.com/axie/3275911\" target=\"_blank\" rel=\"noopener noreferrer\"><img src=\"https://storage.googleapis.com/assets.axieinfinity.com/axies/3275911/axie/axie-full-transparent.png\" width=128 height=128 style=\"display:inline; margin:1px\"/></a><a href=\"https://marketplace.axieinfinity.com/axie/8718491\" target=\"_blank\" rel=\"noopener noreferrer\"><img src=\"https://storage.googleapis.com/assets.axieinfinity.com/axies/8718491/axie/axie-full-transparent.png\" width=128 height=128 style=\"display:inline; margin:1px\"/></a><a href=\"https://marketplace.axieinfinity.com/axie/8861341\" target=\"_blank\" rel=\"noopener noreferrer\"><img src=\"https://storage.googleapis.com/assets.axieinfinity.com/axies/8861341/axie/axie-full-transparent.png\" width=128 height=128 style=\"display:inline; margin:1px\"/></a>"
      ],
      "text/plain": [
       "<IPython.core.display.HTML object>"
      ]
     },
     "metadata": {},
     "output_type": "display_data"
    },
    {
     "name": "stdout",
     "output_type": "stream",
     "text": [
      "https://marketplace.axieinfinity.com/profile/ronin:144ec2596f7f721b295b07a1941cbb9f3902dcc5/axie/ 2563 1025 Cabala | Block\n"
     ]
    },
    {
     "data": {
      "text/html": [
       "<a href=\"https://marketplace.axieinfinity.com/axie/1482741\" target=\"_blank\" rel=\"noopener noreferrer\"><img src=\"https://storage.googleapis.com/assets.axieinfinity.com/axies/1482741/axie/axie-full-transparent.png\" width=128 height=128 style=\"display:inline; margin:1px\"/></a><a href=\"https://marketplace.axieinfinity.com/axie/8596722\" target=\"_blank\" rel=\"noopener noreferrer\"><img src=\"https://storage.googleapis.com/assets.axieinfinity.com/axies/8596722/axie/axie-full-transparent.png\" width=128 height=128 style=\"display:inline; margin:1px\"/></a><a href=\"https://marketplace.axieinfinity.com/axie/9500662\" target=\"_blank\" rel=\"noopener noreferrer\"><img src=\"https://storage.googleapis.com/assets.axieinfinity.com/axies/9500662/axie/axie-full-transparent.png\" width=128 height=128 style=\"display:inline; margin:1px\"/></a>"
      ],
      "text/plain": [
       "<IPython.core.display.HTML object>"
      ]
     },
     "metadata": {},
     "output_type": "display_data"
    },
    {
     "name": "stdout",
     "output_type": "stream",
     "text": [
      "https://marketplace.axieinfinity.com/profile/ronin:99b6bbbdabad08a7632ad0f8bc8cac343c45362a/axie/ 2563 1033 Ken | TCS\n"
     ]
    },
    {
     "data": {
      "text/html": [
       "<a href=\"https://marketplace.axieinfinity.com/axie/7558299\" target=\"_blank\" rel=\"noopener noreferrer\"><img src=\"https://storage.googleapis.com/assets.axieinfinity.com/axies/7558299/axie/axie-full-transparent.png\" width=128 height=128 style=\"display:inline; margin:1px\"/></a><a href=\"https://marketplace.axieinfinity.com/axie/8464473\" target=\"_blank\" rel=\"noopener noreferrer\"><img src=\"https://storage.googleapis.com/assets.axieinfinity.com/axies/8464473/axie/axie-full-transparent.png\" width=128 height=128 style=\"display:inline; margin:1px\"/></a><a href=\"https://marketplace.axieinfinity.com/axie/8499481\" target=\"_blank\" rel=\"noopener noreferrer\"><img src=\"https://storage.googleapis.com/assets.axieinfinity.com/axies/8499481/axie/axie-full-transparent.png\" width=128 height=128 style=\"display:inline; margin:1px\"/></a>"
      ],
      "text/plain": [
       "<IPython.core.display.HTML object>"
      ]
     },
     "metadata": {},
     "output_type": "display_data"
    },
    {
     "name": "stdout",
     "output_type": "stream",
     "text": [
      "https://marketplace.axieinfinity.com/profile/ronin:2dbe6df547cb433c9ed9f32cdff83ed98d997233/axie/ 2551 1102 Trans1ent\n"
     ]
    },
    {
     "data": {
      "text/html": [
       "<a href=\"https://marketplace.axieinfinity.com/axie/7368955\" target=\"_blank\" rel=\"noopener noreferrer\"><img src=\"https://storage.googleapis.com/assets.axieinfinity.com/axies/7368955/axie/axie-full-transparent.png\" width=128 height=128 style=\"display:inline; margin:1px\"/></a><a href=\"https://marketplace.axieinfinity.com/axie/9220049\" target=\"_blank\" rel=\"noopener noreferrer\"><img src=\"https://storage.googleapis.com/assets.axieinfinity.com/axies/9220049/axie/axie-full-transparent.png\" width=128 height=128 style=\"display:inline; margin:1px\"/></a><a href=\"https://marketplace.axieinfinity.com/axie/9363470\" target=\"_blank\" rel=\"noopener noreferrer\"><img src=\"https://storage.googleapis.com/assets.axieinfinity.com/axies/9363470/axie/axie-full-transparent.png\" width=128 height=128 style=\"display:inline; margin:1px\"/></a>"
      ],
      "text/plain": [
       "<IPython.core.display.HTML object>"
      ]
     },
     "metadata": {},
     "output_type": "display_data"
    },
    {
     "name": "stdout",
     "output_type": "stream",
     "text": [
      "https://marketplace.axieinfinity.com/profile/ronin:00e5196ee32ae3e68a618fa8e2f89f3b71fb46ad/axie/ 2548 1118 Pescadosx2\n"
     ]
    },
    {
     "data": {
      "text/html": [
       "<a href=\"https://marketplace.axieinfinity.com/axie/8223942\" target=\"_blank\" rel=\"noopener noreferrer\"><img src=\"https://storage.googleapis.com/assets.axieinfinity.com/axies/8223942/axie/axie-full-transparent.png\" width=128 height=128 style=\"display:inline; margin:1px\"/></a><a href=\"https://marketplace.axieinfinity.com/axie/8564302\" target=\"_blank\" rel=\"noopener noreferrer\"><img src=\"https://storage.googleapis.com/assets.axieinfinity.com/axies/8564302/axie/axie-full-transparent.png\" width=128 height=128 style=\"display:inline; margin:1px\"/></a><a href=\"https://marketplace.axieinfinity.com/axie/8670417\" target=\"_blank\" rel=\"noopener noreferrer\"><img src=\"https://storage.googleapis.com/assets.axieinfinity.com/axies/8670417/axie/axie-full-transparent.png\" width=128 height=128 style=\"display:inline; margin:1px\"/></a>"
      ],
      "text/plain": [
       "<IPython.core.display.HTML object>"
      ]
     },
     "metadata": {},
     "output_type": "display_data"
    },
    {
     "name": "stdout",
     "output_type": "stream",
     "text": [
      "https://marketplace.axieinfinity.com/profile/ronin:0ca1fc95346f0716f6c116ebb4fa17fb7dd0137f/axie/ 2545 1136 AgusRze | KLK  🇷\n"
     ]
    },
    {
     "data": {
      "text/html": [
       "<a href=\"https://marketplace.axieinfinity.com/axie/6271608\" target=\"_blank\" rel=\"noopener noreferrer\"><img src=\"https://storage.googleapis.com/assets.axieinfinity.com/axies/6271608/axie/axie-full-transparent.png\" width=128 height=128 style=\"display:inline; margin:1px\"/></a><a href=\"https://marketplace.axieinfinity.com/axie/7375120\" target=\"_blank\" rel=\"noopener noreferrer\"><img src=\"https://storage.googleapis.com/assets.axieinfinity.com/axies/7375120/axie/axie-full-transparent.png\" width=128 height=128 style=\"display:inline; margin:1px\"/></a><a href=\"https://marketplace.axieinfinity.com/axie/8169022\" target=\"_blank\" rel=\"noopener noreferrer\"><img src=\"https://storage.googleapis.com/assets.axieinfinity.com/axies/8169022/axie/axie-full-transparent.png\" width=128 height=128 style=\"display:inline; margin:1px\"/></a>"
      ],
      "text/plain": [
       "<IPython.core.display.HTML object>"
      ]
     },
     "metadata": {},
     "output_type": "display_data"
    },
    {
     "name": "stdout",
     "output_type": "stream",
     "text": [
      "https://marketplace.axieinfinity.com/profile/ronin:e2afa02487e005dce38a917ec382f6b247500fef/axie/ 2538 1184 Yonga\n"
     ]
    },
    {
     "data": {
      "text/html": [
       "<a href=\"https://marketplace.axieinfinity.com/axie/1046751\" target=\"_blank\" rel=\"noopener noreferrer\"><img src=\"https://storage.googleapis.com/assets.axieinfinity.com/axies/1046751/axie/axie-full-transparent.png\" width=128 height=128 style=\"display:inline; margin:1px\"/></a><a href=\"https://marketplace.axieinfinity.com/axie/6796744\" target=\"_blank\" rel=\"noopener noreferrer\"><img src=\"https://storage.googleapis.com/assets.axieinfinity.com/axies/6796744/axie/axie-full-transparent.png\" width=128 height=128 style=\"display:inline; margin:1px\"/></a><a href=\"https://marketplace.axieinfinity.com/axie/8936587\" target=\"_blank\" rel=\"noopener noreferrer\"><img src=\"https://storage.googleapis.com/assets.axieinfinity.com/axies/8936587/axie/axie-full-transparent.png\" width=128 height=128 style=\"display:inline; margin:1px\"/></a>"
      ],
      "text/plain": [
       "<IPython.core.display.HTML object>"
      ]
     },
     "metadata": {},
     "output_type": "display_data"
    },
    {
     "name": "stdout",
     "output_type": "stream",
     "text": [
      "https://marketplace.axieinfinity.com/profile/ronin:95ae378990f9b3f9f2f59769ae07d0a560b90cc0/axie/ 2533 1222 Jaacob\n"
     ]
    },
    {
     "data": {
      "text/html": [
       "<a href=\"https://marketplace.axieinfinity.com/axie/4783485\" target=\"_blank\" rel=\"noopener noreferrer\"><img src=\"https://storage.googleapis.com/assets.axieinfinity.com/axies/4783485/axie/axie-full-transparent.png\" width=128 height=128 style=\"display:inline; margin:1px\"/></a><a href=\"https://marketplace.axieinfinity.com/axie/5443075\" target=\"_blank\" rel=\"noopener noreferrer\"><img src=\"https://storage.googleapis.com/assets.axieinfinity.com/axies/5443075/axie/axie-full-transparent.png\" width=128 height=128 style=\"display:inline; margin:1px\"/></a><a href=\"https://marketplace.axieinfinity.com/axie/8329376\" target=\"_blank\" rel=\"noopener noreferrer\"><img src=\"https://storage.googleapis.com/assets.axieinfinity.com/axies/8329376/axie/axie-full-transparent.png\" width=128 height=128 style=\"display:inline; margin:1px\"/></a>"
      ],
      "text/plain": [
       "<IPython.core.display.HTML object>"
      ]
     },
     "metadata": {},
     "output_type": "display_data"
    },
    {
     "name": "stdout",
     "output_type": "stream",
     "text": [
      "https://marketplace.axieinfinity.com/profile/ronin:636605669aed5ba0038b945531cb7fbde6548139/axie/ 2530 1250 Wapz\n"
     ]
    },
    {
     "data": {
      "text/html": [
       "<a href=\"https://marketplace.axieinfinity.com/axie/9028665\" target=\"_blank\" rel=\"noopener noreferrer\"><img src=\"https://storage.googleapis.com/assets.axieinfinity.com/axies/9028665/axie/axie-full-transparent.png\" width=128 height=128 style=\"display:inline; margin:1px\"/></a><a href=\"https://marketplace.axieinfinity.com/axie/9120380\" target=\"_blank\" rel=\"noopener noreferrer\"><img src=\"https://storage.googleapis.com/assets.axieinfinity.com/axies/9120380/axie/axie-full-transparent.png\" width=128 height=128 style=\"display:inline; margin:1px\"/></a><a href=\"https://marketplace.axieinfinity.com/axie/9717454\" target=\"_blank\" rel=\"noopener noreferrer\"><img src=\"https://storage.googleapis.com/assets.axieinfinity.com/axies/9717454/axie/axie-full-transparent.png\" width=128 height=128 style=\"display:inline; margin:1px\"/></a>"
      ],
      "text/plain": [
       "<IPython.core.display.HTML object>"
      ]
     },
     "metadata": {},
     "output_type": "display_data"
    },
    {
     "name": "stdout",
     "output_type": "stream",
     "text": [
      "https://marketplace.axieinfinity.com/profile/ronin:820903d5a4b3b157f656604988a85956272033e1/axie/ 2527 1280 Kyle | NotPlusOne's Scholar\n"
     ]
    },
    {
     "data": {
      "text/html": [
       "<a href=\"https://marketplace.axieinfinity.com/axie/7015263\" target=\"_blank\" rel=\"noopener noreferrer\"><img src=\"https://storage.googleapis.com/assets.axieinfinity.com/axies/7015263/axie/axie-full-transparent.png\" width=128 height=128 style=\"display:inline; margin:1px\"/></a><a href=\"https://marketplace.axieinfinity.com/axie/7616668\" target=\"_blank\" rel=\"noopener noreferrer\"><img src=\"https://storage.googleapis.com/assets.axieinfinity.com/axies/7616668/axie/axie-full-transparent.png\" width=128 height=128 style=\"display:inline; margin:1px\"/></a><a href=\"https://marketplace.axieinfinity.com/axie/7618818\" target=\"_blank\" rel=\"noopener noreferrer\"><img src=\"https://storage.googleapis.com/assets.axieinfinity.com/axies/7618818/axie/axie-full-transparent.png\" width=128 height=128 style=\"display:inline; margin:1px\"/></a>"
      ],
      "text/plain": [
       "<IPython.core.display.HTML object>"
      ]
     },
     "metadata": {},
     "output_type": "display_data"
    },
    {
     "name": "stdout",
     "output_type": "stream",
     "text": [
      "https://marketplace.axieinfinity.com/profile/ronin:158d7e9b392bab03647c84ef9277f984a318a265/axie/ 2522 1316 Abaddon\n"
     ]
    },
    {
     "data": {
      "text/html": [
       "<a href=\"https://marketplace.axieinfinity.com/axie/2971834\" target=\"_blank\" rel=\"noopener noreferrer\"><img src=\"https://storage.googleapis.com/assets.axieinfinity.com/axies/2971834/axie/axie-full-transparent.png\" width=128 height=128 style=\"display:inline; margin:1px\"/></a><a href=\"https://marketplace.axieinfinity.com/axie/6310676\" target=\"_blank\" rel=\"noopener noreferrer\"><img src=\"https://storage.googleapis.com/assets.axieinfinity.com/axies/6310676/axie/axie-full-transparent.png\" width=128 height=128 style=\"display:inline; margin:1px\"/></a><a href=\"https://marketplace.axieinfinity.com/axie/6331519\" target=\"_blank\" rel=\"noopener noreferrer\"><img src=\"https://storage.googleapis.com/assets.axieinfinity.com/axies/6331519/axie/axie-full-transparent.png\" width=128 height=128 style=\"display:inline; margin:1px\"/></a>"
      ],
      "text/plain": [
       "<IPython.core.display.HTML object>"
      ]
     },
     "metadata": {},
     "output_type": "display_data"
    },
    {
     "name": "stdout",
     "output_type": "stream",
     "text": [
      "https://marketplace.axieinfinity.com/profile/ronin:00cc805ad4b7d574c448bbf3d8db6ccfeb7b00b9/axie/ 2522 1321 MadShironeko | Madfam001\n"
     ]
    },
    {
     "data": {
      "text/html": [
       "<a href=\"https://marketplace.axieinfinity.com/axie/2928048\" target=\"_blank\" rel=\"noopener noreferrer\"><img src=\"https://storage.googleapis.com/assets.axieinfinity.com/axies/2928048/axie/axie-full-transparent.png\" width=128 height=128 style=\"display:inline; margin:1px\"/></a><a href=\"https://marketplace.axieinfinity.com/axie/3911486\" target=\"_blank\" rel=\"noopener noreferrer\"><img src=\"https://storage.googleapis.com/assets.axieinfinity.com/axies/3911486/axie/axie-full-transparent.png\" width=128 height=128 style=\"display:inline; margin:1px\"/></a><a href=\"https://marketplace.axieinfinity.com/axie/6535022\" target=\"_blank\" rel=\"noopener noreferrer\"><img src=\"https://storage.googleapis.com/assets.axieinfinity.com/axies/6535022/axie/axie-full-transparent.png\" width=128 height=128 style=\"display:inline; margin:1px\"/></a>"
      ],
      "text/plain": [
       "<IPython.core.display.HTML object>"
      ]
     },
     "metadata": {},
     "output_type": "display_data"
    },
    {
     "name": "stdout",
     "output_type": "stream",
     "text": [
      "https://marketplace.axieinfinity.com/profile/ronin:eb1565efb1c2229155575131c9178998bf4bad21/axie/ 2510 1437 Win or Wind\n"
     ]
    },
    {
     "data": {
      "text/html": [
       "<a href=\"https://marketplace.axieinfinity.com/axie/4795889\" target=\"_blank\" rel=\"noopener noreferrer\"><img src=\"https://storage.googleapis.com/assets.axieinfinity.com/axies/4795889/axie/axie-full-transparent.png\" width=128 height=128 style=\"display:inline; margin:1px\"/></a><a href=\"https://marketplace.axieinfinity.com/axie/5820372\" target=\"_blank\" rel=\"noopener noreferrer\"><img src=\"https://storage.googleapis.com/assets.axieinfinity.com/axies/5820372/axie/axie-full-transparent.png\" width=128 height=128 style=\"display:inline; margin:1px\"/></a><a href=\"https://marketplace.axieinfinity.com/axie/8611322\" target=\"_blank\" rel=\"noopener noreferrer\"><img src=\"https://storage.googleapis.com/assets.axieinfinity.com/axies/8611322/axie/axie-full-transparent.png\" width=128 height=128 style=\"display:inline; margin:1px\"/></a>"
      ],
      "text/plain": [
       "<IPython.core.display.HTML object>"
      ]
     },
     "metadata": {},
     "output_type": "display_data"
    },
    {
     "name": "stdout",
     "output_type": "stream",
     "text": [
      "https://marketplace.axieinfinity.com/profile/ronin:d224a41143cb7ef4d5f5c68baa205bdd908d8d83/axie/ 2508 1452 KingPanda\n"
     ]
    },
    {
     "data": {
      "text/html": [
       "<a href=\"https://marketplace.axieinfinity.com/axie/6799222\" target=\"_blank\" rel=\"noopener noreferrer\"><img src=\"https://storage.googleapis.com/assets.axieinfinity.com/axies/6799222/axie/axie-full-transparent.png\" width=128 height=128 style=\"display:inline; margin:1px\"/></a><a href=\"https://marketplace.axieinfinity.com/axie/6987197\" target=\"_blank\" rel=\"noopener noreferrer\"><img src=\"https://storage.googleapis.com/assets.axieinfinity.com/axies/6987197/axie/axie-full-transparent.png\" width=128 height=128 style=\"display:inline; margin:1px\"/></a><a href=\"https://marketplace.axieinfinity.com/axie/7595928\" target=\"_blank\" rel=\"noopener noreferrer\"><img src=\"https://storage.googleapis.com/assets.axieinfinity.com/axies/7595928/axie/axie-full-transparent.png\" width=128 height=128 style=\"display:inline; margin:1px\"/></a>"
      ],
      "text/plain": [
       "<IPython.core.display.HTML object>"
      ]
     },
     "metadata": {},
     "output_type": "display_data"
    },
    {
     "name": "stdout",
     "output_type": "stream",
     "text": [
      "https://marketplace.axieinfinity.com/profile/ronin:8d7bd51955aefbd827f056080867e7c9e4c38d96/axie/ 2503 1517 4 | WnDr Sch\n"
     ]
    },
    {
     "data": {
      "text/html": [
       "<a href=\"https://marketplace.axieinfinity.com/axie/7141189\" target=\"_blank\" rel=\"noopener noreferrer\"><img src=\"https://storage.googleapis.com/assets.axieinfinity.com/axies/7141189/axie/axie-full-transparent.png\" width=128 height=128 style=\"display:inline; margin:1px\"/></a><a href=\"https://marketplace.axieinfinity.com/axie/8581499\" target=\"_blank\" rel=\"noopener noreferrer\"><img src=\"https://storage.googleapis.com/assets.axieinfinity.com/axies/8581499/axie/axie-full-transparent.png\" width=128 height=128 style=\"display:inline; margin:1px\"/></a><a href=\"https://marketplace.axieinfinity.com/axie/9062110\" target=\"_blank\" rel=\"noopener noreferrer\"><img src=\"https://storage.googleapis.com/assets.axieinfinity.com/axies/9062110/axie/axie-full-transparent.png\" width=128 height=128 style=\"display:inline; margin:1px\"/></a>"
      ],
      "text/plain": [
       "<IPython.core.display.HTML object>"
      ]
     },
     "metadata": {},
     "output_type": "display_data"
    },
    {
     "name": "stdout",
     "output_type": "stream",
     "text": [
      "https://marketplace.axieinfinity.com/profile/ronin:d49b261144408721bafd6646070cd0bdb0c69e04/axie/ 2486 1645 ROYCE | NgashUniversity\n"
     ]
    },
    {
     "data": {
      "text/html": [
       "<a href=\"https://marketplace.axieinfinity.com/axie/1580116\" target=\"_blank\" rel=\"noopener noreferrer\"><img src=\"https://storage.googleapis.com/assets.axieinfinity.com/axies/1580116/axie/axie-full-transparent.png\" width=128 height=128 style=\"display:inline; margin:1px\"/></a><a href=\"https://marketplace.axieinfinity.com/axie/8481683\" target=\"_blank\" rel=\"noopener noreferrer\"><img src=\"https://storage.googleapis.com/assets.axieinfinity.com/axies/8481683/axie/axie-full-transparent.png\" width=128 height=128 style=\"display:inline; margin:1px\"/></a><a href=\"https://marketplace.axieinfinity.com/axie/8516002\" target=\"_blank\" rel=\"noopener noreferrer\"><img src=\"https://storage.googleapis.com/assets.axieinfinity.com/axies/8516002/axie/axie-full-transparent.png\" width=128 height=128 style=\"display:inline; margin:1px\"/></a>"
      ],
      "text/plain": [
       "<IPython.core.display.HTML object>"
      ]
     },
     "metadata": {},
     "output_type": "display_data"
    },
    {
     "name": "stdout",
     "output_type": "stream",
     "text": [
      "https://marketplace.axieinfinity.com/profile/ronin:9214822862a9feef960c66e03613c673978df70b/axie/ 2479 1746 AA| Mr. Takoyaki\n"
     ]
    },
    {
     "data": {
      "text/html": [
       "<a href=\"https://marketplace.axieinfinity.com/axie/7429033\" target=\"_blank\" rel=\"noopener noreferrer\"><img src=\"https://storage.googleapis.com/assets.axieinfinity.com/axies/7429033/axie/axie-full-transparent.png\" width=128 height=128 style=\"display:inline; margin:1px\"/></a><a href=\"https://marketplace.axieinfinity.com/axie/7766090\" target=\"_blank\" rel=\"noopener noreferrer\"><img src=\"https://storage.googleapis.com/assets.axieinfinity.com/axies/7766090/axie/axie-full-transparent.png\" width=128 height=128 style=\"display:inline; margin:1px\"/></a><a href=\"https://marketplace.axieinfinity.com/axie/7841459\" target=\"_blank\" rel=\"noopener noreferrer\"><img src=\"https://storage.googleapis.com/assets.axieinfinity.com/axies/7841459/axie/axie-full-transparent.png\" width=128 height=128 style=\"display:inline; margin:1px\"/></a>"
      ],
      "text/plain": [
       "<IPython.core.display.HTML object>"
      ]
     },
     "metadata": {},
     "output_type": "display_data"
    },
    {
     "name": "stdout",
     "output_type": "stream",
     "text": [
      "https://marketplace.axieinfinity.com/profile/ronin:64783f18f76bb4befaedf0a6fca086000bb8356d/axie/ 2473 1808 Scholar 3\n"
     ]
    },
    {
     "data": {
      "text/html": [
       "<a href=\"https://marketplace.axieinfinity.com/axie/4568074\" target=\"_blank\" rel=\"noopener noreferrer\"><img src=\"https://storage.googleapis.com/assets.axieinfinity.com/axies/4568074/axie/axie-full-transparent.png\" width=128 height=128 style=\"display:inline; margin:1px\"/></a><a href=\"https://marketplace.axieinfinity.com/axie/7759331\" target=\"_blank\" rel=\"noopener noreferrer\"><img src=\"https://storage.googleapis.com/assets.axieinfinity.com/axies/7759331/axie/axie-full-transparent.png\" width=128 height=128 style=\"display:inline; margin:1px\"/></a><a href=\"https://marketplace.axieinfinity.com/axie/7902203\" target=\"_blank\" rel=\"noopener noreferrer\"><img src=\"https://storage.googleapis.com/assets.axieinfinity.com/axies/7902203/axie/axie-full-transparent.png\" width=128 height=128 style=\"display:inline; margin:1px\"/></a>"
      ],
      "text/plain": [
       "<IPython.core.display.HTML object>"
      ]
     },
     "metadata": {},
     "output_type": "display_data"
    },
    {
     "name": "stdout",
     "output_type": "stream",
     "text": [
      "https://marketplace.axieinfinity.com/profile/ronin:9c465bbf76dfe5c71c9990ab6955e5da0041a624/axie/ 2465 1900 Beaztly : BZTG\n"
     ]
    },
    {
     "data": {
      "text/html": [
       "<a href=\"https://marketplace.axieinfinity.com/axie/7205106\" target=\"_blank\" rel=\"noopener noreferrer\"><img src=\"https://storage.googleapis.com/assets.axieinfinity.com/axies/7205106/axie/axie-full-transparent.png\" width=128 height=128 style=\"display:inline; margin:1px\"/></a><a href=\"https://marketplace.axieinfinity.com/axie/7262430\" target=\"_blank\" rel=\"noopener noreferrer\"><img src=\"https://storage.googleapis.com/assets.axieinfinity.com/axies/7262430/axie/axie-full-transparent.png\" width=128 height=128 style=\"display:inline; margin:1px\"/></a><a href=\"https://marketplace.axieinfinity.com/axie/9207658\" target=\"_blank\" rel=\"noopener noreferrer\"><img src=\"https://storage.googleapis.com/assets.axieinfinity.com/axies/9207658/axie/axie-full-transparent.png\" width=128 height=128 style=\"display:inline; margin:1px\"/></a>"
      ],
      "text/plain": [
       "<IPython.core.display.HTML object>"
      ]
     },
     "metadata": {},
     "output_type": "display_data"
    },
    {
     "name": "stdout",
     "output_type": "stream",
     "text": [
      "https://marketplace.axieinfinity.com/profile/ronin:1e41128983c046d0f4145ece9ba74a4afaf3f87d/axie/ 2463 1922 Abu | MTTM\n"
     ]
    },
    {
     "data": {
      "text/html": [
       "<a href=\"https://marketplace.axieinfinity.com/axie/9380091\" target=\"_blank\" rel=\"noopener noreferrer\"><img src=\"https://storage.googleapis.com/assets.axieinfinity.com/axies/9380091/axie/axie-full-transparent.png\" width=128 height=128 style=\"display:inline; margin:1px\"/></a><a href=\"https://marketplace.axieinfinity.com/axie/9478775\" target=\"_blank\" rel=\"noopener noreferrer\"><img src=\"https://storage.googleapis.com/assets.axieinfinity.com/axies/9478775/axie/axie-full-transparent.png\" width=128 height=128 style=\"display:inline; margin:1px\"/></a><a href=\"https://marketplace.axieinfinity.com/axie/9641697\" target=\"_blank\" rel=\"noopener noreferrer\"><img src=\"https://storage.googleapis.com/assets.axieinfinity.com/axies/9641697/axie/axie-full-transparent.png\" width=128 height=128 style=\"display:inline; margin:1px\"/></a>"
      ],
      "text/plain": [
       "<IPython.core.display.HTML object>"
      ]
     },
     "metadata": {},
     "output_type": "display_data"
    },
    {
     "name": "stdout",
     "output_type": "stream",
     "text": [
      "https://marketplace.axieinfinity.com/profile/ronin:f7c3e0ed4896850062e7b7bd71f520d0edc19899/axie/ 2450 2086 Ali zwine lbeaugeausse\n"
     ]
    },
    {
     "data": {
      "text/html": [
       "<a href=\"https://marketplace.axieinfinity.com/axie/8467180\" target=\"_blank\" rel=\"noopener noreferrer\"><img src=\"https://storage.googleapis.com/assets.axieinfinity.com/axies/8467180/axie/axie-full-transparent.png\" width=128 height=128 style=\"display:inline; margin:1px\"/></a><a href=\"https://marketplace.axieinfinity.com/axie/9586149\" target=\"_blank\" rel=\"noopener noreferrer\"><img src=\"https://storage.googleapis.com/assets.axieinfinity.com/axies/9586149/axie/axie-full-transparent.png\" width=128 height=128 style=\"display:inline; margin:1px\"/></a><a href=\"https://marketplace.axieinfinity.com/axie/9669488\" target=\"_blank\" rel=\"noopener noreferrer\"><img src=\"https://storage.googleapis.com/assets.axieinfinity.com/axies/9669488/axie/axie-full-transparent.png\" width=128 height=128 style=\"display:inline; margin:1px\"/></a>"
      ],
      "text/plain": [
       "<IPython.core.display.HTML object>"
      ]
     },
     "metadata": {},
     "output_type": "display_data"
    },
    {
     "name": "stdout",
     "output_type": "stream",
     "text": [
      "https://marketplace.axieinfinity.com/profile/ronin:1603e5e3406854849ddbb6157a80cc5abf5cfeb4/axie/ 2446 2135 Pamela Villacorte\n"
     ]
    },
    {
     "data": {
      "text/html": [
       "<a href=\"https://marketplace.axieinfinity.com/axie/3333007\" target=\"_blank\" rel=\"noopener noreferrer\"><img src=\"https://storage.googleapis.com/assets.axieinfinity.com/axies/3333007/axie/axie-full-transparent.png\" width=128 height=128 style=\"display:inline; margin:1px\"/></a><a href=\"https://marketplace.axieinfinity.com/axie/4042875\" target=\"_blank\" rel=\"noopener noreferrer\"><img src=\"https://storage.googleapis.com/assets.axieinfinity.com/axies/4042875/axie/axie-full-transparent.png\" width=128 height=128 style=\"display:inline; margin:1px\"/></a><a href=\"https://marketplace.axieinfinity.com/axie/9419090\" target=\"_blank\" rel=\"noopener noreferrer\"><img src=\"https://storage.googleapis.com/assets.axieinfinity.com/axies/9419090/axie/axie-full-transparent.png\" width=128 height=128 style=\"display:inline; margin:1px\"/></a>"
      ],
      "text/plain": [
       "<IPython.core.display.HTML object>"
      ]
     },
     "metadata": {},
     "output_type": "display_data"
    },
    {
     "name": "stdout",
     "output_type": "stream",
     "text": [
      "https://marketplace.axieinfinity.com/profile/ronin:bddd45875e2e54386bf3a90d0196e0daec1ae0bf/axie/ 2445 2143 Snow | CTG\n"
     ]
    },
    {
     "data": {
      "text/html": [
       "<a href=\"https://marketplace.axieinfinity.com/axie/396976\" target=\"_blank\" rel=\"noopener noreferrer\"><img src=\"https://storage.googleapis.com/assets.axieinfinity.com/axies/396976/axie/axie-full-transparent.png\" width=128 height=128 style=\"display:inline; margin:1px\"/></a><a href=\"https://marketplace.axieinfinity.com/axie/2255368\" target=\"_blank\" rel=\"noopener noreferrer\"><img src=\"https://storage.googleapis.com/assets.axieinfinity.com/axies/2255368/axie/axie-full-transparent.png\" width=128 height=128 style=\"display:inline; margin:1px\"/></a><a href=\"https://marketplace.axieinfinity.com/axie/8955654\" target=\"_blank\" rel=\"noopener noreferrer\"><img src=\"https://storage.googleapis.com/assets.axieinfinity.com/axies/8955654/axie/axie-full-transparent.png\" width=128 height=128 style=\"display:inline; margin:1px\"/></a>"
      ],
      "text/plain": [
       "<IPython.core.display.HTML object>"
      ]
     },
     "metadata": {},
     "output_type": "display_data"
    },
    {
     "name": "stdout",
     "output_type": "stream",
     "text": [
      "https://marketplace.axieinfinity.com/profile/ronin:182a169d70b3a0b9f8771e8c7eef2827361d47ad/axie/ 2436 2271 Ryo | MSD | GsZ\n"
     ]
    },
    {
     "data": {
      "text/html": [
       "<a href=\"https://marketplace.axieinfinity.com/axie/7956955\" target=\"_blank\" rel=\"noopener noreferrer\"><img src=\"https://storage.googleapis.com/assets.axieinfinity.com/axies/7956955/axie/axie-full-transparent.png\" width=128 height=128 style=\"display:inline; margin:1px\"/></a><a href=\"https://marketplace.axieinfinity.com/axie/7982378\" target=\"_blank\" rel=\"noopener noreferrer\"><img src=\"https://storage.googleapis.com/assets.axieinfinity.com/axies/7982378/axie/axie-full-transparent.png\" width=128 height=128 style=\"display:inline; margin:1px\"/></a><a href=\"https://marketplace.axieinfinity.com/axie/7983645\" target=\"_blank\" rel=\"noopener noreferrer\"><img src=\"https://storage.googleapis.com/assets.axieinfinity.com/axies/7983645/axie/axie-full-transparent.png\" width=128 height=128 style=\"display:inline; margin:1px\"/></a>"
      ],
      "text/plain": [
       "<IPython.core.display.HTML object>"
      ]
     },
     "metadata": {},
     "output_type": "display_data"
    },
    {
     "name": "stdout",
     "output_type": "stream",
     "text": [
      "https://marketplace.axieinfinity.com/profile/ronin:ef1cafe7b3f552284dcb868b6ab9597f684fa461/axie/ 2436 2265 Sura | Sarraf\n"
     ]
    },
    {
     "data": {
      "text/html": [
       "<a href=\"https://marketplace.axieinfinity.com/axie/2324240\" target=\"_blank\" rel=\"noopener noreferrer\"><img src=\"https://storage.googleapis.com/assets.axieinfinity.com/axies/2324240/axie/axie-full-transparent.png\" width=128 height=128 style=\"display:inline; margin:1px\"/></a><a href=\"https://marketplace.axieinfinity.com/axie/7225246\" target=\"_blank\" rel=\"noopener noreferrer\"><img src=\"https://storage.googleapis.com/assets.axieinfinity.com/axies/7225246/axie/axie-full-transparent.png\" width=128 height=128 style=\"display:inline; margin:1px\"/></a><a href=\"https://marketplace.axieinfinity.com/axie/9288944\" target=\"_blank\" rel=\"noopener noreferrer\"><img src=\"https://storage.googleapis.com/assets.axieinfinity.com/axies/9288944/axie/axie-full-transparent.png\" width=128 height=128 style=\"display:inline; margin:1px\"/></a>"
      ],
      "text/plain": [
       "<IPython.core.display.HTML object>"
      ]
     },
     "metadata": {},
     "output_type": "display_data"
    },
    {
     "name": "stdout",
     "output_type": "stream",
     "text": [
      "https://marketplace.axieinfinity.com/profile/ronin:0adb19e7c2b22c3c388f6eb1bd388cee8a4c277d/axie/ 2425 2458 Axie69#6417\n"
     ]
    },
    {
     "data": {
      "text/html": [
       "<a href=\"https://marketplace.axieinfinity.com/axie/3287132\" target=\"_blank\" rel=\"noopener noreferrer\"><img src=\"https://storage.googleapis.com/assets.axieinfinity.com/axies/3287132/axie/axie-full-transparent.png\" width=128 height=128 style=\"display:inline; margin:1px\"/></a><a href=\"https://marketplace.axieinfinity.com/axie/9569928\" target=\"_blank\" rel=\"noopener noreferrer\"><img src=\"https://storage.googleapis.com/assets.axieinfinity.com/axies/9569928/axie/axie-full-transparent.png\" width=128 height=128 style=\"display:inline; margin:1px\"/></a><a href=\"https://marketplace.axieinfinity.com/axie/9588132\" target=\"_blank\" rel=\"noopener noreferrer\"><img src=\"https://storage.googleapis.com/assets.axieinfinity.com/axies/9588132/axie/axie-full-transparent.png\" width=128 height=128 style=\"display:inline; margin:1px\"/></a>"
      ],
      "text/plain": [
       "<IPython.core.display.HTML object>"
      ]
     },
     "metadata": {},
     "output_type": "display_data"
    },
    {
     "name": "stdout",
     "output_type": "stream",
     "text": [
      "https://marketplace.axieinfinity.com/profile/ronin:c02d9481111d6c73cb56bbf58f07dd133a6c23aa/axie/ 2415 2630 BlueFuego | AxieEquiste\n"
     ]
    },
    {
     "data": {
      "text/html": [
       "<a href=\"https://marketplace.axieinfinity.com/axie/7736429\" target=\"_blank\" rel=\"noopener noreferrer\"><img src=\"https://storage.googleapis.com/assets.axieinfinity.com/axies/7736429/axie/axie-full-transparent.png\" width=128 height=128 style=\"display:inline; margin:1px\"/></a><a href=\"https://marketplace.axieinfinity.com/axie/7762005\" target=\"_blank\" rel=\"noopener noreferrer\"><img src=\"https://storage.googleapis.com/assets.axieinfinity.com/axies/7762005/axie/axie-full-transparent.png\" width=128 height=128 style=\"display:inline; margin:1px\"/></a><a href=\"https://marketplace.axieinfinity.com/axie/8504421\" target=\"_blank\" rel=\"noopener noreferrer\"><img src=\"https://storage.googleapis.com/assets.axieinfinity.com/axies/8504421/axie/axie-full-transparent.png\" width=128 height=128 style=\"display:inline; margin:1px\"/></a>"
      ],
      "text/plain": [
       "<IPython.core.display.HTML object>"
      ]
     },
     "metadata": {},
     "output_type": "display_data"
    },
    {
     "name": "stdout",
     "output_type": "stream",
     "text": [
      "https://marketplace.axieinfinity.com/profile/ronin:ea7ca5327a7fbb197cea304b4c9b533696e07bfc/axie/ 2411 2695 Noodles I HUDYO\n"
     ]
    },
    {
     "data": {
      "text/html": [
       "<a href=\"https://marketplace.axieinfinity.com/axie/7279079\" target=\"_blank\" rel=\"noopener noreferrer\"><img src=\"https://storage.googleapis.com/assets.axieinfinity.com/axies/7279079/axie/axie-full-transparent.png\" width=128 height=128 style=\"display:inline; margin:1px\"/></a><a href=\"https://marketplace.axieinfinity.com/axie/7376421\" target=\"_blank\" rel=\"noopener noreferrer\"><img src=\"https://storage.googleapis.com/assets.axieinfinity.com/axies/7376421/axie/axie-full-transparent.png\" width=128 height=128 style=\"display:inline; margin:1px\"/></a><a href=\"https://marketplace.axieinfinity.com/axie/7878925\" target=\"_blank\" rel=\"noopener noreferrer\"><img src=\"https://storage.googleapis.com/assets.axieinfinity.com/axies/7878925/axie/axie-full-transparent.png\" width=128 height=128 style=\"display:inline; margin:1px\"/></a>"
      ],
      "text/plain": [
       "<IPython.core.display.HTML object>"
      ]
     },
     "metadata": {},
     "output_type": "display_data"
    },
    {
     "name": "stdout",
     "output_type": "stream",
     "text": [
      "https://marketplace.axieinfinity.com/profile/ronin:e3f41e3d2ea8696eb0bd3c98509d86078fc1a7ef/axie/ 2404 2836 Praiyi\n"
     ]
    },
    {
     "data": {
      "text/html": [
       "<a href=\"https://marketplace.axieinfinity.com/axie/2399151\" target=\"_blank\" rel=\"noopener noreferrer\"><img src=\"https://storage.googleapis.com/assets.axieinfinity.com/axies/2399151/axie/axie-full-transparent.png\" width=128 height=128 style=\"display:inline; margin:1px\"/></a><a href=\"https://marketplace.axieinfinity.com/axie/4860654\" target=\"_blank\" rel=\"noopener noreferrer\"><img src=\"https://storage.googleapis.com/assets.axieinfinity.com/axies/4860654/axie/axie-full-transparent.png\" width=128 height=128 style=\"display:inline; margin:1px\"/></a><a href=\"https://marketplace.axieinfinity.com/axie/8785617\" target=\"_blank\" rel=\"noopener noreferrer\"><img src=\"https://storage.googleapis.com/assets.axieinfinity.com/axies/8785617/axie/axie-full-transparent.png\" width=128 height=128 style=\"display:inline; margin:1px\"/></a>"
      ],
      "text/plain": [
       "<IPython.core.display.HTML object>"
      ]
     },
     "metadata": {},
     "output_type": "display_data"
    },
    {
     "name": "stdout",
     "output_type": "stream",
     "text": [
      "https://marketplace.axieinfinity.com/profile/ronin:ca2a63bbf62eca17e4bdbe3d284e40f9aa77f3a8/axie/ 2395 3013 Luis Miguel #2 Gambito Ac\n"
     ]
    },
    {
     "data": {
      "text/html": [
       "<a href=\"https://marketplace.axieinfinity.com/axie/3156173\" target=\"_blank\" rel=\"noopener noreferrer\"><img src=\"https://storage.googleapis.com/assets.axieinfinity.com/axies/3156173/axie/axie-full-transparent.png\" width=128 height=128 style=\"display:inline; margin:1px\"/></a><a href=\"https://marketplace.axieinfinity.com/axie/8828246\" target=\"_blank\" rel=\"noopener noreferrer\"><img src=\"https://storage.googleapis.com/assets.axieinfinity.com/axies/8828246/axie/axie-full-transparent.png\" width=128 height=128 style=\"display:inline; margin:1px\"/></a><a href=\"https://marketplace.axieinfinity.com/axie/9243376\" target=\"_blank\" rel=\"noopener noreferrer\"><img src=\"https://storage.googleapis.com/assets.axieinfinity.com/axies/9243376/axie/axie-full-transparent.png\" width=128 height=128 style=\"display:inline; margin:1px\"/></a>"
      ],
      "text/plain": [
       "<IPython.core.display.HTML object>"
      ]
     },
     "metadata": {},
     "output_type": "display_data"
    },
    {
     "name": "stdout",
     "output_type": "stream",
     "text": [
      "https://marketplace.axieinfinity.com/profile/ronin:04eadbc95b778c8e909838ba16a892e79fc1d027/axie/ 2381 3262 ramdE_\n"
     ]
    },
    {
     "data": {
      "text/html": [
       "<a href=\"https://marketplace.axieinfinity.com/axie/8369265\" target=\"_blank\" rel=\"noopener noreferrer\"><img src=\"https://storage.googleapis.com/assets.axieinfinity.com/axies/8369265/axie/axie-full-transparent.png\" width=128 height=128 style=\"display:inline; margin:1px\"/></a><a href=\"https://marketplace.axieinfinity.com/axie/8385114\" target=\"_blank\" rel=\"noopener noreferrer\"><img src=\"https://storage.googleapis.com/assets.axieinfinity.com/axies/8385114/axie/axie-full-transparent.png\" width=128 height=128 style=\"display:inline; margin:1px\"/></a><a href=\"https://marketplace.axieinfinity.com/axie/9238995\" target=\"_blank\" rel=\"noopener noreferrer\"><img src=\"https://storage.googleapis.com/assets.axieinfinity.com/axies/9238995/axie/axie-full-transparent.png\" width=128 height=128 style=\"display:inline; margin:1px\"/></a>"
      ],
      "text/plain": [
       "<IPython.core.display.HTML object>"
      ]
     },
     "metadata": {},
     "output_type": "display_data"
    },
    {
     "name": "stdout",
     "output_type": "stream",
     "text": [
      "https://marketplace.axieinfinity.com/profile/ronin:7b04b8453d397a46af31b9e8c801a70af39d0ab4/axie/ 2369 3503 TonnyTonnyChop🍻🏴‍☠️\n"
     ]
    },
    {
     "data": {
      "text/html": [
       "<a href=\"https://marketplace.axieinfinity.com/axie/9210646\" target=\"_blank\" rel=\"noopener noreferrer\"><img src=\"https://storage.googleapis.com/assets.axieinfinity.com/axies/9210646/axie/axie-full-transparent.png\" width=128 height=128 style=\"display:inline; margin:1px\"/></a><a href=\"https://marketplace.axieinfinity.com/axie/9234947\" target=\"_blank\" rel=\"noopener noreferrer\"><img src=\"https://storage.googleapis.com/assets.axieinfinity.com/axies/9234947/axie/axie-full-transparent.png\" width=128 height=128 style=\"display:inline; margin:1px\"/></a><a href=\"https://marketplace.axieinfinity.com/axie/9447297\" target=\"_blank\" rel=\"noopener noreferrer\"><img src=\"https://storage.googleapis.com/assets.axieinfinity.com/axies/9447297/axie/axie-full-transparent.png\" width=128 height=128 style=\"display:inline; margin:1px\"/></a>"
      ],
      "text/plain": [
       "<IPython.core.display.HTML object>"
      ]
     },
     "metadata": {},
     "output_type": "display_data"
    },
    {
     "name": "stdout",
     "output_type": "stream",
     "text": [
      "https://marketplace.axieinfinity.com/profile/ronin:dce43a58047d16db5f5bed1c37d03d3d91adf6c0/axie/ 2366 3480 eLdooDxFriends| Starks PH\n"
     ]
    },
    {
     "data": {
      "text/html": [
       "<a href=\"https://marketplace.axieinfinity.com/axie/1476147\" target=\"_blank\" rel=\"noopener noreferrer\"><img src=\"https://storage.googleapis.com/assets.axieinfinity.com/axies/1476147/axie/axie-full-transparent.png\" width=128 height=128 style=\"display:inline; margin:1px\"/></a><a href=\"https://marketplace.axieinfinity.com/axie/7551483\" target=\"_blank\" rel=\"noopener noreferrer\"><img src=\"https://storage.googleapis.com/assets.axieinfinity.com/axies/7551483/axie/axie-full-transparent.png\" width=128 height=128 style=\"display:inline; margin:1px\"/></a><a href=\"https://marketplace.axieinfinity.com/axie/8145933\" target=\"_blank\" rel=\"noopener noreferrer\"><img src=\"https://storage.googleapis.com/assets.axieinfinity.com/axies/8145933/axie/axie-full-transparent.png\" width=128 height=128 style=\"display:inline; margin:1px\"/></a>"
      ],
      "text/plain": [
       "<IPython.core.display.HTML object>"
      ]
     },
     "metadata": {},
     "output_type": "display_data"
    },
    {
     "name": "stdout",
     "output_type": "stream",
     "text": [
      "https://marketplace.axieinfinity.com/profile/ronin:0f235b7b19b08a9eb70c99c53ad452a24f475d53/axie/ 2336 4273 ❌- DC\n"
     ]
    },
    {
     "data": {
      "text/html": [
       "<a href=\"https://marketplace.axieinfinity.com/axie/3414894\" target=\"_blank\" rel=\"noopener noreferrer\"><img src=\"https://storage.googleapis.com/assets.axieinfinity.com/axies/3414894/axie/axie-full-transparent.png\" width=128 height=128 style=\"display:inline; margin:1px\"/></a><a href=\"https://marketplace.axieinfinity.com/axie/8869018\" target=\"_blank\" rel=\"noopener noreferrer\"><img src=\"https://storage.googleapis.com/assets.axieinfinity.com/axies/8869018/axie/axie-full-transparent.png\" width=128 height=128 style=\"display:inline; margin:1px\"/></a><a href=\"https://marketplace.axieinfinity.com/axie/9200279\" target=\"_blank\" rel=\"noopener noreferrer\"><img src=\"https://storage.googleapis.com/assets.axieinfinity.com/axies/9200279/axie/axie-full-transparent.png\" width=128 height=128 style=\"display:inline; margin:1px\"/></a>"
      ],
      "text/plain": [
       "<IPython.core.display.HTML object>"
      ]
     },
     "metadata": {},
     "output_type": "display_data"
    },
    {
     "name": "stdout",
     "output_type": "stream",
     "text": [
      "https://marketplace.axieinfinity.com/profile/ronin:29ef522776b688bcd7dfb5eafd92950cb9960ef2/axie/ 2333 4337 Chaps | CNG\n"
     ]
    },
    {
     "data": {
      "text/html": [
       "<a href=\"https://marketplace.axieinfinity.com/axie/8248728\" target=\"_blank\" rel=\"noopener noreferrer\"><img src=\"https://storage.googleapis.com/assets.axieinfinity.com/axies/8248728/axie/axie-full-transparent.png\" width=128 height=128 style=\"display:inline; margin:1px\"/></a><a href=\"https://marketplace.axieinfinity.com/axie/8809265\" target=\"_blank\" rel=\"noopener noreferrer\"><img src=\"https://storage.googleapis.com/assets.axieinfinity.com/axies/8809265/axie/axie-full-transparent.png\" width=128 height=128 style=\"display:inline; margin:1px\"/></a><a href=\"https://marketplace.axieinfinity.com/axie/9048965\" target=\"_blank\" rel=\"noopener noreferrer\"><img src=\"https://storage.googleapis.com/assets.axieinfinity.com/axies/9048965/axie/axie-full-transparent.png\" width=128 height=128 style=\"display:inline; margin:1px\"/></a>"
      ],
      "text/plain": [
       "<IPython.core.display.HTML object>"
      ]
     },
     "metadata": {},
     "output_type": "display_data"
    },
    {
     "name": "stdout",
     "output_type": "stream",
     "text": [
      "https://marketplace.axieinfinity.com/profile/ronin:269001c95646163bb7c4870577b5c8b68bd8acfb/axie/ 2308 5130 Nctis #1279637\n"
     ]
    },
    {
     "data": {
      "text/html": [
       "<a href=\"https://marketplace.axieinfinity.com/axie/7456084\" target=\"_blank\" rel=\"noopener noreferrer\"><img src=\"https://storage.googleapis.com/assets.axieinfinity.com/axies/7456084/axie/axie-full-transparent.png\" width=128 height=128 style=\"display:inline; margin:1px\"/></a><a href=\"https://marketplace.axieinfinity.com/axie/7563959\" target=\"_blank\" rel=\"noopener noreferrer\"><img src=\"https://storage.googleapis.com/assets.axieinfinity.com/axies/7563959/axie/axie-full-transparent.png\" width=128 height=128 style=\"display:inline; margin:1px\"/></a><a href=\"https://marketplace.axieinfinity.com/axie/8387030\" target=\"_blank\" rel=\"noopener noreferrer\"><img src=\"https://storage.googleapis.com/assets.axieinfinity.com/axies/8387030/axie/axie-full-transparent.png\" width=128 height=128 style=\"display:inline; margin:1px\"/></a>"
      ],
      "text/plain": [
       "<IPython.core.display.HTML object>"
      ]
     },
     "metadata": {},
     "output_type": "display_data"
    },
    {
     "name": "stdout",
     "output_type": "stream",
     "text": [
      "https://marketplace.axieinfinity.com/profile/ronin:040858117dd37c9f1128874b58e9b5d7027ceb7a/axie/ 2299 5440 mike\n"
     ]
    },
    {
     "data": {
      "text/html": [
       "<a href=\"https://marketplace.axieinfinity.com/axie/8632205\" target=\"_blank\" rel=\"noopener noreferrer\"><img src=\"https://storage.googleapis.com/assets.axieinfinity.com/axies/8632205/axie/axie-full-transparent.png\" width=128 height=128 style=\"display:inline; margin:1px\"/></a><a href=\"https://marketplace.axieinfinity.com/axie/8751227\" target=\"_blank\" rel=\"noopener noreferrer\"><img src=\"https://storage.googleapis.com/assets.axieinfinity.com/axies/8751227/axie/axie-full-transparent.png\" width=128 height=128 style=\"display:inline; margin:1px\"/></a><a href=\"https://marketplace.axieinfinity.com/axie/9325838\" target=\"_blank\" rel=\"noopener noreferrer\"><img src=\"https://storage.googleapis.com/assets.axieinfinity.com/axies/9325838/axie/axie-full-transparent.png\" width=128 height=128 style=\"display:inline; margin:1px\"/></a>"
      ],
      "text/plain": [
       "<IPython.core.display.HTML object>"
      ]
     },
     "metadata": {},
     "output_type": "display_data"
    },
    {
     "name": "stdout",
     "output_type": "stream",
     "text": [
      "https://marketplace.axieinfinity.com/profile/ronin:fe56200186c21fed576a0c79461184f4becdb533/axie/ 2266 6638 RayEarth56 | Otan\n"
     ]
    },
    {
     "data": {
      "text/html": [
       "<a href=\"https://marketplace.axieinfinity.com/axie/370378\" target=\"_blank\" rel=\"noopener noreferrer\"><img src=\"https://storage.googleapis.com/assets.axieinfinity.com/axies/370378/axie/axie-full-transparent.png\" width=128 height=128 style=\"display:inline; margin:1px\"/></a><a href=\"https://marketplace.axieinfinity.com/axie/1991951\" target=\"_blank\" rel=\"noopener noreferrer\"><img src=\"https://storage.googleapis.com/assets.axieinfinity.com/axies/1991951/axie/axie-full-transparent.png\" width=128 height=128 style=\"display:inline; margin:1px\"/></a><a href=\"https://marketplace.axieinfinity.com/axie/2083756\" target=\"_blank\" rel=\"noopener noreferrer\"><img src=\"https://storage.googleapis.com/assets.axieinfinity.com/axies/2083756/axie/axie-full-transparent.png\" width=128 height=128 style=\"display:inline; margin:1px\"/></a>"
      ],
      "text/plain": [
       "<IPython.core.display.HTML object>"
      ]
     },
     "metadata": {},
     "output_type": "display_data"
    },
    {
     "name": "stdout",
     "output_type": "stream",
     "text": [
      "https://marketplace.axieinfinity.com/profile/ronin:3b67f5769bb34b8169190b9986d3ac97c012dd0a/axie/ 2254 7121 Spiritmonger\n"
     ]
    },
    {
     "data": {
      "text/html": [
       "<a href=\"https://marketplace.axieinfinity.com/axie/820320\" target=\"_blank\" rel=\"noopener noreferrer\"><img src=\"https://storage.googleapis.com/assets.axieinfinity.com/axies/820320/axie/axie-full-transparent.png\" width=128 height=128 style=\"display:inline; margin:1px\"/></a><a href=\"https://marketplace.axieinfinity.com/axie/8482838\" target=\"_blank\" rel=\"noopener noreferrer\"><img src=\"https://storage.googleapis.com/assets.axieinfinity.com/axies/8482838/axie/axie-full-transparent.png\" width=128 height=128 style=\"display:inline; margin:1px\"/></a><a href=\"https://marketplace.axieinfinity.com/axie/8640103\" target=\"_blank\" rel=\"noopener noreferrer\"><img src=\"https://storage.googleapis.com/assets.axieinfinity.com/axies/8640103/axie/axie-full-transparent.png\" width=128 height=128 style=\"display:inline; margin:1px\"/></a>"
      ],
      "text/plain": [
       "<IPython.core.display.HTML object>"
      ]
     },
     "metadata": {},
     "output_type": "display_data"
    },
    {
     "name": "stdout",
     "output_type": "stream",
     "text": [
      "https://marketplace.axieinfinity.com/profile/ronin:694c993d2f71f2e4cd3c0edca4c7db915bf113d2/axie/ 2233 8127 YvanPlays\n"
     ]
    },
    {
     "data": {
      "text/html": [
       "<a href=\"https://marketplace.axieinfinity.com/axie/8739182\" target=\"_blank\" rel=\"noopener noreferrer\"><img src=\"https://storage.googleapis.com/assets.axieinfinity.com/axies/8739182/axie/axie-full-transparent.png\" width=128 height=128 style=\"display:inline; margin:1px\"/></a><a href=\"https://marketplace.axieinfinity.com/axie/8802749\" target=\"_blank\" rel=\"noopener noreferrer\"><img src=\"https://storage.googleapis.com/assets.axieinfinity.com/axies/8802749/axie/axie-full-transparent.png\" width=128 height=128 style=\"display:inline; margin:1px\"/></a><a href=\"https://marketplace.axieinfinity.com/axie/8860387\" target=\"_blank\" rel=\"noopener noreferrer\"><img src=\"https://storage.googleapis.com/assets.axieinfinity.com/axies/8860387/axie/axie-full-transparent.png\" width=128 height=128 style=\"display:inline; margin:1px\"/></a>"
      ],
      "text/plain": [
       "<IPython.core.display.HTML object>"
      ]
     },
     "metadata": {},
     "output_type": "display_data"
    },
    {
     "name": "stdout",
     "output_type": "stream",
     "text": [
      "https://marketplace.axieinfinity.com/profile/ronin:686a9dc15eb518c65893dcf871576c3ca5c0220a/axie/ 2219 8845 DON Vito\n"
     ]
    },
    {
     "data": {
      "text/html": [
       "<a href=\"https://marketplace.axieinfinity.com/axie/8741389\" target=\"_blank\" rel=\"noopener noreferrer\"><img src=\"https://storage.googleapis.com/assets.axieinfinity.com/axies/8741389/axie/axie-full-transparent.png\" width=128 height=128 style=\"display:inline; margin:1px\"/></a><a href=\"https://marketplace.axieinfinity.com/axie/9175365\" target=\"_blank\" rel=\"noopener noreferrer\"><img src=\"https://storage.googleapis.com/assets.axieinfinity.com/axies/9175365/axie/axie-full-transparent.png\" width=128 height=128 style=\"display:inline; margin:1px\"/></a><a href=\"https://marketplace.axieinfinity.com/axie/9193465\" target=\"_blank\" rel=\"noopener noreferrer\"><img src=\"https://storage.googleapis.com/assets.axieinfinity.com/axies/9193465/axie/axie-full-transparent.png\" width=128 height=128 style=\"display:inline; margin:1px\"/></a>"
      ],
      "text/plain": [
       "<IPython.core.display.HTML object>"
      ]
     },
     "metadata": {},
     "output_type": "display_data"
    },
    {
     "name": "stdout",
     "output_type": "stream",
     "text": [
      "https://marketplace.axieinfinity.com/profile/ronin:3faf9e5fb731a5832c1edd21332c7ca34f5b9252/axie/ 2215 9076 HeliosOm\n"
     ]
    },
    {
     "data": {
      "text/html": [
       "<a href=\"https://marketplace.axieinfinity.com/axie/3523313\" target=\"_blank\" rel=\"noopener noreferrer\"><img src=\"https://storage.googleapis.com/assets.axieinfinity.com/axies/3523313/axie/axie-full-transparent.png\" width=128 height=128 style=\"display:inline; margin:1px\"/></a><a href=\"https://marketplace.axieinfinity.com/axie/7251902\" target=\"_blank\" rel=\"noopener noreferrer\"><img src=\"https://storage.googleapis.com/assets.axieinfinity.com/axies/7251902/axie/axie-full-transparent.png\" width=128 height=128 style=\"display:inline; margin:1px\"/></a><a href=\"https://marketplace.axieinfinity.com/axie/8180791\" target=\"_blank\" rel=\"noopener noreferrer\"><img src=\"https://storage.googleapis.com/assets.axieinfinity.com/axies/8180791/axie/axie-full-transparent.png\" width=128 height=128 style=\"display:inline; margin:1px\"/></a>"
      ],
      "text/plain": [
       "<IPython.core.display.HTML object>"
      ]
     },
     "metadata": {},
     "output_type": "display_data"
    },
    {
     "name": "stdout",
     "output_type": "stream",
     "text": [
      "https://marketplace.axieinfinity.com/profile/ronin:97f300359b1bd5cb7e177c37e59498e091c23e5b/axie/ 2197 10303 T axie\n"
     ]
    },
    {
     "data": {
      "text/html": [
       "<a href=\"https://marketplace.axieinfinity.com/axie/5223180\" target=\"_blank\" rel=\"noopener noreferrer\"><img src=\"https://storage.googleapis.com/assets.axieinfinity.com/axies/5223180/axie/axie-full-transparent.png\" width=128 height=128 style=\"display:inline; margin:1px\"/></a><a href=\"https://marketplace.axieinfinity.com/axie/5431156\" target=\"_blank\" rel=\"noopener noreferrer\"><img src=\"https://storage.googleapis.com/assets.axieinfinity.com/axies/5431156/axie/axie-full-transparent.png\" width=128 height=128 style=\"display:inline; margin:1px\"/></a><a href=\"https://marketplace.axieinfinity.com/axie/8523374\" target=\"_blank\" rel=\"noopener noreferrer\"><img src=\"https://storage.googleapis.com/assets.axieinfinity.com/axies/8523374/axie/axie-full-transparent.png\" width=128 height=128 style=\"display:inline; margin:1px\"/></a>"
      ],
      "text/plain": [
       "<IPython.core.display.HTML object>"
      ]
     },
     "metadata": {},
     "output_type": "display_data"
    }
   ],
   "source": [
    "link_templ = \"https://marketplace.axieinfinity.com/profile/ronin:%s/axie/\"\n",
    "for client_id, elo, rank, name in answer:\n",
    "    link_id = link_templ%client_id[2:]\n",
    "    print(link_id, elo, rank, name)\n",
    "    axieList = teams[client_id]\n",
    "    axieImages = [\"https://storage.googleapis.com/assets.axieinfinity.com/axies/%s/axie/axie-full-transparent.png\"%x for x in axieList]\n",
    "    displayAxies(axieList, axieImages, False)"
   ]
  },
  {
   "cell_type": "code",
   "execution_count": null,
   "metadata": {
    "scrolled": true
   },
   "outputs": [],
   "source": []
  },
  {
   "cell_type": "code",
   "execution_count": null,
   "metadata": {
    "scrolled": true
   },
   "outputs": [],
   "source": []
  }
 ],
 "metadata": {
  "kernelspec": {
   "display_name": "Python 3",
   "language": "python",
   "name": "python3"
  },
  "language_info": {
   "codemirror_mode": {
    "name": "ipython",
    "version": 3
   },
   "file_extension": ".py",
   "mimetype": "text/x-python",
   "name": "python",
   "nbconvert_exporter": "python",
   "pygments_lexer": "ipython3",
   "version": "3.8.5"
  }
 },
 "nbformat": 4,
 "nbformat_minor": 4
}

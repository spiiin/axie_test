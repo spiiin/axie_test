{
 "cells": [
  {
   "cell_type": "code",
   "execution_count": 1,
   "metadata": {
    "scrolled": true
   },
   "outputs": [],
   "source": [
    "import requests, json, time, os\n",
    "from collections import Counter\n",
    "from IPython.core.display import display, HTML"
   ]
  },
  {
   "cell_type": "code",
   "execution_count": 2,
   "metadata": {
    "scrolled": true
   },
   "outputs": [],
   "source": [
    "pathToBattles = r\"~\\AppData\\LocalLow\\Sky Mavis\\Axie Infinity\\production-battleHistoriesState\"\n",
    "pathToBattles = os.path.expanduser(pathToBattles)"
   ]
  },
  {
   "cell_type": "code",
   "execution_count": 3,
   "metadata": {
    "scrolled": true
   },
   "outputs": [],
   "source": [
    "my = \"0x3ac722d50232118a80b1d60ca787f4cd70e12813\"\n",
    "with open(pathToBattles, \"rt\") as f:\n",
    "    data = json.load(f)\n",
    "battles = data[\"battles\"]\n",
    "\n",
    "teams = {}\n",
    "for battle in battles:\n",
    "    if battle[\"battleType\"] == 1:\n",
    "        first = battle[\"firstClientId\"]\n",
    "        second = battle[\"secondClientId\"]\n",
    "        enemyNo = first == my and  1 or 0\n",
    "        enemyId = first == my and second or first\n",
    "        team = []\n",
    "        for fighter in battle[\"fighters\"]:\n",
    "            if fighter[\"teamIndex\"] == enemyNo:\n",
    "                team.append(fighter[\"id\"])\n",
    "        teams[enemyId] = team"
   ]
  },
  {
   "cell_type": "code",
   "execution_count": null,
   "metadata": {
    "scrolled": true
   },
   "outputs": [],
   "source": [
    "for enemy, team in teams.items():\n",
    "    print(enemy, team)"
   ]
  },
  {
   "cell_type": "code",
   "execution_count": 4,
   "metadata": {
    "scrolled": true
   },
   "outputs": [],
   "source": [
    "from python_graphql_client import GraphqlClient\n",
    "client = GraphqlClient(endpoint=\"https://graphql-gateway.axieinfinity.com/graphql\")"
   ]
  },
  {
   "cell_type": "code",
   "execution_count": 5,
   "metadata": {
    "scrolled": true
   },
   "outputs": [],
   "source": [
    "def getProfileData(address):\n",
    "    query = \"\"\"query GetProfileByRoninAddress($roninAddress: String!) {\\n  publicProfileWithRoninAddress(roninAddress: $roninAddress) {\\n    ...Profile\\n    __typename\\n  }\\n}\\n\\nfragment Profile on PublicProfile {\\n  accountId\\n  name\\n  addresses {\\n    ...Addresses\\n    __typename\\n  }\\n  __typename\\n}\\n\\nfragment Addresses on NetAddresses {\\n  ethereum\\n  tomo\\n  loom\\n  ronin\\n  __typename\\n}\\n\"\"\"\n",
    "    variables = {\"roninAddress\": address}\n",
    "    data = client.execute(query=query, variables=variables)\n",
    "    return data"
   ]
  },
  {
   "cell_type": "code",
   "execution_count": 6,
   "metadata": {
    "scrolled": true
   },
   "outputs": [
    {
     "data": {
      "text/plain": [
       "{'data': {'publicProfileWithRoninAddress': {'accountId': '4836585',\n",
       "   'name': 'pinkwonder',\n",
       "   'addresses': {'ethereum': None,\n",
       "    'tomo': None,\n",
       "    'loom': '0x9b29c6a400cb7cdaf64dca893f895189fa491482',\n",
       "    'ronin': '0x3ac722d50232118a80b1d60ca787f4cd70e12813',\n",
       "    '__typename': 'NetAddresses'},\n",
       "   '__typename': 'PublicProfile'}}}"
      ]
     },
     "execution_count": 6,
     "metadata": {},
     "output_type": "execute_result"
    }
   ],
   "source": [
    "getProfileData(\"0x3ac722d50232118a80b1d60ca787f4cd70e12813\")"
   ]
  },
  {
   "cell_type": "code",
   "execution_count": null,
   "metadata": {
    "scrolled": true
   },
   "outputs": [],
   "source": []
  },
  {
   "cell_type": "code",
   "execution_count": null,
   "metadata": {
    "scrolled": true
   },
   "outputs": [],
   "source": [
    "mmr"
   ]
  },
  {
   "cell_type": "code",
   "execution_count": null,
   "metadata": {
    "scrolled": true
   },
   "outputs": [
    {
     "name": "stdout",
     "output_type": "stream",
     "text": [
      "98\n",
      "https://game-api.axie.technology/mmr/0xf91bedeac9e3489aa34da14da0fdc3a58d74346c,0x587b154bf357759e646965d023d87e2cd16252a5,0xe1ea078bf1d01ef11e5f4e3bca5d38911f4b30e5,0x84ec9b3315acbacf34398d69d71c2047f2724168,0xefd3d32e75c1b731465bedac1db710c298f8c046,0x921aa67cae6f6b93997c0fd9af9dc04c8e428380,0xfed281e91609274eee69a640df1f335167d17ee0,0xca01ac28b6d9122b1153d84b3d0c87d9b96c265c,0xf1ee9c713df846ca628c42ea346c0364a154bf80,0xbc364814ed3fb0229a3364e0afd418e76b0b495a\n",
      "https://game-api.axie.technology/mmr/0xcb1bfe298b252a4fe6343c610ab790fe151a0c31,0x8f2338a40e316d7a79a867b5a12c371871065466,0x5e73c9a0e25381fec17fa43430e0f6e4efcd880c,0x93af629f2b9e097cecd26bf29f9fd49b91974a45,0x0d49809ad057f29db8c36a400ca7e7b5d690bc1d,0x4771de1c20809fbc465a087597426933f01b6d08,0xf8588e7d57fb6f9ee95f1999e357541c57a344df,0xee11cdbee359ad0e212239d3830d4e9c09efcc29,0x41a09f2b276744f6cb3423c91af5786ac5e0251c,0x8d0c79fd5231846f37699e16e336e144d7121548\n"
     ]
    }
   ],
   "source": [
    "mmr_addr = \"https://game-api.axie.technology/mmr/\"\n",
    "addresses = list(teams.keys())\n",
    "print(len(addresses))\n",
    "answer = []\n",
    "for i in range(len(addresses)//10+1):\n",
    "    mmr_addrs = addresses[i*10:i*10+10]\n",
    "    if len(mmr_addrs) > 0:\n",
    "        mmr_req = mmr_addr + \",\".join(mmr_addrs)\n",
    "        print(mmr_req)\n",
    "        #try:\n",
    "        data = requests.get(mmr_req).json()\n",
    "        for result in data:\n",
    "            for item in result[\"items\"]:\n",
    "                if item[\"client_id\"] in mmr_addrs:\n",
    "                    client_id = item[\"client_id\"]\n",
    "                    elo = item[\"elo\"]\n",
    "                    rank = item[\"rank\"]\n",
    "                    name = item[\"name\"]\n",
    "                    answer.append([client_id, elo, rank, name])\n",
    "    time.sleep(3.0)"
   ]
  },
  {
   "cell_type": "code",
   "execution_count": null,
   "metadata": {
    "scrolled": true
   },
   "outputs": [],
   "source": [
    "answer.sort(key = lambda x: -x[1])"
   ]
  },
  {
   "cell_type": "code",
   "execution_count": null,
   "metadata": {
    "scrolled": true
   },
   "outputs": [],
   "source": [
    "example_link = \"https://marketplace.axieinfinity.com/axie/\"\n",
    "def displayAxies(axieList, axieImages, displayLink):\n",
    "    lines = []\n",
    "    for axie, img in zip(axieList, axieImages):\n",
    "        link = example_link + str(axie)\n",
    "        if displayLink:\n",
    "            print(link)\n",
    "        lines.append('<a href=\"%s\" target=\"_blank\" rel=\"noopener noreferrer\"><img src=\"%s\" width=128 height=128 style=\"display:inline; margin:1px\"/></a>'%(link,img))\n",
    "    display(HTML(\"\".join(lines)))"
   ]
  },
  {
   "cell_type": "code",
   "execution_count": null,
   "metadata": {
    "scrolled": false
   },
   "outputs": [],
   "source": [
    "link_templ = \"https://marketplace.axieinfinity.com/profile/ronin:%s/axie/\"\n",
    "for client_id, elo, rank, name in answer:\n",
    "    link_id = link_templ%client_id[2:]\n",
    "    print(link_id, elo, rank, name)\n",
    "    axieList = teams[client_id]\n",
    "    axieImages = [\"https://storage.googleapis.com/assets.axieinfinity.com/axies/%s/axie/axie-full-transparent.png\"%x for x in axieList]\n",
    "    displayAxies(axieList, axieImages, False)"
   ]
  },
  {
   "cell_type": "code",
   "execution_count": null,
   "metadata": {
    "scrolled": true
   },
   "outputs": [],
   "source": []
  },
  {
   "cell_type": "code",
   "execution_count": null,
   "metadata": {
    "scrolled": true
   },
   "outputs": [],
   "source": []
  }
 ],
 "metadata": {
  "kernelspec": {
   "display_name": "Python 3",
   "language": "python",
   "name": "python3"
  },
  "language_info": {
   "codemirror_mode": {
    "name": "ipython",
    "version": 3
   },
   "file_extension": ".py",
   "mimetype": "text/x-python",
   "name": "python",
   "nbconvert_exporter": "python",
   "pygments_lexer": "ipython3",
   "version": "3.8.5"
  }
 },
 "nbformat": 4,
 "nbformat_minor": 4
}

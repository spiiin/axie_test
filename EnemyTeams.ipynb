{
 "cells": [
  {
   "cell_type": "code",
   "execution_count": null,
   "metadata": {
    "scrolled": true
   },
   "outputs": [],
   "source": [
    "import requests, json, time, os\n",
    "from collections import Counter\n",
    "from IPython.core.display import display, HTML"
   ]
  },
  {
   "cell_type": "code",
   "execution_count": null,
   "metadata": {
    "scrolled": true
   },
   "outputs": [],
   "source": [
    "pathToBattles = r\"~\\AppData\\LocalLow\\Sky Mavis\\Axie Infinity\\production-battleHistoriesState\"\n",
    "pathToBattles = os.path.expanduser(pathToBattles)"
   ]
  },
  {
   "cell_type": "code",
   "execution_count": null,
   "metadata": {
    "scrolled": true
   },
   "outputs": [],
   "source": [
    "with open(pathToBattles, \"rt\") as f:\n",
    "    data = json.load(f)\n",
    "battles = data[\"battles\"]\n",
    "\n",
    "teams = {}\n",
    "for battle in battles:\n",
    "    if battle[\"battleType\"] == 1:\n",
    "        first = battle[\"firstClientId\"]\n",
    "        second = battle[\"secondClientId\"]\n",
    "        enemyNo = first == my and  1 or 0\n",
    "        enemyId = first == my and second or first\n",
    "        team = []\n",
    "        for fighter in battle[\"fighters\"]:\n",
    "            if fighter[\"teamIndex\"] == enemyNo:\n",
    "                team.append(fighter[\"id\"])\n",
    "        teams[enemyId] = team"
   ]
  },
  {
   "cell_type": "code",
   "execution_count": null,
   "metadata": {
    "scrolled": true
   },
   "outputs": [],
   "source": [
    "for enemy, team in teams.items():\n",
    "    print(enemy, team)"
   ]
  },
  {
   "cell_type": "code",
   "execution_count": null,
   "metadata": {
    "scrolled": true
   },
   "outputs": [],
   "source": [
    "from python_graphql_client import GraphqlClient\n",
    "client = GraphqlClient(endpoint=\"https://graphql-gateway.axieinfinity.com/graphql\")"
   ]
  },
  {
   "cell_type": "code",
   "execution_count": null,
   "metadata": {
    "scrolled": true
   },
   "outputs": [],
   "source": [
    "def getProfileData(address):\n",
    "    query = \"\"\"query GetProfileByRoninAddress($roninAddress: String!) {\\n  publicProfileWithRoninAddress(roninAddress: $roninAddress) {\\n    ...Profile\\n    __typename\\n  }\\n}\\n\\nfragment Profile on PublicProfile {\\n  accountId\\n  name\\n  addresses {\\n    ...Addresses\\n    __typename\\n  }\\n  __typename\\n}\\n\\nfragment Addresses on NetAddresses {\\n  ethereum\\n  tomo\\n  loom\\n  ronin\\n  __typename\\n}\\n\"\"\"\n",
    "    variables = {\"roninAddress\": address}\n",
    "    data = client.execute(query=query, variables=variables)\n",
    "    return data"
   ]
  },
  {
   "cell_type": "code",
   "execution_count": null,
   "metadata": {
    "scrolled": true
   },
   "outputs": [],
   "source": []
  },
  {
   "cell_type": "code",
   "execution_count": null,
   "metadata": {
    "scrolled": true
   },
   "outputs": [],
   "source": []
  },
  {
   "cell_type": "code",
   "execution_count": null,
   "metadata": {
    "scrolled": true
   },
   "outputs": [],
   "source": [
    "mmr"
   ]
  },
  {
   "cell_type": "code",
   "execution_count": null,
   "metadata": {
    "scrolled": true
   },
   "outputs": [],
   "source": [
    "mmr_addr = \"https://game-api.axie.technology/mmr/\"\n",
    "addresses = list(teams.keys())\n",
    "print(len(addresses))\n",
    "answer = []\n",
    "for i in range(len(addresses)//10+1):\n",
    "    mmr_addrs = addresses[i*10:i*10+10]\n",
    "    if len(mmr_addrs) > 0:\n",
    "        mmr_req = mmr_addr + \",\".join(mmr_addrs)\n",
    "        print(mmr_req)\n",
    "        #try:\n",
    "        data = requests.get(mmr_req).json()\n",
    "        for result in data:\n",
    "            for item in result[\"items\"]:\n",
    "                if item[\"client_id\"] in mmr_addrs:\n",
    "                    client_id = item[\"client_id\"]\n",
    "                    elo = item[\"elo\"]\n",
    "                    rank = item[\"rank\"]\n",
    "                    name = item[\"name\"]\n",
    "                    answer.append([client_id, elo, rank, name])\n",
    "    time.sleep(3.0)"
   ]
  },
  {
   "cell_type": "code",
   "execution_count": 8,
   "metadata": {
    "scrolled": true
   },
   "outputs": [],
   "source": [
    "answer.sort(key = lambda x: -x[1])"
   ]
  },
  {
   "cell_type": "code",
   "execution_count": 9,
   "metadata": {
    "scrolled": true
   },
   "outputs": [],
   "source": [
    "example_link = \"https://marketplace.axieinfinity.com/axie/\"\n",
    "def displayAxies(axieList, axieImages, displayLink):\n",
    "    lines = []\n",
    "    for axie, img in zip(axieList, axieImages):\n",
    "        link = example_link + str(axie)\n",
    "        if displayLink:\n",
    "            print(link)\n",
    "        lines.append('<a href=\"%s\" target=\"_blank\" rel=\"noopener noreferrer\"><img src=\"%s\" width=128 height=128 style=\"display:inline; margin:1px\"/></a>'%(link,img))\n",
    "    display(HTML(\"\".join(lines)))"
   ]
  },
  {
   "cell_type": "code",
   "execution_count": 10,
   "metadata": {
    "scrolled": false
   },
   "outputs": [
    {
     "name": "stdout",
     "output_type": "stream",
     "text": [
      "https://marketplace.axieinfinity.com/profile/ronin:0d4841b5dbf31fd536d6e005cffce839c6bfeeb1/axie/ 2013 13198 Butchoy | GKH\n"
     ]
    },
    {
     "data": {
      "text/html": [
       "<a href=\"https://marketplace.axieinfinity.com/axie/3646979\" target=\"_blank\" rel=\"noopener noreferrer\"><img src=\"https://storage.googleapis.com/assets.axieinfinity.com/axies/3646979/axie/axie-full-transparent.png\" width=128 height=128 style=\"display:inline; margin:1px\"/></a><a href=\"https://marketplace.axieinfinity.com/axie/7760281\" target=\"_blank\" rel=\"noopener noreferrer\"><img src=\"https://storage.googleapis.com/assets.axieinfinity.com/axies/7760281/axie/axie-full-transparent.png\" width=128 height=128 style=\"display:inline; margin:1px\"/></a><a href=\"https://marketplace.axieinfinity.com/axie/9268166\" target=\"_blank\" rel=\"noopener noreferrer\"><img src=\"https://storage.googleapis.com/assets.axieinfinity.com/axies/9268166/axie/axie-full-transparent.png\" width=128 height=128 style=\"display:inline; margin:1px\"/></a>"
      ],
      "text/plain": [
       "<IPython.core.display.HTML object>"
      ]
     },
     "metadata": {},
     "output_type": "display_data"
    },
    {
     "name": "stdout",
     "output_type": "stream",
     "text": [
      "https://marketplace.axieinfinity.com/profile/ronin:587b154bf357759e646965d023d87e2cd16252a5/axie/ 2007 13815 19 🐨Louwtjie's Adventurer🐨\n"
     ]
    },
    {
     "data": {
      "text/html": [
       "<a href=\"https://marketplace.axieinfinity.com/axie/960959\" target=\"_blank\" rel=\"noopener noreferrer\"><img src=\"https://storage.googleapis.com/assets.axieinfinity.com/axies/960959/axie/axie-full-transparent.png\" width=128 height=128 style=\"display:inline; margin:1px\"/></a><a href=\"https://marketplace.axieinfinity.com/axie/6729599\" target=\"_blank\" rel=\"noopener noreferrer\"><img src=\"https://storage.googleapis.com/assets.axieinfinity.com/axies/6729599/axie/axie-full-transparent.png\" width=128 height=128 style=\"display:inline; margin:1px\"/></a><a href=\"https://marketplace.axieinfinity.com/axie/6734002\" target=\"_blank\" rel=\"noopener noreferrer\"><img src=\"https://storage.googleapis.com/assets.axieinfinity.com/axies/6734002/axie/axie-full-transparent.png\" width=128 height=128 style=\"display:inline; margin:1px\"/></a>"
      ],
      "text/plain": [
       "<IPython.core.display.HTML object>"
      ]
     },
     "metadata": {},
     "output_type": "display_data"
    },
    {
     "name": "stdout",
     "output_type": "stream",
     "text": [
      "https://marketplace.axieinfinity.com/profile/ronin:921aa67cae6f6b93997c0fd9af9dc04c8e428380/axie/ 2006 13868 Minty | JN Gaming\n"
     ]
    },
    {
     "data": {
      "text/html": [
       "<a href=\"https://marketplace.axieinfinity.com/axie/8119340\" target=\"_blank\" rel=\"noopener noreferrer\"><img src=\"https://storage.googleapis.com/assets.axieinfinity.com/axies/8119340/axie/axie-full-transparent.png\" width=128 height=128 style=\"display:inline; margin:1px\"/></a><a href=\"https://marketplace.axieinfinity.com/axie/8346405\" target=\"_blank\" rel=\"noopener noreferrer\"><img src=\"https://storage.googleapis.com/assets.axieinfinity.com/axies/8346405/axie/axie-full-transparent.png\" width=128 height=128 style=\"display:inline; margin:1px\"/></a><a href=\"https://marketplace.axieinfinity.com/axie/9193200\" target=\"_blank\" rel=\"noopener noreferrer\"><img src=\"https://storage.googleapis.com/assets.axieinfinity.com/axies/9193200/axie/axie-full-transparent.png\" width=128 height=128 style=\"display:inline; margin:1px\"/></a>"
      ],
      "text/plain": [
       "<IPython.core.display.HTML object>"
      ]
     },
     "metadata": {},
     "output_type": "display_data"
    },
    {
     "name": "stdout",
     "output_type": "stream",
     "text": [
      "https://marketplace.axieinfinity.com/profile/ronin:8882ab86306ccd92e77c5b311c54aa5a22ea87c3/axie/ 1996 15107 Buzz-S050-8882\n"
     ]
    },
    {
     "data": {
      "text/html": [
       "<a href=\"https://marketplace.axieinfinity.com/axie/8610540\" target=\"_blank\" rel=\"noopener noreferrer\"><img src=\"https://storage.googleapis.com/assets.axieinfinity.com/axies/8610540/axie/axie-full-transparent.png\" width=128 height=128 style=\"display:inline; margin:1px\"/></a><a href=\"https://marketplace.axieinfinity.com/axie/8793345\" target=\"_blank\" rel=\"noopener noreferrer\"><img src=\"https://storage.googleapis.com/assets.axieinfinity.com/axies/8793345/axie/axie-full-transparent.png\" width=128 height=128 style=\"display:inline; margin:1px\"/></a><a href=\"https://marketplace.axieinfinity.com/axie/8986878\" target=\"_blank\" rel=\"noopener noreferrer\"><img src=\"https://storage.googleapis.com/assets.axieinfinity.com/axies/8986878/axie/axie-full-transparent.png\" width=128 height=128 style=\"display:inline; margin:1px\"/></a>"
      ],
      "text/plain": [
       "<IPython.core.display.HTML object>"
      ]
     },
     "metadata": {},
     "output_type": "display_data"
    },
    {
     "name": "stdout",
     "output_type": "stream",
     "text": [
      "https://marketplace.axieinfinity.com/profile/ronin:06d3954ee2528586e0c60a77ed37fbffba66c16d/axie/ 1985 16210 GoodTimes I G!\n"
     ]
    },
    {
     "data": {
      "text/html": [
       "<a href=\"https://marketplace.axieinfinity.com/axie/6709140\" target=\"_blank\" rel=\"noopener noreferrer\"><img src=\"https://storage.googleapis.com/assets.axieinfinity.com/axies/6709140/axie/axie-full-transparent.png\" width=128 height=128 style=\"display:inline; margin:1px\"/></a><a href=\"https://marketplace.axieinfinity.com/axie/6904329\" target=\"_blank\" rel=\"noopener noreferrer\"><img src=\"https://storage.googleapis.com/assets.axieinfinity.com/axies/6904329/axie/axie-full-transparent.png\" width=128 height=128 style=\"display:inline; margin:1px\"/></a><a href=\"https://marketplace.axieinfinity.com/axie/6931212\" target=\"_blank\" rel=\"noopener noreferrer\"><img src=\"https://storage.googleapis.com/assets.axieinfinity.com/axies/6931212/axie/axie-full-transparent.png\" width=128 height=128 style=\"display:inline; margin:1px\"/></a>"
      ],
      "text/plain": [
       "<IPython.core.display.HTML object>"
      ]
     },
     "metadata": {},
     "output_type": "display_data"
    },
    {
     "name": "stdout",
     "output_type": "stream",
     "text": [
      "https://marketplace.axieinfinity.com/profile/ronin:fc1bad37437ef9b17845905e4f172b3c8d66b374/axie/ 1975 17256 Team AxieMaxi - Scholar Darwin\n"
     ]
    },
    {
     "data": {
      "text/html": [
       "<a href=\"https://marketplace.axieinfinity.com/axie/6812133\" target=\"_blank\" rel=\"noopener noreferrer\"><img src=\"https://storage.googleapis.com/assets.axieinfinity.com/axies/6812133/axie/axie-full-transparent.png\" width=128 height=128 style=\"display:inline; margin:1px\"/></a><a href=\"https://marketplace.axieinfinity.com/axie/6984415\" target=\"_blank\" rel=\"noopener noreferrer\"><img src=\"https://storage.googleapis.com/assets.axieinfinity.com/axies/6984415/axie/axie-full-transparent.png\" width=128 height=128 style=\"display:inline; margin:1px\"/></a><a href=\"https://marketplace.axieinfinity.com/axie/7169216\" target=\"_blank\" rel=\"noopener noreferrer\"><img src=\"https://storage.googleapis.com/assets.axieinfinity.com/axies/7169216/axie/axie-full-transparent.png\" width=128 height=128 style=\"display:inline; margin:1px\"/></a>"
      ],
      "text/plain": [
       "<IPython.core.display.HTML object>"
      ]
     },
     "metadata": {},
     "output_type": "display_data"
    },
    {
     "name": "stdout",
     "output_type": "stream",
     "text": [
      "https://marketplace.axieinfinity.com/profile/ronin:e1ea078bf1d01ef11e5f4e3bca5d38911f4b30e5/axie/ 1964 18546 Scholar 7 - Dayan\n"
     ]
    },
    {
     "data": {
      "text/html": [
       "<a href=\"https://marketplace.axieinfinity.com/axie/1568591\" target=\"_blank\" rel=\"noopener noreferrer\"><img src=\"https://storage.googleapis.com/assets.axieinfinity.com/axies/1568591/axie/axie-full-transparent.png\" width=128 height=128 style=\"display:inline; margin:1px\"/></a><a href=\"https://marketplace.axieinfinity.com/axie/6107418\" target=\"_blank\" rel=\"noopener noreferrer\"><img src=\"https://storage.googleapis.com/assets.axieinfinity.com/axies/6107418/axie/axie-full-transparent.png\" width=128 height=128 style=\"display:inline; margin:1px\"/></a><a href=\"https://marketplace.axieinfinity.com/axie/6581865\" target=\"_blank\" rel=\"noopener noreferrer\"><img src=\"https://storage.googleapis.com/assets.axieinfinity.com/axies/6581865/axie/axie-full-transparent.png\" width=128 height=128 style=\"display:inline; margin:1px\"/></a>"
      ],
      "text/plain": [
       "<IPython.core.display.HTML object>"
      ]
     },
     "metadata": {},
     "output_type": "display_data"
    },
    {
     "name": "stdout",
     "output_type": "stream",
     "text": [
      "https://marketplace.axieinfinity.com/profile/ronin:212d45185b79837cbfb6884a4e67cf9437521629/axie/ 1953 19937 CARLO SANTOS\n"
     ]
    },
    {
     "data": {
      "text/html": [
       "<a href=\"https://marketplace.axieinfinity.com/axie/3631621\" target=\"_blank\" rel=\"noopener noreferrer\"><img src=\"https://storage.googleapis.com/assets.axieinfinity.com/axies/3631621/axie/axie-full-transparent.png\" width=128 height=128 style=\"display:inline; margin:1px\"/></a><a href=\"https://marketplace.axieinfinity.com/axie/4937023\" target=\"_blank\" rel=\"noopener noreferrer\"><img src=\"https://storage.googleapis.com/assets.axieinfinity.com/axies/4937023/axie/axie-full-transparent.png\" width=128 height=128 style=\"display:inline; margin:1px\"/></a><a href=\"https://marketplace.axieinfinity.com/axie/8448938\" target=\"_blank\" rel=\"noopener noreferrer\"><img src=\"https://storage.googleapis.com/assets.axieinfinity.com/axies/8448938/axie/axie-full-transparent.png\" width=128 height=128 style=\"display:inline; margin:1px\"/></a>"
      ],
      "text/plain": [
       "<IPython.core.display.HTML object>"
      ]
     },
     "metadata": {},
     "output_type": "display_data"
    },
    {
     "name": "stdout",
     "output_type": "stream",
     "text": [
      "https://marketplace.axieinfinity.com/profile/ronin:1e0dd9c9e8f725df1381f60731add9057aa0eeac/axie/ 1942 21542 TailSlap | Epic Axie\n"
     ]
    },
    {
     "data": {
      "text/html": [
       "<a href=\"https://marketplace.axieinfinity.com/axie/4325260\" target=\"_blank\" rel=\"noopener noreferrer\"><img src=\"https://storage.googleapis.com/assets.axieinfinity.com/axies/4325260/axie/axie-full-transparent.png\" width=128 height=128 style=\"display:inline; margin:1px\"/></a><a href=\"https://marketplace.axieinfinity.com/axie/5562285\" target=\"_blank\" rel=\"noopener noreferrer\"><img src=\"https://storage.googleapis.com/assets.axieinfinity.com/axies/5562285/axie/axie-full-transparent.png\" width=128 height=128 style=\"display:inline; margin:1px\"/></a><a href=\"https://marketplace.axieinfinity.com/axie/5767132\" target=\"_blank\" rel=\"noopener noreferrer\"><img src=\"https://storage.googleapis.com/assets.axieinfinity.com/axies/5767132/axie/axie-full-transparent.png\" width=128 height=128 style=\"display:inline; margin:1px\"/></a>"
      ],
      "text/plain": [
       "<IPython.core.display.HTML object>"
      ]
     },
     "metadata": {},
     "output_type": "display_data"
    },
    {
     "name": "stdout",
     "output_type": "stream",
     "text": [
      "https://marketplace.axieinfinity.com/profile/ronin:30340195c81a9d9bed59b6421a2a44d9b980d530/axie/ 1940 21872 Bizarro\n"
     ]
    },
    {
     "data": {
      "text/html": [
       "<a href=\"https://marketplace.axieinfinity.com/axie/4332102\" target=\"_blank\" rel=\"noopener noreferrer\"><img src=\"https://storage.googleapis.com/assets.axieinfinity.com/axies/4332102/axie/axie-full-transparent.png\" width=128 height=128 style=\"display:inline; margin:1px\"/></a><a href=\"https://marketplace.axieinfinity.com/axie/5091023\" target=\"_blank\" rel=\"noopener noreferrer\"><img src=\"https://storage.googleapis.com/assets.axieinfinity.com/axies/5091023/axie/axie-full-transparent.png\" width=128 height=128 style=\"display:inline; margin:1px\"/></a><a href=\"https://marketplace.axieinfinity.com/axie/8706176\" target=\"_blank\" rel=\"noopener noreferrer\"><img src=\"https://storage.googleapis.com/assets.axieinfinity.com/axies/8706176/axie/axie-full-transparent.png\" width=128 height=128 style=\"display:inline; margin:1px\"/></a>"
      ],
      "text/plain": [
       "<IPython.core.display.HTML object>"
      ]
     },
     "metadata": {},
     "output_type": "display_data"
    },
    {
     "name": "stdout",
     "output_type": "stream",
     "text": [
      "https://marketplace.axieinfinity.com/profile/ronin:f6495ecce42e1b56a742609872e13c2278a6c910/axie/ 1936 22472 #+31 JP \n"
     ]
    },
    {
     "data": {
      "text/html": [
       "<a href=\"https://marketplace.axieinfinity.com/axie/7345034\" target=\"_blank\" rel=\"noopener noreferrer\"><img src=\"https://storage.googleapis.com/assets.axieinfinity.com/axies/7345034/axie/axie-full-transparent.png\" width=128 height=128 style=\"display:inline; margin:1px\"/></a><a href=\"https://marketplace.axieinfinity.com/axie/8343954\" target=\"_blank\" rel=\"noopener noreferrer\"><img src=\"https://storage.googleapis.com/assets.axieinfinity.com/axies/8343954/axie/axie-full-transparent.png\" width=128 height=128 style=\"display:inline; margin:1px\"/></a><a href=\"https://marketplace.axieinfinity.com/axie/8389280\" target=\"_blank\" rel=\"noopener noreferrer\"><img src=\"https://storage.googleapis.com/assets.axieinfinity.com/axies/8389280/axie/axie-full-transparent.png\" width=128 height=128 style=\"display:inline; margin:1px\"/></a>"
      ],
      "text/plain": [
       "<IPython.core.display.HTML object>"
      ]
     },
     "metadata": {},
     "output_type": "display_data"
    },
    {
     "name": "stdout",
     "output_type": "stream",
     "text": [
      "https://marketplace.axieinfinity.com/profile/ronin:5e73c9a0e25381fec17fa43430e0f6e4efcd880c/axie/ 1932 23332 rico\n"
     ]
    },
    {
     "data": {
      "text/html": [
       "<a href=\"https://marketplace.axieinfinity.com/axie/5140931\" target=\"_blank\" rel=\"noopener noreferrer\"><img src=\"https://storage.googleapis.com/assets.axieinfinity.com/axies/5140931/axie/axie-full-transparent.png\" width=128 height=128 style=\"display:inline; margin:1px\"/></a><a href=\"https://marketplace.axieinfinity.com/axie/9195809\" target=\"_blank\" rel=\"noopener noreferrer\"><img src=\"https://storage.googleapis.com/assets.axieinfinity.com/axies/9195809/axie/axie-full-transparent.png\" width=128 height=128 style=\"display:inline; margin:1px\"/></a><a href=\"https://marketplace.axieinfinity.com/axie/9195980\" target=\"_blank\" rel=\"noopener noreferrer\"><img src=\"https://storage.googleapis.com/assets.axieinfinity.com/axies/9195980/axie/axie-full-transparent.png\" width=128 height=128 style=\"display:inline; margin:1px\"/></a>"
      ],
      "text/plain": [
       "<IPython.core.display.HTML object>"
      ]
     },
     "metadata": {},
     "output_type": "display_data"
    },
    {
     "name": "stdout",
     "output_type": "stream",
     "text": [
      "https://marketplace.axieinfinity.com/profile/ronin:b5db893b38ca292600680880a62ab7159cbf2b80/axie/ 1921 25087 Anbinh89\n"
     ]
    },
    {
     "data": {
      "text/html": [
       "<a href=\"https://marketplace.axieinfinity.com/axie/1730370\" target=\"_blank\" rel=\"noopener noreferrer\"><img src=\"https://storage.googleapis.com/assets.axieinfinity.com/axies/1730370/axie/axie-full-transparent.png\" width=128 height=128 style=\"display:inline; margin:1px\"/></a><a href=\"https://marketplace.axieinfinity.com/axie/4068872\" target=\"_blank\" rel=\"noopener noreferrer\"><img src=\"https://storage.googleapis.com/assets.axieinfinity.com/axies/4068872/axie/axie-full-transparent.png\" width=128 height=128 style=\"display:inline; margin:1px\"/></a><a href=\"https://marketplace.axieinfinity.com/axie/8021660\" target=\"_blank\" rel=\"noopener noreferrer\"><img src=\"https://storage.googleapis.com/assets.axieinfinity.com/axies/8021660/axie/axie-full-transparent.png\" width=128 height=128 style=\"display:inline; margin:1px\"/></a>"
      ],
      "text/plain": [
       "<IPython.core.display.HTML object>"
      ]
     },
     "metadata": {},
     "output_type": "display_data"
    },
    {
     "name": "stdout",
     "output_type": "stream",
     "text": [
      "https://marketplace.axieinfinity.com/profile/ronin:f1ee9c713df846ca628c42ea346c0364a154bf80/axie/ 1920 25253 JFB AXIE ALPHA\n"
     ]
    },
    {
     "data": {
      "text/html": [
       "<a href=\"https://marketplace.axieinfinity.com/axie/6324537\" target=\"_blank\" rel=\"noopener noreferrer\"><img src=\"https://storage.googleapis.com/assets.axieinfinity.com/axies/6324537/axie/axie-full-transparent.png\" width=128 height=128 style=\"display:inline; margin:1px\"/></a><a href=\"https://marketplace.axieinfinity.com/axie/6426241\" target=\"_blank\" rel=\"noopener noreferrer\"><img src=\"https://storage.googleapis.com/assets.axieinfinity.com/axies/6426241/axie/axie-full-transparent.png\" width=128 height=128 style=\"display:inline; margin:1px\"/></a><a href=\"https://marketplace.axieinfinity.com/axie/6434499\" target=\"_blank\" rel=\"noopener noreferrer\"><img src=\"https://storage.googleapis.com/assets.axieinfinity.com/axies/6434499/axie/axie-full-transparent.png\" width=128 height=128 style=\"display:inline; margin:1px\"/></a>"
      ],
      "text/plain": [
       "<IPython.core.display.HTML object>"
      ]
     },
     "metadata": {},
     "output_type": "display_data"
    },
    {
     "name": "stdout",
     "output_type": "stream",
     "text": [
      "https://marketplace.axieinfinity.com/profile/ronin:f8588e7d57fb6f9ee95f1999e357541c57a344df/axie/ 1920 25154 lnwJa564\n"
     ]
    },
    {
     "data": {
      "text/html": [
       "<a href=\"https://marketplace.axieinfinity.com/axie/7393195\" target=\"_blank\" rel=\"noopener noreferrer\"><img src=\"https://storage.googleapis.com/assets.axieinfinity.com/axies/7393195/axie/axie-full-transparent.png\" width=128 height=128 style=\"display:inline; margin:1px\"/></a><a href=\"https://marketplace.axieinfinity.com/axie/7852281\" target=\"_blank\" rel=\"noopener noreferrer\"><img src=\"https://storage.googleapis.com/assets.axieinfinity.com/axies/7852281/axie/axie-full-transparent.png\" width=128 height=128 style=\"display:inline; margin:1px\"/></a><a href=\"https://marketplace.axieinfinity.com/axie/8117576\" target=\"_blank\" rel=\"noopener noreferrer\"><img src=\"https://storage.googleapis.com/assets.axieinfinity.com/axies/8117576/axie/axie-full-transparent.png\" width=128 height=128 style=\"display:inline; margin:1px\"/></a>"
      ],
      "text/plain": [
       "<IPython.core.display.HTML object>"
      ]
     },
     "metadata": {},
     "output_type": "display_data"
    },
    {
     "name": "stdout",
     "output_type": "stream",
     "text": [
      "https://marketplace.axieinfinity.com/profile/ronin:ecfd40bb16b392c3bea256d9ee9ff9ed38b18a99/axie/ 1917 25850 Elaiah\n"
     ]
    },
    {
     "data": {
      "text/html": [
       "<a href=\"https://marketplace.axieinfinity.com/axie/7333262\" target=\"_blank\" rel=\"noopener noreferrer\"><img src=\"https://storage.googleapis.com/assets.axieinfinity.com/axies/7333262/axie/axie-full-transparent.png\" width=128 height=128 style=\"display:inline; margin:1px\"/></a><a href=\"https://marketplace.axieinfinity.com/axie/8204170\" target=\"_blank\" rel=\"noopener noreferrer\"><img src=\"https://storage.googleapis.com/assets.axieinfinity.com/axies/8204170/axie/axie-full-transparent.png\" width=128 height=128 style=\"display:inline; margin:1px\"/></a><a href=\"https://marketplace.axieinfinity.com/axie/8423865\" target=\"_blank\" rel=\"noopener noreferrer\"><img src=\"https://storage.googleapis.com/assets.axieinfinity.com/axies/8423865/axie/axie-full-transparent.png\" width=128 height=128 style=\"display:inline; margin:1px\"/></a>"
      ],
      "text/plain": [
       "<IPython.core.display.HTML object>"
      ]
     },
     "metadata": {},
     "output_type": "display_data"
    },
    {
     "name": "stdout",
     "output_type": "stream",
     "text": [
      "https://marketplace.axieinfinity.com/profile/ronin:180eaaf86f1e4e127329cf0833fa9f0f0900d565/axie/ 1915 26228 SuperbAxie\n"
     ]
    },
    {
     "data": {
      "text/html": [
       "<a href=\"https://marketplace.axieinfinity.com/axie/8027329\" target=\"_blank\" rel=\"noopener noreferrer\"><img src=\"https://storage.googleapis.com/assets.axieinfinity.com/axies/8027329/axie/axie-full-transparent.png\" width=128 height=128 style=\"display:inline; margin:1px\"/></a><a href=\"https://marketplace.axieinfinity.com/axie/8078701\" target=\"_blank\" rel=\"noopener noreferrer\"><img src=\"https://storage.googleapis.com/assets.axieinfinity.com/axies/8078701/axie/axie-full-transparent.png\" width=128 height=128 style=\"display:inline; margin:1px\"/></a><a href=\"https://marketplace.axieinfinity.com/axie/8113018\" target=\"_blank\" rel=\"noopener noreferrer\"><img src=\"https://storage.googleapis.com/assets.axieinfinity.com/axies/8113018/axie/axie-full-transparent.png\" width=128 height=128 style=\"display:inline; margin:1px\"/></a>"
      ],
      "text/plain": [
       "<IPython.core.display.HTML object>"
      ]
     },
     "metadata": {},
     "output_type": "display_data"
    },
    {
     "name": "stdout",
     "output_type": "stream",
     "text": [
      "https://marketplace.axieinfinity.com/profile/ronin:bfc729e266b224f65e98dc53dbb77403fee3537e/axie/ 1913 26630 Scythe\n"
     ]
    },
    {
     "data": {
      "text/html": [
       "<a href=\"https://marketplace.axieinfinity.com/axie/7354692\" target=\"_blank\" rel=\"noopener noreferrer\"><img src=\"https://storage.googleapis.com/assets.axieinfinity.com/axies/7354692/axie/axie-full-transparent.png\" width=128 height=128 style=\"display:inline; margin:1px\"/></a><a href=\"https://marketplace.axieinfinity.com/axie/7597082\" target=\"_blank\" rel=\"noopener noreferrer\"><img src=\"https://storage.googleapis.com/assets.axieinfinity.com/axies/7597082/axie/axie-full-transparent.png\" width=128 height=128 style=\"display:inline; margin:1px\"/></a><a href=\"https://marketplace.axieinfinity.com/axie/7629726\" target=\"_blank\" rel=\"noopener noreferrer\"><img src=\"https://storage.googleapis.com/assets.axieinfinity.com/axies/7629726/axie/axie-full-transparent.png\" width=128 height=128 style=\"display:inline; margin:1px\"/></a>"
      ],
      "text/plain": [
       "<IPython.core.display.HTML object>"
      ]
     },
     "metadata": {},
     "output_type": "display_data"
    },
    {
     "name": "stdout",
     "output_type": "stream",
     "text": [
      "https://marketplace.axieinfinity.com/profile/ronin:8f2338a40e316d7a79a867b5a12c371871065466/axie/ 1900 29210 e2ye2y\n"
     ]
    },
    {
     "data": {
      "text/html": [
       "<a href=\"https://marketplace.axieinfinity.com/axie/7457907\" target=\"_blank\" rel=\"noopener noreferrer\"><img src=\"https://storage.googleapis.com/assets.axieinfinity.com/axies/7457907/axie/axie-full-transparent.png\" width=128 height=128 style=\"display:inline; margin:1px\"/></a><a href=\"https://marketplace.axieinfinity.com/axie/8475013\" target=\"_blank\" rel=\"noopener noreferrer\"><img src=\"https://storage.googleapis.com/assets.axieinfinity.com/axies/8475013/axie/axie-full-transparent.png\" width=128 height=128 style=\"display:inline; margin:1px\"/></a><a href=\"https://marketplace.axieinfinity.com/axie/8485524\" target=\"_blank\" rel=\"noopener noreferrer\"><img src=\"https://storage.googleapis.com/assets.axieinfinity.com/axies/8485524/axie/axie-full-transparent.png\" width=128 height=128 style=\"display:inline; margin:1px\"/></a>"
      ],
      "text/plain": [
       "<IPython.core.display.HTML object>"
      ]
     },
     "metadata": {},
     "output_type": "display_data"
    },
    {
     "name": "stdout",
     "output_type": "stream",
     "text": [
      "https://marketplace.axieinfinity.com/profile/ronin:7ded799d3d720256849569104c7286cbf70cae27/axie/ 1899 29546 Heroes School / CT7\n"
     ]
    },
    {
     "data": {
      "text/html": [
       "<a href=\"https://marketplace.axieinfinity.com/axie/4424058\" target=\"_blank\" rel=\"noopener noreferrer\"><img src=\"https://storage.googleapis.com/assets.axieinfinity.com/axies/4424058/axie/axie-full-transparent.png\" width=128 height=128 style=\"display:inline; margin:1px\"/></a><a href=\"https://marketplace.axieinfinity.com/axie/6614738\" target=\"_blank\" rel=\"noopener noreferrer\"><img src=\"https://storage.googleapis.com/assets.axieinfinity.com/axies/6614738/axie/axie-full-transparent.png\" width=128 height=128 style=\"display:inline; margin:1px\"/></a><a href=\"https://marketplace.axieinfinity.com/axie/7389487\" target=\"_blank\" rel=\"noopener noreferrer\"><img src=\"https://storage.googleapis.com/assets.axieinfinity.com/axies/7389487/axie/axie-full-transparent.png\" width=128 height=128 style=\"display:inline; margin:1px\"/></a>"
      ],
      "text/plain": [
       "<IPython.core.display.HTML object>"
      ]
     },
     "metadata": {},
     "output_type": "display_data"
    },
    {
     "name": "stdout",
     "output_type": "stream",
     "text": [
      "https://marketplace.axieinfinity.com/profile/ronin:abd0214552d6cbf98c33ef339130b5c916b5f861/axie/ 1894 30431 Kai || AS\n"
     ]
    },
    {
     "data": {
      "text/html": [
       "<a href=\"https://marketplace.axieinfinity.com/axie/7716118\" target=\"_blank\" rel=\"noopener noreferrer\"><img src=\"https://storage.googleapis.com/assets.axieinfinity.com/axies/7716118/axie/axie-full-transparent.png\" width=128 height=128 style=\"display:inline; margin:1px\"/></a><a href=\"https://marketplace.axieinfinity.com/axie/8881310\" target=\"_blank\" rel=\"noopener noreferrer\"><img src=\"https://storage.googleapis.com/assets.axieinfinity.com/axies/8881310/axie/axie-full-transparent.png\" width=128 height=128 style=\"display:inline; margin:1px\"/></a><a href=\"https://marketplace.axieinfinity.com/axie/8881596\" target=\"_blank\" rel=\"noopener noreferrer\"><img src=\"https://storage.googleapis.com/assets.axieinfinity.com/axies/8881596/axie/axie-full-transparent.png\" width=128 height=128 style=\"display:inline; margin:1px\"/></a>"
      ],
      "text/plain": [
       "<IPython.core.display.HTML object>"
      ]
     },
     "metadata": {},
     "output_type": "display_data"
    },
    {
     "name": "stdout",
     "output_type": "stream",
     "text": [
      "https://marketplace.axieinfinity.com/profile/ronin:183aa0d69c11cd2f694006606851ef1832c6a522/axie/ 1890 31149 robi\n"
     ]
    },
    {
     "data": {
      "text/html": [
       "<a href=\"https://marketplace.axieinfinity.com/axie/6306679\" target=\"_blank\" rel=\"noopener noreferrer\"><img src=\"https://storage.googleapis.com/assets.axieinfinity.com/axies/6306679/axie/axie-full-transparent.png\" width=128 height=128 style=\"display:inline; margin:1px\"/></a><a href=\"https://marketplace.axieinfinity.com/axie/8440717\" target=\"_blank\" rel=\"noopener noreferrer\"><img src=\"https://storage.googleapis.com/assets.axieinfinity.com/axies/8440717/axie/axie-full-transparent.png\" width=128 height=128 style=\"display:inline; margin:1px\"/></a><a href=\"https://marketplace.axieinfinity.com/axie/8870574\" target=\"_blank\" rel=\"noopener noreferrer\"><img src=\"https://storage.googleapis.com/assets.axieinfinity.com/axies/8870574/axie/axie-full-transparent.png\" width=128 height=128 style=\"display:inline; margin:1px\"/></a>"
      ],
      "text/plain": [
       "<IPython.core.display.HTML object>"
      ]
     },
     "metadata": {},
     "output_type": "display_data"
    },
    {
     "name": "stdout",
     "output_type": "stream",
     "text": [
      "https://marketplace.axieinfinity.com/profile/ronin:21a509da71daab34b8f04a75f5739a212e51d85b/axie/ 1882 32731 Hend | OGG\n"
     ]
    },
    {
     "data": {
      "text/html": [
       "<a href=\"https://marketplace.axieinfinity.com/axie/5053418\" target=\"_blank\" rel=\"noopener noreferrer\"><img src=\"https://storage.googleapis.com/assets.axieinfinity.com/axies/5053418/axie/axie-full-transparent.png\" width=128 height=128 style=\"display:inline; margin:1px\"/></a><a href=\"https://marketplace.axieinfinity.com/axie/5906964\" target=\"_blank\" rel=\"noopener noreferrer\"><img src=\"https://storage.googleapis.com/assets.axieinfinity.com/axies/5906964/axie/axie-full-transparent.png\" width=128 height=128 style=\"display:inline; margin:1px\"/></a><a href=\"https://marketplace.axieinfinity.com/axie/6548246\" target=\"_blank\" rel=\"noopener noreferrer\"><img src=\"https://storage.googleapis.com/assets.axieinfinity.com/axies/6548246/axie/axie-full-transparent.png\" width=128 height=128 style=\"display:inline; margin:1px\"/></a>"
      ],
      "text/plain": [
       "<IPython.core.display.HTML object>"
      ]
     },
     "metadata": {},
     "output_type": "display_data"
    },
    {
     "name": "stdout",
     "output_type": "stream",
     "text": [
      "https://marketplace.axieinfinity.com/profile/ronin:dc6fa43c4beab9a0b002bb5a26a4fd90d85f3706/axie/ 1876 34143 DaxieYujasComp\n"
     ]
    },
    {
     "data": {
      "text/html": [
       "<a href=\"https://marketplace.axieinfinity.com/axie/5617438\" target=\"_blank\" rel=\"noopener noreferrer\"><img src=\"https://storage.googleapis.com/assets.axieinfinity.com/axies/5617438/axie/axie-full-transparent.png\" width=128 height=128 style=\"display:inline; margin:1px\"/></a><a href=\"https://marketplace.axieinfinity.com/axie/6353950\" target=\"_blank\" rel=\"noopener noreferrer\"><img src=\"https://storage.googleapis.com/assets.axieinfinity.com/axies/6353950/axie/axie-full-transparent.png\" width=128 height=128 style=\"display:inline; margin:1px\"/></a><a href=\"https://marketplace.axieinfinity.com/axie/6600393\" target=\"_blank\" rel=\"noopener noreferrer\"><img src=\"https://storage.googleapis.com/assets.axieinfinity.com/axies/6600393/axie/axie-full-transparent.png\" width=128 height=128 style=\"display:inline; margin:1px\"/></a>"
      ],
      "text/plain": [
       "<IPython.core.display.HTML object>"
      ]
     },
     "metadata": {},
     "output_type": "display_data"
    },
    {
     "name": "stdout",
     "output_type": "stream",
     "text": [
      "https://marketplace.axieinfinity.com/profile/ronin:5e0cfac97257d456c3bba2dbc0b42b3ed5805b06/axie/ 1875 34364 Anna\n"
     ]
    },
    {
     "data": {
      "text/html": [
       "<a href=\"https://marketplace.axieinfinity.com/axie/8162603\" target=\"_blank\" rel=\"noopener noreferrer\"><img src=\"https://storage.googleapis.com/assets.axieinfinity.com/axies/8162603/axie/axie-full-transparent.png\" width=128 height=128 style=\"display:inline; margin:1px\"/></a><a href=\"https://marketplace.axieinfinity.com/axie/8226231\" target=\"_blank\" rel=\"noopener noreferrer\"><img src=\"https://storage.googleapis.com/assets.axieinfinity.com/axies/8226231/axie/axie-full-transparent.png\" width=128 height=128 style=\"display:inline; margin:1px\"/></a><a href=\"https://marketplace.axieinfinity.com/axie/9069792\" target=\"_blank\" rel=\"noopener noreferrer\"><img src=\"https://storage.googleapis.com/assets.axieinfinity.com/axies/9069792/axie/axie-full-transparent.png\" width=128 height=128 style=\"display:inline; margin:1px\"/></a>"
      ],
      "text/plain": [
       "<IPython.core.display.HTML object>"
      ]
     },
     "metadata": {},
     "output_type": "display_data"
    },
    {
     "name": "stdout",
     "output_type": "stream",
     "text": [
      "https://marketplace.axieinfinity.com/profile/ronin:1b7f135aa41bd09beaefacc6db7dc365f6a78a32/axie/ 1875 34334 OMG| Vico 7t5\n"
     ]
    },
    {
     "data": {
      "text/html": [
       "<a href=\"https://marketplace.axieinfinity.com/axie/4418030\" target=\"_blank\" rel=\"noopener noreferrer\"><img src=\"https://storage.googleapis.com/assets.axieinfinity.com/axies/4418030/axie/axie-full-transparent.png\" width=128 height=128 style=\"display:inline; margin:1px\"/></a><a href=\"https://marketplace.axieinfinity.com/axie/5295108\" target=\"_blank\" rel=\"noopener noreferrer\"><img src=\"https://storage.googleapis.com/assets.axieinfinity.com/axies/5295108/axie/axie-full-transparent.png\" width=128 height=128 style=\"display:inline; margin:1px\"/></a><a href=\"https://marketplace.axieinfinity.com/axie/6124546\" target=\"_blank\" rel=\"noopener noreferrer\"><img src=\"https://storage.googleapis.com/assets.axieinfinity.com/axies/6124546/axie/axie-full-transparent.png\" width=128 height=128 style=\"display:inline; margin:1px\"/></a>"
      ],
      "text/plain": [
       "<IPython.core.display.HTML object>"
      ]
     },
     "metadata": {},
     "output_type": "display_data"
    },
    {
     "name": "stdout",
     "output_type": "stream",
     "text": [
      "https://marketplace.axieinfinity.com/profile/ronin:160312b5bbbcca4ce09256712e2b49ead610772a/axie/ 1869 35728 iR2R Team 70\n"
     ]
    },
    {
     "data": {
      "text/html": [
       "<a href=\"https://marketplace.axieinfinity.com/axie/6828562\" target=\"_blank\" rel=\"noopener noreferrer\"><img src=\"https://storage.googleapis.com/assets.axieinfinity.com/axies/6828562/axie/axie-full-transparent.png\" width=128 height=128 style=\"display:inline; margin:1px\"/></a><a href=\"https://marketplace.axieinfinity.com/axie/6831450\" target=\"_blank\" rel=\"noopener noreferrer\"><img src=\"https://storage.googleapis.com/assets.axieinfinity.com/axies/6831450/axie/axie-full-transparent.png\" width=128 height=128 style=\"display:inline; margin:1px\"/></a><a href=\"https://marketplace.axieinfinity.com/axie/6831943\" target=\"_blank\" rel=\"noopener noreferrer\"><img src=\"https://storage.googleapis.com/assets.axieinfinity.com/axies/6831943/axie/axie-full-transparent.png\" width=128 height=128 style=\"display:inline; margin:1px\"/></a>"
      ],
      "text/plain": [
       "<IPython.core.display.HTML object>"
      ]
     },
     "metadata": {},
     "output_type": "display_data"
    },
    {
     "name": "stdout",
     "output_type": "stream",
     "text": [
      "https://marketplace.axieinfinity.com/profile/ronin:218556a2d7fc013bf728f461557c43482093f638/axie/ 1868 35939 15s axie.mx\n"
     ]
    },
    {
     "data": {
      "text/html": [
       "<a href=\"https://marketplace.axieinfinity.com/axie/640956\" target=\"_blank\" rel=\"noopener noreferrer\"><img src=\"https://storage.googleapis.com/assets.axieinfinity.com/axies/640956/axie/axie-full-transparent.png\" width=128 height=128 style=\"display:inline; margin:1px\"/></a><a href=\"https://marketplace.axieinfinity.com/axie/663351\" target=\"_blank\" rel=\"noopener noreferrer\"><img src=\"https://storage.googleapis.com/assets.axieinfinity.com/axies/663351/axie/axie-full-transparent.png\" width=128 height=128 style=\"display:inline; margin:1px\"/></a><a href=\"https://marketplace.axieinfinity.com/axie/664096\" target=\"_blank\" rel=\"noopener noreferrer\"><img src=\"https://storage.googleapis.com/assets.axieinfinity.com/axies/664096/axie/axie-full-transparent.png\" width=128 height=128 style=\"display:inline; margin:1px\"/></a>"
      ],
      "text/plain": [
       "<IPython.core.display.HTML object>"
      ]
     },
     "metadata": {},
     "output_type": "display_data"
    },
    {
     "name": "stdout",
     "output_type": "stream",
     "text": [
      "https://marketplace.axieinfinity.com/profile/ronin:bc364814ed3fb0229a3364e0afd418e76b0b495a/axie/ 1865 36795 ASG | PURIEEE\n"
     ]
    },
    {
     "data": {
      "text/html": [
       "<a href=\"https://marketplace.axieinfinity.com/axie/7838292\" target=\"_blank\" rel=\"noopener noreferrer\"><img src=\"https://storage.googleapis.com/assets.axieinfinity.com/axies/7838292/axie/axie-full-transparent.png\" width=128 height=128 style=\"display:inline; margin:1px\"/></a><a href=\"https://marketplace.axieinfinity.com/axie/8100237\" target=\"_blank\" rel=\"noopener noreferrer\"><img src=\"https://storage.googleapis.com/assets.axieinfinity.com/axies/8100237/axie/axie-full-transparent.png\" width=128 height=128 style=\"display:inline; margin:1px\"/></a><a href=\"https://marketplace.axieinfinity.com/axie/8766833\" target=\"_blank\" rel=\"noopener noreferrer\"><img src=\"https://storage.googleapis.com/assets.axieinfinity.com/axies/8766833/axie/axie-full-transparent.png\" width=128 height=128 style=\"display:inline; margin:1px\"/></a>"
      ],
      "text/plain": [
       "<IPython.core.display.HTML object>"
      ]
     },
     "metadata": {},
     "output_type": "display_data"
    },
    {
     "name": "stdout",
     "output_type": "stream",
     "text": [
      "https://marketplace.axieinfinity.com/profile/ronin:ef764e6eac90cb1cdbc1289f5b32814042f535fe/axie/ 1865 36627 BHS-034\n"
     ]
    },
    {
     "data": {
      "text/html": [
       "<a href=\"https://marketplace.axieinfinity.com/axie/8146472\" target=\"_blank\" rel=\"noopener noreferrer\"><img src=\"https://storage.googleapis.com/assets.axieinfinity.com/axies/8146472/axie/axie-full-transparent.png\" width=128 height=128 style=\"display:inline; margin:1px\"/></a><a href=\"https://marketplace.axieinfinity.com/axie/8307895\" target=\"_blank\" rel=\"noopener noreferrer\"><img src=\"https://storage.googleapis.com/assets.axieinfinity.com/axies/8307895/axie/axie-full-transparent.png\" width=128 height=128 style=\"display:inline; margin:1px\"/></a><a href=\"https://marketplace.axieinfinity.com/axie/8317428\" target=\"_blank\" rel=\"noopener noreferrer\"><img src=\"https://storage.googleapis.com/assets.axieinfinity.com/axies/8317428/axie/axie-full-transparent.png\" width=128 height=128 style=\"display:inline; margin:1px\"/></a>"
      ],
      "text/plain": [
       "<IPython.core.display.HTML object>"
      ]
     },
     "metadata": {},
     "output_type": "display_data"
    },
    {
     "name": "stdout",
     "output_type": "stream",
     "text": [
      "https://marketplace.axieinfinity.com/profile/ronin:4771de1c20809fbc465a087597426933f01b6d08/axie/ 1861 37646 MMSJ | DDP Team Wyne\n"
     ]
    },
    {
     "data": {
      "text/html": [
       "<a href=\"https://marketplace.axieinfinity.com/axie/1322965\" target=\"_blank\" rel=\"noopener noreferrer\"><img src=\"https://storage.googleapis.com/assets.axieinfinity.com/axies/1322965/axie/axie-full-transparent.png\" width=128 height=128 style=\"display:inline; margin:1px\"/></a><a href=\"https://marketplace.axieinfinity.com/axie/7593018\" target=\"_blank\" rel=\"noopener noreferrer\"><img src=\"https://storage.googleapis.com/assets.axieinfinity.com/axies/7593018/axie/axie-full-transparent.png\" width=128 height=128 style=\"display:inline; margin:1px\"/></a><a href=\"https://marketplace.axieinfinity.com/axie/8562640\" target=\"_blank\" rel=\"noopener noreferrer\"><img src=\"https://storage.googleapis.com/assets.axieinfinity.com/axies/8562640/axie/axie-full-transparent.png\" width=128 height=128 style=\"display:inline; margin:1px\"/></a>"
      ],
      "text/plain": [
       "<IPython.core.display.HTML object>"
      ]
     },
     "metadata": {},
     "output_type": "display_data"
    },
    {
     "name": "stdout",
     "output_type": "stream",
     "text": [
      "https://marketplace.axieinfinity.com/profile/ronin:fed281e91609274eee69a640df1f335167d17ee0/axie/ 1856 39033 Daniel666\n"
     ]
    },
    {
     "data": {
      "text/html": [
       "<a href=\"https://marketplace.axieinfinity.com/axie/8527612\" target=\"_blank\" rel=\"noopener noreferrer\"><img src=\"https://storage.googleapis.com/assets.axieinfinity.com/axies/8527612/axie/axie-full-transparent.png\" width=128 height=128 style=\"display:inline; margin:1px\"/></a><a href=\"https://marketplace.axieinfinity.com/axie/8859828\" target=\"_blank\" rel=\"noopener noreferrer\"><img src=\"https://storage.googleapis.com/assets.axieinfinity.com/axies/8859828/axie/axie-full-transparent.png\" width=128 height=128 style=\"display:inline; margin:1px\"/></a><a href=\"https://marketplace.axieinfinity.com/axie/9028390\" target=\"_blank\" rel=\"noopener noreferrer\"><img src=\"https://storage.googleapis.com/assets.axieinfinity.com/axies/9028390/axie/axie-full-transparent.png\" width=128 height=128 style=\"display:inline; margin:1px\"/></a>"
      ],
      "text/plain": [
       "<IPython.core.display.HTML object>"
      ]
     },
     "metadata": {},
     "output_type": "display_data"
    },
    {
     "name": "stdout",
     "output_type": "stream",
     "text": [
      "https://marketplace.axieinfinity.com/profile/ronin:3e1dd20803af9353f77a943632d9ff5e97a007f3/axie/ 1856 39079 Team Sakalam\n"
     ]
    },
    {
     "data": {
      "text/html": [
       "<a href=\"https://marketplace.axieinfinity.com/axie/6252147\" target=\"_blank\" rel=\"noopener noreferrer\"><img src=\"https://storage.googleapis.com/assets.axieinfinity.com/axies/6252147/axie/axie-full-transparent.png\" width=128 height=128 style=\"display:inline; margin:1px\"/></a><a href=\"https://marketplace.axieinfinity.com/axie/7127397\" target=\"_blank\" rel=\"noopener noreferrer\"><img src=\"https://storage.googleapis.com/assets.axieinfinity.com/axies/7127397/axie/axie-full-transparent.png\" width=128 height=128 style=\"display:inline; margin:1px\"/></a><a href=\"https://marketplace.axieinfinity.com/axie/8353845\" target=\"_blank\" rel=\"noopener noreferrer\"><img src=\"https://storage.googleapis.com/assets.axieinfinity.com/axies/8353845/axie/axie-full-transparent.png\" width=128 height=128 style=\"display:inline; margin:1px\"/></a>"
      ],
      "text/plain": [
       "<IPython.core.display.HTML object>"
      ]
     },
     "metadata": {},
     "output_type": "display_data"
    },
    {
     "name": "stdout",
     "output_type": "stream",
     "text": [
      "https://marketplace.axieinfinity.com/profile/ronin:efd3d32e75c1b731465bedac1db710c298f8c046/axie/ 1855 39266 MK_Oreo | mnz.gamerz\n"
     ]
    },
    {
     "data": {
      "text/html": [
       "<a href=\"https://marketplace.axieinfinity.com/axie/7495726\" target=\"_blank\" rel=\"noopener noreferrer\"><img src=\"https://storage.googleapis.com/assets.axieinfinity.com/axies/7495726/axie/axie-full-transparent.png\" width=128 height=128 style=\"display:inline; margin:1px\"/></a><a href=\"https://marketplace.axieinfinity.com/axie/8410410\" target=\"_blank\" rel=\"noopener noreferrer\"><img src=\"https://storage.googleapis.com/assets.axieinfinity.com/axies/8410410/axie/axie-full-transparent.png\" width=128 height=128 style=\"display:inline; margin:1px\"/></a><a href=\"https://marketplace.axieinfinity.com/axie/9223619\" target=\"_blank\" rel=\"noopener noreferrer\"><img src=\"https://storage.googleapis.com/assets.axieinfinity.com/axies/9223619/axie/axie-full-transparent.png\" width=128 height=128 style=\"display:inline; margin:1px\"/></a>"
      ],
      "text/plain": [
       "<IPython.core.display.HTML object>"
      ]
     },
     "metadata": {},
     "output_type": "display_data"
    },
    {
     "name": "stdout",
     "output_type": "stream",
     "text": [
      "https://marketplace.axieinfinity.com/profile/ronin:dc902927c79ce2adfe02bd390c1cf2c3941c2575/axie/ 1853 39860 #1 Scho Kevin | SCCG\n"
     ]
    },
    {
     "data": {
      "text/html": [
       "<a href=\"https://marketplace.axieinfinity.com/axie/7367125\" target=\"_blank\" rel=\"noopener noreferrer\"><img src=\"https://storage.googleapis.com/assets.axieinfinity.com/axies/7367125/axie/axie-full-transparent.png\" width=128 height=128 style=\"display:inline; margin:1px\"/></a><a href=\"https://marketplace.axieinfinity.com/axie/7507454\" target=\"_blank\" rel=\"noopener noreferrer\"><img src=\"https://storage.googleapis.com/assets.axieinfinity.com/axies/7507454/axie/axie-full-transparent.png\" width=128 height=128 style=\"display:inline; margin:1px\"/></a><a href=\"https://marketplace.axieinfinity.com/axie/7596512\" target=\"_blank\" rel=\"noopener noreferrer\"><img src=\"https://storage.googleapis.com/assets.axieinfinity.com/axies/7596512/axie/axie-full-transparent.png\" width=128 height=128 style=\"display:inline; margin:1px\"/></a>"
      ],
      "text/plain": [
       "<IPython.core.display.HTML object>"
      ]
     },
     "metadata": {},
     "output_type": "display_data"
    },
    {
     "name": "stdout",
     "output_type": "stream",
     "text": [
      "https://marketplace.axieinfinity.com/profile/ronin:f91bedeac9e3489aa34da14da0fdc3a58d74346c/axie/ 1851 40181 Che F Axie 2\n"
     ]
    },
    {
     "data": {
      "text/html": [
       "<a href=\"https://marketplace.axieinfinity.com/axie/6606466\" target=\"_blank\" rel=\"noopener noreferrer\"><img src=\"https://storage.googleapis.com/assets.axieinfinity.com/axies/6606466/axie/axie-full-transparent.png\" width=128 height=128 style=\"display:inline; margin:1px\"/></a><a href=\"https://marketplace.axieinfinity.com/axie/6935456\" target=\"_blank\" rel=\"noopener noreferrer\"><img src=\"https://storage.googleapis.com/assets.axieinfinity.com/axies/6935456/axie/axie-full-transparent.png\" width=128 height=128 style=\"display:inline; margin:1px\"/></a><a href=\"https://marketplace.axieinfinity.com/axie/8401438\" target=\"_blank\" rel=\"noopener noreferrer\"><img src=\"https://storage.googleapis.com/assets.axieinfinity.com/axies/8401438/axie/axie-full-transparent.png\" width=128 height=128 style=\"display:inline; margin:1px\"/></a>"
      ],
      "text/plain": [
       "<IPython.core.display.HTML object>"
      ]
     },
     "metadata": {},
     "output_type": "display_data"
    },
    {
     "name": "stdout",
     "output_type": "stream",
     "text": [
      "https://marketplace.axieinfinity.com/profile/ronin:d8afa3ec22c4762957f5e69ddd7305d9acd99d2e/axie/ 1851 40274 Supimpa\n"
     ]
    },
    {
     "data": {
      "text/html": [
       "<a href=\"https://marketplace.axieinfinity.com/axie/5554983\" target=\"_blank\" rel=\"noopener noreferrer\"><img src=\"https://storage.googleapis.com/assets.axieinfinity.com/axies/5554983/axie/axie-full-transparent.png\" width=128 height=128 style=\"display:inline; margin:1px\"/></a><a href=\"https://marketplace.axieinfinity.com/axie/5742320\" target=\"_blank\" rel=\"noopener noreferrer\"><img src=\"https://storage.googleapis.com/assets.axieinfinity.com/axies/5742320/axie/axie-full-transparent.png\" width=128 height=128 style=\"display:inline; margin:1px\"/></a><a href=\"https://marketplace.axieinfinity.com/axie/7229094\" target=\"_blank\" rel=\"noopener noreferrer\"><img src=\"https://storage.googleapis.com/assets.axieinfinity.com/axies/7229094/axie/axie-full-transparent.png\" width=128 height=128 style=\"display:inline; margin:1px\"/></a>"
      ],
      "text/plain": [
       "<IPython.core.display.HTML object>"
      ]
     },
     "metadata": {},
     "output_type": "display_data"
    },
    {
     "name": "stdout",
     "output_type": "stream",
     "text": [
      "https://marketplace.axieinfinity.com/profile/ronin:ee11cdbee359ad0e212239d3830d4e9c09efcc29/axie/ 1849 40830 SCHOLAR 4\n"
     ]
    },
    {
     "data": {
      "text/html": [
       "<a href=\"https://marketplace.axieinfinity.com/axie/5384670\" target=\"_blank\" rel=\"noopener noreferrer\"><img src=\"https://storage.googleapis.com/assets.axieinfinity.com/axies/5384670/axie/axie-full-transparent.png\" width=128 height=128 style=\"display:inline; margin:1px\"/></a><a href=\"https://marketplace.axieinfinity.com/axie/5387218\" target=\"_blank\" rel=\"noopener noreferrer\"><img src=\"https://storage.googleapis.com/assets.axieinfinity.com/axies/5387218/axie/axie-full-transparent.png\" width=128 height=128 style=\"display:inline; margin:1px\"/></a><a href=\"https://marketplace.axieinfinity.com/axie/8248929\" target=\"_blank\" rel=\"noopener noreferrer\"><img src=\"https://storage.googleapis.com/assets.axieinfinity.com/axies/8248929/axie/axie-full-transparent.png\" width=128 height=128 style=\"display:inline; margin:1px\"/></a>"
      ],
      "text/plain": [
       "<IPython.core.display.HTML object>"
      ]
     },
     "metadata": {},
     "output_type": "display_data"
    },
    {
     "name": "stdout",
     "output_type": "stream",
     "text": [
      "https://marketplace.axieinfinity.com/profile/ronin:f9b56aa1bb93fbe6fb4ae5e51474a94267734437/axie/ 1836 44480 Hakdog | UDA\n"
     ]
    },
    {
     "data": {
      "text/html": [
       "<a href=\"https://marketplace.axieinfinity.com/axie/7927089\" target=\"_blank\" rel=\"noopener noreferrer\"><img src=\"https://storage.googleapis.com/assets.axieinfinity.com/axies/7927089/axie/axie-full-transparent.png\" width=128 height=128 style=\"display:inline; margin:1px\"/></a><a href=\"https://marketplace.axieinfinity.com/axie/8360626\" target=\"_blank\" rel=\"noopener noreferrer\"><img src=\"https://storage.googleapis.com/assets.axieinfinity.com/axies/8360626/axie/axie-full-transparent.png\" width=128 height=128 style=\"display:inline; margin:1px\"/></a><a href=\"https://marketplace.axieinfinity.com/axie/8715995\" target=\"_blank\" rel=\"noopener noreferrer\"><img src=\"https://storage.googleapis.com/assets.axieinfinity.com/axies/8715995/axie/axie-full-transparent.png\" width=128 height=128 style=\"display:inline; margin:1px\"/></a>"
      ],
      "text/plain": [
       "<IPython.core.display.HTML object>"
      ]
     },
     "metadata": {},
     "output_type": "display_data"
    },
    {
     "name": "stdout",
     "output_type": "stream",
     "text": [
      "https://marketplace.axieinfinity.com/profile/ronin:1a93fc4d154610b286bd846cd12ae6a3e7ef6628/axie/ 1833 45571 one | #14\n"
     ]
    },
    {
     "data": {
      "text/html": [
       "<a href=\"https://marketplace.axieinfinity.com/axie/122141\" target=\"_blank\" rel=\"noopener noreferrer\"><img src=\"https://storage.googleapis.com/assets.axieinfinity.com/axies/122141/axie/axie-full-transparent.png\" width=128 height=128 style=\"display:inline; margin:1px\"/></a><a href=\"https://marketplace.axieinfinity.com/axie/133529\" target=\"_blank\" rel=\"noopener noreferrer\"><img src=\"https://storage.googleapis.com/assets.axieinfinity.com/axies/133529/axie/axie-full-transparent.png\" width=128 height=128 style=\"display:inline; margin:1px\"/></a><a href=\"https://marketplace.axieinfinity.com/axie/208711\" target=\"_blank\" rel=\"noopener noreferrer\"><img src=\"https://storage.googleapis.com/assets.axieinfinity.com/axies/208711/axie/axie-full-transparent.png\" width=128 height=128 style=\"display:inline; margin:1px\"/></a>"
      ],
      "text/plain": [
       "<IPython.core.display.HTML object>"
      ]
     },
     "metadata": {},
     "output_type": "display_data"
    },
    {
     "name": "stdout",
     "output_type": "stream",
     "text": [
      "https://marketplace.axieinfinity.com/profile/ronin:ac20e010e71dabb2215e098827dc03c42b684729/axie/ 1826 47654 Negrito\n"
     ]
    },
    {
     "data": {
      "text/html": [
       "<a href=\"https://marketplace.axieinfinity.com/axie/3632474\" target=\"_blank\" rel=\"noopener noreferrer\"><img src=\"https://storage.googleapis.com/assets.axieinfinity.com/axies/3632474/axie/axie-full-transparent.png\" width=128 height=128 style=\"display:inline; margin:1px\"/></a><a href=\"https://marketplace.axieinfinity.com/axie/8435815\" target=\"_blank\" rel=\"noopener noreferrer\"><img src=\"https://storage.googleapis.com/assets.axieinfinity.com/axies/8435815/axie/axie-full-transparent.png\" width=128 height=128 style=\"display:inline; margin:1px\"/></a><a href=\"https://marketplace.axieinfinity.com/axie/8893251\" target=\"_blank\" rel=\"noopener noreferrer\"><img src=\"https://storage.googleapis.com/assets.axieinfinity.com/axies/8893251/axie/axie-full-transparent.png\" width=128 height=128 style=\"display:inline; margin:1px\"/></a>"
      ],
      "text/plain": [
       "<IPython.core.display.HTML object>"
      ]
     },
     "metadata": {},
     "output_type": "display_data"
    },
    {
     "name": "stdout",
     "output_type": "stream",
     "text": [
      "https://marketplace.axieinfinity.com/profile/ronin:e292cd4cb942ff000125019b6b0e256740e16d05/axie/ 1826 47800 RECHAOS | Folck\n"
     ]
    },
    {
     "data": {
      "text/html": [
       "<a href=\"https://marketplace.axieinfinity.com/axie/7820453\" target=\"_blank\" rel=\"noopener noreferrer\"><img src=\"https://storage.googleapis.com/assets.axieinfinity.com/axies/7820453/axie/axie-full-transparent.png\" width=128 height=128 style=\"display:inline; margin:1px\"/></a><a href=\"https://marketplace.axieinfinity.com/axie/7915269\" target=\"_blank\" rel=\"noopener noreferrer\"><img src=\"https://storage.googleapis.com/assets.axieinfinity.com/axies/7915269/axie/axie-full-transparent.png\" width=128 height=128 style=\"display:inline; margin:1px\"/></a><a href=\"https://marketplace.axieinfinity.com/axie/8823527\" target=\"_blank\" rel=\"noopener noreferrer\"><img src=\"https://storage.googleapis.com/assets.axieinfinity.com/axies/8823527/axie/axie-full-transparent.png\" width=128 height=128 style=\"display:inline; margin:1px\"/></a>"
      ],
      "text/plain": [
       "<IPython.core.display.HTML object>"
      ]
     },
     "metadata": {},
     "output_type": "display_data"
    },
    {
     "name": "stdout",
     "output_type": "stream",
     "text": [
      "https://marketplace.axieinfinity.com/profile/ronin:93af629f2b9e097cecd26bf29f9fd49b91974a45/axie/ 1824 48517 JNDC Trezor 3\n"
     ]
    },
    {
     "data": {
      "text/html": [
       "<a href=\"https://marketplace.axieinfinity.com/axie/8445023\" target=\"_blank\" rel=\"noopener noreferrer\"><img src=\"https://storage.googleapis.com/assets.axieinfinity.com/axies/8445023/axie/axie-full-transparent.png\" width=128 height=128 style=\"display:inline; margin:1px\"/></a><a href=\"https://marketplace.axieinfinity.com/axie/8732470\" target=\"_blank\" rel=\"noopener noreferrer\"><img src=\"https://storage.googleapis.com/assets.axieinfinity.com/axies/8732470/axie/axie-full-transparent.png\" width=128 height=128 style=\"display:inline; margin:1px\"/></a><a href=\"https://marketplace.axieinfinity.com/axie/9024039\" target=\"_blank\" rel=\"noopener noreferrer\"><img src=\"https://storage.googleapis.com/assets.axieinfinity.com/axies/9024039/axie/axie-full-transparent.png\" width=128 height=128 style=\"display:inline; margin:1px\"/></a>"
      ],
      "text/plain": [
       "<IPython.core.display.HTML object>"
      ]
     },
     "metadata": {},
     "output_type": "display_data"
    },
    {
     "name": "stdout",
     "output_type": "stream",
     "text": [
      "https://marketplace.axieinfinity.com/profile/ronin:41a09f2b276744f6cb3423c91af5786ac5e0251c/axie/ 1820 49666 S1\n"
     ]
    },
    {
     "data": {
      "text/html": [
       "<a href=\"https://marketplace.axieinfinity.com/axie/2849720\" target=\"_blank\" rel=\"noopener noreferrer\"><img src=\"https://storage.googleapis.com/assets.axieinfinity.com/axies/2849720/axie/axie-full-transparent.png\" width=128 height=128 style=\"display:inline; margin:1px\"/></a><a href=\"https://marketplace.axieinfinity.com/axie/8807929\" target=\"_blank\" rel=\"noopener noreferrer\"><img src=\"https://storage.googleapis.com/assets.axieinfinity.com/axies/8807929/axie/axie-full-transparent.png\" width=128 height=128 style=\"display:inline; margin:1px\"/></a><a href=\"https://marketplace.axieinfinity.com/axie/8960728\" target=\"_blank\" rel=\"noopener noreferrer\"><img src=\"https://storage.googleapis.com/assets.axieinfinity.com/axies/8960728/axie/axie-full-transparent.png\" width=128 height=128 style=\"display:inline; margin:1px\"/></a>"
      ],
      "text/plain": [
       "<IPython.core.display.HTML object>"
      ]
     },
     "metadata": {},
     "output_type": "display_data"
    },
    {
     "name": "stdout",
     "output_type": "stream",
     "text": [
      "https://marketplace.axieinfinity.com/profile/ronin:2b2aaf8de4eb54cdd7644a6aa0dae616e620a867/axie/ 1820 49668 JANO | BRKO\n"
     ]
    },
    {
     "data": {
      "text/html": [
       "<a href=\"https://marketplace.axieinfinity.com/axie/6906403\" target=\"_blank\" rel=\"noopener noreferrer\"><img src=\"https://storage.googleapis.com/assets.axieinfinity.com/axies/6906403/axie/axie-full-transparent.png\" width=128 height=128 style=\"display:inline; margin:1px\"/></a><a href=\"https://marketplace.axieinfinity.com/axie/8221357\" target=\"_blank\" rel=\"noopener noreferrer\"><img src=\"https://storage.googleapis.com/assets.axieinfinity.com/axies/8221357/axie/axie-full-transparent.png\" width=128 height=128 style=\"display:inline; margin:1px\"/></a><a href=\"https://marketplace.axieinfinity.com/axie/8771673\" target=\"_blank\" rel=\"noopener noreferrer\"><img src=\"https://storage.googleapis.com/assets.axieinfinity.com/axies/8771673/axie/axie-full-transparent.png\" width=128 height=128 style=\"display:inline; margin:1px\"/></a>"
      ],
      "text/plain": [
       "<IPython.core.display.HTML object>"
      ]
     },
     "metadata": {},
     "output_type": "display_data"
    },
    {
     "name": "stdout",
     "output_type": "stream",
     "text": [
      "https://marketplace.axieinfinity.com/profile/ronin:37450e19861e8d6b9303f38bcfb02175940d1220/axie/ 1818 50375 Clink\n"
     ]
    },
    {
     "data": {
      "text/html": [
       "<a href=\"https://marketplace.axieinfinity.com/axie/8616272\" target=\"_blank\" rel=\"noopener noreferrer\"><img src=\"https://storage.googleapis.com/assets.axieinfinity.com/axies/8616272/axie/axie-full-transparent.png\" width=128 height=128 style=\"display:inline; margin:1px\"/></a><a href=\"https://marketplace.axieinfinity.com/axie/8807704\" target=\"_blank\" rel=\"noopener noreferrer\"><img src=\"https://storage.googleapis.com/assets.axieinfinity.com/axies/8807704/axie/axie-full-transparent.png\" width=128 height=128 style=\"display:inline; margin:1px\"/></a><a href=\"https://marketplace.axieinfinity.com/axie/9028592\" target=\"_blank\" rel=\"noopener noreferrer\"><img src=\"https://storage.googleapis.com/assets.axieinfinity.com/axies/9028592/axie/axie-full-transparent.png\" width=128 height=128 style=\"display:inline; margin:1px\"/></a>"
      ],
      "text/plain": [
       "<IPython.core.display.HTML object>"
      ]
     },
     "metadata": {},
     "output_type": "display_data"
    },
    {
     "name": "stdout",
     "output_type": "stream",
     "text": [
      "https://marketplace.axieinfinity.com/profile/ronin:4478cacce0b1a20f8b9d9ce846f3c6c5e27c13ab/axie/ 1817 50759 AK Scholars #411\n"
     ]
    },
    {
     "data": {
      "text/html": [
       "<a href=\"https://marketplace.axieinfinity.com/axie/1212644\" target=\"_blank\" rel=\"noopener noreferrer\"><img src=\"https://storage.googleapis.com/assets.axieinfinity.com/axies/1212644/axie/axie-full-transparent.png\" width=128 height=128 style=\"display:inline; margin:1px\"/></a><a href=\"https://marketplace.axieinfinity.com/axie/6190354\" target=\"_blank\" rel=\"noopener noreferrer\"><img src=\"https://storage.googleapis.com/assets.axieinfinity.com/axies/6190354/axie/axie-full-transparent.png\" width=128 height=128 style=\"display:inline; margin:1px\"/></a><a href=\"https://marketplace.axieinfinity.com/axie/6191236\" target=\"_blank\" rel=\"noopener noreferrer\"><img src=\"https://storage.googleapis.com/assets.axieinfinity.com/axies/6191236/axie/axie-full-transparent.png\" width=128 height=128 style=\"display:inline; margin:1px\"/></a>"
      ],
      "text/plain": [
       "<IPython.core.display.HTML object>"
      ]
     },
     "metadata": {},
     "output_type": "display_data"
    },
    {
     "name": "stdout",
     "output_type": "stream",
     "text": [
      "https://marketplace.axieinfinity.com/profile/ronin:cb1bfe298b252a4fe6343c610ab790fe151a0c31/axie/ 1816 51119 Melvin\n"
     ]
    },
    {
     "data": {
      "text/html": [
       "<a href=\"https://marketplace.axieinfinity.com/axie/8962330\" target=\"_blank\" rel=\"noopener noreferrer\"><img src=\"https://storage.googleapis.com/assets.axieinfinity.com/axies/8962330/axie/axie-full-transparent.png\" width=128 height=128 style=\"display:inline; margin:1px\"/></a><a href=\"https://marketplace.axieinfinity.com/axie/8975016\" target=\"_blank\" rel=\"noopener noreferrer\"><img src=\"https://storage.googleapis.com/assets.axieinfinity.com/axies/8975016/axie/axie-full-transparent.png\" width=128 height=128 style=\"display:inline; margin:1px\"/></a><a href=\"https://marketplace.axieinfinity.com/axie/9029316\" target=\"_blank\" rel=\"noopener noreferrer\"><img src=\"https://storage.googleapis.com/assets.axieinfinity.com/axies/9029316/axie/axie-full-transparent.png\" width=128 height=128 style=\"display:inline; margin:1px\"/></a>"
      ],
      "text/plain": [
       "<IPython.core.display.HTML object>"
      ]
     },
     "metadata": {},
     "output_type": "display_data"
    },
    {
     "name": "stdout",
     "output_type": "stream",
     "text": [
      "https://marketplace.axieinfinity.com/profile/ronin:1f4d5fe0646fa4594c289c7b3bfa55c1fd4d9ff4/axie/ 1816 51068 stan⚡\n"
     ]
    },
    {
     "data": {
      "text/html": [
       "<a href=\"https://marketplace.axieinfinity.com/axie/4245564\" target=\"_blank\" rel=\"noopener noreferrer\"><img src=\"https://storage.googleapis.com/assets.axieinfinity.com/axies/4245564/axie/axie-full-transparent.png\" width=128 height=128 style=\"display:inline; margin:1px\"/></a><a href=\"https://marketplace.axieinfinity.com/axie/4246114\" target=\"_blank\" rel=\"noopener noreferrer\"><img src=\"https://storage.googleapis.com/assets.axieinfinity.com/axies/4246114/axie/axie-full-transparent.png\" width=128 height=128 style=\"display:inline; margin:1px\"/></a><a href=\"https://marketplace.axieinfinity.com/axie/4465133\" target=\"_blank\" rel=\"noopener noreferrer\"><img src=\"https://storage.googleapis.com/assets.axieinfinity.com/axies/4465133/axie/axie-full-transparent.png\" width=128 height=128 style=\"display:inline; margin:1px\"/></a>"
      ],
      "text/plain": [
       "<IPython.core.display.HTML object>"
      ]
     },
     "metadata": {},
     "output_type": "display_data"
    },
    {
     "name": "stdout",
     "output_type": "stream",
     "text": [
      "https://marketplace.axieinfinity.com/profile/ronin:0d49809ad057f29db8c36a400ca7e7b5d690bc1d/axie/ 1815 50978 APS #32: Jaez\n"
     ]
    },
    {
     "data": {
      "text/html": [
       "<a href=\"https://marketplace.axieinfinity.com/axie/6658496\" target=\"_blank\" rel=\"noopener noreferrer\"><img src=\"https://storage.googleapis.com/assets.axieinfinity.com/axies/6658496/axie/axie-full-transparent.png\" width=128 height=128 style=\"display:inline; margin:1px\"/></a><a href=\"https://marketplace.axieinfinity.com/axie/6732451\" target=\"_blank\" rel=\"noopener noreferrer\"><img src=\"https://storage.googleapis.com/assets.axieinfinity.com/axies/6732451/axie/axie-full-transparent.png\" width=128 height=128 style=\"display:inline; margin:1px\"/></a><a href=\"https://marketplace.axieinfinity.com/axie/8783709\" target=\"_blank\" rel=\"noopener noreferrer\"><img src=\"https://storage.googleapis.com/assets.axieinfinity.com/axies/8783709/axie/axie-full-transparent.png\" width=128 height=128 style=\"display:inline; margin:1px\"/></a>"
      ],
      "text/plain": [
       "<IPython.core.display.HTML object>"
      ]
     },
     "metadata": {},
     "output_type": "display_data"
    },
    {
     "name": "stdout",
     "output_type": "stream",
     "text": [
      "https://marketplace.axieinfinity.com/profile/ronin:d2109a638463c54064aca3581300c2ef07eed6c4/axie/ 1811 52843 TonyoGamingPH ISKO\n"
     ]
    },
    {
     "data": {
      "text/html": [
       "<a href=\"https://marketplace.axieinfinity.com/axie/6417124\" target=\"_blank\" rel=\"noopener noreferrer\"><img src=\"https://storage.googleapis.com/assets.axieinfinity.com/axies/6417124/axie/axie-full-transparent.png\" width=128 height=128 style=\"display:inline; margin:1px\"/></a><a href=\"https://marketplace.axieinfinity.com/axie/7548670\" target=\"_blank\" rel=\"noopener noreferrer\"><img src=\"https://storage.googleapis.com/assets.axieinfinity.com/axies/7548670/axie/axie-full-transparent.png\" width=128 height=128 style=\"display:inline; margin:1px\"/></a><a href=\"https://marketplace.axieinfinity.com/axie/7743133\" target=\"_blank\" rel=\"noopener noreferrer\"><img src=\"https://storage.googleapis.com/assets.axieinfinity.com/axies/7743133/axie/axie-full-transparent.png\" width=128 height=128 style=\"display:inline; margin:1px\"/></a>"
      ],
      "text/plain": [
       "<IPython.core.display.HTML object>"
      ]
     },
     "metadata": {},
     "output_type": "display_data"
    },
    {
     "name": "stdout",
     "output_type": "stream",
     "text": [
      "https://marketplace.axieinfinity.com/profile/ronin:6a91e6c363d87cd12c0c3cd5142531a49cf0cd52/axie/ 1810 53199 Satou | #53\n"
     ]
    },
    {
     "data": {
      "text/html": [
       "<a href=\"https://marketplace.axieinfinity.com/axie/1501732\" target=\"_blank\" rel=\"noopener noreferrer\"><img src=\"https://storage.googleapis.com/assets.axieinfinity.com/axies/1501732/axie/axie-full-transparent.png\" width=128 height=128 style=\"display:inline; margin:1px\"/></a><a href=\"https://marketplace.axieinfinity.com/axie/2429545\" target=\"_blank\" rel=\"noopener noreferrer\"><img src=\"https://storage.googleapis.com/assets.axieinfinity.com/axies/2429545/axie/axie-full-transparent.png\" width=128 height=128 style=\"display:inline; margin:1px\"/></a><a href=\"https://marketplace.axieinfinity.com/axie/2774211\" target=\"_blank\" rel=\"noopener noreferrer\"><img src=\"https://storage.googleapis.com/assets.axieinfinity.com/axies/2774211/axie/axie-full-transparent.png\" width=128 height=128 style=\"display:inline; margin:1px\"/></a>"
      ],
      "text/plain": [
       "<IPython.core.display.HTML object>"
      ]
     },
     "metadata": {},
     "output_type": "display_data"
    },
    {
     "name": "stdout",
     "output_type": "stream",
     "text": [
      "https://marketplace.axieinfinity.com/profile/ronin:2810935af4fd578ba32d1800c9f39496bb33527e/axie/ 1804 55720 LORINA FARM 2\n"
     ]
    },
    {
     "data": {
      "text/html": [
       "<a href=\"https://marketplace.axieinfinity.com/axie/456420\" target=\"_blank\" rel=\"noopener noreferrer\"><img src=\"https://storage.googleapis.com/assets.axieinfinity.com/axies/456420/axie/axie-full-transparent.png\" width=128 height=128 style=\"display:inline; margin:1px\"/></a><a href=\"https://marketplace.axieinfinity.com/axie/457978\" target=\"_blank\" rel=\"noopener noreferrer\"><img src=\"https://storage.googleapis.com/assets.axieinfinity.com/axies/457978/axie/axie-full-transparent.png\" width=128 height=128 style=\"display:inline; margin:1px\"/></a><a href=\"https://marketplace.axieinfinity.com/axie/461811\" target=\"_blank\" rel=\"noopener noreferrer\"><img src=\"https://storage.googleapis.com/assets.axieinfinity.com/axies/461811/axie/axie-full-transparent.png\" width=128 height=128 style=\"display:inline; margin:1px\"/></a>"
      ],
      "text/plain": [
       "<IPython.core.display.HTML object>"
      ]
     },
     "metadata": {},
     "output_type": "display_data"
    },
    {
     "name": "stdout",
     "output_type": "stream",
     "text": [
      "https://marketplace.axieinfinity.com/profile/ronin:009dbceb7035738ee4e7ae1e1549d95cdd4d5105/axie/ 1803 56070 VICTOR RIU\n"
     ]
    },
    {
     "data": {
      "text/html": [
       "<a href=\"https://marketplace.axieinfinity.com/axie/8368014\" target=\"_blank\" rel=\"noopener noreferrer\"><img src=\"https://storage.googleapis.com/assets.axieinfinity.com/axies/8368014/axie/axie-full-transparent.png\" width=128 height=128 style=\"display:inline; margin:1px\"/></a><a href=\"https://marketplace.axieinfinity.com/axie/9115522\" target=\"_blank\" rel=\"noopener noreferrer\"><img src=\"https://storage.googleapis.com/assets.axieinfinity.com/axies/9115522/axie/axie-full-transparent.png\" width=128 height=128 style=\"display:inline; margin:1px\"/></a><a href=\"https://marketplace.axieinfinity.com/axie/9144443\" target=\"_blank\" rel=\"noopener noreferrer\"><img src=\"https://storage.googleapis.com/assets.axieinfinity.com/axies/9144443/axie/axie-full-transparent.png\" width=128 height=128 style=\"display:inline; margin:1px\"/></a>"
      ],
      "text/plain": [
       "<IPython.core.display.HTML object>"
      ]
     },
     "metadata": {},
     "output_type": "display_data"
    },
    {
     "name": "stdout",
     "output_type": "stream",
     "text": [
      "https://marketplace.axieinfinity.com/profile/ronin:a19eb46fce110d11bca6bf3b9c08cec7bdc28488/axie/ 1803 55945 Javen | 1XGscholar\n"
     ]
    },
    {
     "data": {
      "text/html": [
       "<a href=\"https://marketplace.axieinfinity.com/axie/411915\" target=\"_blank\" rel=\"noopener noreferrer\"><img src=\"https://storage.googleapis.com/assets.axieinfinity.com/axies/411915/axie/axie-full-transparent.png\" width=128 height=128 style=\"display:inline; margin:1px\"/></a><a href=\"https://marketplace.axieinfinity.com/axie/594635\" target=\"_blank\" rel=\"noopener noreferrer\"><img src=\"https://storage.googleapis.com/assets.axieinfinity.com/axies/594635/axie/axie-full-transparent.png\" width=128 height=128 style=\"display:inline; margin:1px\"/></a><a href=\"https://marketplace.axieinfinity.com/axie/611061\" target=\"_blank\" rel=\"noopener noreferrer\"><img src=\"https://storage.googleapis.com/assets.axieinfinity.com/axies/611061/axie/axie-full-transparent.png\" width=128 height=128 style=\"display:inline; margin:1px\"/></a>"
      ],
      "text/plain": [
       "<IPython.core.display.HTML object>"
      ]
     },
     "metadata": {},
     "output_type": "display_data"
    },
    {
     "name": "stdout",
     "output_type": "stream",
     "text": [
      "https://marketplace.axieinfinity.com/profile/ronin:90a0bb5b9eab0d2aa6751549dbce163df6546dac/axie/ 1802 56289 Mr Beast\n"
     ]
    },
    {
     "data": {
      "text/html": [
       "<a href=\"https://marketplace.axieinfinity.com/axie/8780686\" target=\"_blank\" rel=\"noopener noreferrer\"><img src=\"https://storage.googleapis.com/assets.axieinfinity.com/axies/8780686/axie/axie-full-transparent.png\" width=128 height=128 style=\"display:inline; margin:1px\"/></a><a href=\"https://marketplace.axieinfinity.com/axie/8822701\" target=\"_blank\" rel=\"noopener noreferrer\"><img src=\"https://storage.googleapis.com/assets.axieinfinity.com/axies/8822701/axie/axie-full-transparent.png\" width=128 height=128 style=\"display:inline; margin:1px\"/></a><a href=\"https://marketplace.axieinfinity.com/axie/9349206\" target=\"_blank\" rel=\"noopener noreferrer\"><img src=\"https://storage.googleapis.com/assets.axieinfinity.com/axies/9349206/axie/axie-full-transparent.png\" width=128 height=128 style=\"display:inline; margin:1px\"/></a>"
      ],
      "text/plain": [
       "<IPython.core.display.HTML object>"
      ]
     },
     "metadata": {},
     "output_type": "display_data"
    },
    {
     "name": "stdout",
     "output_type": "stream",
     "text": [
      "https://marketplace.axieinfinity.com/profile/ronin:8b97517b3b599cea54b12ba2c0e2ad1002ed6732/axie/ 1795 59076 Heyhihello | SGScholar\n"
     ]
    },
    {
     "data": {
      "text/html": [
       "<a href=\"https://marketplace.axieinfinity.com/axie/215543\" target=\"_blank\" rel=\"noopener noreferrer\"><img src=\"https://storage.googleapis.com/assets.axieinfinity.com/axies/215543/axie/axie-full-transparent.png\" width=128 height=128 style=\"display:inline; margin:1px\"/></a><a href=\"https://marketplace.axieinfinity.com/axie/8634170\" target=\"_blank\" rel=\"noopener noreferrer\"><img src=\"https://storage.googleapis.com/assets.axieinfinity.com/axies/8634170/axie/axie-full-transparent.png\" width=128 height=128 style=\"display:inline; margin:1px\"/></a><a href=\"https://marketplace.axieinfinity.com/axie/8732359\" target=\"_blank\" rel=\"noopener noreferrer\"><img src=\"https://storage.googleapis.com/assets.axieinfinity.com/axies/8732359/axie/axie-full-transparent.png\" width=128 height=128 style=\"display:inline; margin:1px\"/></a>"
      ],
      "text/plain": [
       "<IPython.core.display.HTML object>"
      ]
     },
     "metadata": {},
     "output_type": "display_data"
    },
    {
     "name": "stdout",
     "output_type": "stream",
     "text": [
      "https://marketplace.axieinfinity.com/profile/ronin:8523acfa24e7ea5b56ddae240d002357e8e971c6/axie/ 1777 66170 APA Scholarship | Fenira\n"
     ]
    },
    {
     "data": {
      "text/html": [
       "<a href=\"https://marketplace.axieinfinity.com/axie/5453009\" target=\"_blank\" rel=\"noopener noreferrer\"><img src=\"https://storage.googleapis.com/assets.axieinfinity.com/axies/5453009/axie/axie-full-transparent.png\" width=128 height=128 style=\"display:inline; margin:1px\"/></a><a href=\"https://marketplace.axieinfinity.com/axie/5483055\" target=\"_blank\" rel=\"noopener noreferrer\"><img src=\"https://storage.googleapis.com/assets.axieinfinity.com/axies/5483055/axie/axie-full-transparent.png\" width=128 height=128 style=\"display:inline; margin:1px\"/></a><a href=\"https://marketplace.axieinfinity.com/axie/5494514\" target=\"_blank\" rel=\"noopener noreferrer\"><img src=\"https://storage.googleapis.com/assets.axieinfinity.com/axies/5494514/axie/axie-full-transparent.png\" width=128 height=128 style=\"display:inline; margin:1px\"/></a>"
      ],
      "text/plain": [
       "<IPython.core.display.HTML object>"
      ]
     },
     "metadata": {},
     "output_type": "display_data"
    },
    {
     "name": "stdout",
     "output_type": "stream",
     "text": [
      "https://marketplace.axieinfinity.com/profile/ronin:cf3ef623b10f8550112d69245268cc12235d7788/axie/ 1775 66881 Owsow\n"
     ]
    },
    {
     "data": {
      "text/html": [
       "<a href=\"https://marketplace.axieinfinity.com/axie/2154053\" target=\"_blank\" rel=\"noopener noreferrer\"><img src=\"https://storage.googleapis.com/assets.axieinfinity.com/axies/2154053/axie/axie-full-transparent.png\" width=128 height=128 style=\"display:inline; margin:1px\"/></a><a href=\"https://marketplace.axieinfinity.com/axie/5450223\" target=\"_blank\" rel=\"noopener noreferrer\"><img src=\"https://storage.googleapis.com/assets.axieinfinity.com/axies/5450223/axie/axie-full-transparent.png\" width=128 height=128 style=\"display:inline; margin:1px\"/></a><a href=\"https://marketplace.axieinfinity.com/axie/9025013\" target=\"_blank\" rel=\"noopener noreferrer\"><img src=\"https://storage.googleapis.com/assets.axieinfinity.com/axies/9025013/axie/axie-full-transparent.png\" width=128 height=128 style=\"display:inline; margin:1px\"/></a>"
      ],
      "text/plain": [
       "<IPython.core.display.HTML object>"
      ]
     },
     "metadata": {},
     "output_type": "display_data"
    },
    {
     "name": "stdout",
     "output_type": "stream",
     "text": [
      "https://marketplace.axieinfinity.com/profile/ronin:ca01ac28b6d9122b1153d84b3d0c87d9b96c265c/axie/ 1773 67979 Team Jumping Lason\n"
     ]
    },
    {
     "data": {
      "text/html": [
       "<a href=\"https://marketplace.axieinfinity.com/axie/9202444\" target=\"_blank\" rel=\"noopener noreferrer\"><img src=\"https://storage.googleapis.com/assets.axieinfinity.com/axies/9202444/axie/axie-full-transparent.png\" width=128 height=128 style=\"display:inline; margin:1px\"/></a><a href=\"https://marketplace.axieinfinity.com/axie/9262763\" target=\"_blank\" rel=\"noopener noreferrer\"><img src=\"https://storage.googleapis.com/assets.axieinfinity.com/axies/9262763/axie/axie-full-transparent.png\" width=128 height=128 style=\"display:inline; margin:1px\"/></a><a href=\"https://marketplace.axieinfinity.com/axie/9335848\" target=\"_blank\" rel=\"noopener noreferrer\"><img src=\"https://storage.googleapis.com/assets.axieinfinity.com/axies/9335848/axie/axie-full-transparent.png\" width=128 height=128 style=\"display:inline; margin:1px\"/></a>"
      ],
      "text/plain": [
       "<IPython.core.display.HTML object>"
      ]
     },
     "metadata": {},
     "output_type": "display_data"
    },
    {
     "name": "stdout",
     "output_type": "stream",
     "text": [
      "https://marketplace.axieinfinity.com/profile/ronin:cd6d5230ecad8375cb47b26f2d7fbe68a68a5d98/axie/ 1771 68651 Oak\n"
     ]
    },
    {
     "data": {
      "text/html": [
       "<a href=\"https://marketplace.axieinfinity.com/axie/7979615\" target=\"_blank\" rel=\"noopener noreferrer\"><img src=\"https://storage.googleapis.com/assets.axieinfinity.com/axies/7979615/axie/axie-full-transparent.png\" width=128 height=128 style=\"display:inline; margin:1px\"/></a><a href=\"https://marketplace.axieinfinity.com/axie/8184338\" target=\"_blank\" rel=\"noopener noreferrer\"><img src=\"https://storage.googleapis.com/assets.axieinfinity.com/axies/8184338/axie/axie-full-transparent.png\" width=128 height=128 style=\"display:inline; margin:1px\"/></a><a href=\"https://marketplace.axieinfinity.com/axie/8597608\" target=\"_blank\" rel=\"noopener noreferrer\"><img src=\"https://storage.googleapis.com/assets.axieinfinity.com/axies/8597608/axie/axie-full-transparent.png\" width=128 height=128 style=\"display:inline; margin:1px\"/></a>"
      ],
      "text/plain": [
       "<IPython.core.display.HTML object>"
      ]
     },
     "metadata": {},
     "output_type": "display_data"
    },
    {
     "name": "stdout",
     "output_type": "stream",
     "text": [
      "https://marketplace.axieinfinity.com/profile/ronin:8cca2c8d0f23a7ce425a7fa871b2f03bd65b6337/axie/ 1770 68905 Franzzzzz\n"
     ]
    },
    {
     "data": {
      "text/html": [
       "<a href=\"https://marketplace.axieinfinity.com/axie/5057137\" target=\"_blank\" rel=\"noopener noreferrer\"><img src=\"https://storage.googleapis.com/assets.axieinfinity.com/axies/5057137/axie/axie-full-transparent.png\" width=128 height=128 style=\"display:inline; margin:1px\"/></a><a href=\"https://marketplace.axieinfinity.com/axie/5095623\" target=\"_blank\" rel=\"noopener noreferrer\"><img src=\"https://storage.googleapis.com/assets.axieinfinity.com/axies/5095623/axie/axie-full-transparent.png\" width=128 height=128 style=\"display:inline; margin:1px\"/></a><a href=\"https://marketplace.axieinfinity.com/axie/5156779\" target=\"_blank\" rel=\"noopener noreferrer\"><img src=\"https://storage.googleapis.com/assets.axieinfinity.com/axies/5156779/axie/axie-full-transparent.png\" width=128 height=128 style=\"display:inline; margin:1px\"/></a>"
      ],
      "text/plain": [
       "<IPython.core.display.HTML object>"
      ]
     },
     "metadata": {},
     "output_type": "display_data"
    },
    {
     "name": "stdout",
     "output_type": "stream",
     "text": [
      "https://marketplace.axieinfinity.com/profile/ronin:92e8cdf4bd282bf16454554585b0533acdc04eba/axie/ 1768 69987 Tômtep\n"
     ]
    },
    {
     "data": {
      "text/html": [
       "<a href=\"https://marketplace.axieinfinity.com/axie/4211451\" target=\"_blank\" rel=\"noopener noreferrer\"><img src=\"https://storage.googleapis.com/assets.axieinfinity.com/axies/4211451/axie/axie-full-transparent.png\" width=128 height=128 style=\"display:inline; margin:1px\"/></a><a href=\"https://marketplace.axieinfinity.com/axie/5118616\" target=\"_blank\" rel=\"noopener noreferrer\"><img src=\"https://storage.googleapis.com/assets.axieinfinity.com/axies/5118616/axie/axie-full-transparent.png\" width=128 height=128 style=\"display:inline; margin:1px\"/></a><a href=\"https://marketplace.axieinfinity.com/axie/5409311\" target=\"_blank\" rel=\"noopener noreferrer\"><img src=\"https://storage.googleapis.com/assets.axieinfinity.com/axies/5409311/axie/axie-full-transparent.png\" width=128 height=128 style=\"display:inline; margin:1px\"/></a>"
      ],
      "text/plain": [
       "<IPython.core.display.HTML object>"
      ]
     },
     "metadata": {},
     "output_type": "display_data"
    },
    {
     "name": "stdout",
     "output_type": "stream",
     "text": [
      "https://marketplace.axieinfinity.com/profile/ronin:0aca58d9300763a3e0490e66394b9eb3b6f6b677/axie/ 1766 71072 JH Scholar787\n"
     ]
    },
    {
     "data": {
      "text/html": [
       "<a href=\"https://marketplace.axieinfinity.com/axie/1570516\" target=\"_blank\" rel=\"noopener noreferrer\"><img src=\"https://storage.googleapis.com/assets.axieinfinity.com/axies/1570516/axie/axie-full-transparent.png\" width=128 height=128 style=\"display:inline; margin:1px\"/></a><a href=\"https://marketplace.axieinfinity.com/axie/4153080\" target=\"_blank\" rel=\"noopener noreferrer\"><img src=\"https://storage.googleapis.com/assets.axieinfinity.com/axies/4153080/axie/axie-full-transparent.png\" width=128 height=128 style=\"display:inline; margin:1px\"/></a><a href=\"https://marketplace.axieinfinity.com/axie/6238877\" target=\"_blank\" rel=\"noopener noreferrer\"><img src=\"https://storage.googleapis.com/assets.axieinfinity.com/axies/6238877/axie/axie-full-transparent.png\" width=128 height=128 style=\"display:inline; margin:1px\"/></a>"
      ],
      "text/plain": [
       "<IPython.core.display.HTML object>"
      ]
     },
     "metadata": {},
     "output_type": "display_data"
    },
    {
     "name": "stdout",
     "output_type": "stream",
     "text": [
      "https://marketplace.axieinfinity.com/profile/ronin:0934b6412c59e0eed2977c0302483b52d97d6d27/axie/ 1764 71654 Sir Dutra | BRAiaku\n"
     ]
    },
    {
     "data": {
      "text/html": [
       "<a href=\"https://marketplace.axieinfinity.com/axie/5138550\" target=\"_blank\" rel=\"noopener noreferrer\"><img src=\"https://storage.googleapis.com/assets.axieinfinity.com/axies/5138550/axie/axie-full-transparent.png\" width=128 height=128 style=\"display:inline; margin:1px\"/></a><a href=\"https://marketplace.axieinfinity.com/axie/7380453\" target=\"_blank\" rel=\"noopener noreferrer\"><img src=\"https://storage.googleapis.com/assets.axieinfinity.com/axies/7380453/axie/axie-full-transparent.png\" width=128 height=128 style=\"display:inline; margin:1px\"/></a><a href=\"https://marketplace.axieinfinity.com/axie/7658306\" target=\"_blank\" rel=\"noopener noreferrer\"><img src=\"https://storage.googleapis.com/assets.axieinfinity.com/axies/7658306/axie/axie-full-transparent.png\" width=128 height=128 style=\"display:inline; margin:1px\"/></a>"
      ],
      "text/plain": [
       "<IPython.core.display.HTML object>"
      ]
     },
     "metadata": {},
     "output_type": "display_data"
    },
    {
     "name": "stdout",
     "output_type": "stream",
     "text": [
      "https://marketplace.axieinfinity.com/profile/ronin:bc6c30ebdfa83256f5afd78939f78250c3bb6b7d/axie/ 1761 73158 chrollo \n"
     ]
    },
    {
     "data": {
      "text/html": [
       "<a href=\"https://marketplace.axieinfinity.com/axie/633979\" target=\"_blank\" rel=\"noopener noreferrer\"><img src=\"https://storage.googleapis.com/assets.axieinfinity.com/axies/633979/axie/axie-full-transparent.png\" width=128 height=128 style=\"display:inline; margin:1px\"/></a><a href=\"https://marketplace.axieinfinity.com/axie/704614\" target=\"_blank\" rel=\"noopener noreferrer\"><img src=\"https://storage.googleapis.com/assets.axieinfinity.com/axies/704614/axie/axie-full-transparent.png\" width=128 height=128 style=\"display:inline; margin:1px\"/></a><a href=\"https://marketplace.axieinfinity.com/axie/1538210\" target=\"_blank\" rel=\"noopener noreferrer\"><img src=\"https://storage.googleapis.com/assets.axieinfinity.com/axies/1538210/axie/axie-full-transparent.png\" width=128 height=128 style=\"display:inline; margin:1px\"/></a>"
      ],
      "text/plain": [
       "<IPython.core.display.HTML object>"
      ]
     },
     "metadata": {},
     "output_type": "display_data"
    },
    {
     "name": "stdout",
     "output_type": "stream",
     "text": [
      "https://marketplace.axieinfinity.com/profile/ronin:2a8b9d88796c61a2031fe7b312fb817d09dea129/axie/ 1758 74507 anukamo\n"
     ]
    },
    {
     "data": {
      "text/html": [
       "<a href=\"https://marketplace.axieinfinity.com/axie/1021768\" target=\"_blank\" rel=\"noopener noreferrer\"><img src=\"https://storage.googleapis.com/assets.axieinfinity.com/axies/1021768/axie/axie-full-transparent.png\" width=128 height=128 style=\"display:inline; margin:1px\"/></a><a href=\"https://marketplace.axieinfinity.com/axie/8971543\" target=\"_blank\" rel=\"noopener noreferrer\"><img src=\"https://storage.googleapis.com/assets.axieinfinity.com/axies/8971543/axie/axie-full-transparent.png\" width=128 height=128 style=\"display:inline; margin:1px\"/></a><a href=\"https://marketplace.axieinfinity.com/axie/9062244\" target=\"_blank\" rel=\"noopener noreferrer\"><img src=\"https://storage.googleapis.com/assets.axieinfinity.com/axies/9062244/axie/axie-full-transparent.png\" width=128 height=128 style=\"display:inline; margin:1px\"/></a>"
      ],
      "text/plain": [
       "<IPython.core.display.HTML object>"
      ]
     },
     "metadata": {},
     "output_type": "display_data"
    },
    {
     "name": "stdout",
     "output_type": "stream",
     "text": [
      "https://marketplace.axieinfinity.com/profile/ronin:caec3dfdf864369791965da95fe574dd5350d04b/axie/ 1755 76078 Lunacian #10720859\n"
     ]
    },
    {
     "data": {
      "text/html": [
       "<a href=\"https://marketplace.axieinfinity.com/axie/5073283\" target=\"_blank\" rel=\"noopener noreferrer\"><img src=\"https://storage.googleapis.com/assets.axieinfinity.com/axies/5073283/axie/axie-full-transparent.png\" width=128 height=128 style=\"display:inline; margin:1px\"/></a><a href=\"https://marketplace.axieinfinity.com/axie/7069323\" target=\"_blank\" rel=\"noopener noreferrer\"><img src=\"https://storage.googleapis.com/assets.axieinfinity.com/axies/7069323/axie/axie-full-transparent.png\" width=128 height=128 style=\"display:inline; margin:1px\"/></a><a href=\"https://marketplace.axieinfinity.com/axie/8367571\" target=\"_blank\" rel=\"noopener noreferrer\"><img src=\"https://storage.googleapis.com/assets.axieinfinity.com/axies/8367571/axie/axie-full-transparent.png\" width=128 height=128 style=\"display:inline; margin:1px\"/></a>"
      ],
      "text/plain": [
       "<IPython.core.display.HTML object>"
      ]
     },
     "metadata": {},
     "output_type": "display_data"
    },
    {
     "name": "stdout",
     "output_type": "stream",
     "text": [
      "https://marketplace.axieinfinity.com/profile/ronin:734856fd8b83870c6ab8a9cffa3b92cd15efbb6a/axie/ 1754 76703 Thejasper\n"
     ]
    },
    {
     "data": {
      "text/html": [
       "<a href=\"https://marketplace.axieinfinity.com/axie/6075171\" target=\"_blank\" rel=\"noopener noreferrer\"><img src=\"https://storage.googleapis.com/assets.axieinfinity.com/axies/6075171/axie/axie-full-transparent.png\" width=128 height=128 style=\"display:inline; margin:1px\"/></a><a href=\"https://marketplace.axieinfinity.com/axie/6369360\" target=\"_blank\" rel=\"noopener noreferrer\"><img src=\"https://storage.googleapis.com/assets.axieinfinity.com/axies/6369360/axie/axie-full-transparent.png\" width=128 height=128 style=\"display:inline; margin:1px\"/></a><a href=\"https://marketplace.axieinfinity.com/axie/6378421\" target=\"_blank\" rel=\"noopener noreferrer\"><img src=\"https://storage.googleapis.com/assets.axieinfinity.com/axies/6378421/axie/axie-full-transparent.png\" width=128 height=128 style=\"display:inline; margin:1px\"/></a>"
      ],
      "text/plain": [
       "<IPython.core.display.HTML object>"
      ]
     },
     "metadata": {},
     "output_type": "display_data"
    },
    {
     "name": "stdout",
     "output_type": "stream",
     "text": [
      "https://marketplace.axieinfinity.com/profile/ronin:74cd869edd0e7bbb6862c8a18d30e6796506b13a/axie/ 1751 78223 Account #1\n"
     ]
    },
    {
     "data": {
      "text/html": [
       "<a href=\"https://marketplace.axieinfinity.com/axie/427094\" target=\"_blank\" rel=\"noopener noreferrer\"><img src=\"https://storage.googleapis.com/assets.axieinfinity.com/axies/427094/axie/axie-full-transparent.png\" width=128 height=128 style=\"display:inline; margin:1px\"/></a><a href=\"https://marketplace.axieinfinity.com/axie/465342\" target=\"_blank\" rel=\"noopener noreferrer\"><img src=\"https://storage.googleapis.com/assets.axieinfinity.com/axies/465342/axie/axie-full-transparent.png\" width=128 height=128 style=\"display:inline; margin:1px\"/></a><a href=\"https://marketplace.axieinfinity.com/axie/4306632\" target=\"_blank\" rel=\"noopener noreferrer\"><img src=\"https://storage.googleapis.com/assets.axieinfinity.com/axies/4306632/axie/axie-full-transparent.png\" width=128 height=128 style=\"display:inline; margin:1px\"/></a>"
      ],
      "text/plain": [
       "<IPython.core.display.HTML object>"
      ]
     },
     "metadata": {},
     "output_type": "display_data"
    },
    {
     "name": "stdout",
     "output_type": "stream",
     "text": [
      "https://marketplace.axieinfinity.com/profile/ronin:95d06be8c590682133d2d12254c00cf1bf146aa0/axie/ 1749 78999 Lunacian #3976695\n"
     ]
    },
    {
     "data": {
      "text/html": [
       "<a href=\"https://marketplace.axieinfinity.com/axie/550703\" target=\"_blank\" rel=\"noopener noreferrer\"><img src=\"https://storage.googleapis.com/assets.axieinfinity.com/axies/550703/axie/axie-full-transparent.png\" width=128 height=128 style=\"display:inline; margin:1px\"/></a><a href=\"https://marketplace.axieinfinity.com/axie/1314784\" target=\"_blank\" rel=\"noopener noreferrer\"><img src=\"https://storage.googleapis.com/assets.axieinfinity.com/axies/1314784/axie/axie-full-transparent.png\" width=128 height=128 style=\"display:inline; margin:1px\"/></a><a href=\"https://marketplace.axieinfinity.com/axie/2559820\" target=\"_blank\" rel=\"noopener noreferrer\"><img src=\"https://storage.googleapis.com/assets.axieinfinity.com/axies/2559820/axie/axie-full-transparent.png\" width=128 height=128 style=\"display:inline; margin:1px\"/></a>"
      ],
      "text/plain": [
       "<IPython.core.display.HTML object>"
      ]
     },
     "metadata": {},
     "output_type": "display_data"
    },
    {
     "name": "stdout",
     "output_type": "stream",
     "text": [
      "https://marketplace.axieinfinity.com/profile/ronin:4613d220e604fd6c140c4feafe4b6b4ea28d7e0f/axie/ 1741 83132 202 | Name | Axie.cafe\n"
     ]
    },
    {
     "data": {
      "text/html": [
       "<a href=\"https://marketplace.axieinfinity.com/axie/5464978\" target=\"_blank\" rel=\"noopener noreferrer\"><img src=\"https://storage.googleapis.com/assets.axieinfinity.com/axies/5464978/axie/axie-full-transparent.png\" width=128 height=128 style=\"display:inline; margin:1px\"/></a><a href=\"https://marketplace.axieinfinity.com/axie/6974623\" target=\"_blank\" rel=\"noopener noreferrer\"><img src=\"https://storage.googleapis.com/assets.axieinfinity.com/axies/6974623/axie/axie-full-transparent.png\" width=128 height=128 style=\"display:inline; margin:1px\"/></a><a href=\"https://marketplace.axieinfinity.com/axie/7424844\" target=\"_blank\" rel=\"noopener noreferrer\"><img src=\"https://storage.googleapis.com/assets.axieinfinity.com/axies/7424844/axie/axie-full-transparent.png\" width=128 height=128 style=\"display:inline; margin:1px\"/></a>"
      ],
      "text/plain": [
       "<IPython.core.display.HTML object>"
      ]
     },
     "metadata": {},
     "output_type": "display_data"
    },
    {
     "name": "stdout",
     "output_type": "stream",
     "text": [
      "https://marketplace.axieinfinity.com/profile/ronin:36dc884c19430e9243ea4f4d10d04ded79951792/axie/ 1740 83792 Ais\n"
     ]
    },
    {
     "data": {
      "text/html": [
       "<a href=\"https://marketplace.axieinfinity.com/axie/5413447\" target=\"_blank\" rel=\"noopener noreferrer\"><img src=\"https://storage.googleapis.com/assets.axieinfinity.com/axies/5413447/axie/axie-full-transparent.png\" width=128 height=128 style=\"display:inline; margin:1px\"/></a><a href=\"https://marketplace.axieinfinity.com/axie/6953136\" target=\"_blank\" rel=\"noopener noreferrer\"><img src=\"https://storage.googleapis.com/assets.axieinfinity.com/axies/6953136/axie/axie-full-transparent.png\" width=128 height=128 style=\"display:inline; margin:1px\"/></a><a href=\"https://marketplace.axieinfinity.com/axie/7100244\" target=\"_blank\" rel=\"noopener noreferrer\"><img src=\"https://storage.googleapis.com/assets.axieinfinity.com/axies/7100244/axie/axie-full-transparent.png\" width=128 height=128 style=\"display:inline; margin:1px\"/></a>"
      ],
      "text/plain": [
       "<IPython.core.display.HTML object>"
      ]
     },
     "metadata": {},
     "output_type": "display_data"
    },
    {
     "name": "stdout",
     "output_type": "stream",
     "text": [
      "https://marketplace.axieinfinity.com/profile/ronin:c7b91efc28d6bbdf3e3108031632ad0cbfbbc575/axie/ 1734 87083 tomivi\n"
     ]
    },
    {
     "data": {
      "text/html": [
       "<a href=\"https://marketplace.axieinfinity.com/axie/8616648\" target=\"_blank\" rel=\"noopener noreferrer\"><img src=\"https://storage.googleapis.com/assets.axieinfinity.com/axies/8616648/axie/axie-full-transparent.png\" width=128 height=128 style=\"display:inline; margin:1px\"/></a><a href=\"https://marketplace.axieinfinity.com/axie/8825260\" target=\"_blank\" rel=\"noopener noreferrer\"><img src=\"https://storage.googleapis.com/assets.axieinfinity.com/axies/8825260/axie/axie-full-transparent.png\" width=128 height=128 style=\"display:inline; margin:1px\"/></a><a href=\"https://marketplace.axieinfinity.com/axie/8952651\" target=\"_blank\" rel=\"noopener noreferrer\"><img src=\"https://storage.googleapis.com/assets.axieinfinity.com/axies/8952651/axie/axie-full-transparent.png\" width=128 height=128 style=\"display:inline; margin:1px\"/></a>"
      ],
      "text/plain": [
       "<IPython.core.display.HTML object>"
      ]
     },
     "metadata": {},
     "output_type": "display_data"
    },
    {
     "name": "stdout",
     "output_type": "stream",
     "text": [
      "https://marketplace.axieinfinity.com/profile/ronin:8fcddbf6f866a59613e3ed3a9615e19e44ef32cf/axie/ 1730 89203 Boh Squad 6 | Miko | POGI\n"
     ]
    },
    {
     "data": {
      "text/html": [
       "<a href=\"https://marketplace.axieinfinity.com/axie/7812299\" target=\"_blank\" rel=\"noopener noreferrer\"><img src=\"https://storage.googleapis.com/assets.axieinfinity.com/axies/7812299/axie/axie-full-transparent.png\" width=128 height=128 style=\"display:inline; margin:1px\"/></a><a href=\"https://marketplace.axieinfinity.com/axie/8311469\" target=\"_blank\" rel=\"noopener noreferrer\"><img src=\"https://storage.googleapis.com/assets.axieinfinity.com/axies/8311469/axie/axie-full-transparent.png\" width=128 height=128 style=\"display:inline; margin:1px\"/></a><a href=\"https://marketplace.axieinfinity.com/axie/8635502\" target=\"_blank\" rel=\"noopener noreferrer\"><img src=\"https://storage.googleapis.com/assets.axieinfinity.com/axies/8635502/axie/axie-full-transparent.png\" width=128 height=128 style=\"display:inline; margin:1px\"/></a>"
      ],
      "text/plain": [
       "<IPython.core.display.HTML object>"
      ]
     },
     "metadata": {},
     "output_type": "display_data"
    },
    {
     "name": "stdout",
     "output_type": "stream",
     "text": [
      "https://marketplace.axieinfinity.com/profile/ronin:296deb6e8590e59806d831834049223962aa8ce2/axie/ 1728 90544 mai\n"
     ]
    },
    {
     "data": {
      "text/html": [
       "<a href=\"https://marketplace.axieinfinity.com/axie/3171669\" target=\"_blank\" rel=\"noopener noreferrer\"><img src=\"https://storage.googleapis.com/assets.axieinfinity.com/axies/3171669/axie/axie-full-transparent.png\" width=128 height=128 style=\"display:inline; margin:1px\"/></a><a href=\"https://marketplace.axieinfinity.com/axie/4384087\" target=\"_blank\" rel=\"noopener noreferrer\"><img src=\"https://storage.googleapis.com/assets.axieinfinity.com/axies/4384087/axie/axie-full-transparent.png\" width=128 height=128 style=\"display:inline; margin:1px\"/></a><a href=\"https://marketplace.axieinfinity.com/axie/9184573\" target=\"_blank\" rel=\"noopener noreferrer\"><img src=\"https://storage.googleapis.com/assets.axieinfinity.com/axies/9184573/axie/axie-full-transparent.png\" width=128 height=128 style=\"display:inline; margin:1px\"/></a>"
      ],
      "text/plain": [
       "<IPython.core.display.HTML object>"
      ]
     },
     "metadata": {},
     "output_type": "display_data"
    },
    {
     "name": "stdout",
     "output_type": "stream",
     "text": [
      "https://marketplace.axieinfinity.com/profile/ronin:c37598c4d475ac2c3b335c3c86c521bd8780b4fa/axie/ 1726 91562 Ronald\n"
     ]
    },
    {
     "data": {
      "text/html": [
       "<a href=\"https://marketplace.axieinfinity.com/axie/369776\" target=\"_blank\" rel=\"noopener noreferrer\"><img src=\"https://storage.googleapis.com/assets.axieinfinity.com/axies/369776/axie/axie-full-transparent.png\" width=128 height=128 style=\"display:inline; margin:1px\"/></a><a href=\"https://marketplace.axieinfinity.com/axie/3216843\" target=\"_blank\" rel=\"noopener noreferrer\"><img src=\"https://storage.googleapis.com/assets.axieinfinity.com/axies/3216843/axie/axie-full-transparent.png\" width=128 height=128 style=\"display:inline; margin:1px\"/></a><a href=\"https://marketplace.axieinfinity.com/axie/5717781\" target=\"_blank\" rel=\"noopener noreferrer\"><img src=\"https://storage.googleapis.com/assets.axieinfinity.com/axies/5717781/axie/axie-full-transparent.png\" width=128 height=128 style=\"display:inline; margin:1px\"/></a>"
      ],
      "text/plain": [
       "<IPython.core.display.HTML object>"
      ]
     },
     "metadata": {},
     "output_type": "display_data"
    },
    {
     "name": "stdout",
     "output_type": "stream",
     "text": [
      "https://marketplace.axieinfinity.com/profile/ronin:064bc0a3d20789c70d9664f40ae6f9215691d5f9/axie/ 1716 97539 Niel\n"
     ]
    },
    {
     "data": {
      "text/html": [
       "<a href=\"https://marketplace.axieinfinity.com/axie/5548932\" target=\"_blank\" rel=\"noopener noreferrer\"><img src=\"https://storage.googleapis.com/assets.axieinfinity.com/axies/5548932/axie/axie-full-transparent.png\" width=128 height=128 style=\"display:inline; margin:1px\"/></a><a href=\"https://marketplace.axieinfinity.com/axie/8614921\" target=\"_blank\" rel=\"noopener noreferrer\"><img src=\"https://storage.googleapis.com/assets.axieinfinity.com/axies/8614921/axie/axie-full-transparent.png\" width=128 height=128 style=\"display:inline; margin:1px\"/></a><a href=\"https://marketplace.axieinfinity.com/axie/8698165\" target=\"_blank\" rel=\"noopener noreferrer\"><img src=\"https://storage.googleapis.com/assets.axieinfinity.com/axies/8698165/axie/axie-full-transparent.png\" width=128 height=128 style=\"display:inline; margin:1px\"/></a>"
      ],
      "text/plain": [
       "<IPython.core.display.HTML object>"
      ]
     },
     "metadata": {},
     "output_type": "display_data"
    },
    {
     "name": "stdout",
     "output_type": "stream",
     "text": [
      "https://marketplace.axieinfinity.com/profile/ronin:6784bd8bb5272da687c38463d4040a9e05b558a5/axie/ 1716 97526 ❄️VIKTOR❄️\n"
     ]
    },
    {
     "data": {
      "text/html": [
       "<a href=\"https://marketplace.axieinfinity.com/axie/8102393\" target=\"_blank\" rel=\"noopener noreferrer\"><img src=\"https://storage.googleapis.com/assets.axieinfinity.com/axies/8102393/axie/axie-full-transparent.png\" width=128 height=128 style=\"display:inline; margin:1px\"/></a><a href=\"https://marketplace.axieinfinity.com/axie/8175888\" target=\"_blank\" rel=\"noopener noreferrer\"><img src=\"https://storage.googleapis.com/assets.axieinfinity.com/axies/8175888/axie/axie-full-transparent.png\" width=128 height=128 style=\"display:inline; margin:1px\"/></a><a href=\"https://marketplace.axieinfinity.com/axie/8202914\" target=\"_blank\" rel=\"noopener noreferrer\"><img src=\"https://storage.googleapis.com/assets.axieinfinity.com/axies/8202914/axie/axie-full-transparent.png\" width=128 height=128 style=\"display:inline; margin:1px\"/></a>"
      ],
      "text/plain": [
       "<IPython.core.display.HTML object>"
      ]
     },
     "metadata": {},
     "output_type": "display_data"
    },
    {
     "name": "stdout",
     "output_type": "stream",
     "text": [
      "https://marketplace.axieinfinity.com/profile/ronin:d9aeb35c0784adfa8b496eaf83c3596018c7fe98/axie/ 1715 98362 Onodera\n"
     ]
    },
    {
     "data": {
      "text/html": [
       "<a href=\"https://marketplace.axieinfinity.com/axie/6105387\" target=\"_blank\" rel=\"noopener noreferrer\"><img src=\"https://storage.googleapis.com/assets.axieinfinity.com/axies/6105387/axie/axie-full-transparent.png\" width=128 height=128 style=\"display:inline; margin:1px\"/></a><a href=\"https://marketplace.axieinfinity.com/axie/6472492\" target=\"_blank\" rel=\"noopener noreferrer\"><img src=\"https://storage.googleapis.com/assets.axieinfinity.com/axies/6472492/axie/axie-full-transparent.png\" width=128 height=128 style=\"display:inline; margin:1px\"/></a><a href=\"https://marketplace.axieinfinity.com/axie/8718048\" target=\"_blank\" rel=\"noopener noreferrer\"><img src=\"https://storage.googleapis.com/assets.axieinfinity.com/axies/8718048/axie/axie-full-transparent.png\" width=128 height=128 style=\"display:inline; margin:1px\"/></a>"
      ],
      "text/plain": [
       "<IPython.core.display.HTML object>"
      ]
     },
     "metadata": {},
     "output_type": "display_data"
    },
    {
     "name": "stdout",
     "output_type": "stream",
     "text": [
      "https://marketplace.axieinfinity.com/profile/ronin:84ec9b3315acbacf34398d69d71c2047f2724168/axie/ 1713 99408 Shua | LYNX\n"
     ]
    },
    {
     "data": {
      "text/html": [
       "<a href=\"https://marketplace.axieinfinity.com/axie/3020626\" target=\"_blank\" rel=\"noopener noreferrer\"><img src=\"https://storage.googleapis.com/assets.axieinfinity.com/axies/3020626/axie/axie-full-transparent.png\" width=128 height=128 style=\"display:inline; margin:1px\"/></a><a href=\"https://marketplace.axieinfinity.com/axie/4504937\" target=\"_blank\" rel=\"noopener noreferrer\"><img src=\"https://storage.googleapis.com/assets.axieinfinity.com/axies/4504937/axie/axie-full-transparent.png\" width=128 height=128 style=\"display:inline; margin:1px\"/></a><a href=\"https://marketplace.axieinfinity.com/axie/9197326\" target=\"_blank\" rel=\"noopener noreferrer\"><img src=\"https://storage.googleapis.com/assets.axieinfinity.com/axies/9197326/axie/axie-full-transparent.png\" width=128 height=128 style=\"display:inline; margin:1px\"/></a>"
      ],
      "text/plain": [
       "<IPython.core.display.HTML object>"
      ]
     },
     "metadata": {},
     "output_type": "display_data"
    },
    {
     "name": "stdout",
     "output_type": "stream",
     "text": [
      "https://marketplace.axieinfinity.com/profile/ronin:25da23dfada3ed9ecb2969a2cef390b5d2e5fa50/axie/ 1707 103497 Amaral Silva\n"
     ]
    },
    {
     "data": {
      "text/html": [
       "<a href=\"https://marketplace.axieinfinity.com/axie/6942825\" target=\"_blank\" rel=\"noopener noreferrer\"><img src=\"https://storage.googleapis.com/assets.axieinfinity.com/axies/6942825/axie/axie-full-transparent.png\" width=128 height=128 style=\"display:inline; margin:1px\"/></a><a href=\"https://marketplace.axieinfinity.com/axie/8785020\" target=\"_blank\" rel=\"noopener noreferrer\"><img src=\"https://storage.googleapis.com/assets.axieinfinity.com/axies/8785020/axie/axie-full-transparent.png\" width=128 height=128 style=\"display:inline; margin:1px\"/></a><a href=\"https://marketplace.axieinfinity.com/axie/8881792\" target=\"_blank\" rel=\"noopener noreferrer\"><img src=\"https://storage.googleapis.com/assets.axieinfinity.com/axies/8881792/axie/axie-full-transparent.png\" width=128 height=128 style=\"display:inline; margin:1px\"/></a>"
      ],
      "text/plain": [
       "<IPython.core.display.HTML object>"
      ]
     },
     "metadata": {},
     "output_type": "display_data"
    },
    {
     "name": "stdout",
     "output_type": "stream",
     "text": [
      "https://marketplace.axieinfinity.com/profile/ronin:8d0c79fd5231846f37699e16e336e144d7121548/axie/ 1706 104295 TG-4\n"
     ]
    },
    {
     "data": {
      "text/html": [
       "<a href=\"https://marketplace.axieinfinity.com/axie/5576983\" target=\"_blank\" rel=\"noopener noreferrer\"><img src=\"https://storage.googleapis.com/assets.axieinfinity.com/axies/5576983/axie/axie-full-transparent.png\" width=128 height=128 style=\"display:inline; margin:1px\"/></a><a href=\"https://marketplace.axieinfinity.com/axie/6287821\" target=\"_blank\" rel=\"noopener noreferrer\"><img src=\"https://storage.googleapis.com/assets.axieinfinity.com/axies/6287821/axie/axie-full-transparent.png\" width=128 height=128 style=\"display:inline; margin:1px\"/></a><a href=\"https://marketplace.axieinfinity.com/axie/6365083\" target=\"_blank\" rel=\"noopener noreferrer\"><img src=\"https://storage.googleapis.com/assets.axieinfinity.com/axies/6365083/axie/axie-full-transparent.png\" width=128 height=128 style=\"display:inline; margin:1px\"/></a>"
      ],
      "text/plain": [
       "<IPython.core.display.HTML object>"
      ]
     },
     "metadata": {},
     "output_type": "display_data"
    },
    {
     "name": "stdout",
     "output_type": "stream",
     "text": [
      "https://marketplace.axieinfinity.com/profile/ronin:99d4492a3065b053f7fa418fec6c37acbb79554b/axie/ 1697 110628 Axiediamond Schoolar #16\n"
     ]
    },
    {
     "data": {
      "text/html": [
       "<a href=\"https://marketplace.axieinfinity.com/axie/7067035\" target=\"_blank\" rel=\"noopener noreferrer\"><img src=\"https://storage.googleapis.com/assets.axieinfinity.com/axies/7067035/axie/axie-full-transparent.png\" width=128 height=128 style=\"display:inline; margin:1px\"/></a><a href=\"https://marketplace.axieinfinity.com/axie/7443599\" target=\"_blank\" rel=\"noopener noreferrer\"><img src=\"https://storage.googleapis.com/assets.axieinfinity.com/axies/7443599/axie/axie-full-transparent.png\" width=128 height=128 style=\"display:inline; margin:1px\"/></a><a href=\"https://marketplace.axieinfinity.com/axie/8831195\" target=\"_blank\" rel=\"noopener noreferrer\"><img src=\"https://storage.googleapis.com/assets.axieinfinity.com/axies/8831195/axie/axie-full-transparent.png\" width=128 height=128 style=\"display:inline; margin:1px\"/></a>"
      ],
      "text/plain": [
       "<IPython.core.display.HTML object>"
      ]
     },
     "metadata": {},
     "output_type": "display_data"
    },
    {
     "name": "stdout",
     "output_type": "stream",
     "text": [
      "https://marketplace.axieinfinity.com/profile/ronin:c1c9b5ae415cf1c2d504e32a66d1da19d727eded/axie/ 1696 111084 hf014\n"
     ]
    },
    {
     "data": {
      "text/html": [
       "<a href=\"https://marketplace.axieinfinity.com/axie/6730380\" target=\"_blank\" rel=\"noopener noreferrer\"><img src=\"https://storage.googleapis.com/assets.axieinfinity.com/axies/6730380/axie/axie-full-transparent.png\" width=128 height=128 style=\"display:inline; margin:1px\"/></a><a href=\"https://marketplace.axieinfinity.com/axie/7133993\" target=\"_blank\" rel=\"noopener noreferrer\"><img src=\"https://storage.googleapis.com/assets.axieinfinity.com/axies/7133993/axie/axie-full-transparent.png\" width=128 height=128 style=\"display:inline; margin:1px\"/></a><a href=\"https://marketplace.axieinfinity.com/axie/7207960\" target=\"_blank\" rel=\"noopener noreferrer\"><img src=\"https://storage.googleapis.com/assets.axieinfinity.com/axies/7207960/axie/axie-full-transparent.png\" width=128 height=128 style=\"display:inline; margin:1px\"/></a>"
      ],
      "text/plain": [
       "<IPython.core.display.HTML object>"
      ]
     },
     "metadata": {},
     "output_type": "display_data"
    },
    {
     "name": "stdout",
     "output_type": "stream",
     "text": [
      "https://marketplace.axieinfinity.com/profile/ronin:a911c5c5624844c8b94b5f056856e949100741d4/axie/ 1695 111657 Rain\n"
     ]
    },
    {
     "data": {
      "text/html": [
       "<a href=\"https://marketplace.axieinfinity.com/axie/3757413\" target=\"_blank\" rel=\"noopener noreferrer\"><img src=\"https://storage.googleapis.com/assets.axieinfinity.com/axies/3757413/axie/axie-full-transparent.png\" width=128 height=128 style=\"display:inline; margin:1px\"/></a><a href=\"https://marketplace.axieinfinity.com/axie/4850452\" target=\"_blank\" rel=\"noopener noreferrer\"><img src=\"https://storage.googleapis.com/assets.axieinfinity.com/axies/4850452/axie/axie-full-transparent.png\" width=128 height=128 style=\"display:inline; margin:1px\"/></a><a href=\"https://marketplace.axieinfinity.com/axie/6378823\" target=\"_blank\" rel=\"noopener noreferrer\"><img src=\"https://storage.googleapis.com/assets.axieinfinity.com/axies/6378823/axie/axie-full-transparent.png\" width=128 height=128 style=\"display:inline; margin:1px\"/></a>"
      ],
      "text/plain": [
       "<IPython.core.display.HTML object>"
      ]
     },
     "metadata": {},
     "output_type": "display_data"
    },
    {
     "name": "stdout",
     "output_type": "stream",
     "text": [
      "https://marketplace.axieinfinity.com/profile/ronin:1662b1489a59388f3a4c5c70bbf3d424c7c8c0dd/axie/ 1694 112334 Ken | Team RDG\n"
     ]
    },
    {
     "data": {
      "text/html": [
       "<a href=\"https://marketplace.axieinfinity.com/axie/6745534\" target=\"_blank\" rel=\"noopener noreferrer\"><img src=\"https://storage.googleapis.com/assets.axieinfinity.com/axies/6745534/axie/axie-full-transparent.png\" width=128 height=128 style=\"display:inline; margin:1px\"/></a><a href=\"https://marketplace.axieinfinity.com/axie/6948139\" target=\"_blank\" rel=\"noopener noreferrer\"><img src=\"https://storage.googleapis.com/assets.axieinfinity.com/axies/6948139/axie/axie-full-transparent.png\" width=128 height=128 style=\"display:inline; margin:1px\"/></a><a href=\"https://marketplace.axieinfinity.com/axie/7842850\" target=\"_blank\" rel=\"noopener noreferrer\"><img src=\"https://storage.googleapis.com/assets.axieinfinity.com/axies/7842850/axie/axie-full-transparent.png\" width=128 height=128 style=\"display:inline; margin:1px\"/></a>"
      ],
      "text/plain": [
       "<IPython.core.display.HTML object>"
      ]
     },
     "metadata": {},
     "output_type": "display_data"
    },
    {
     "name": "stdout",
     "output_type": "stream",
     "text": [
      "https://marketplace.axieinfinity.com/profile/ronin:5e684a50644d9a18619b5d5e5626dffa9aa28675/axie/ 1689 116084 Cameron\n"
     ]
    },
    {
     "data": {
      "text/html": [
       "<a href=\"https://marketplace.axieinfinity.com/axie/1472557\" target=\"_blank\" rel=\"noopener noreferrer\"><img src=\"https://storage.googleapis.com/assets.axieinfinity.com/axies/1472557/axie/axie-full-transparent.png\" width=128 height=128 style=\"display:inline; margin:1px\"/></a><a href=\"https://marketplace.axieinfinity.com/axie/1494832\" target=\"_blank\" rel=\"noopener noreferrer\"><img src=\"https://storage.googleapis.com/assets.axieinfinity.com/axies/1494832/axie/axie-full-transparent.png\" width=128 height=128 style=\"display:inline; margin:1px\"/></a><a href=\"https://marketplace.axieinfinity.com/axie/1513647\" target=\"_blank\" rel=\"noopener noreferrer\"><img src=\"https://storage.googleapis.com/assets.axieinfinity.com/axies/1513647/axie/axie-full-transparent.png\" width=128 height=128 style=\"display:inline; margin:1px\"/></a>"
      ],
      "text/plain": [
       "<IPython.core.display.HTML object>"
      ]
     },
     "metadata": {},
     "output_type": "display_data"
    },
    {
     "name": "stdout",
     "output_type": "stream",
     "text": [
      "https://marketplace.axieinfinity.com/profile/ronin:fcec06d0a71c35c87934fa763857a32887f214c8/axie/ 1684 119304 - Chocobo -\n"
     ]
    },
    {
     "data": {
      "text/html": [
       "<a href=\"https://marketplace.axieinfinity.com/axie/4167743\" target=\"_blank\" rel=\"noopener noreferrer\"><img src=\"https://storage.googleapis.com/assets.axieinfinity.com/axies/4167743/axie/axie-full-transparent.png\" width=128 height=128 style=\"display:inline; margin:1px\"/></a><a href=\"https://marketplace.axieinfinity.com/axie/7609110\" target=\"_blank\" rel=\"noopener noreferrer\"><img src=\"https://storage.googleapis.com/assets.axieinfinity.com/axies/7609110/axie/axie-full-transparent.png\" width=128 height=128 style=\"display:inline; margin:1px\"/></a><a href=\"https://marketplace.axieinfinity.com/axie/8506859\" target=\"_blank\" rel=\"noopener noreferrer\"><img src=\"https://storage.googleapis.com/assets.axieinfinity.com/axies/8506859/axie/axie-full-transparent.png\" width=128 height=128 style=\"display:inline; margin:1px\"/></a>"
      ],
      "text/plain": [
       "<IPython.core.display.HTML object>"
      ]
     },
     "metadata": {},
     "output_type": "display_data"
    },
    {
     "name": "stdout",
     "output_type": "stream",
     "text": [
      "https://marketplace.axieinfinity.com/profile/ronin:f8b0f197002e084146338ecb36d6c94b942c5358/axie/ 1681 121503 Yellowship BEVO\n"
     ]
    },
    {
     "data": {
      "text/html": [
       "<a href=\"https://marketplace.axieinfinity.com/axie/7303953\" target=\"_blank\" rel=\"noopener noreferrer\"><img src=\"https://storage.googleapis.com/assets.axieinfinity.com/axies/7303953/axie/axie-full-transparent.png\" width=128 height=128 style=\"display:inline; margin:1px\"/></a><a href=\"https://marketplace.axieinfinity.com/axie/8839378\" target=\"_blank\" rel=\"noopener noreferrer\"><img src=\"https://storage.googleapis.com/assets.axieinfinity.com/axies/8839378/axie/axie-full-transparent.png\" width=128 height=128 style=\"display:inline; margin:1px\"/></a><a href=\"https://marketplace.axieinfinity.com/axie/8839444\" target=\"_blank\" rel=\"noopener noreferrer\"><img src=\"https://storage.googleapis.com/assets.axieinfinity.com/axies/8839444/axie/axie-full-transparent.png\" width=128 height=128 style=\"display:inline; margin:1px\"/></a>"
      ],
      "text/plain": [
       "<IPython.core.display.HTML object>"
      ]
     },
     "metadata": {},
     "output_type": "display_data"
    },
    {
     "name": "stdout",
     "output_type": "stream",
     "text": [
      "https://marketplace.axieinfinity.com/profile/ronin:903cbd75d98fcd616fffb5e3a144c63f3b434f8f/axie/ 1679 123578 Balls of Steel\n"
     ]
    },
    {
     "data": {
      "text/html": [
       "<a href=\"https://marketplace.axieinfinity.com/axie/1047140\" target=\"_blank\" rel=\"noopener noreferrer\"><img src=\"https://storage.googleapis.com/assets.axieinfinity.com/axies/1047140/axie/axie-full-transparent.png\" width=128 height=128 style=\"display:inline; margin:1px\"/></a><a href=\"https://marketplace.axieinfinity.com/axie/3187168\" target=\"_blank\" rel=\"noopener noreferrer\"><img src=\"https://storage.googleapis.com/assets.axieinfinity.com/axies/3187168/axie/axie-full-transparent.png\" width=128 height=128 style=\"display:inline; margin:1px\"/></a><a href=\"https://marketplace.axieinfinity.com/axie/8439545\" target=\"_blank\" rel=\"noopener noreferrer\"><img src=\"https://storage.googleapis.com/assets.axieinfinity.com/axies/8439545/axie/axie-full-transparent.png\" width=128 height=128 style=\"display:inline; margin:1px\"/></a>"
      ],
      "text/plain": [
       "<IPython.core.display.HTML object>"
      ]
     },
     "metadata": {},
     "output_type": "display_data"
    },
    {
     "name": "stdout",
     "output_type": "stream",
     "text": [
      "https://marketplace.axieinfinity.com/profile/ronin:c0664f231c1fc08084145f365ff581e79a69c4e5/axie/ 1675 126098 dabe\n"
     ]
    },
    {
     "data": {
      "text/html": [
       "<a href=\"https://marketplace.axieinfinity.com/axie/4781299\" target=\"_blank\" rel=\"noopener noreferrer\"><img src=\"https://storage.googleapis.com/assets.axieinfinity.com/axies/4781299/axie/axie-full-transparent.png\" width=128 height=128 style=\"display:inline; margin:1px\"/></a><a href=\"https://marketplace.axieinfinity.com/axie/5030644\" target=\"_blank\" rel=\"noopener noreferrer\"><img src=\"https://storage.googleapis.com/assets.axieinfinity.com/axies/5030644/axie/axie-full-transparent.png\" width=128 height=128 style=\"display:inline; margin:1px\"/></a><a href=\"https://marketplace.axieinfinity.com/axie/6450916\" target=\"_blank\" rel=\"noopener noreferrer\"><img src=\"https://storage.googleapis.com/assets.axieinfinity.com/axies/6450916/axie/axie-full-transparent.png\" width=128 height=128 style=\"display:inline; margin:1px\"/></a>"
      ],
      "text/plain": [
       "<IPython.core.display.HTML object>"
      ]
     },
     "metadata": {},
     "output_type": "display_data"
    },
    {
     "name": "stdout",
     "output_type": "stream",
     "text": [
      "https://marketplace.axieinfinity.com/profile/ronin:49fbfd48b029bb121788ac87080be7b83a2c7af7/axie/ 1658 140638 BC - Angello #9\n"
     ]
    },
    {
     "data": {
      "text/html": [
       "<a href=\"https://marketplace.axieinfinity.com/axie/1954828\" target=\"_blank\" rel=\"noopener noreferrer\"><img src=\"https://storage.googleapis.com/assets.axieinfinity.com/axies/1954828/axie/axie-full-transparent.png\" width=128 height=128 style=\"display:inline; margin:1px\"/></a><a href=\"https://marketplace.axieinfinity.com/axie/4000871\" target=\"_blank\" rel=\"noopener noreferrer\"><img src=\"https://storage.googleapis.com/assets.axieinfinity.com/axies/4000871/axie/axie-full-transparent.png\" width=128 height=128 style=\"display:inline; margin:1px\"/></a><a href=\"https://marketplace.axieinfinity.com/axie/6055395\" target=\"_blank\" rel=\"noopener noreferrer\"><img src=\"https://storage.googleapis.com/assets.axieinfinity.com/axies/6055395/axie/axie-full-transparent.png\" width=128 height=128 style=\"display:inline; margin:1px\"/></a>"
      ],
      "text/plain": [
       "<IPython.core.display.HTML object>"
      ]
     },
     "metadata": {},
     "output_type": "display_data"
    },
    {
     "name": "stdout",
     "output_type": "stream",
     "text": [
      "https://marketplace.axieinfinity.com/profile/ronin:b459f0a7fb97e788bbf8a6d900752f3cb00bbd19/axie/ 1655 142587 Nelsito Group | Biancuxd\n"
     ]
    },
    {
     "data": {
      "text/html": [
       "<a href=\"https://marketplace.axieinfinity.com/axie/4874703\" target=\"_blank\" rel=\"noopener noreferrer\"><img src=\"https://storage.googleapis.com/assets.axieinfinity.com/axies/4874703/axie/axie-full-transparent.png\" width=128 height=128 style=\"display:inline; margin:1px\"/></a><a href=\"https://marketplace.axieinfinity.com/axie/7512575\" target=\"_blank\" rel=\"noopener noreferrer\"><img src=\"https://storage.googleapis.com/assets.axieinfinity.com/axies/7512575/axie/axie-full-transparent.png\" width=128 height=128 style=\"display:inline; margin:1px\"/></a><a href=\"https://marketplace.axieinfinity.com/axie/7626012\" target=\"_blank\" rel=\"noopener noreferrer\"><img src=\"https://storage.googleapis.com/assets.axieinfinity.com/axies/7626012/axie/axie-full-transparent.png\" width=128 height=128 style=\"display:inline; margin:1px\"/></a>"
      ],
      "text/plain": [
       "<IPython.core.display.HTML object>"
      ]
     },
     "metadata": {},
     "output_type": "display_data"
    },
    {
     "name": "stdout",
     "output_type": "stream",
     "text": [
      "https://marketplace.axieinfinity.com/profile/ronin:4c4444e9458ddef68f89f7e146dc6c12b105f866/axie/ 1651 146859 Franklin\n"
     ]
    },
    {
     "data": {
      "text/html": [
       "<a href=\"https://marketplace.axieinfinity.com/axie/5116172\" target=\"_blank\" rel=\"noopener noreferrer\"><img src=\"https://storage.googleapis.com/assets.axieinfinity.com/axies/5116172/axie/axie-full-transparent.png\" width=128 height=128 style=\"display:inline; margin:1px\"/></a><a href=\"https://marketplace.axieinfinity.com/axie/5260840\" target=\"_blank\" rel=\"noopener noreferrer\"><img src=\"https://storage.googleapis.com/assets.axieinfinity.com/axies/5260840/axie/axie-full-transparent.png\" width=128 height=128 style=\"display:inline; margin:1px\"/></a><a href=\"https://marketplace.axieinfinity.com/axie/5459183\" target=\"_blank\" rel=\"noopener noreferrer\"><img src=\"https://storage.googleapis.com/assets.axieinfinity.com/axies/5459183/axie/axie-full-transparent.png\" width=128 height=128 style=\"display:inline; margin:1px\"/></a>"
      ],
      "text/plain": [
       "<IPython.core.display.HTML object>"
      ]
     },
     "metadata": {},
     "output_type": "display_data"
    },
    {
     "name": "stdout",
     "output_type": "stream",
     "text": [
      "https://marketplace.axieinfinity.com/profile/ronin:74117b3a246ab66990087d1202f062ed098f4d72/axie/ 1647 149495 MARRKK#5044\n"
     ]
    },
    {
     "data": {
      "text/html": [
       "<a href=\"https://marketplace.axieinfinity.com/axie/5919501\" target=\"_blank\" rel=\"noopener noreferrer\"><img src=\"https://storage.googleapis.com/assets.axieinfinity.com/axies/5919501/axie/axie-full-transparent.png\" width=128 height=128 style=\"display:inline; margin:1px\"/></a><a href=\"https://marketplace.axieinfinity.com/axie/6900684\" target=\"_blank\" rel=\"noopener noreferrer\"><img src=\"https://storage.googleapis.com/assets.axieinfinity.com/axies/6900684/axie/axie-full-transparent.png\" width=128 height=128 style=\"display:inline; margin:1px\"/></a><a href=\"https://marketplace.axieinfinity.com/axie/7295785\" target=\"_blank\" rel=\"noopener noreferrer\"><img src=\"https://storage.googleapis.com/assets.axieinfinity.com/axies/7295785/axie/axie-full-transparent.png\" width=128 height=128 style=\"display:inline; margin:1px\"/></a>"
      ],
      "text/plain": [
       "<IPython.core.display.HTML object>"
      ]
     },
     "metadata": {},
     "output_type": "display_data"
    },
    {
     "name": "stdout",
     "output_type": "stream",
     "text": [
      "https://marketplace.axieinfinity.com/profile/ronin:cb25580731dcb2c7a9529b2ba993bf59adcbd1e9/axie/ 1588 214348 R66 | Pluto Sippakorn\n"
     ]
    },
    {
     "data": {
      "text/html": [
       "<a href=\"https://marketplace.axieinfinity.com/axie/7190642\" target=\"_blank\" rel=\"noopener noreferrer\"><img src=\"https://storage.googleapis.com/assets.axieinfinity.com/axies/7190642/axie/axie-full-transparent.png\" width=128 height=128 style=\"display:inline; margin:1px\"/></a><a href=\"https://marketplace.axieinfinity.com/axie/7371128\" target=\"_blank\" rel=\"noopener noreferrer\"><img src=\"https://storage.googleapis.com/assets.axieinfinity.com/axies/7371128/axie/axie-full-transparent.png\" width=128 height=128 style=\"display:inline; margin:1px\"/></a><a href=\"https://marketplace.axieinfinity.com/axie/7373063\" target=\"_blank\" rel=\"noopener noreferrer\"><img src=\"https://storage.googleapis.com/assets.axieinfinity.com/axies/7373063/axie/axie-full-transparent.png\" width=128 height=128 style=\"display:inline; margin:1px\"/></a>"
      ],
      "text/plain": [
       "<IPython.core.display.HTML object>"
      ]
     },
     "metadata": {},
     "output_type": "display_data"
    },
    {
     "name": "stdout",
     "output_type": "stream",
     "text": [
      "https://marketplace.axieinfinity.com/profile/ronin:4835f48b1f99f3f91bdd4810318553ec1d1a379d/axie/ 1538 283934 kim021\n"
     ]
    },
    {
     "data": {
      "text/html": [
       "<a href=\"https://marketplace.axieinfinity.com/axie/2435235\" target=\"_blank\" rel=\"noopener noreferrer\"><img src=\"https://storage.googleapis.com/assets.axieinfinity.com/axies/2435235/axie/axie-full-transparent.png\" width=128 height=128 style=\"display:inline; margin:1px\"/></a><a href=\"https://marketplace.axieinfinity.com/axie/2750885\" target=\"_blank\" rel=\"noopener noreferrer\"><img src=\"https://storage.googleapis.com/assets.axieinfinity.com/axies/2750885/axie/axie-full-transparent.png\" width=128 height=128 style=\"display:inline; margin:1px\"/></a><a href=\"https://marketplace.axieinfinity.com/axie/3573720\" target=\"_blank\" rel=\"noopener noreferrer\"><img src=\"https://storage.googleapis.com/assets.axieinfinity.com/axies/3573720/axie/axie-full-transparent.png\" width=128 height=128 style=\"display:inline; margin:1px\"/></a>"
      ],
      "text/plain": [
       "<IPython.core.display.HTML object>"
      ]
     },
     "metadata": {},
     "output_type": "display_data"
    }
   ],
   "source": [
    "link_templ = \"https://marketplace.axieinfinity.com/profile/ronin:%s/axie/\"\n",
    "for client_id, elo, rank, name in answer:\n",
    "    link_id = link_templ%client_id[2:]\n",
    "    print(link_id, elo, rank, name)\n",
    "    axieList = teams[client_id]\n",
    "    axieImages = [\"https://storage.googleapis.com/assets.axieinfinity.com/axies/%s/axie/axie-full-transparent.png\"%x for x in axieList]\n",
    "    displayAxies(axieList, axieImages, False)"
   ]
  },
  {
   "cell_type": "code",
   "execution_count": null,
   "metadata": {
    "scrolled": true
   },
   "outputs": [],
   "source": []
  },
  {
   "cell_type": "code",
   "execution_count": null,
   "metadata": {
    "scrolled": true
   },
   "outputs": [],
   "source": []
  }
 ],
 "metadata": {
  "kernelspec": {
   "display_name": "Python 3",
   "language": "python",
   "name": "python3"
  },
  "language_info": {
   "codemirror_mode": {
    "name": "ipython",
    "version": 3
   },
   "file_extension": ".py",
   "mimetype": "text/x-python",
   "name": "python",
   "nbconvert_exporter": "python",
   "pygments_lexer": "ipython3",
   "version": "3.8.5"
  }
 },
 "nbformat": 4,
 "nbformat_minor": 4
}

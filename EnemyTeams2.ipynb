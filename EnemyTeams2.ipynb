{
 "cells": [
  {
   "cell_type": "code",
   "execution_count": null,
   "metadata": {
    "scrolled": true
   },
   "outputs": [],
   "source": [
    "import requests, json, time, os\n",
    "from collections import Counter\n",
    "from IPython.core.display import display, HTML"
   ]
  },
  {
   "cell_type": "code",
   "execution_count": null,
   "metadata": {
    "scrolled": true
   },
   "outputs": [],
   "source": [
    "pathToBattles = r\"~\\AppData\\LocalLow\\Sky Mavis\\Axie Infinity\\production-battleHistoriesState\"\n",
    "pathToBattles = os.path.expanduser(pathToBattles)"
   ]
  },
  {
   "cell_type": "code",
   "execution_count": null,
   "metadata": {
    "scrolled": true
   },
   "outputs": [],
   "source": [
    "with open(pathToBattles, \"rt\") as f:\n",
    "    data = json.load(f)\n",
    "battles = data[\"battles\"]\n",
    "\n",
    "teams = {}\n",
    "for battle in battles:\n",
    "    if battle[\"battleType\"] == 1:\n",
    "        first = battle[\"firstClientId\"]\n",
    "        second = battle[\"secondClientId\"]\n",
    "        enemyNo = first == my and  1 or 0\n",
    "        enemyId = first == my and second or first\n",
    "        team = []\n",
    "        for fighter in battle[\"fighters\"]:\n",
    "            if fighter[\"teamIndex\"] == enemyNo:\n",
    "                team.append(fighter[\"id\"])\n",
    "        teams[enemyId] = team"
   ]
  },
  {
   "cell_type": "code",
   "execution_count": null,
   "metadata": {
    "scrolled": true
   },
   "outputs": [],
   "source": [
    "for enemy, team in teams.items():\n",
    "    print(enemy, team)"
   ]
  },
  {
   "cell_type": "code",
   "execution_count": null,
   "metadata": {
    "scrolled": true
   },
   "outputs": [],
   "source": [
    "from python_graphql_client import GraphqlClient\n",
    "client = GraphqlClient(endpoint=\"https://graphql-gateway.axieinfinity.com/graphql\")"
   ]
  },
  {
   "cell_type": "code",
   "execution_count": null,
   "metadata": {
    "scrolled": true
   },
   "outputs": [],
   "source": [
    "def getProfileData(address):\n",
    "    query = \"\"\"query GetProfileByRoninAddress($roninAddress: String!) {\\n  publicProfileWithRoninAddress(roninAddress: $roninAddress) {\\n    ...Profile\\n    __typename\\n  }\\n}\\n\\nfragment Profile on PublicProfile {\\n  accountId\\n  name\\n  addresses {\\n    ...Addresses\\n    __typename\\n  }\\n  __typename\\n}\\n\\nfragment Addresses on NetAddresses {\\n  ethereum\\n  tomo\\n  loom\\n  ronin\\n  __typename\\n}\\n\"\"\"\n",
    "    variables = {\"roninAddress\": address}\n",
    "    data = client.execute(query=query, variables=variables)\n",
    "    return data"
   ]
  },
  {
   "cell_type": "code",
   "execution_count": null,
   "metadata": {
    "scrolled": true
   },
   "outputs": [],
   "source": []
  },
  {
   "cell_type": "code",
   "execution_count": null,
   "metadata": {
    "scrolled": true
   },
   "outputs": [],
   "source": []
  },
  {
   "cell_type": "code",
   "execution_count": null,
   "metadata": {
    "scrolled": true
   },
   "outputs": [],
   "source": [
    "mmr"
   ]
  },
  {
   "cell_type": "code",
   "execution_count": null,
   "metadata": {
    "scrolled": true
   },
   "outputs": [],
   "source": [
    "mmr_addr = \"https://game-api.axie.technology/mmr/\"\n",
    "addresses = list(teams.keys())\n",
    "print(len(addresses))\n",
    "answer = []\n",
    "for i in range(len(addresses)//10+1):\n",
    "    mmr_addrs = addresses[i*10:i*10+10]\n",
    "    if len(mmr_addrs) > 0:\n",
    "        mmr_req = mmr_addr + \",\".join(mmr_addrs)\n",
    "        print(mmr_req)\n",
    "        #try:\n",
    "        data = requests.get(mmr_req).json()\n",
    "        for result in data:\n",
    "            for item in result[\"items\"]:\n",
    "                if item[\"client_id\"] in mmr_addrs:\n",
    "                    client_id = item[\"client_id\"]\n",
    "                    elo = item[\"elo\"]\n",
    "                    rank = item[\"rank\"]\n",
    "                    name = item[\"name\"]\n",
    "                    answer.append([client_id, elo, rank, name])\n",
    "    time.sleep(3.0)"
   ]
  },
  {
   "cell_type": "code",
   "execution_count": null,
   "metadata": {
    "scrolled": true
   },
   "outputs": [],
   "source": [
    "answer.sort(key = lambda x: -x[1])"
   ]
  },
  {
   "cell_type": "code",
   "execution_count": null,
   "metadata": {
    "scrolled": true
   },
   "outputs": [],
   "source": [
    "example_link = \"https://marketplace.axieinfinity.com/axie/\"\n",
    "def displayAxies(axieList, axieImages, displayLink):\n",
    "    lines = []\n",
    "    for axie, img in zip(axieList, axieImages):\n",
    "        link = example_link + str(axie)\n",
    "        if displayLink:\n",
    "            print(link)\n",
    "        lines.append('<a href=\"%s\" target=\"_blank\" rel=\"noopener noreferrer\"><img src=\"%s\" width=128 height=128 style=\"display:inline; margin:1px\"/></a>'%(link,img))\n",
    "    display(HTML(\"\".join(lines)))"
   ]
  },
  {
   "cell_type": "code",
   "execution_count": 22,
   "metadata": {
    "scrolled": false
   },
   "outputs": [
    {
     "name": "stdout",
     "output_type": "stream",
     "text": [
      "https://marketplace.axieinfinity.com/profile/ronin:5d5e6296d5b64cbe063e4bbd055d953898042bf3/axie/ 2320 1372 NOTORIOUS | SMDY\n"
     ]
    },
    {
     "data": {
      "text/html": [
       "<a href=\"https://marketplace.axieinfinity.com/axie/7302057\" target=\"_blank\" rel=\"noopener noreferrer\"><img src=\"https://storage.googleapis.com/assets.axieinfinity.com/axies/7302057/axie/axie-full-transparent.png\" width=128 height=128 style=\"display:inline; margin:1px\"/></a><a href=\"https://marketplace.axieinfinity.com/axie/7634944\" target=\"_blank\" rel=\"noopener noreferrer\"><img src=\"https://storage.googleapis.com/assets.axieinfinity.com/axies/7634944/axie/axie-full-transparent.png\" width=128 height=128 style=\"display:inline; margin:1px\"/></a><a href=\"https://marketplace.axieinfinity.com/axie/8940971\" target=\"_blank\" rel=\"noopener noreferrer\"><img src=\"https://storage.googleapis.com/assets.axieinfinity.com/axies/8940971/axie/axie-full-transparent.png\" width=128 height=128 style=\"display:inline; margin:1px\"/></a>"
      ],
      "text/plain": [
       "<IPython.core.display.HTML object>"
      ]
     },
     "metadata": {},
     "output_type": "display_data"
    },
    {
     "name": "stdout",
     "output_type": "stream",
     "text": [
      "https://marketplace.axieinfinity.com/profile/ronin:9c411214577459b60af4d98f278826d759774d9a/axie/ 2291 1723 Ichi Axie | KJM\n"
     ]
    },
    {
     "data": {
      "text/html": [
       "<a href=\"https://marketplace.axieinfinity.com/axie/6513182\" target=\"_blank\" rel=\"noopener noreferrer\"><img src=\"https://storage.googleapis.com/assets.axieinfinity.com/axies/6513182/axie/axie-full-transparent.png\" width=128 height=128 style=\"display:inline; margin:1px\"/></a><a href=\"https://marketplace.axieinfinity.com/axie/7616900\" target=\"_blank\" rel=\"noopener noreferrer\"><img src=\"https://storage.googleapis.com/assets.axieinfinity.com/axies/7616900/axie/axie-full-transparent.png\" width=128 height=128 style=\"display:inline; margin:1px\"/></a><a href=\"https://marketplace.axieinfinity.com/axie/7625145\" target=\"_blank\" rel=\"noopener noreferrer\"><img src=\"https://storage.googleapis.com/assets.axieinfinity.com/axies/7625145/axie/axie-full-transparent.png\" width=128 height=128 style=\"display:inline; margin:1px\"/></a>"
      ],
      "text/plain": [
       "<IPython.core.display.HTML object>"
      ]
     },
     "metadata": {},
     "output_type": "display_data"
    },
    {
     "name": "stdout",
     "output_type": "stream",
     "text": [
      "https://marketplace.axieinfinity.com/profile/ronin:0194f6ad22f86891e13be226b6118842bec088ba/axie/ 2281 1850 Quincee\n"
     ]
    },
    {
     "data": {
      "text/html": [
       "<a href=\"https://marketplace.axieinfinity.com/axie/6488500\" target=\"_blank\" rel=\"noopener noreferrer\"><img src=\"https://storage.googleapis.com/assets.axieinfinity.com/axies/6488500/axie/axie-full-transparent.png\" width=128 height=128 style=\"display:inline; margin:1px\"/></a><a href=\"https://marketplace.axieinfinity.com/axie/7137366\" target=\"_blank\" rel=\"noopener noreferrer\"><img src=\"https://storage.googleapis.com/assets.axieinfinity.com/axies/7137366/axie/axie-full-transparent.png\" width=128 height=128 style=\"display:inline; margin:1px\"/></a><a href=\"https://marketplace.axieinfinity.com/axie/7359738\" target=\"_blank\" rel=\"noopener noreferrer\"><img src=\"https://storage.googleapis.com/assets.axieinfinity.com/axies/7359738/axie/axie-full-transparent.png\" width=128 height=128 style=\"display:inline; margin:1px\"/></a>"
      ],
      "text/plain": [
       "<IPython.core.display.HTML object>"
      ]
     },
     "metadata": {},
     "output_type": "display_data"
    },
    {
     "name": "stdout",
     "output_type": "stream",
     "text": [
      "https://marketplace.axieinfinity.com/profile/ronin:cf9c0acf86b80105eeb8e803e2b5ae9e18e7fa1e/axie/ 2254 2249 Pumpkin\n"
     ]
    },
    {
     "data": {
      "text/html": [
       "<a href=\"https://marketplace.axieinfinity.com/axie/7172698\" target=\"_blank\" rel=\"noopener noreferrer\"><img src=\"https://storage.googleapis.com/assets.axieinfinity.com/axies/7172698/axie/axie-full-transparent.png\" width=128 height=128 style=\"display:inline; margin:1px\"/></a><a href=\"https://marketplace.axieinfinity.com/axie/7187676\" target=\"_blank\" rel=\"noopener noreferrer\"><img src=\"https://storage.googleapis.com/assets.axieinfinity.com/axies/7187676/axie/axie-full-transparent.png\" width=128 height=128 style=\"display:inline; margin:1px\"/></a><a href=\"https://marketplace.axieinfinity.com/axie/7929124\" target=\"_blank\" rel=\"noopener noreferrer\"><img src=\"https://storage.googleapis.com/assets.axieinfinity.com/axies/7929124/axie/axie-full-transparent.png\" width=128 height=128 style=\"display:inline; margin:1px\"/></a>"
      ],
      "text/plain": [
       "<IPython.core.display.HTML object>"
      ]
     },
     "metadata": {},
     "output_type": "display_data"
    },
    {
     "name": "stdout",
     "output_type": "stream",
     "text": [
      "https://marketplace.axieinfinity.com/profile/ronin:a4ff423e46a486a5e6c0aa784164f2349f18818b/axie/ 2238 2525 Emil\n"
     ]
    },
    {
     "data": {
      "text/html": [
       "<a href=\"https://marketplace.axieinfinity.com/axie/7137238\" target=\"_blank\" rel=\"noopener noreferrer\"><img src=\"https://storage.googleapis.com/assets.axieinfinity.com/axies/7137238/axie/axie-full-transparent.png\" width=128 height=128 style=\"display:inline; margin:1px\"/></a><a href=\"https://marketplace.axieinfinity.com/axie/7955666\" target=\"_blank\" rel=\"noopener noreferrer\"><img src=\"https://storage.googleapis.com/assets.axieinfinity.com/axies/7955666/axie/axie-full-transparent.png\" width=128 height=128 style=\"display:inline; margin:1px\"/></a><a href=\"https://marketplace.axieinfinity.com/axie/8506863\" target=\"_blank\" rel=\"noopener noreferrer\"><img src=\"https://storage.googleapis.com/assets.axieinfinity.com/axies/8506863/axie/axie-full-transparent.png\" width=128 height=128 style=\"display:inline; margin:1px\"/></a>"
      ],
      "text/plain": [
       "<IPython.core.display.HTML object>"
      ]
     },
     "metadata": {},
     "output_type": "display_data"
    },
    {
     "name": "stdout",
     "output_type": "stream",
     "text": [
      "https://marketplace.axieinfinity.com/profile/ronin:b1de49fd6e047a2d77be1b2cc12d41991857a3c9/axie/ 2213 3093 DemaPrats\n"
     ]
    },
    {
     "data": {
      "text/html": [
       "<a href=\"https://marketplace.axieinfinity.com/axie/191805\" target=\"_blank\" rel=\"noopener noreferrer\"><img src=\"https://storage.googleapis.com/assets.axieinfinity.com/axies/191805/axie/axie-full-transparent.png\" width=128 height=128 style=\"display:inline; margin:1px\"/></a><a href=\"https://marketplace.axieinfinity.com/axie/1055897\" target=\"_blank\" rel=\"noopener noreferrer\"><img src=\"https://storage.googleapis.com/assets.axieinfinity.com/axies/1055897/axie/axie-full-transparent.png\" width=128 height=128 style=\"display:inline; margin:1px\"/></a><a href=\"https://marketplace.axieinfinity.com/axie/1096289\" target=\"_blank\" rel=\"noopener noreferrer\"><img src=\"https://storage.googleapis.com/assets.axieinfinity.com/axies/1096289/axie/axie-full-transparent.png\" width=128 height=128 style=\"display:inline; margin:1px\"/></a>"
      ],
      "text/plain": [
       "<IPython.core.display.HTML object>"
      ]
     },
     "metadata": {},
     "output_type": "display_data"
    },
    {
     "name": "stdout",
     "output_type": "stream",
     "text": [
      "https://marketplace.axieinfinity.com/profile/ronin:37aabb19d682fa1a0ee953d856b054ceed33e7b5/axie/ 2209 3181 Scholar41-|AXIE FARMER & Co\n"
     ]
    },
    {
     "data": {
      "text/html": [
       "<a href=\"https://marketplace.axieinfinity.com/axie/448176\" target=\"_blank\" rel=\"noopener noreferrer\"><img src=\"https://storage.googleapis.com/assets.axieinfinity.com/axies/448176/axie/axie-full-transparent.png\" width=128 height=128 style=\"display:inline; margin:1px\"/></a><a href=\"https://marketplace.axieinfinity.com/axie/466440\" target=\"_blank\" rel=\"noopener noreferrer\"><img src=\"https://storage.googleapis.com/assets.axieinfinity.com/axies/466440/axie/axie-full-transparent.png\" width=128 height=128 style=\"display:inline; margin:1px\"/></a><a href=\"https://marketplace.axieinfinity.com/axie/5242653\" target=\"_blank\" rel=\"noopener noreferrer\"><img src=\"https://storage.googleapis.com/assets.axieinfinity.com/axies/5242653/axie/axie-full-transparent.png\" width=128 height=128 style=\"display:inline; margin:1px\"/></a>"
      ],
      "text/plain": [
       "<IPython.core.display.HTML object>"
      ]
     },
     "metadata": {},
     "output_type": "display_data"
    },
    {
     "name": "stdout",
     "output_type": "stream",
     "text": [
      "https://marketplace.axieinfinity.com/profile/ronin:b461e12cb096eefae755c1d9427f827497b7e351/axie/ 2199 3473 Gon Touce  🇷 | MT8\n"
     ]
    },
    {
     "data": {
      "text/html": [
       "<a href=\"https://marketplace.axieinfinity.com/axie/4966851\" target=\"_blank\" rel=\"noopener noreferrer\"><img src=\"https://storage.googleapis.com/assets.axieinfinity.com/axies/4966851/axie/axie-full-transparent.png\" width=128 height=128 style=\"display:inline; margin:1px\"/></a><a href=\"https://marketplace.axieinfinity.com/axie/8113769\" target=\"_blank\" rel=\"noopener noreferrer\"><img src=\"https://storage.googleapis.com/assets.axieinfinity.com/axies/8113769/axie/axie-full-transparent.png\" width=128 height=128 style=\"display:inline; margin:1px\"/></a><a href=\"https://marketplace.axieinfinity.com/axie/8892176\" target=\"_blank\" rel=\"noopener noreferrer\"><img src=\"https://storage.googleapis.com/assets.axieinfinity.com/axies/8892176/axie/axie-full-transparent.png\" width=128 height=128 style=\"display:inline; margin:1px\"/></a>"
      ],
      "text/plain": [
       "<IPython.core.display.HTML object>"
      ]
     },
     "metadata": {},
     "output_type": "display_data"
    },
    {
     "name": "stdout",
     "output_type": "stream",
     "text": [
      "https://marketplace.axieinfinity.com/profile/ronin:22ba38bcae9c39b51975970e521dccff692face9/axie/ 2198 3481 Spriggan | SxElite\n"
     ]
    },
    {
     "data": {
      "text/html": [
       "<a href=\"https://marketplace.axieinfinity.com/axie/6641434\" target=\"_blank\" rel=\"noopener noreferrer\"><img src=\"https://storage.googleapis.com/assets.axieinfinity.com/axies/6641434/axie/axie-full-transparent.png\" width=128 height=128 style=\"display:inline; margin:1px\"/></a><a href=\"https://marketplace.axieinfinity.com/axie/8929027\" target=\"_blank\" rel=\"noopener noreferrer\"><img src=\"https://storage.googleapis.com/assets.axieinfinity.com/axies/8929027/axie/axie-full-transparent.png\" width=128 height=128 style=\"display:inline; margin:1px\"/></a><a href=\"https://marketplace.axieinfinity.com/axie/9162040\" target=\"_blank\" rel=\"noopener noreferrer\"><img src=\"https://storage.googleapis.com/assets.axieinfinity.com/axies/9162040/axie/axie-full-transparent.png\" width=128 height=128 style=\"display:inline; margin:1px\"/></a>"
      ],
      "text/plain": [
       "<IPython.core.display.HTML object>"
      ]
     },
     "metadata": {},
     "output_type": "display_data"
    },
    {
     "name": "stdout",
     "output_type": "stream",
     "text": [
      "https://marketplace.axieinfinity.com/profile/ronin:d2c80a65addcb36780d430308b85dd150bbdec4e/axie/ 2176 3995 TorrasqueCR| Twins Academy Block\n"
     ]
    },
    {
     "data": {
      "text/html": [
       "<a href=\"https://marketplace.axieinfinity.com/axie/5464866\" target=\"_blank\" rel=\"noopener noreferrer\"><img src=\"https://storage.googleapis.com/assets.axieinfinity.com/axies/5464866/axie/axie-full-transparent.png\" width=128 height=128 style=\"display:inline; margin:1px\"/></a><a href=\"https://marketplace.axieinfinity.com/axie/7967165\" target=\"_blank\" rel=\"noopener noreferrer\"><img src=\"https://storage.googleapis.com/assets.axieinfinity.com/axies/7967165/axie/axie-full-transparent.png\" width=128 height=128 style=\"display:inline; margin:1px\"/></a><a href=\"https://marketplace.axieinfinity.com/axie/8617450\" target=\"_blank\" rel=\"noopener noreferrer\"><img src=\"https://storage.googleapis.com/assets.axieinfinity.com/axies/8617450/axie/axie-full-transparent.png\" width=128 height=128 style=\"display:inline; margin:1px\"/></a>"
      ],
      "text/plain": [
       "<IPython.core.display.HTML object>"
      ]
     },
     "metadata": {},
     "output_type": "display_data"
    },
    {
     "name": "stdout",
     "output_type": "stream",
     "text": [
      "https://marketplace.axieinfinity.com/profile/ronin:c1de7ca614bc7905242aba5cd71606571928a154/axie/ 2149 4891 argee | DBadBot\n"
     ]
    },
    {
     "data": {
      "text/html": [
       "<a href=\"https://marketplace.axieinfinity.com/axie/2808799\" target=\"_blank\" rel=\"noopener noreferrer\"><img src=\"https://storage.googleapis.com/assets.axieinfinity.com/axies/2808799/axie/axie-full-transparent.png\" width=128 height=128 style=\"display:inline; margin:1px\"/></a><a href=\"https://marketplace.axieinfinity.com/axie/3088837\" target=\"_blank\" rel=\"noopener noreferrer\"><img src=\"https://storage.googleapis.com/assets.axieinfinity.com/axies/3088837/axie/axie-full-transparent.png\" width=128 height=128 style=\"display:inline; margin:1px\"/></a><a href=\"https://marketplace.axieinfinity.com/axie/5791870\" target=\"_blank\" rel=\"noopener noreferrer\"><img src=\"https://storage.googleapis.com/assets.axieinfinity.com/axies/5791870/axie/axie-full-transparent.png\" width=128 height=128 style=\"display:inline; margin:1px\"/></a>"
      ],
      "text/plain": [
       "<IPython.core.display.HTML object>"
      ]
     },
     "metadata": {},
     "output_type": "display_data"
    },
    {
     "name": "stdout",
     "output_type": "stream",
     "text": [
      "https://marketplace.axieinfinity.com/profile/ronin:0b801c9f98d5b43f94515dd594672daa6e73388f/axie/ 2124 5820 Natas\n"
     ]
    },
    {
     "data": {
      "text/html": [
       "<a href=\"https://marketplace.axieinfinity.com/axie/6690692\" target=\"_blank\" rel=\"noopener noreferrer\"><img src=\"https://storage.googleapis.com/assets.axieinfinity.com/axies/6690692/axie/axie-full-transparent.png\" width=128 height=128 style=\"display:inline; margin:1px\"/></a><a href=\"https://marketplace.axieinfinity.com/axie/8516323\" target=\"_blank\" rel=\"noopener noreferrer\"><img src=\"https://storage.googleapis.com/assets.axieinfinity.com/axies/8516323/axie/axie-full-transparent.png\" width=128 height=128 style=\"display:inline; margin:1px\"/></a><a href=\"https://marketplace.axieinfinity.com/axie/8561981\" target=\"_blank\" rel=\"noopener noreferrer\"><img src=\"https://storage.googleapis.com/assets.axieinfinity.com/axies/8561981/axie/axie-full-transparent.png\" width=128 height=128 style=\"display:inline; margin:1px\"/></a>"
      ],
      "text/plain": [
       "<IPython.core.display.HTML object>"
      ]
     },
     "metadata": {},
     "output_type": "display_data"
    },
    {
     "name": "stdout",
     "output_type": "stream",
     "text": [
      "https://marketplace.axieinfinity.com/profile/ronin:0c390dc69f485b07cfa02e036ebc0d8d54118c94/axie/ 2121 5969 Principal\n"
     ]
    },
    {
     "data": {
      "text/html": [
       "<a href=\"https://marketplace.axieinfinity.com/axie/6887070\" target=\"_blank\" rel=\"noopener noreferrer\"><img src=\"https://storage.googleapis.com/assets.axieinfinity.com/axies/6887070/axie/axie-full-transparent.png\" width=128 height=128 style=\"display:inline; margin:1px\"/></a><a href=\"https://marketplace.axieinfinity.com/axie/7265528\" target=\"_blank\" rel=\"noopener noreferrer\"><img src=\"https://storage.googleapis.com/assets.axieinfinity.com/axies/7265528/axie/axie-full-transparent.png\" width=128 height=128 style=\"display:inline; margin:1px\"/></a><a href=\"https://marketplace.axieinfinity.com/axie/9269922\" target=\"_blank\" rel=\"noopener noreferrer\"><img src=\"https://storage.googleapis.com/assets.axieinfinity.com/axies/9269922/axie/axie-full-transparent.png\" width=128 height=128 style=\"display:inline; margin:1px\"/></a>"
      ],
      "text/plain": [
       "<IPython.core.display.HTML object>"
      ]
     },
     "metadata": {},
     "output_type": "display_data"
    },
    {
     "name": "stdout",
     "output_type": "stream",
     "text": [
      "https://marketplace.axieinfinity.com/profile/ronin:3ad20fcd003c4522c872fd6d80824368dd17bf04/axie/ 2108 6634 YouTube.com/ElPirataGG\n"
     ]
    },
    {
     "data": {
      "text/html": [
       "<a href=\"https://marketplace.axieinfinity.com/axie/9013784\" target=\"_blank\" rel=\"noopener noreferrer\"><img src=\"https://storage.googleapis.com/assets.axieinfinity.com/axies/9013784/axie/axie-full-transparent.png\" width=128 height=128 style=\"display:inline; margin:1px\"/></a><a href=\"https://marketplace.axieinfinity.com/axie/9245739\" target=\"_blank\" rel=\"noopener noreferrer\"><img src=\"https://storage.googleapis.com/assets.axieinfinity.com/axies/9245739/axie/axie-full-transparent.png\" width=128 height=128 style=\"display:inline; margin:1px\"/></a><a href=\"https://marketplace.axieinfinity.com/axie/9278080\" target=\"_blank\" rel=\"noopener noreferrer\"><img src=\"https://storage.googleapis.com/assets.axieinfinity.com/axies/9278080/axie/axie-full-transparent.png\" width=128 height=128 style=\"display:inline; margin:1px\"/></a>"
      ],
      "text/plain": [
       "<IPython.core.display.HTML object>"
      ]
     },
     "metadata": {},
     "output_type": "display_data"
    },
    {
     "name": "stdout",
     "output_type": "stream",
     "text": [
      "https://marketplace.axieinfinity.com/profile/ronin:f4aaae10ddcf54dbf2add58c98df01ce693f942d/axie/ 2106 6731 Gerald\n"
     ]
    },
    {
     "data": {
      "text/html": [
       "<a href=\"https://marketplace.axieinfinity.com/axie/600336\" target=\"_blank\" rel=\"noopener noreferrer\"><img src=\"https://storage.googleapis.com/assets.axieinfinity.com/axies/600336/axie/axie-full-transparent.png\" width=128 height=128 style=\"display:inline; margin:1px\"/></a><a href=\"https://marketplace.axieinfinity.com/axie/7675137\" target=\"_blank\" rel=\"noopener noreferrer\"><img src=\"https://storage.googleapis.com/assets.axieinfinity.com/axies/7675137/axie/axie-full-transparent.png\" width=128 height=128 style=\"display:inline; margin:1px\"/></a><a href=\"https://marketplace.axieinfinity.com/axie/8215694\" target=\"_blank\" rel=\"noopener noreferrer\"><img src=\"https://storage.googleapis.com/assets.axieinfinity.com/axies/8215694/axie/axie-full-transparent.png\" width=128 height=128 style=\"display:inline; margin:1px\"/></a>"
      ],
      "text/plain": [
       "<IPython.core.display.HTML object>"
      ]
     },
     "metadata": {},
     "output_type": "display_data"
    },
    {
     "name": "stdout",
     "output_type": "stream",
     "text": [
      "https://marketplace.axieinfinity.com/profile/ronin:be795cf5493f9a9d5f068a07a2d7baecb290f790/axie/ 2104 6875 Bungkungsas\n"
     ]
    },
    {
     "data": {
      "text/html": [
       "<a href=\"https://marketplace.axieinfinity.com/axie/5134355\" target=\"_blank\" rel=\"noopener noreferrer\"><img src=\"https://storage.googleapis.com/assets.axieinfinity.com/axies/5134355/axie/axie-full-transparent.png\" width=128 height=128 style=\"display:inline; margin:1px\"/></a><a href=\"https://marketplace.axieinfinity.com/axie/6782531\" target=\"_blank\" rel=\"noopener noreferrer\"><img src=\"https://storage.googleapis.com/assets.axieinfinity.com/axies/6782531/axie/axie-full-transparent.png\" width=128 height=128 style=\"display:inline; margin:1px\"/></a><a href=\"https://marketplace.axieinfinity.com/axie/7120619\" target=\"_blank\" rel=\"noopener noreferrer\"><img src=\"https://storage.googleapis.com/assets.axieinfinity.com/axies/7120619/axie/axie-full-transparent.png\" width=128 height=128 style=\"display:inline; margin:1px\"/></a>"
      ],
      "text/plain": [
       "<IPython.core.display.HTML object>"
      ]
     },
     "metadata": {},
     "output_type": "display_data"
    },
    {
     "name": "stdout",
     "output_type": "stream",
     "text": [
      "https://marketplace.axieinfinity.com/profile/ronin:355720beb78cf49b338988e989e36ad3a1dfd3ba/axie/ 2103 6846 Jampy\n"
     ]
    },
    {
     "data": {
      "text/html": [
       "<a href=\"https://marketplace.axieinfinity.com/axie/5278123\" target=\"_blank\" rel=\"noopener noreferrer\"><img src=\"https://storage.googleapis.com/assets.axieinfinity.com/axies/5278123/axie/axie-full-transparent.png\" width=128 height=128 style=\"display:inline; margin:1px\"/></a><a href=\"https://marketplace.axieinfinity.com/axie/8194207\" target=\"_blank\" rel=\"noopener noreferrer\"><img src=\"https://storage.googleapis.com/assets.axieinfinity.com/axies/8194207/axie/axie-full-transparent.png\" width=128 height=128 style=\"display:inline; margin:1px\"/></a><a href=\"https://marketplace.axieinfinity.com/axie/8401384\" target=\"_blank\" rel=\"noopener noreferrer\"><img src=\"https://storage.googleapis.com/assets.axieinfinity.com/axies/8401384/axie/axie-full-transparent.png\" width=128 height=128 style=\"display:inline; margin:1px\"/></a>"
      ],
      "text/plain": [
       "<IPython.core.display.HTML object>"
      ]
     },
     "metadata": {},
     "output_type": "display_data"
    },
    {
     "name": "stdout",
     "output_type": "stream",
     "text": [
      "https://marketplace.axieinfinity.com/profile/ronin:9e11953853218cb804ac888402f6f82b64182265/axie/ 2097 7139 Swanx\n"
     ]
    },
    {
     "data": {
      "text/html": [
       "<a href=\"https://marketplace.axieinfinity.com/axie/2039989\" target=\"_blank\" rel=\"noopener noreferrer\"><img src=\"https://storage.googleapis.com/assets.axieinfinity.com/axies/2039989/axie/axie-full-transparent.png\" width=128 height=128 style=\"display:inline; margin:1px\"/></a><a href=\"https://marketplace.axieinfinity.com/axie/7330659\" target=\"_blank\" rel=\"noopener noreferrer\"><img src=\"https://storage.googleapis.com/assets.axieinfinity.com/axies/7330659/axie/axie-full-transparent.png\" width=128 height=128 style=\"display:inline; margin:1px\"/></a><a href=\"https://marketplace.axieinfinity.com/axie/8546925\" target=\"_blank\" rel=\"noopener noreferrer\"><img src=\"https://storage.googleapis.com/assets.axieinfinity.com/axies/8546925/axie/axie-full-transparent.png\" width=128 height=128 style=\"display:inline; margin:1px\"/></a>"
      ],
      "text/plain": [
       "<IPython.core.display.HTML object>"
      ]
     },
     "metadata": {},
     "output_type": "display_data"
    },
    {
     "name": "stdout",
     "output_type": "stream",
     "text": [
      "https://marketplace.axieinfinity.com/profile/ronin:f1ad8566ab9a7d9f48dff2d080035d9a2e4d72b5/axie/ 2084 7878 ELPADS CARL\n"
     ]
    },
    {
     "data": {
      "text/html": [
       "<a href=\"https://marketplace.axieinfinity.com/axie/3442006\" target=\"_blank\" rel=\"noopener noreferrer\"><img src=\"https://storage.googleapis.com/assets.axieinfinity.com/axies/3442006/axie/axie-full-transparent.png\" width=128 height=128 style=\"display:inline; margin:1px\"/></a><a href=\"https://marketplace.axieinfinity.com/axie/7063718\" target=\"_blank\" rel=\"noopener noreferrer\"><img src=\"https://storage.googleapis.com/assets.axieinfinity.com/axies/7063718/axie/axie-full-transparent.png\" width=128 height=128 style=\"display:inline; margin:1px\"/></a><a href=\"https://marketplace.axieinfinity.com/axie/8295147\" target=\"_blank\" rel=\"noopener noreferrer\"><img src=\"https://storage.googleapis.com/assets.axieinfinity.com/axies/8295147/axie/axie-full-transparent.png\" width=128 height=128 style=\"display:inline; margin:1px\"/></a>"
      ],
      "text/plain": [
       "<IPython.core.display.HTML object>"
      ]
     },
     "metadata": {},
     "output_type": "display_data"
    },
    {
     "name": "stdout",
     "output_type": "stream",
     "text": [
      "https://marketplace.axieinfinity.com/profile/ronin:b10fdbbef28d62cf2afd56573d8f366f5e034212/axie/ 2080 8080 HYZ | #114 | Gilga\n"
     ]
    },
    {
     "data": {
      "text/html": [
       "<a href=\"https://marketplace.axieinfinity.com/axie/7569567\" target=\"_blank\" rel=\"noopener noreferrer\"><img src=\"https://storage.googleapis.com/assets.axieinfinity.com/axies/7569567/axie/axie-full-transparent.png\" width=128 height=128 style=\"display:inline; margin:1px\"/></a><a href=\"https://marketplace.axieinfinity.com/axie/7733771\" target=\"_blank\" rel=\"noopener noreferrer\"><img src=\"https://storage.googleapis.com/assets.axieinfinity.com/axies/7733771/axie/axie-full-transparent.png\" width=128 height=128 style=\"display:inline; margin:1px\"/></a><a href=\"https://marketplace.axieinfinity.com/axie/9188291\" target=\"_blank\" rel=\"noopener noreferrer\"><img src=\"https://storage.googleapis.com/assets.axieinfinity.com/axies/9188291/axie/axie-full-transparent.png\" width=128 height=128 style=\"display:inline; margin:1px\"/></a>"
      ],
      "text/plain": [
       "<IPython.core.display.HTML object>"
      ]
     },
     "metadata": {},
     "output_type": "display_data"
    },
    {
     "name": "stdout",
     "output_type": "stream",
     "text": [
      "https://marketplace.axieinfinity.com/profile/ronin:6c786115a734ee3f203aa50bba4f19937ac8742b/axie/ 2062 9196 Ferry Trezor\n"
     ]
    },
    {
     "data": {
      "text/html": [
       "<a href=\"https://marketplace.axieinfinity.com/axie/4181956\" target=\"_blank\" rel=\"noopener noreferrer\"><img src=\"https://storage.googleapis.com/assets.axieinfinity.com/axies/4181956/axie/axie-full-transparent.png\" width=128 height=128 style=\"display:inline; margin:1px\"/></a><a href=\"https://marketplace.axieinfinity.com/axie/4465163\" target=\"_blank\" rel=\"noopener noreferrer\"><img src=\"https://storage.googleapis.com/assets.axieinfinity.com/axies/4465163/axie/axie-full-transparent.png\" width=128 height=128 style=\"display:inline; margin:1px\"/></a><a href=\"https://marketplace.axieinfinity.com/axie/5941000\" target=\"_blank\" rel=\"noopener noreferrer\"><img src=\"https://storage.googleapis.com/assets.axieinfinity.com/axies/5941000/axie/axie-full-transparent.png\" width=128 height=128 style=\"display:inline; margin:1px\"/></a>"
      ],
      "text/plain": [
       "<IPython.core.display.HTML object>"
      ]
     },
     "metadata": {},
     "output_type": "display_data"
    },
    {
     "name": "stdout",
     "output_type": "stream",
     "text": [
      "https://marketplace.axieinfinity.com/profile/ronin:e3ffd8ca50c72dfba48ffdf25c15a12d1d94253e/axie/ 2062 9160 Awee The Great | DRN eSports\n"
     ]
    },
    {
     "data": {
      "text/html": [
       "<a href=\"https://marketplace.axieinfinity.com/axie/6396068\" target=\"_blank\" rel=\"noopener noreferrer\"><img src=\"https://storage.googleapis.com/assets.axieinfinity.com/axies/6396068/axie/axie-full-transparent.png\" width=128 height=128 style=\"display:inline; margin:1px\"/></a><a href=\"https://marketplace.axieinfinity.com/axie/6604179\" target=\"_blank\" rel=\"noopener noreferrer\"><img src=\"https://storage.googleapis.com/assets.axieinfinity.com/axies/6604179/axie/axie-full-transparent.png\" width=128 height=128 style=\"display:inline; margin:1px\"/></a><a href=\"https://marketplace.axieinfinity.com/axie/6744572\" target=\"_blank\" rel=\"noopener noreferrer\"><img src=\"https://storage.googleapis.com/assets.axieinfinity.com/axies/6744572/axie/axie-full-transparent.png\" width=128 height=128 style=\"display:inline; margin:1px\"/></a>"
      ],
      "text/plain": [
       "<IPython.core.display.HTML object>"
      ]
     },
     "metadata": {},
     "output_type": "display_data"
    },
    {
     "name": "stdout",
     "output_type": "stream",
     "text": [
      "https://marketplace.axieinfinity.com/profile/ronin:de83f7ac1aeeded5d50ae41b8943a3ab8e632aed/axie/ 2049 10131 Pepnator\n"
     ]
    },
    {
     "data": {
      "text/html": [
       "<a href=\"https://marketplace.axieinfinity.com/axie/5872072\" target=\"_blank\" rel=\"noopener noreferrer\"><img src=\"https://storage.googleapis.com/assets.axieinfinity.com/axies/5872072/axie/axie-full-transparent.png\" width=128 height=128 style=\"display:inline; margin:1px\"/></a><a href=\"https://marketplace.axieinfinity.com/axie/8869443\" target=\"_blank\" rel=\"noopener noreferrer\"><img src=\"https://storage.googleapis.com/assets.axieinfinity.com/axies/8869443/axie/axie-full-transparent.png\" width=128 height=128 style=\"display:inline; margin:1px\"/></a><a href=\"https://marketplace.axieinfinity.com/axie/8930856\" target=\"_blank\" rel=\"noopener noreferrer\"><img src=\"https://storage.googleapis.com/assets.axieinfinity.com/axies/8930856/axie/axie-full-transparent.png\" width=128 height=128 style=\"display:inline; margin:1px\"/></a>"
      ],
      "text/plain": [
       "<IPython.core.display.HTML object>"
      ]
     },
     "metadata": {},
     "output_type": "display_data"
    },
    {
     "name": "stdout",
     "output_type": "stream",
     "text": [
      "https://marketplace.axieinfinity.com/profile/ronin:ce83cc1c1c49417d2353d0b5953fa29ef29a7708/axie/ 2023 12217 Scholar#5\n"
     ]
    },
    {
     "data": {
      "text/html": [
       "<a href=\"https://marketplace.axieinfinity.com/axie/1029970\" target=\"_blank\" rel=\"noopener noreferrer\"><img src=\"https://storage.googleapis.com/assets.axieinfinity.com/axies/1029970/axie/axie-full-transparent.png\" width=128 height=128 style=\"display:inline; margin:1px\"/></a><a href=\"https://marketplace.axieinfinity.com/axie/6408253\" target=\"_blank\" rel=\"noopener noreferrer\"><img src=\"https://storage.googleapis.com/assets.axieinfinity.com/axies/6408253/axie/axie-full-transparent.png\" width=128 height=128 style=\"display:inline; margin:1px\"/></a><a href=\"https://marketplace.axieinfinity.com/axie/6413720\" target=\"_blank\" rel=\"noopener noreferrer\"><img src=\"https://storage.googleapis.com/assets.axieinfinity.com/axies/6413720/axie/axie-full-transparent.png\" width=128 height=128 style=\"display:inline; margin:1px\"/></a>"
      ],
      "text/plain": [
       "<IPython.core.display.HTML object>"
      ]
     },
     "metadata": {},
     "output_type": "display_data"
    },
    {
     "name": "stdout",
     "output_type": "stream",
     "text": [
      "https://marketplace.axieinfinity.com/profile/ronin:dcda0e83d73eae94ec711fbb3a0a6852e8d9ef64/axie/ 2018 12658 Seboom / OGG\n"
     ]
    },
    {
     "data": {
      "text/html": [
       "<a href=\"https://marketplace.axieinfinity.com/axie/1159341\" target=\"_blank\" rel=\"noopener noreferrer\"><img src=\"https://storage.googleapis.com/assets.axieinfinity.com/axies/1159341/axie/axie-full-transparent.png\" width=128 height=128 style=\"display:inline; margin:1px\"/></a><a href=\"https://marketplace.axieinfinity.com/axie/4886357\" target=\"_blank\" rel=\"noopener noreferrer\"><img src=\"https://storage.googleapis.com/assets.axieinfinity.com/axies/4886357/axie/axie-full-transparent.png\" width=128 height=128 style=\"display:inline; margin:1px\"/></a><a href=\"https://marketplace.axieinfinity.com/axie/6854099\" target=\"_blank\" rel=\"noopener noreferrer\"><img src=\"https://storage.googleapis.com/assets.axieinfinity.com/axies/6854099/axie/axie-full-transparent.png\" width=128 height=128 style=\"display:inline; margin:1px\"/></a>"
      ],
      "text/plain": [
       "<IPython.core.display.HTML object>"
      ]
     },
     "metadata": {},
     "output_type": "display_data"
    },
    {
     "name": "stdout",
     "output_type": "stream",
     "text": [
      "https://marketplace.axieinfinity.com/profile/ronin:fba93b1393bddc2553a258cc494ca2f4199fb221/axie/ 2015 12985 Westlake #1 Aryel\n"
     ]
    },
    {
     "data": {
      "text/html": [
       "<a href=\"https://marketplace.axieinfinity.com/axie/5496592\" target=\"_blank\" rel=\"noopener noreferrer\"><img src=\"https://storage.googleapis.com/assets.axieinfinity.com/axies/5496592/axie/axie-full-transparent.png\" width=128 height=128 style=\"display:inline; margin:1px\"/></a><a href=\"https://marketplace.axieinfinity.com/axie/6446701\" target=\"_blank\" rel=\"noopener noreferrer\"><img src=\"https://storage.googleapis.com/assets.axieinfinity.com/axies/6446701/axie/axie-full-transparent.png\" width=128 height=128 style=\"display:inline; margin:1px\"/></a><a href=\"https://marketplace.axieinfinity.com/axie/6462018\" target=\"_blank\" rel=\"noopener noreferrer\"><img src=\"https://storage.googleapis.com/assets.axieinfinity.com/axies/6462018/axie/axie-full-transparent.png\" width=128 height=128 style=\"display:inline; margin:1px\"/></a>"
      ],
      "text/plain": [
       "<IPython.core.display.HTML object>"
      ]
     },
     "metadata": {},
     "output_type": "display_data"
    },
    {
     "name": "stdout",
     "output_type": "stream",
     "text": [
      "https://marketplace.axieinfinity.com/profile/ronin:70028caa10accca2c79ad9e6750436b5d31fede1/axie/ 2014 13099 JRRSJ\n"
     ]
    },
    {
     "data": {
      "text/html": [
       "<a href=\"https://marketplace.axieinfinity.com/axie/8423685\" target=\"_blank\" rel=\"noopener noreferrer\"><img src=\"https://storage.googleapis.com/assets.axieinfinity.com/axies/8423685/axie/axie-full-transparent.png\" width=128 height=128 style=\"display:inline; margin:1px\"/></a><a href=\"https://marketplace.axieinfinity.com/axie/8779744\" target=\"_blank\" rel=\"noopener noreferrer\"><img src=\"https://storage.googleapis.com/assets.axieinfinity.com/axies/8779744/axie/axie-full-transparent.png\" width=128 height=128 style=\"display:inline; margin:1px\"/></a><a href=\"https://marketplace.axieinfinity.com/axie/8822925\" target=\"_blank\" rel=\"noopener noreferrer\"><img src=\"https://storage.googleapis.com/assets.axieinfinity.com/axies/8822925/axie/axie-full-transparent.png\" width=128 height=128 style=\"display:inline; margin:1px\"/></a>"
      ],
      "text/plain": [
       "<IPython.core.display.HTML object>"
      ]
     },
     "metadata": {},
     "output_type": "display_data"
    },
    {
     "name": "stdout",
     "output_type": "stream",
     "text": [
      "https://marketplace.axieinfinity.com/profile/ronin:bbaaf037689402455f6a8da8f4308173d39f65a2/axie/ 2007 13912 AHR33\n"
     ]
    },
    {
     "data": {
      "text/html": [
       "<a href=\"https://marketplace.axieinfinity.com/axie/6220227\" target=\"_blank\" rel=\"noopener noreferrer\"><img src=\"https://storage.googleapis.com/assets.axieinfinity.com/axies/6220227/axie/axie-full-transparent.png\" width=128 height=128 style=\"display:inline; margin:1px\"/></a><a href=\"https://marketplace.axieinfinity.com/axie/6864042\" target=\"_blank\" rel=\"noopener noreferrer\"><img src=\"https://storage.googleapis.com/assets.axieinfinity.com/axies/6864042/axie/axie-full-transparent.png\" width=128 height=128 style=\"display:inline; margin:1px\"/></a><a href=\"https://marketplace.axieinfinity.com/axie/6931442\" target=\"_blank\" rel=\"noopener noreferrer\"><img src=\"https://storage.googleapis.com/assets.axieinfinity.com/axies/6931442/axie/axie-full-transparent.png\" width=128 height=128 style=\"display:inline; margin:1px\"/></a>"
      ],
      "text/plain": [
       "<IPython.core.display.HTML object>"
      ]
     },
     "metadata": {},
     "output_type": "display_data"
    },
    {
     "name": "stdout",
     "output_type": "stream",
     "text": [
      "https://marketplace.axieinfinity.com/profile/ronin:7a37c8e3cd2550f87cce314f79a4d4985db77b8e/axie/ 1997 15108 player 53 ADRIAN\n"
     ]
    },
    {
     "data": {
      "text/html": [
       "<a href=\"https://marketplace.axieinfinity.com/axie/8546935\" target=\"_blank\" rel=\"noopener noreferrer\"><img src=\"https://storage.googleapis.com/assets.axieinfinity.com/axies/8546935/axie/axie-full-transparent.png\" width=128 height=128 style=\"display:inline; margin:1px\"/></a><a href=\"https://marketplace.axieinfinity.com/axie/8578383\" target=\"_blank\" rel=\"noopener noreferrer\"><img src=\"https://storage.googleapis.com/assets.axieinfinity.com/axies/8578383/axie/axie-full-transparent.png\" width=128 height=128 style=\"display:inline; margin:1px\"/></a><a href=\"https://marketplace.axieinfinity.com/axie/8781880\" target=\"_blank\" rel=\"noopener noreferrer\"><img src=\"https://storage.googleapis.com/assets.axieinfinity.com/axies/8781880/axie/axie-full-transparent.png\" width=128 height=128 style=\"display:inline; margin:1px\"/></a>"
      ],
      "text/plain": [
       "<IPython.core.display.HTML object>"
      ]
     },
     "metadata": {},
     "output_type": "display_data"
    },
    {
     "name": "stdout",
     "output_type": "stream",
     "text": [
      "https://marketplace.axieinfinity.com/profile/ronin:a7e46fcc2df06653e88a4293149b81d1cba47aa5/axie/ 1989 15613 Demo Genome | Axie.bhl\n"
     ]
    },
    {
     "data": {
      "text/html": [
       "<a href=\"https://marketplace.axieinfinity.com/axie/8897451\" target=\"_blank\" rel=\"noopener noreferrer\"><img src=\"https://storage.googleapis.com/assets.axieinfinity.com/axies/8897451/axie/axie-full-transparent.png\" width=128 height=128 style=\"display:inline; margin:1px\"/></a><a href=\"https://marketplace.axieinfinity.com/axie/8947645\" target=\"_blank\" rel=\"noopener noreferrer\"><img src=\"https://storage.googleapis.com/assets.axieinfinity.com/axies/8947645/axie/axie-full-transparent.png\" width=128 height=128 style=\"display:inline; margin:1px\"/></a><a href=\"https://marketplace.axieinfinity.com/axie/9151412\" target=\"_blank\" rel=\"noopener noreferrer\"><img src=\"https://storage.googleapis.com/assets.axieinfinity.com/axies/9151412/axie/axie-full-transparent.png\" width=128 height=128 style=\"display:inline; margin:1px\"/></a>"
      ],
      "text/plain": [
       "<IPython.core.display.HTML object>"
      ]
     },
     "metadata": {},
     "output_type": "display_data"
    },
    {
     "name": "stdout",
     "output_type": "stream",
     "text": [
      "https://marketplace.axieinfinity.com/profile/ronin:ca74912bfc70a5921f5f9bba3f3fc9dbeb651d56/axie/ 1986 16160 狐狸\n"
     ]
    },
    {
     "data": {
      "text/html": [
       "<a href=\"https://marketplace.axieinfinity.com/axie/7574571\" target=\"_blank\" rel=\"noopener noreferrer\"><img src=\"https://storage.googleapis.com/assets.axieinfinity.com/axies/7574571/axie/axie-full-transparent.png\" width=128 height=128 style=\"display:inline; margin:1px\"/></a><a href=\"https://marketplace.axieinfinity.com/axie/7795233\" target=\"_blank\" rel=\"noopener noreferrer\"><img src=\"https://storage.googleapis.com/assets.axieinfinity.com/axies/7795233/axie/axie-full-transparent.png\" width=128 height=128 style=\"display:inline; margin:1px\"/></a><a href=\"https://marketplace.axieinfinity.com/axie/7852200\" target=\"_blank\" rel=\"noopener noreferrer\"><img src=\"https://storage.googleapis.com/assets.axieinfinity.com/axies/7852200/axie/axie-full-transparent.png\" width=128 height=128 style=\"display:inline; margin:1px\"/></a>"
      ],
      "text/plain": [
       "<IPython.core.display.HTML object>"
      ]
     },
     "metadata": {},
     "output_type": "display_data"
    },
    {
     "name": "stdout",
     "output_type": "stream",
     "text": [
      "https://marketplace.axieinfinity.com/profile/ronin:3d1923f97d3d9dbf15e23a98ac07416f9a1b4a1f/axie/ 1986 16149 Spartanhlg\n"
     ]
    },
    {
     "data": {
      "text/html": [
       "<a href=\"https://marketplace.axieinfinity.com/axie/960546\" target=\"_blank\" rel=\"noopener noreferrer\"><img src=\"https://storage.googleapis.com/assets.axieinfinity.com/axies/960546/axie/axie-full-transparent.png\" width=128 height=128 style=\"display:inline; margin:1px\"/></a><a href=\"https://marketplace.axieinfinity.com/axie/3838774\" target=\"_blank\" rel=\"noopener noreferrer\"><img src=\"https://storage.googleapis.com/assets.axieinfinity.com/axies/3838774/axie/axie-full-transparent.png\" width=128 height=128 style=\"display:inline; margin:1px\"/></a><a href=\"https://marketplace.axieinfinity.com/axie/8889737\" target=\"_blank\" rel=\"noopener noreferrer\"><img src=\"https://storage.googleapis.com/assets.axieinfinity.com/axies/8889737/axie/axie-full-transparent.png\" width=128 height=128 style=\"display:inline; margin:1px\"/></a>"
      ],
      "text/plain": [
       "<IPython.core.display.HTML object>"
      ]
     },
     "metadata": {},
     "output_type": "display_data"
    },
    {
     "name": "stdout",
     "output_type": "stream",
     "text": [
      "https://marketplace.axieinfinity.com/profile/ronin:404d3b48c212ded65f525274f920b490cd4af16c/axie/ 1980 16838 Leon Castle\n"
     ]
    },
    {
     "data": {
      "text/html": [
       "<a href=\"https://marketplace.axieinfinity.com/axie/7485214\" target=\"_blank\" rel=\"noopener noreferrer\"><img src=\"https://storage.googleapis.com/assets.axieinfinity.com/axies/7485214/axie/axie-full-transparent.png\" width=128 height=128 style=\"display:inline; margin:1px\"/></a><a href=\"https://marketplace.axieinfinity.com/axie/8120963\" target=\"_blank\" rel=\"noopener noreferrer\"><img src=\"https://storage.googleapis.com/assets.axieinfinity.com/axies/8120963/axie/axie-full-transparent.png\" width=128 height=128 style=\"display:inline; margin:1px\"/></a><a href=\"https://marketplace.axieinfinity.com/axie/9161158\" target=\"_blank\" rel=\"noopener noreferrer\"><img src=\"https://storage.googleapis.com/assets.axieinfinity.com/axies/9161158/axie/axie-full-transparent.png\" width=128 height=128 style=\"display:inline; margin:1px\"/></a>"
      ],
      "text/plain": [
       "<IPython.core.display.HTML object>"
      ]
     },
     "metadata": {},
     "output_type": "display_data"
    },
    {
     "name": "stdout",
     "output_type": "stream",
     "text": [
      "https://marketplace.axieinfinity.com/profile/ronin:4b5dc22861abf30058aef8ee55932f57faf3df8e/axie/ 1955 19900 Jose | Marco\n"
     ]
    },
    {
     "data": {
      "text/html": [
       "<a href=\"https://marketplace.axieinfinity.com/axie/871969\" target=\"_blank\" rel=\"noopener noreferrer\"><img src=\"https://storage.googleapis.com/assets.axieinfinity.com/axies/871969/axie/axie-full-transparent.png\" width=128 height=128 style=\"display:inline; margin:1px\"/></a><a href=\"https://marketplace.axieinfinity.com/axie/7176042\" target=\"_blank\" rel=\"noopener noreferrer\"><img src=\"https://storage.googleapis.com/assets.axieinfinity.com/axies/7176042/axie/axie-full-transparent.png\" width=128 height=128 style=\"display:inline; margin:1px\"/></a><a href=\"https://marketplace.axieinfinity.com/axie/7721955\" target=\"_blank\" rel=\"noopener noreferrer\"><img src=\"https://storage.googleapis.com/assets.axieinfinity.com/axies/7721955/axie/axie-full-transparent.png\" width=128 height=128 style=\"display:inline; margin:1px\"/></a>"
      ],
      "text/plain": [
       "<IPython.core.display.HTML object>"
      ]
     },
     "metadata": {},
     "output_type": "display_data"
    },
    {
     "name": "stdout",
     "output_type": "stream",
     "text": [
      "https://marketplace.axieinfinity.com/profile/ronin:59d887db6cf501e96082e5af6718289561936d58/axie/ 1950 20453 Mira\n"
     ]
    },
    {
     "data": {
      "text/html": [
       "<a href=\"https://marketplace.axieinfinity.com/axie/629062\" target=\"_blank\" rel=\"noopener noreferrer\"><img src=\"https://storage.googleapis.com/assets.axieinfinity.com/axies/629062/axie/axie-full-transparent.png\" width=128 height=128 style=\"display:inline; margin:1px\"/></a><a href=\"https://marketplace.axieinfinity.com/axie/7009935\" target=\"_blank\" rel=\"noopener noreferrer\"><img src=\"https://storage.googleapis.com/assets.axieinfinity.com/axies/7009935/axie/axie-full-transparent.png\" width=128 height=128 style=\"display:inline; margin:1px\"/></a><a href=\"https://marketplace.axieinfinity.com/axie/8470002\" target=\"_blank\" rel=\"noopener noreferrer\"><img src=\"https://storage.googleapis.com/assets.axieinfinity.com/axies/8470002/axie/axie-full-transparent.png\" width=128 height=128 style=\"display:inline; margin:1px\"/></a>"
      ],
      "text/plain": [
       "<IPython.core.display.HTML object>"
      ]
     },
     "metadata": {},
     "output_type": "display_data"
    },
    {
     "name": "stdout",
     "output_type": "stream",
     "text": [
      "https://marketplace.axieinfinity.com/profile/ronin:e66875fce6dce8f02c5ea25875f269dfc5753c21/axie/ 1943 21626 Jacob\n"
     ]
    },
    {
     "data": {
      "text/html": [
       "<a href=\"https://marketplace.axieinfinity.com/axie/8643951\" target=\"_blank\" rel=\"noopener noreferrer\"><img src=\"https://storage.googleapis.com/assets.axieinfinity.com/axies/8643951/axie/axie-full-transparent.png\" width=128 height=128 style=\"display:inline; margin:1px\"/></a><a href=\"https://marketplace.axieinfinity.com/axie/8694650\" target=\"_blank\" rel=\"noopener noreferrer\"><img src=\"https://storage.googleapis.com/assets.axieinfinity.com/axies/8694650/axie/axie-full-transparent.png\" width=128 height=128 style=\"display:inline; margin:1px\"/></a><a href=\"https://marketplace.axieinfinity.com/axie/8716817\" target=\"_blank\" rel=\"noopener noreferrer\"><img src=\"https://storage.googleapis.com/assets.axieinfinity.com/axies/8716817/axie/axie-full-transparent.png\" width=128 height=128 style=\"display:inline; margin:1px\"/></a>"
      ],
      "text/plain": [
       "<IPython.core.display.HTML object>"
      ]
     },
     "metadata": {},
     "output_type": "display_data"
    },
    {
     "name": "stdout",
     "output_type": "stream",
     "text": [
      "https://marketplace.axieinfinity.com/profile/ronin:453b400acf063baf75adb3d485a1f826b78460c2/axie/ 1942 21786 Deathclock\n"
     ]
    },
    {
     "data": {
      "text/html": [
       "<a href=\"https://marketplace.axieinfinity.com/axie/3803774\" target=\"_blank\" rel=\"noopener noreferrer\"><img src=\"https://storage.googleapis.com/assets.axieinfinity.com/axies/3803774/axie/axie-full-transparent.png\" width=128 height=128 style=\"display:inline; margin:1px\"/></a><a href=\"https://marketplace.axieinfinity.com/axie/6298292\" target=\"_blank\" rel=\"noopener noreferrer\"><img src=\"https://storage.googleapis.com/assets.axieinfinity.com/axies/6298292/axie/axie-full-transparent.png\" width=128 height=128 style=\"display:inline; margin:1px\"/></a><a href=\"https://marketplace.axieinfinity.com/axie/8109527\" target=\"_blank\" rel=\"noopener noreferrer\"><img src=\"https://storage.googleapis.com/assets.axieinfinity.com/axies/8109527/axie/axie-full-transparent.png\" width=128 height=128 style=\"display:inline; margin:1px\"/></a>"
      ],
      "text/plain": [
       "<IPython.core.display.HTML object>"
      ]
     },
     "metadata": {},
     "output_type": "display_data"
    },
    {
     "name": "stdout",
     "output_type": "stream",
     "text": [
      "https://marketplace.axieinfinity.com/profile/ronin:e4e323b3750de7b619f553845661949ef6aee0f9/axie/ 1942 21739 PandaWundaTV| Frodo\n"
     ]
    },
    {
     "data": {
      "text/html": [
       "<a href=\"https://marketplace.axieinfinity.com/axie/6433885\" target=\"_blank\" rel=\"noopener noreferrer\"><img src=\"https://storage.googleapis.com/assets.axieinfinity.com/axies/6433885/axie/axie-full-transparent.png\" width=128 height=128 style=\"display:inline; margin:1px\"/></a><a href=\"https://marketplace.axieinfinity.com/axie/7969338\" target=\"_blank\" rel=\"noopener noreferrer\"><img src=\"https://storage.googleapis.com/assets.axieinfinity.com/axies/7969338/axie/axie-full-transparent.png\" width=128 height=128 style=\"display:inline; margin:1px\"/></a><a href=\"https://marketplace.axieinfinity.com/axie/8433692\" target=\"_blank\" rel=\"noopener noreferrer\"><img src=\"https://storage.googleapis.com/assets.axieinfinity.com/axies/8433692/axie/axie-full-transparent.png\" width=128 height=128 style=\"display:inline; margin:1px\"/></a>"
      ],
      "text/plain": [
       "<IPython.core.display.HTML object>"
      ]
     },
     "metadata": {},
     "output_type": "display_data"
    },
    {
     "name": "stdout",
     "output_type": "stream",
     "text": [
      "https://marketplace.axieinfinity.com/profile/ronin:1f60e81e5e3104ccef410bf92ec8221226b99e3d/axie/ 1928 23947 beca28\n"
     ]
    },
    {
     "data": {
      "text/html": [
       "<a href=\"https://marketplace.axieinfinity.com/axie/7666815\" target=\"_blank\" rel=\"noopener noreferrer\"><img src=\"https://storage.googleapis.com/assets.axieinfinity.com/axies/7666815/axie/axie-full-transparent.png\" width=128 height=128 style=\"display:inline; margin:1px\"/></a><a href=\"https://marketplace.axieinfinity.com/axie/7742307\" target=\"_blank\" rel=\"noopener noreferrer\"><img src=\"https://storage.googleapis.com/assets.axieinfinity.com/axies/7742307/axie/axie-full-transparent.png\" width=128 height=128 style=\"display:inline; margin:1px\"/></a><a href=\"https://marketplace.axieinfinity.com/axie/7964129\" target=\"_blank\" rel=\"noopener noreferrer\"><img src=\"https://storage.googleapis.com/assets.axieinfinity.com/axies/7964129/axie/axie-full-transparent.png\" width=128 height=128 style=\"display:inline; margin:1px\"/></a>"
      ],
      "text/plain": [
       "<IPython.core.display.HTML object>"
      ]
     },
     "metadata": {},
     "output_type": "display_data"
    },
    {
     "name": "stdout",
     "output_type": "stream",
     "text": [
      "https://marketplace.axieinfinity.com/profile/ronin:09712ca9b3657395b7007c98030faf76e679569f/axie/ 1927 24152 L\n"
     ]
    },
    {
     "data": {
      "text/html": [
       "<a href=\"https://marketplace.axieinfinity.com/axie/7265208\" target=\"_blank\" rel=\"noopener noreferrer\"><img src=\"https://storage.googleapis.com/assets.axieinfinity.com/axies/7265208/axie/axie-full-transparent.png\" width=128 height=128 style=\"display:inline; margin:1px\"/></a><a href=\"https://marketplace.axieinfinity.com/axie/8818248\" target=\"_blank\" rel=\"noopener noreferrer\"><img src=\"https://storage.googleapis.com/assets.axieinfinity.com/axies/8818248/axie/axie-full-transparent.png\" width=128 height=128 style=\"display:inline; margin:1px\"/></a><a href=\"https://marketplace.axieinfinity.com/axie/9055810\" target=\"_blank\" rel=\"noopener noreferrer\"><img src=\"https://storage.googleapis.com/assets.axieinfinity.com/axies/9055810/axie/axie-full-transparent.png\" width=128 height=128 style=\"display:inline; margin:1px\"/></a>"
      ],
      "text/plain": [
       "<IPython.core.display.HTML object>"
      ]
     },
     "metadata": {},
     "output_type": "display_data"
    },
    {
     "name": "stdout",
     "output_type": "stream",
     "text": [
      "https://marketplace.axieinfinity.com/profile/ronin:7f0824a46a2ef6c27f247f59fd8d8be4d1827eaa/axie/ 1927 23792 Lucky13 #013 | 626\n"
     ]
    },
    {
     "data": {
      "text/html": [
       "<a href=\"https://marketplace.axieinfinity.com/axie/4760930\" target=\"_blank\" rel=\"noopener noreferrer\"><img src=\"https://storage.googleapis.com/assets.axieinfinity.com/axies/4760930/axie/axie-full-transparent.png\" width=128 height=128 style=\"display:inline; margin:1px\"/></a><a href=\"https://marketplace.axieinfinity.com/axie/5208143\" target=\"_blank\" rel=\"noopener noreferrer\"><img src=\"https://storage.googleapis.com/assets.axieinfinity.com/axies/5208143/axie/axie-full-transparent.png\" width=128 height=128 style=\"display:inline; margin:1px\"/></a><a href=\"https://marketplace.axieinfinity.com/axie/5524936\" target=\"_blank\" rel=\"noopener noreferrer\"><img src=\"https://storage.googleapis.com/assets.axieinfinity.com/axies/5524936/axie/axie-full-transparent.png\" width=128 height=128 style=\"display:inline; margin:1px\"/></a>"
      ],
      "text/plain": [
       "<IPython.core.display.HTML object>"
      ]
     },
     "metadata": {},
     "output_type": "display_data"
    },
    {
     "name": "stdout",
     "output_type": "stream",
     "text": [
      "https://marketplace.axieinfinity.com/profile/ronin:0ba0919db3295a34424dc0b957acbccce8ec9ac1/axie/ 1923 24858 ARMY MEN JR\n"
     ]
    },
    {
     "data": {
      "text/html": [
       "<a href=\"https://marketplace.axieinfinity.com/axie/3750054\" target=\"_blank\" rel=\"noopener noreferrer\"><img src=\"https://storage.googleapis.com/assets.axieinfinity.com/axies/3750054/axie/axie-full-transparent.png\" width=128 height=128 style=\"display:inline; margin:1px\"/></a><a href=\"https://marketplace.axieinfinity.com/axie/3844876\" target=\"_blank\" rel=\"noopener noreferrer\"><img src=\"https://storage.googleapis.com/assets.axieinfinity.com/axies/3844876/axie/axie-full-transparent.png\" width=128 height=128 style=\"display:inline; margin:1px\"/></a><a href=\"https://marketplace.axieinfinity.com/axie/8148933\" target=\"_blank\" rel=\"noopener noreferrer\"><img src=\"https://storage.googleapis.com/assets.axieinfinity.com/axies/8148933/axie/axie-full-transparent.png\" width=128 height=128 style=\"display:inline; margin:1px\"/></a>"
      ],
      "text/plain": [
       "<IPython.core.display.HTML object>"
      ]
     },
     "metadata": {},
     "output_type": "display_data"
    },
    {
     "name": "stdout",
     "output_type": "stream",
     "text": [
      "https://marketplace.axieinfinity.com/profile/ronin:c703dd93cccf99523b2122bb89090d538ea85329/axie/ 1914 26457 FRUTTA SUPER TEAM #90\n"
     ]
    },
    {
     "data": {
      "text/html": [
       "<a href=\"https://marketplace.axieinfinity.com/axie/1773131\" target=\"_blank\" rel=\"noopener noreferrer\"><img src=\"https://storage.googleapis.com/assets.axieinfinity.com/axies/1773131/axie/axie-full-transparent.png\" width=128 height=128 style=\"display:inline; margin:1px\"/></a><a href=\"https://marketplace.axieinfinity.com/axie/5811323\" target=\"_blank\" rel=\"noopener noreferrer\"><img src=\"https://storage.googleapis.com/assets.axieinfinity.com/axies/5811323/axie/axie-full-transparent.png\" width=128 height=128 style=\"display:inline; margin:1px\"/></a><a href=\"https://marketplace.axieinfinity.com/axie/7910476\" target=\"_blank\" rel=\"noopener noreferrer\"><img src=\"https://storage.googleapis.com/assets.axieinfinity.com/axies/7910476/axie/axie-full-transparent.png\" width=128 height=128 style=\"display:inline; margin:1px\"/></a>"
      ],
      "text/plain": [
       "<IPython.core.display.HTML object>"
      ]
     },
     "metadata": {},
     "output_type": "display_data"
    },
    {
     "name": "stdout",
     "output_type": "stream",
     "text": [
      "https://marketplace.axieinfinity.com/profile/ronin:081a679f2a9c7c29e2aa8de254a223a06b4b45e1/axie/ 1897 29990 Fritzsydow\n"
     ]
    },
    {
     "data": {
      "text/html": [
       "<a href=\"https://marketplace.axieinfinity.com/axie/8073544\" target=\"_blank\" rel=\"noopener noreferrer\"><img src=\"https://storage.googleapis.com/assets.axieinfinity.com/axies/8073544/axie/axie-full-transparent.png\" width=128 height=128 style=\"display:inline; margin:1px\"/></a><a href=\"https://marketplace.axieinfinity.com/axie/8140081\" target=\"_blank\" rel=\"noopener noreferrer\"><img src=\"https://storage.googleapis.com/assets.axieinfinity.com/axies/8140081/axie/axie-full-transparent.png\" width=128 height=128 style=\"display:inline; margin:1px\"/></a><a href=\"https://marketplace.axieinfinity.com/axie/8279215\" target=\"_blank\" rel=\"noopener noreferrer\"><img src=\"https://storage.googleapis.com/assets.axieinfinity.com/axies/8279215/axie/axie-full-transparent.png\" width=128 height=128 style=\"display:inline; margin:1px\"/></a>"
      ],
      "text/plain": [
       "<IPython.core.display.HTML object>"
      ]
     },
     "metadata": {},
     "output_type": "display_data"
    },
    {
     "name": "stdout",
     "output_type": "stream",
     "text": [
      "https://marketplace.axieinfinity.com/profile/ronin:8680a9b45a0573df9a7f911d1a0f334358950e29/axie/ 1858 38207 Alex | MBK Metaverse\n"
     ]
    },
    {
     "data": {
      "text/html": [
       "<a href=\"https://marketplace.axieinfinity.com/axie/8604435\" target=\"_blank\" rel=\"noopener noreferrer\"><img src=\"https://storage.googleapis.com/assets.axieinfinity.com/axies/8604435/axie/axie-full-transparent.png\" width=128 height=128 style=\"display:inline; margin:1px\"/></a><a href=\"https://marketplace.axieinfinity.com/axie/8607075\" target=\"_blank\" rel=\"noopener noreferrer\"><img src=\"https://storage.googleapis.com/assets.axieinfinity.com/axies/8607075/axie/axie-full-transparent.png\" width=128 height=128 style=\"display:inline; margin:1px\"/></a><a href=\"https://marketplace.axieinfinity.com/axie/8621256\" target=\"_blank\" rel=\"noopener noreferrer\"><img src=\"https://storage.googleapis.com/assets.axieinfinity.com/axies/8621256/axie/axie-full-transparent.png\" width=128 height=128 style=\"display:inline; margin:1px\"/></a>"
      ],
      "text/plain": [
       "<IPython.core.display.HTML object>"
      ]
     },
     "metadata": {},
     "output_type": "display_data"
    },
    {
     "name": "stdout",
     "output_type": "stream",
     "text": [
      "https://marketplace.axieinfinity.com/profile/ronin:ce29ad709dcc3f68dec01e5eeccc7ef9fa0d2ee8/axie/ 1825 48056 Thyrossen\n"
     ]
    },
    {
     "data": {
      "text/html": [
       "<a href=\"https://marketplace.axieinfinity.com/axie/2097125\" target=\"_blank\" rel=\"noopener noreferrer\"><img src=\"https://storage.googleapis.com/assets.axieinfinity.com/axies/2097125/axie/axie-full-transparent.png\" width=128 height=128 style=\"display:inline; margin:1px\"/></a><a href=\"https://marketplace.axieinfinity.com/axie/2744978\" target=\"_blank\" rel=\"noopener noreferrer\"><img src=\"https://storage.googleapis.com/assets.axieinfinity.com/axies/2744978/axie/axie-full-transparent.png\" width=128 height=128 style=\"display:inline; margin:1px\"/></a><a href=\"https://marketplace.axieinfinity.com/axie/3502200\" target=\"_blank\" rel=\"noopener noreferrer\"><img src=\"https://storage.googleapis.com/assets.axieinfinity.com/axies/3502200/axie/axie-full-transparent.png\" width=128 height=128 style=\"display:inline; margin:1px\"/></a>"
      ],
      "text/plain": [
       "<IPython.core.display.HTML object>"
      ]
     },
     "metadata": {},
     "output_type": "display_data"
    },
    {
     "name": "stdout",
     "output_type": "stream",
     "text": [
      "https://marketplace.axieinfinity.com/profile/ronin:f1f97cfa6901b13df7c273c06af15c153f84e334/axie/ 1817 50958 apol011\n"
     ]
    },
    {
     "data": {
      "text/html": [
       "<a href=\"https://marketplace.axieinfinity.com/axie/8334205\" target=\"_blank\" rel=\"noopener noreferrer\"><img src=\"https://storage.googleapis.com/assets.axieinfinity.com/axies/8334205/axie/axie-full-transparent.png\" width=128 height=128 style=\"display:inline; margin:1px\"/></a><a href=\"https://marketplace.axieinfinity.com/axie/8580934\" target=\"_blank\" rel=\"noopener noreferrer\"><img src=\"https://storage.googleapis.com/assets.axieinfinity.com/axies/8580934/axie/axie-full-transparent.png\" width=128 height=128 style=\"display:inline; margin:1px\"/></a><a href=\"https://marketplace.axieinfinity.com/axie/8663445\" target=\"_blank\" rel=\"noopener noreferrer\"><img src=\"https://storage.googleapis.com/assets.axieinfinity.com/axies/8663445/axie/axie-full-transparent.png\" width=128 height=128 style=\"display:inline; margin:1px\"/></a>"
      ],
      "text/plain": [
       "<IPython.core.display.HTML object>"
      ]
     },
     "metadata": {},
     "output_type": "display_data"
    },
    {
     "name": "stdout",
     "output_type": "stream",
     "text": [
      "https://marketplace.axieinfinity.com/profile/ronin:f5e3b3d7de5bcc62b037151cf9267ce90f825b6a/axie/ 1815 51607 kakaroto\n"
     ]
    },
    {
     "data": {
      "text/html": [
       "<a href=\"https://marketplace.axieinfinity.com/axie/664722\" target=\"_blank\" rel=\"noopener noreferrer\"><img src=\"https://storage.googleapis.com/assets.axieinfinity.com/axies/664722/axie/axie-full-transparent.png\" width=128 height=128 style=\"display:inline; margin:1px\"/></a><a href=\"https://marketplace.axieinfinity.com/axie/3505747\" target=\"_blank\" rel=\"noopener noreferrer\"><img src=\"https://storage.googleapis.com/assets.axieinfinity.com/axies/3505747/axie/axie-full-transparent.png\" width=128 height=128 style=\"display:inline; margin:1px\"/></a><a href=\"https://marketplace.axieinfinity.com/axie/8310010\" target=\"_blank\" rel=\"noopener noreferrer\"><img src=\"https://storage.googleapis.com/assets.axieinfinity.com/axies/8310010/axie/axie-full-transparent.png\" width=128 height=128 style=\"display:inline; margin:1px\"/></a>"
      ],
      "text/plain": [
       "<IPython.core.display.HTML object>"
      ]
     },
     "metadata": {},
     "output_type": "display_data"
    },
    {
     "name": "stdout",
     "output_type": "stream",
     "text": [
      "https://marketplace.axieinfinity.com/profile/ronin:ec9eb27207beea6992be2b37368ef5b81c86ff1f/axie/ 1809 53890 Phai_SC#Win\n"
     ]
    },
    {
     "data": {
      "text/html": [
       "<a href=\"https://marketplace.axieinfinity.com/axie/8536547\" target=\"_blank\" rel=\"noopener noreferrer\"><img src=\"https://storage.googleapis.com/assets.axieinfinity.com/axies/8536547/axie/axie-full-transparent.png\" width=128 height=128 style=\"display:inline; margin:1px\"/></a><a href=\"https://marketplace.axieinfinity.com/axie/8560361\" target=\"_blank\" rel=\"noopener noreferrer\"><img src=\"https://storage.googleapis.com/assets.axieinfinity.com/axies/8560361/axie/axie-full-transparent.png\" width=128 height=128 style=\"display:inline; margin:1px\"/></a><a href=\"https://marketplace.axieinfinity.com/axie/8663274\" target=\"_blank\" rel=\"noopener noreferrer\"><img src=\"https://storage.googleapis.com/assets.axieinfinity.com/axies/8663274/axie/axie-full-transparent.png\" width=128 height=128 style=\"display:inline; margin:1px\"/></a>"
      ],
      "text/plain": [
       "<IPython.core.display.HTML object>"
      ]
     },
     "metadata": {},
     "output_type": "display_data"
    },
    {
     "name": "stdout",
     "output_type": "stream",
     "text": [
      "https://marketplace.axieinfinity.com/profile/ronin:09165f64538e891f04327511e11603a80f9a06ac/axie/ 1771 68990 Arlety | FSociety Axie Club\n"
     ]
    },
    {
     "data": {
      "text/html": [
       "<a href=\"https://marketplace.axieinfinity.com/axie/1920754\" target=\"_blank\" rel=\"noopener noreferrer\"><img src=\"https://storage.googleapis.com/assets.axieinfinity.com/axies/1920754/axie/axie-full-transparent.png\" width=128 height=128 style=\"display:inline; margin:1px\"/></a><a href=\"https://marketplace.axieinfinity.com/axie/4954030\" target=\"_blank\" rel=\"noopener noreferrer\"><img src=\"https://storage.googleapis.com/assets.axieinfinity.com/axies/4954030/axie/axie-full-transparent.png\" width=128 height=128 style=\"display:inline; margin:1px\"/></a><a href=\"https://marketplace.axieinfinity.com/axie/5881933\" target=\"_blank\" rel=\"noopener noreferrer\"><img src=\"https://storage.googleapis.com/assets.axieinfinity.com/axies/5881933/axie/axie-full-transparent.png\" width=128 height=128 style=\"display:inline; margin:1px\"/></a>"
      ],
      "text/plain": [
       "<IPython.core.display.HTML object>"
      ]
     },
     "metadata": {},
     "output_type": "display_data"
    },
    {
     "name": "stdout",
     "output_type": "stream",
     "text": [
      "https://marketplace.axieinfinity.com/profile/ronin:2bf9cb6725b9d65b27bcc2e69debc8aa4dbe0581/axie/ 1747 80654 Blood-Tears | League of Louwtjie\n"
     ]
    },
    {
     "data": {
      "text/html": [
       "<a href=\"https://marketplace.axieinfinity.com/axie/299344\" target=\"_blank\" rel=\"noopener noreferrer\"><img src=\"https://storage.googleapis.com/assets.axieinfinity.com/axies/299344/axie/axie-full-transparent.png\" width=128 height=128 style=\"display:inline; margin:1px\"/></a><a href=\"https://marketplace.axieinfinity.com/axie/8071191\" target=\"_blank\" rel=\"noopener noreferrer\"><img src=\"https://storage.googleapis.com/assets.axieinfinity.com/axies/8071191/axie/axie-full-transparent.png\" width=128 height=128 style=\"display:inline; margin:1px\"/></a><a href=\"https://marketplace.axieinfinity.com/axie/8071397\" target=\"_blank\" rel=\"noopener noreferrer\"><img src=\"https://storage.googleapis.com/assets.axieinfinity.com/axies/8071397/axie/axie-full-transparent.png\" width=128 height=128 style=\"display:inline; margin:1px\"/></a>"
      ],
      "text/plain": [
       "<IPython.core.display.HTML object>"
      ]
     },
     "metadata": {},
     "output_type": "display_data"
    },
    {
     "name": "stdout",
     "output_type": "stream",
     "text": [
      "https://marketplace.axieinfinity.com/profile/ronin:5011612e12bbec2703cbf9236545e8a4c135dfba/axie/ 1727 91265 AC\n"
     ]
    },
    {
     "data": {
      "text/html": [
       "<a href=\"https://marketplace.axieinfinity.com/axie/8483342\" target=\"_blank\" rel=\"noopener noreferrer\"><img src=\"https://storage.googleapis.com/assets.axieinfinity.com/axies/8483342/axie/axie-full-transparent.png\" width=128 height=128 style=\"display:inline; margin:1px\"/></a><a href=\"https://marketplace.axieinfinity.com/axie/8668731\" target=\"_blank\" rel=\"noopener noreferrer\"><img src=\"https://storage.googleapis.com/assets.axieinfinity.com/axies/8668731/axie/axie-full-transparent.png\" width=128 height=128 style=\"display:inline; margin:1px\"/></a><a href=\"https://marketplace.axieinfinity.com/axie/9146623\" target=\"_blank\" rel=\"noopener noreferrer\"><img src=\"https://storage.googleapis.com/assets.axieinfinity.com/axies/9146623/axie/axie-full-transparent.png\" width=128 height=128 style=\"display:inline; margin:1px\"/></a>"
      ],
      "text/plain": [
       "<IPython.core.display.HTML object>"
      ]
     },
     "metadata": {},
     "output_type": "display_data"
    },
    {
     "name": "stdout",
     "output_type": "stream",
     "text": [
      "https://marketplace.axieinfinity.com/profile/ronin:6e411003e8154423be1421972fb1a34e24c33cef/axie/ 1713 99930 aclemente\n"
     ]
    },
    {
     "data": {
      "text/html": [
       "<a href=\"https://marketplace.axieinfinity.com/axie/3744380\" target=\"_blank\" rel=\"noopener noreferrer\"><img src=\"https://storage.googleapis.com/assets.axieinfinity.com/axies/3744380/axie/axie-full-transparent.png\" width=128 height=128 style=\"display:inline; margin:1px\"/></a><a href=\"https://marketplace.axieinfinity.com/axie/5070542\" target=\"_blank\" rel=\"noopener noreferrer\"><img src=\"https://storage.googleapis.com/assets.axieinfinity.com/axies/5070542/axie/axie-full-transparent.png\" width=128 height=128 style=\"display:inline; margin:1px\"/></a><a href=\"https://marketplace.axieinfinity.com/axie/6039351\" target=\"_blank\" rel=\"noopener noreferrer\"><img src=\"https://storage.googleapis.com/assets.axieinfinity.com/axies/6039351/axie/axie-full-transparent.png\" width=128 height=128 style=\"display:inline; margin:1px\"/></a>"
      ],
      "text/plain": [
       "<IPython.core.display.HTML object>"
      ]
     },
     "metadata": {},
     "output_type": "display_data"
    },
    {
     "name": "stdout",
     "output_type": "stream",
     "text": [
      "https://marketplace.axieinfinity.com/profile/ronin:cf0140f083b147ff29f1a280d1339911d10c5576/axie/ 1711 101326 Gemo | MAGM isko\n"
     ]
    },
    {
     "data": {
      "text/html": [
       "<a href=\"https://marketplace.axieinfinity.com/axie/1988047\" target=\"_blank\" rel=\"noopener noreferrer\"><img src=\"https://storage.googleapis.com/assets.axieinfinity.com/axies/1988047/axie/axie-full-transparent.png\" width=128 height=128 style=\"display:inline; margin:1px\"/></a><a href=\"https://marketplace.axieinfinity.com/axie/2069808\" target=\"_blank\" rel=\"noopener noreferrer\"><img src=\"https://storage.googleapis.com/assets.axieinfinity.com/axies/2069808/axie/axie-full-transparent.png\" width=128 height=128 style=\"display:inline; margin:1px\"/></a><a href=\"https://marketplace.axieinfinity.com/axie/2246005\" target=\"_blank\" rel=\"noopener noreferrer\"><img src=\"https://storage.googleapis.com/assets.axieinfinity.com/axies/2246005/axie/axie-full-transparent.png\" width=128 height=128 style=\"display:inline; margin:1px\"/></a>"
      ],
      "text/plain": [
       "<IPython.core.display.HTML object>"
      ]
     },
     "metadata": {},
     "output_type": "display_data"
    },
    {
     "name": "stdout",
     "output_type": "stream",
     "text": [
      "https://marketplace.axieinfinity.com/profile/ronin:f572ca77c62d037bb2517f417e2590140895ec7e/axie/ 1701 108121 JOKHAHA\n"
     ]
    },
    {
     "data": {
      "text/html": [
       "<a href=\"https://marketplace.axieinfinity.com/axie/8545621\" target=\"_blank\" rel=\"noopener noreferrer\"><img src=\"https://storage.googleapis.com/assets.axieinfinity.com/axies/8545621/axie/axie-full-transparent.png\" width=128 height=128 style=\"display:inline; margin:1px\"/></a><a href=\"https://marketplace.axieinfinity.com/axie/8556676\" target=\"_blank\" rel=\"noopener noreferrer\"><img src=\"https://storage.googleapis.com/assets.axieinfinity.com/axies/8556676/axie/axie-full-transparent.png\" width=128 height=128 style=\"display:inline; margin:1px\"/></a><a href=\"https://marketplace.axieinfinity.com/axie/8574011\" target=\"_blank\" rel=\"noopener noreferrer\"><img src=\"https://storage.googleapis.com/assets.axieinfinity.com/axies/8574011/axie/axie-full-transparent.png\" width=128 height=128 style=\"display:inline; margin:1px\"/></a>"
      ],
      "text/plain": [
       "<IPython.core.display.HTML object>"
      ]
     },
     "metadata": {},
     "output_type": "display_data"
    },
    {
     "name": "stdout",
     "output_type": "stream",
     "text": [
      "https://marketplace.axieinfinity.com/profile/ronin:ad06efdab0a15d2fba19d9442e32d3eb9a837b32/axie/ 1638 158731 S NUM 344\n"
     ]
    },
    {
     "data": {
      "text/html": [
       "<a href=\"https://marketplace.axieinfinity.com/axie/8993207\" target=\"_blank\" rel=\"noopener noreferrer\"><img src=\"https://storage.googleapis.com/assets.axieinfinity.com/axies/8993207/axie/axie-full-transparent.png\" width=128 height=128 style=\"display:inline; margin:1px\"/></a><a href=\"https://marketplace.axieinfinity.com/axie/9024634\" target=\"_blank\" rel=\"noopener noreferrer\"><img src=\"https://storage.googleapis.com/assets.axieinfinity.com/axies/9024634/axie/axie-full-transparent.png\" width=128 height=128 style=\"display:inline; margin:1px\"/></a><a href=\"https://marketplace.axieinfinity.com/axie/9123008\" target=\"_blank\" rel=\"noopener noreferrer\"><img src=\"https://storage.googleapis.com/assets.axieinfinity.com/axies/9123008/axie/axie-full-transparent.png\" width=128 height=128 style=\"display:inline; margin:1px\"/></a>"
      ],
      "text/plain": [
       "<IPython.core.display.HTML object>"
      ]
     },
     "metadata": {},
     "output_type": "display_data"
    },
    {
     "name": "stdout",
     "output_type": "stream",
     "text": [
      "https://marketplace.axieinfinity.com/profile/ronin:cdaca399dec8084dc51d857c7cdb09894d48c698/axie/ 1596 205185 crookedhorn\n"
     ]
    },
    {
     "data": {
      "text/html": [
       "<a href=\"https://marketplace.axieinfinity.com/axie/7047427\" target=\"_blank\" rel=\"noopener noreferrer\"><img src=\"https://storage.googleapis.com/assets.axieinfinity.com/axies/7047427/axie/axie-full-transparent.png\" width=128 height=128 style=\"display:inline; margin:1px\"/></a><a href=\"https://marketplace.axieinfinity.com/axie/7395444\" target=\"_blank\" rel=\"noopener noreferrer\"><img src=\"https://storage.googleapis.com/assets.axieinfinity.com/axies/7395444/axie/axie-full-transparent.png\" width=128 height=128 style=\"display:inline; margin:1px\"/></a><a href=\"https://marketplace.axieinfinity.com/axie/7565803\" target=\"_blank\" rel=\"noopener noreferrer\"><img src=\"https://storage.googleapis.com/assets.axieinfinity.com/axies/7565803/axie/axie-full-transparent.png\" width=128 height=128 style=\"display:inline; margin:1px\"/></a>"
      ],
      "text/plain": [
       "<IPython.core.display.HTML object>"
      ]
     },
     "metadata": {},
     "output_type": "display_data"
    }
   ],
   "source": [
    "link_templ = \"https://marketplace.axieinfinity.com/profile/ronin:%s/axie/\"\n",
    "for client_id, elo, rank, name in answer:\n",
    "    link_id = link_templ%client_id[2:]\n",
    "    print(link_id, elo, rank, name)\n",
    "    axieList = teams[client_id]\n",
    "    axieImages = [\"https://storage.googleapis.com/assets.axieinfinity.com/axies/%s/axie/axie-full-transparent.png\"%x for x in axieList]\n",
    "    displayAxies(axieList, axieImages, False)"
   ]
  },
  {
   "cell_type": "code",
   "execution_count": null,
   "metadata": {
    "scrolled": true
   },
   "outputs": [],
   "source": []
  },
  {
   "cell_type": "code",
   "execution_count": null,
   "metadata": {
    "scrolled": true
   },
   "outputs": [],
   "source": []
  }
 ],
 "metadata": {
  "kernelspec": {
   "display_name": "Python 3",
   "language": "python",
   "name": "python3"
  },
  "language_info": {
   "codemirror_mode": {
    "name": "ipython",
    "version": 3
   },
   "file_extension": ".py",
   "mimetype": "text/x-python",
   "name": "python",
   "nbconvert_exporter": "python",
   "pygments_lexer": "ipython3",
   "version": "3.8.5"
  }
 },
 "nbformat": 4,
 "nbformat_minor": 4
}
